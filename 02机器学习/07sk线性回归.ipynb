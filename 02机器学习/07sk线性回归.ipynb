{
 "cells": [
  {
   "metadata": {},
   "cell_type": "markdown",
   "source": "$y = wx + b$",
   "id": "93b2fec283c671c8"
  },
  {
   "metadata": {
    "ExecuteTime": {
     "end_time": "2024-11-28T02:46:28.234824Z",
     "start_time": "2024-11-28T02:46:28.043480Z"
    }
   },
   "cell_type": "code",
   "source": [
    "# 正规方程求解\n",
    "import numpy as np\n",
    "from matplotlib import pyplot as plt\n",
    "\n",
    "\n",
    "# 真实数据\n",
    "w = np.random.randint(0, 100, size=1)\n",
    "b = np.random.randint(0, 100, size=1)\n",
    "print(f'真实数据：w={w} b={b}')\n",
    "# 构造数据\n",
    "x = np.random.randint(0, 100, size=(30, 1))\n",
    "y = w * x + b + np.random.randn(30, 1)\n",
    "\n",
    "axes = plt.subplot(111)\n",
    "axes.scatter(x,y)\n",
    "\n",
    "# 方程求解\n",
    "X = np.concatenate((x, np.full(shape=(30, 1), fill_value=1)), axis=1)\n",
    "v = np.linalg.inv(X.T.dot(X)).dot(X.T).dot(y)\n",
    "print(f'方程的解: {v.T}')\n",
    "axes.plot(X[:,0], X.dot(v), color='green')\n",
    "\n",
    "\n",
    "\n"
   ],
   "id": "83d6bea10c74925",
   "outputs": [
    {
     "name": "stdout",
     "output_type": "stream",
     "text": [
      "真实数据：w=[55] b=[53]\n",
      "方程的解: [[54.99410671 53.22932607]]\n"
     ]
    },
    {
     "data": {
      "text/plain": [
       "[<matplotlib.lines.Line2D at 0x118813890>]"
      ]
     },
     "execution_count": 17,
     "metadata": {},
     "output_type": "execute_result"
    },
    {
     "data": {
      "text/plain": [
       "<Figure size 640x480 with 1 Axes>"
      ],
      "image/png": "[encoded data removed]"
     },
     "metadata": {},
     "output_type": "display_data"
    }
   ],
   "execution_count": 17
  },
  {
   "metadata": {
    "ExecuteTime": {
     "end_time": "2024-11-27T10:47:11.571973Z",
     "start_time": "2024-11-27T10:47:11.564526Z"
    }
   },
   "cell_type": "code",
   "source": [
    "# sklear 线性求解\n",
    "\n",
    "import numpy as np\n",
    "from sklearn.linear_model import LinearRegression  # LinearRegression 模型用于通过最小二乘法拟合线性关系\n",
    "\n",
    "# 真实数据\n",
    "w = np.random.randint(0, 100, size=1)\n",
    "b = np.random.randint(0, 100, size=1)\n",
    "print(f'真实数据: w={w} b={b}')\n",
    "\n",
    "# 构造数据（这里无需再添加一列全为 1 的列，直接计算）\n",
    "X = np.random.randint(0, 100, size=(30, 1))\n",
    "y = w * X + b + np.random.randn(30, 1)\n",
    "\n",
    "# 求解\n",
    "# 如果fit_intercept=False ，表示不计算截距，那么\n",
    "model = LinearRegression(fit_intercept=False)\n",
    "X = np.concatenate((X, np.full(shape=(30, 1), fill_value=1)), axis=1)\n",
    "# model = LinearRegression(fit_intercept=True)\n",
    "model.fit(X, y)\n",
    "\n",
    "w_ = model.coef_  # 所有特征的系数，即 [w1, w2, w3...]\n",
    "b_ = model.intercept_  # 截距\n",
    "print(f'斜率:{w_}  截距:{b_}')\n"
   ],
   "id": "93392e35cc54cfc2",
   "outputs": [
    {
     "name": "stdout",
     "output_type": "stream",
     "text": [
      "真实数据: w=[72] b=[96]\n",
      "斜率:[[71.99599066 96.2566128 ]]  截距:0.0\n"
     ]
    }
   ],
   "execution_count": 46
  },
  {
   "metadata": {},
   "cell_type": "markdown",
   "source": "$y = w_1x_1 + w_2x_2 + b$",
   "id": "b53a302929134ad2"
  },
  {
   "metadata": {
    "ExecuteTime": {
     "end_time": "2024-11-27T10:44:44.253405Z",
     "start_time": "2024-11-27T10:44:44.243523Z"
    }
   },
   "cell_type": "code",
   "source": [
    "import numpy as np\n",
    "from sklearn.linear_model import LinearRegression\n",
    "\n",
    "# 真实数据\n",
    "w1 = np.random.randint(0, 100, size=1)\n",
    "w2 = np.random.randint(0, 100, size=1)\n",
    "b = np.random.randint(0, 100, size=1)\n",
    "print(f'真实值: w1={w1} w2={w2} b={b}')\n",
    "\n",
    "# 输入数据\n",
    "x1 = np.random.randint(0, 100, size=(300, 1))\n",
    "x2 = np.random.randint(0, 100, size=(300, 1))\n",
    "y = w1 * x1 + w2 * x2 + b + np.random.randn(300, 1)\n",
    "\n",
    "# 数据拟合\n",
    "\n",
    "X = np.concatenate((x1, x2), axis=1)\n",
    "model = LinearRegression(fit_intercept=True)\n",
    "model.fit(X, y)\n",
    "_b = model.intercept_  # 截距\n",
    "_w = model.coef_  # 斜率\n",
    "\n",
    "print(f'函数预测：w:{_w} b:{_b}')\n",
    "\n"
   ],
   "id": "a3e8a4cb6ce4a780",
   "outputs": [
    {
     "name": "stdout",
     "output_type": "stream",
     "text": [
      "真实值: w1=[36] w2=[95] b=[60]\n",
      "函数预测：w:[[36.00067182 95.00126068]] b:[59.96579986]\n"
     ]
    }
   ],
   "execution_count": 43
  },
  {
   "metadata": {
    "ExecuteTime": {
     "end_time": "2024-11-27T10:43:52.233002Z",
     "start_time": "2024-11-27T10:43:52.230442Z"
    }
   },
   "cell_type": "code",
   "source": "",
   "id": "24ac5277a851284c",
   "outputs": [],
   "execution_count": null
  },
  {
   "metadata": {},
   "cell_type": "code",
   "outputs": [],
   "execution_count": null,
   "source": "",
   "id": "c67ae753ed4e7230"
  }
 ],
 "metadata": {
  "kernelspec": {
   "display_name": "Python 3",
   "language": "python",
   "name": "python3"
  },
  "language_info": {
   "codemirror_mode": {
    "name": "ipython",
    "version": 2
   },
   "file_extension": ".py",
   "mimetype": "text/x-python",
   "name": "python",
   "nbconvert_exporter": "python",
   "pygments_lexer": "ipython2",
   "version": "2.7.6"
  }
 },
 "nbformat": 4,
 "nbformat_minor": 5
}
