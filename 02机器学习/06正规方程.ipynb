{
 "cells": [
  {
   "metadata": {},
   "cell_type": "markdown",
   "source": "$y = wx + b$",
   "id": "398bc61fcbe735e6"
  },
  {
   "metadata": {
    "ExecuteTime": {
     "end_time": "2024-11-27T10:03:46.897207Z",
     "start_time": "2024-11-27T10:03:46.723564Z"
    }
   },
   "cell_type": "code",
   "source": [
    "import numpy as np\n",
    "import matplotlib.pyplot as plt\n",
    "\n",
    "\n",
    "# 需要求的解\n",
    "w = np.random.randint(1, 5, size=1)\n",
    "b = np.random.randint(1, 10, size=1)\n",
    "print(f'正确的解：w={w}, b={b}')\n",
    "\n",
    "# 填入数据\n",
    "X = np.random.randint(0, 10, size=(30,1))\n",
    "y = w*X + b + np.random.randn(30,1)\n",
    "\n",
    "plt.scatter(X,y)\n",
    "# 正规方程\n",
    "X = np.concatenate((X, np.full(shape=(30,1), fill_value=1)), axis=1)\n",
    "v = np.linalg.inv(X.T.dot(X)).dot(X.T.dot(y))\n",
    "print(f'方程的解：{v}')\n",
    "\n",
    "plt.plot(X[:,0],X.dot(v),color = 'green')\n"
   ],
   "id": "8959879327a8942a",
   "outputs": [
    {
     "name": "stdout",
     "output_type": "stream",
     "text": [
      "正确的解：w=[3], b=[7]\n",
      "方程的解：[[2.99345951]\n",
      " [6.77314891]]\n"
     ]
    },
    {
     "data": {
      "text/plain": [
       "[<matplotlib.lines.Line2D at 0x1163a56d0>]"
      ]
     },
     "execution_count": 52,
     "metadata": {},
     "output_type": "execute_result"
    },
    {
     "data": {
      "text/plain": [
       "<Figure size 640x480 with 1 Axes>"
      ],
      "image/png": "[encoded data removed]"
     },
     "metadata": {},
     "output_type": "display_data"
    }
   ],
   "execution_count": 52
  },
  {
   "metadata": {},
   "cell_type": "markdown",
   "source": "$y = w_1x_1 + w_2x_2 + b$",
   "id": "1df067a496182caf"
  },
  {
   "metadata": {
    "ExecuteTime": {
     "end_time": "2024-11-27T10:04:32.905861Z",
     "start_time": "2024-11-27T10:04:32.897932Z"
    }
   },
   "cell_type": "code",
   "source": [
    "import numpy as np \n",
    "\n",
    "# 需要求的数据\n",
    "w1 = np.random.randint(1, 5, size=1)\n",
    "w2 = np.random.randint(1, 10, size=1)\n",
    "b = np.random.randint(1, 10, size=1)\n",
    "print(f'正确的解: w1={w1}, w2={w2}, b={b}')\n",
    "\n",
    "\n",
    "# 构造数据\n",
    "x1 = np.random.randint(0, 10, size=(300,1))\n",
    "x2 = np.random.randint(0, 10, size=(300,1))\n",
    "y = w1*x1 + w2*x2 + b + np.random.randn(300,1)\n",
    "\n",
    "\n",
    "# 方程求解\n",
    "X = np.concatenate((x1,x2, np.full(shape=(300,1), fill_value=1)), axis=1)\n",
    "v = np.linalg.inv(X.T.dot(X)).dot(X.T).dot(y)\n",
    "print(f'方程预估: {v.T}')\n",
    "\n",
    "\n"
   ],
   "id": "4d633a94b3c0fc1d",
   "outputs": [
    {
     "name": "stdout",
     "output_type": "stream",
     "text": [
      "正确的解: w1=[1], w2=[2], b=[4]\n",
      "方程预估: [[1.01672917 1.99004663 3.9409395 ]]\n"
     ]
    }
   ],
   "execution_count": 53
  },
  {
   "metadata": {},
   "cell_type": "code",
   "outputs": [],
   "execution_count": null,
   "source": "",
   "id": "52cae8dfbaaf59e"
  }
 ],
 "metadata": {
  "kernelspec": {
   "display_name": "Python 3",
   "language": "python",
   "name": "python3"
  },
  "language_info": {
   "codemirror_mode": {
    "name": "ipython",
    "version": 2
   },
   "file_extension": ".py",
   "mimetype": "text/x-python",
   "name": "python",
   "nbconvert_exporter": "python",
   "pygments_lexer": "ipython2",
   "version": "2.7.6"
  }
 },
 "nbformat": 4,
 "nbformat_minor": 5
}
