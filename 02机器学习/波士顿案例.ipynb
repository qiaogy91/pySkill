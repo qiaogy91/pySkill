{
 "cells": [
  {
   "cell_type": "code",
   "id": "initial_id",
   "metadata": {
    "collapsed": true,
    "ExecuteTime": {
     "end_time": "2024-12-03T03:08:38.780588Z",
     "start_time": "2024-12-03T03:08:38.378632Z"
    }
   },
   "source": [
    "import pandas as pd\n",
    "from sklearn.neighbors import KNeighborsRegressor\n",
    "from sklearn.model_selection import train_test_split, GridSearchCV\n",
    "from sklearn.preprocessing import StandardScaler\n",
    "from sklearn.linear_model import LinearRegression\n",
    "from sklearn.metrics import mean_squared_error\n",
    "\n",
    "# 加载数据\n",
    "data = pd.read_csv('./data/BostonHousing.csv').to_numpy()\n",
    "\n",
    "X = data[:, :-1]\n",
    "y = data[:, -1]\n",
    "X = StandardScaler().fit_transform(X)\n",
    "X_train, X_test, y_train, y_test = train_test_split(X, y, test_size=0.2, random_state=1024)\n",
    "\n",
    "#训练\n",
    "grid = GridSearchCV(\n",
    "    estimator=KNeighborsRegressor(),\n",
    "    param_grid={\n",
    "        'n_neighbors': [3, 5, 7, 11, 15, 19, 23, 31],\n",
    "        'weights': ['uniform', 'distance'],\n",
    "        'p': [1, 2],\n",
    "    },\n",
    "    cv=5,\n",
    "    scoring='neg_mean_squared_error',  # mean_squared_error 结果一定是正数，数字越大越表示偏差越大，加上负号后，越大表示偏差越小\n",
    ")\n",
    "grid.fit(X_train, y_train)\n",
    "\n",
    "# 交叉验证/训练结果\n",
    "print(f'训练集的最佳模型: {grid.best_estimator_}')\n",
    "print(f'训练集的最佳参数: {grid.best_params_}')    # \n",
    "print(f'训练集的最佳分数: {grid.best_score_}')     # 训练集中模型的准确率\n",
    "\n",
    "# 执行预测\n",
    "y_pred = grid.best_estimator_.predict(X_test)\n",
    "score = mean_squared_error(y_test, y_pred)\n",
    "print(f'测试集实际分数: {score}')\n",
    "print(f'测试集预测值：{y_pred[:5]}')\n",
    "print(f'测试集真实值：{y_test[:5]}')"
   ],
   "outputs": [
    {
     "name": "stdout",
     "output_type": "stream",
     "text": [
      "训练集的最佳模型: KNeighborsRegressor(n_neighbors=3, p=1, weights='distance')\n",
      "训练集的最佳参数: {'n_neighbors': 3, 'p': 1, 'weights': 'distance'}\n",
      "训练集的最佳分数: -17.34527681022333\n",
      "测试集实际分数: 13.213022379750711\n",
      "测试集预测值：[13.21526866 18.34721635  7.22269645 31.53599858 28.90566135]\n",
      "测试集真实值：[14.3 19.6  5.  28.4 29.6]\n"
     ]
    }
   ],
   "execution_count": 9
  },
  {
   "metadata": {
    "ExecuteTime": {
     "end_time": "2024-12-03T02:50:23.995947Z",
     "start_time": "2024-12-03T02:50:23.988895Z"
    }
   },
   "cell_type": "code",
   "source": [
    "model = LinearRegression()\n",
    "model.fit(X_train,y_train)\n",
    "# 决定系数,最大是1，最小可以负数\n",
    "model.score(X_test,y_test)"
   ],
   "id": "d46f59b9b318e016",
   "outputs": [
    {
     "data": {
      "text/plain": [
       "0.7259630925033402"
      ]
     },
     "execution_count": 5,
     "metadata": {},
     "output_type": "execute_result"
    }
   ],
   "execution_count": 5
  },
  {
   "metadata": {},
   "cell_type": "code",
   "outputs": [],
   "execution_count": null,
   "source": "",
   "id": "51ac76250c72e96e"
  }
 ],
 "metadata": {
  "kernelspec": {
   "display_name": "Python 3",
   "language": "python",
   "name": "python3"
  },
  "language_info": {
   "codemirror_mode": {
    "name": "ipython",
    "version": 2
   },
   "file_extension": ".py",
   "mimetype": "text/x-python",
   "name": "python",
   "nbconvert_exporter": "python",
   "pygments_lexer": "ipython2",
   "version": "2.7.6"
  }
 },
 "nbformat": 4,
 "nbformat_minor": 5
}
