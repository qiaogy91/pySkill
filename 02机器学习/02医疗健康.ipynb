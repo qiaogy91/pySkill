{
 "cells": [
  {
   "cell_type": "code",
   "id": "initial_id",
   "metadata": {
    "collapsed": true,
    "ExecuteTime": {
     "end_time": "2024-11-26T03:00:27.349458Z",
     "start_time": "2024-11-26T03:00:27.333016Z"
    }
   },
   "source": [
    "import pandas as pd\n",
    "from sklearn.model_selection import train_test_split, GridSearchCV\n",
    "from sklearn.neighbors import KNeighborsClassifier\n",
    "from sklearn.metrics import accuracy_score\n",
    "from sklearn.preprocessing import StandardScaler, MinMaxScaler\n",
    "\n",
    "data = pd.read_csv(\"data/cancer.csv\", sep='\\t')\n",
    "\n",
    "x = data.loc[:, \"radius_mean\":]\n",
    "y = data.loc[:, \"Diagnosis\"]\n",
    "\n",
    "# 归一化处理\n",
    "scaler = StandardScaler()\n",
    "x.loc[:,:] = pd.DataFrame(data=scaler.fit_transform(x), columns=x.columns) # fit_transform() 返回的是没有标签的ndarry 数组，重新加上标签\n",
    "\n",
    "# 使用归一化后的数据进行划分\n",
    "x_train, x_test, y_train, y_test = train_test_split(x, y, test_size=0.2, random_state=100)"
   ],
   "outputs": [],
   "execution_count": 30
  },
  {
   "metadata": {
    "ExecuteTime": {
     "end_time": "2024-11-26T03:00:33.745012Z",
     "start_time": "2024-11-26T03:00:29.867926Z"
    }
   },
   "cell_type": "code",
   "source": [
    "grid = GridSearchCV(\n",
    "    estimator=KNeighborsClassifier(),\n",
    "    param_grid=dict(\n",
    "        n_neighbors=[x for x in range(2, 30)],\n",
    "        weights=['uniform', 'distance'],\n",
    "        p=[1,2]\n",
    "    ),\n",
    "    cv=5,\n",
    "    scoring=\"accuracy\"\n",
    ")\n",
    "\n",
    "grid.fit(x_train, y_train)\n",
    "estimator = grid.best_estimator_"
   ],
   "id": "67ae19530daff040",
   "outputs": [],
   "execution_count": 31
  },
  {
   "metadata": {
    "ExecuteTime": {
     "end_time": "2024-11-26T03:00:38.361722Z",
     "start_time": "2024-11-26T03:00:38.354654Z"
    }
   },
   "cell_type": "code",
   "source": [
    "# 执行预测\n",
    "y_pred = estimator.predict(x_test)\n",
    "print(f'预测结果：{y_pred[:30]}')\n",
    "print(f'实际结果：{y_test.values[:30]}')"
   ],
   "id": "c5819ca72acb924f",
   "outputs": [
    {
     "name": "stdout",
     "output_type": "stream",
     "text": [
      "预测结果：['M' 'B' 'M' 'B' 'B' 'B' 'M' 'M' 'B' 'B' 'B' 'M' 'M' 'M' 'B' 'M' 'M' 'B'\n",
      " 'B' 'B' 'B' 'B' 'M' 'M' 'M' 'M' 'B' 'B' 'B' 'B']\n",
      "实际结果：['M' 'B' 'M' 'B' 'B' 'B' 'M' 'M' 'M' 'B' 'B' 'M' 'M' 'M' 'B' 'M' 'M' 'B'\n",
      " 'B' 'B' 'B' 'B' 'M' 'M' 'M' 'M' 'B' 'B' 'B' 'B']\n"
     ]
    }
   ],
   "execution_count": 32
  },
  {
   "metadata": {
    "ExecuteTime": {
     "end_time": "2024-11-26T03:00:42.287971Z",
     "start_time": "2024-11-26T03:00:42.283203Z"
    }
   },
   "cell_type": "code",
   "source": [
    "# 模型评估\n",
    "score = accuracy_score(y_test, y_pred)\n",
    "print(f'模型评估分数: {score}')"
   ],
   "id": "a0ed1db9ee7abd95",
   "outputs": [
    {
     "name": "stdout",
     "output_type": "stream",
     "text": [
      "模型评估分数: 0.9649122807017544\n"
     ]
    }
   ],
   "execution_count": 33
  },
  {
   "metadata": {},
   "cell_type": "code",
   "outputs": [],
   "execution_count": null,
   "source": "",
   "id": "f20326d1eec06045"
  }
 ],
 "metadata": {
  "kernelspec": {
   "display_name": "Python 3",
   "language": "python",
   "name": "python3"
  },
  "language_info": {
   "codemirror_mode": {
    "name": "ipython",
    "version": 2
   },
   "file_extension": ".py",
   "mimetype": "text/x-python",
   "name": "python",
   "nbconvert_exporter": "python",
   "pygments_lexer": "ipython2",
   "version": "2.7.6"
  }
 },
 "nbformat": 4,
 "nbformat_minor": 5
}
