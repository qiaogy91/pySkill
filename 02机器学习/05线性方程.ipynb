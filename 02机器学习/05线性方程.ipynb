{
 "cells": [
  {
   "metadata": {
    "ExecuteTime": {
     "end_time": "2024-11-27T02:46:25.819388Z",
     "start_time": "2024-11-27T02:46:25.816658Z"
    }
   },
   "cell_type": "code",
   "source": [
    "import numpy as np\n",
    "# .dot(x) 与x相乘\n",
    "# X.T 转置\n",
    "# np.linalg.inv() 逆矩阵"
   ],
   "id": "87155c6104e501ca",
   "outputs": [],
   "execution_count": 10
  },
  {
   "metadata": {},
   "cell_type": "markdown",
   "source": "$W = (X^TX)^{-1}X^Ty$",
   "id": "f332b5a3ab6e7f82"
  },
  {
   "metadata": {},
   "cell_type": "markdown",
   "source": [
    "$\\begin{cases}\n",
    "x + y=14\\\\  2x - y = 10\\\\\n",
    "\\end{cases}\n",
    "\\\\\\\\\n",
    "\\begin{cases}\n",
    "x - y + z = 100\\\\ 2x + y -z = 80\\\\ 3x - 2y + 6z = 256\\\\\n",
    "\\end{cases}\n",
    "\\\\\\\\\n",
    "\\left\\{\\begin{align}&14x_2 + 8x_3 + 5x_5 + -2x_6 + 9x_7 + -3x_8 = 339\\\\&-4x_1 + 10x_2 + 6x_3 + 4x_4 + -14x_5 + -2x_6 + -14x_7 + 8x_8 = -114\\\\&-1x_1 + -6x_2 + 5x_3 + -12x_4 + 3x_5 + -3x_6 + 2x_7 + -2x_8 = 30\\\\&5x_1 + -2x_2 + 3x_3 + 10x_4 + 5x_5 + 11x_6 + 4x_7 + -8x_8 = 126\\\\&-15x_1 + -15x_2 + -8x_3 + -15x_4 + 7x_5 + -4x_6 + -12x_7 + 2x_8 = -395\\\\&11x_1 + -10x_2 + -2x_3 + 4x_4 + 3x_5 + -9x_6 + -6x_7 + 7x_8 = -87\\\\&-14x_1 + 4x_3 + -3x_4 + 5x_5 + 10x_6 + 13x_7 + 7x_8 = 422\\\\&-3x_1 + -7x_2 + -2x_3 + -8x_4 + -6x_6 + -5x_7 + -9x_8 = -309\\end{align}\\right.\n",
    "$"
   ],
   "id": "e89d02e847fcf146"
  },
  {
   "metadata": {
    "ExecuteTime": {
     "end_time": "2024-11-27T02:53:18.097792Z",
     "start_time": "2024-11-27T02:53:18.088608Z"
    }
   },
   "cell_type": "code",
   "source": [
    "X = np.array(object=[[1, 1], [2, -1]])\n",
    "y = np.array(object=[14, 10])\n",
    "\n",
    "np.linalg.inv(X.T.dot(X)).dot(X.T.dot(y))"
   ],
   "id": "b19cf8fca3c5e517",
   "outputs": [
    {
     "data": {
      "text/plain": [
       "array([8., 6.])"
      ]
     },
     "execution_count": 14,
     "metadata": {},
     "output_type": "execute_result"
    }
   ],
   "execution_count": 14
  },
  {
   "metadata": {
    "ExecuteTime": {
     "end_time": "2024-11-27T02:48:10.288573Z",
     "start_time": "2024-11-27T02:48:10.282913Z"
    }
   },
   "cell_type": "code",
   "source": [
    "X = np.array(object=[\n",
    "    [1, -1, 1],\n",
    "    [2, 1, -1],\n",
    "    [3, -2, 6]\n",
    "])\n",
    "y = np.array(object=[100, 80, 256])\n",
    "\n",
    "np.linalg.inv(X.T.dot(X)).dot(X.T.dot(y))"
   ],
   "id": "52c2dc2303647912",
   "outputs": [
    {
     "data": {
      "text/plain": [
       "array([ 60., -41.,  -1.])"
      ]
     },
     "execution_count": 12,
     "metadata": {},
     "output_type": "execute_result"
    }
   ],
   "execution_count": 12
  },
  {
   "metadata": {
    "ExecuteTime": {
     "end_time": "2024-11-27T02:53:31.749740Z",
     "start_time": "2024-11-27T02:53:31.743076Z"
    }
   },
   "cell_type": "code",
   "source": [
    "X = np.array([\n",
    "    [0, 14, 8, 0, 5, -2, 9, -3],\n",
    "    [-4, 10, 6, 4, -14, -2, -14, 8],\n",
    "    [-1, -6, 5, -12, 3, -3, 2, -2],\n",
    "    [5, -2, 3, 10, 5, 11, 4, -8],\n",
    "    [-15, -15, -8, -15, 7, -4, -12, 2],\n",
    "    [11, -10, -2, 4, 3, -9, -6, 7],\n",
    "    [-14, 0, 4, -3, 5, 10, 13, 7],\n",
    "    [-3, -7, -2, -8, 0, -6, -5, -9]\n",
    "])\n",
    "# 对应的y\n",
    "y = np.array([339, -114, 30, 126, -395, -87, 422, -309])\n",
    "\n",
    "np.linalg.inv(X.T.dot(X)).dot(X.T).dot(y)"
   ],
   "id": "6b48a41b033bc505",
   "outputs": [
    {
     "data": {
      "text/plain": [
       "array([ 1.,  5., 15.,  3.,  8.,  4., 17., 12.])"
      ]
     },
     "execution_count": 15,
     "metadata": {},
     "output_type": "execute_result"
    }
   ],
   "execution_count": 15
  },
  {
   "metadata": {},
   "cell_type": "code",
   "outputs": [],
   "execution_count": null,
   "source": "",
   "id": "938aec8a605d0a94"
  }
 ],
 "metadata": {
  "kernelspec": {
   "display_name": "Python 3",
   "language": "python",
   "name": "python3"
  },
  "language_info": {
   "codemirror_mode": {
    "name": "ipython",
    "version": 2
   },
   "file_extension": ".py",
   "mimetype": "text/x-python",
   "name": "python",
   "nbconvert_exporter": "python",
   "pygments_lexer": "ipython2",
   "version": "2.7.6"
  }
 },
 "nbformat": 4,
 "nbformat_minor": 5
}
