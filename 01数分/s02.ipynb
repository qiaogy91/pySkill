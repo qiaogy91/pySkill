{
 "cells": [
  {
   "cell_type": "code",
   "id": "initial_id",
   "metadata": {
    "collapsed": true,
    "ExecuteTime": {
     "end_time": "2024-11-26T14:38:48.235484Z",
     "start_time": "2024-11-26T14:38:48.200622Z"
    }
   },
   "source": [
    "import numpy as np\n",
    "import matplotlib.pyplot as plt\n",
    "from mpl_toolkits.mplot3d.axes3d import Axes3D # 绘制三维图像\n",
    "# 转化成矩阵\n",
    "x1 = np.random.randint(-150,150,size = (300,1))\n",
    "x2 = np.random.randint(0,300,size = (300,1))\n",
    "# 斜率和截距，随机生成\n",
    "w = np.random.randint(1,5,size = 2)\n",
    "b = np.random.randint(1,10,size = 1)\n",
    "# 根据二元一次方程计算目标值y，并加上“噪声”，数据有上下波动~\n",
    "y = x1 * w[0] + x2 * w[1] + b + np.random.randn(300,1)\n",
    "fig = plt.figure(figsize=(9,6))\n",
    "ax = Axes3D(fig)\n",
    "ax.scatter(x1,x2,y) # 三维散点图\n",
    "ax.view_init(elev=10, azim=-20) # 调整视角\n",
    "# 重新构造X，将x1、x2以及截距b，相当于系数w0，前面统一乘以1进行数据合并\n",
    "X = np.concatenate([x1,x2,np.full(shape = (300,1),fill_value=1)],axis = 1)\n",
    "w = np.concatenate([w,b])\n",
    "# 正规方程求解\n",
    "θ = np.linalg.inv(X.T.dot(X)).dot(X.T).dot(y).round(2)\n",
    "print('二元一次方程真实的斜率和截距是：',w)\n",
    "print('通过正规方程求解的斜率和截距是：',θ.reshape(-1))\n",
    "# # 根据求解的斜率和截距绘制线性回归线型图\n",
    "x = np.linspace(-150,150,100)\n",
    "y = np.linspace(0,300,100)\n",
    "z = x * θ[0] + y * θ[1] + θ[2]\n",
    "ax.plot(x,y,z ,color = 'red')"
   ],
   "outputs": [
    {
     "name": "stdout",
     "output_type": "stream",
     "text": [
      "二元一次方程真实的斜率和截距是： [2 1 6]\n",
      "通过正规方程求解的斜率和截距是： [2.   1.   5.97]\n"
     ]
    },
    {
     "data": {
      "text/plain": [
       "[<mpl_toolkits.mplot3d.art3d.Line3D at 0x10a5f8a50>]"
      ]
     },
     "execution_count": 3,
     "metadata": {},
     "output_type": "execute_result"
    },
    {
     "data": {
      "text/plain": [
       "<Figure size 900x600 with 0 Axes>"
      ]
     },
     "metadata": {},
     "output_type": "display_data"
    }
   ],
   "execution_count": 3
  },
  {
   "metadata": {},
   "cell_type": "code",
   "outputs": [],
   "execution_count": null,
   "source": "",
   "id": "a8204451188926d0"
  }
 ],
 "metadata": {
  "kernelspec": {
   "display_name": "Python 3",
   "language": "python",
   "name": "python3"
  },
  "language_info": {
   "codemirror_mode": {
    "name": "ipython",
    "version": 2
   },
   "file_extension": ".py",
   "mimetype": "text/x-python",
   "name": "python",
   "nbconvert_exporter": "python",
   "pygments_lexer": "ipython2",
   "version": "2.7.6"
  }
 },
 "nbformat": 4,
 "nbformat_minor": 5
}
