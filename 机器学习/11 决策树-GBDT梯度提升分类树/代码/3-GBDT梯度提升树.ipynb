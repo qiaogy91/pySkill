{
 "cells": [
  {
   "cell_type": "markdown",
   "id": "5f6d1f4d",
   "metadata": {},
   "source": [
    "### GBDT梯度提升树应用示例"
   ]
  },
  {
   "cell_type": "markdown",
   "id": "a1835fc4",
   "metadata": {},
   "source": [
    "#### 数据加载"
   ]
  },
  {
   "cell_type": "code",
   "execution_count": 1,
   "id": "76848c87",
   "metadata": {
    "ExecuteTime": {
     "end_time": "2023-05-15T02:06:09.407241Z",
     "start_time": "2023-05-15T02:06:08.508043Z"
    }
   },
   "outputs": [],
   "source": [
    "import numpy as np\n",
    "from sklearn import datasets\n",
    "from sklearn.model_selection import train_test_split\n",
    "from sklearn.ensemble import GradientBoostingClassifier\n",
    "from sklearn.tree import DecisionTreeClassifier\n",
    "\n",
    "X,y = datasets.load_iris(return_X_y = True)\n",
    "X_train,X_test,y_train,y_test = train_test_split(X,y,random_state = 1124)"
   ]
  },
  {
   "cell_type": "markdown",
   "id": "4b24d2a6",
   "metadata": {},
   "source": [
    "#### 普通决策树"
   ]
  },
  {
   "cell_type": "code",
   "execution_count": 2,
   "id": "be6d776d",
   "metadata": {
    "ExecuteTime": {
     "end_time": "2023-05-15T02:06:19.577358Z",
     "start_time": "2023-05-15T02:06:19.556547Z"
    }
   },
   "outputs": [
    {
     "data": {
      "text/plain": [
       "0.8421052631578947"
      ]
     },
     "execution_count": 2,
     "metadata": {},
     "output_type": "execute_result"
    }
   ],
   "source": [
    "model = DecisionTreeClassifier()\n",
    "model.fit(X_train,y_train)\n",
    "model.score(X_test,y_test)"
   ]
  },
  {
   "cell_type": "markdown",
   "id": "ad12ac72",
   "metadata": {},
   "source": [
    "#### GBDT梯度提升树"
   ]
  },
  {
   "cell_type": "code",
   "execution_count": 3,
   "id": "0b9c9bba",
   "metadata": {
    "ExecuteTime": {
     "end_time": "2023-05-15T02:06:36.216314Z",
     "start_time": "2023-05-15T02:06:36.071043Z"
    }
   },
   "outputs": [
    {
     "data": {
      "text/plain": [
       "0.9473684210526315"
      ]
     },
     "execution_count": 3,
     "metadata": {},
     "output_type": "execute_result"
    }
   ],
   "source": [
    "clf = GradientBoostingClassifier(subsample=0.8,learning_rate = 0.005)\n",
    "clf.fit(X_train,y_train)\n",
    "clf.score(X_test,y_test)"
   ]
  },
  {
   "cell_type": "code",
   "execution_count": 4,
   "id": "4dcb81ba",
   "metadata": {
    "ExecuteTime": {
     "end_time": "2023-05-15T02:09:36.646056Z",
     "start_time": "2023-05-15T02:09:36.636136Z"
    }
   },
   "outputs": [
    {
     "data": {
      "text/plain": [
       "array([DecisionTreeRegressor(criterion='friedman_mse', max_depth=3,\n",
       "                             random_state=RandomState(MT19937) at 0x1EA1ED98E40),\n",
       "       DecisionTreeRegressor(criterion='friedman_mse', max_depth=3,\n",
       "                             random_state=RandomState(MT19937) at 0x1EA1ED98E40),\n",
       "       DecisionTreeRegressor(criterion='friedman_mse', max_depth=3,\n",
       "                             random_state=RandomState(MT19937) at 0x1EA1ED98E40)],\n",
       "      dtype=object)"
      ]
     },
     "execution_count": 4,
     "metadata": {},
     "output_type": "execute_result"
    }
   ],
   "source": [
    "clf[0]"
   ]
  },
  {
   "cell_type": "markdown",
   "id": "8293df17",
   "metadata": {},
   "source": [
    "### GBDT算法剖根问底算法底层原理展示"
   ]
  },
  {
   "cell_type": "markdown",
   "id": "12cab674",
   "metadata": {},
   "source": [
    "#### 构建数据"
   ]
  },
  {
   "cell_type": "code",
   "execution_count": 5,
   "id": "64cc1451",
   "metadata": {
    "ExecuteTime": {
     "end_time": "2023-05-15T04:51:26.042743Z",
     "start_time": "2023-05-15T04:51:25.957719Z"
    }
   },
   "outputs": [
    {
     "data": {
      "text/plain": [
       "array([[ 1],\n",
       "       [ 2],\n",
       "       [ 3],\n",
       "       [ 4],\n",
       "       [ 5],\n",
       "       [ 6],\n",
       "       [ 7],\n",
       "       [ 8],\n",
       "       [ 9],\n",
       "       [10]])"
      ]
     },
     "metadata": {},
     "output_type": "display_data"
    },
    {
     "data": {
      "text/plain": [
       "array([0, 0, 0, 1, 1, 0, 0, 0, 1, 1])"
      ]
     },
     "metadata": {},
     "output_type": "display_data"
    }
   ],
   "source": [
    "import numpy as np\n",
    "from sklearn.ensemble import GradientBoostingClassifier\n",
    "from sklearn import tree\n",
    "import graphviz\n",
    "\n",
    "X = np.arange(1,11).reshape(-1,1)\n",
    "y = np.array([0,0,0,1,1]*2)\n",
    "display(X,y)"
   ]
  },
  {
   "cell_type": "markdown",
   "id": "03380db8",
   "metadata": {},
   "source": [
    "#### GBDT建模训练预测"
   ]
  },
  {
   "cell_type": "code",
   "execution_count": 8,
   "id": "3bc22095",
   "metadata": {
    "ExecuteTime": {
     "end_time": "2023-05-15T04:54:00.902347Z",
     "start_time": "2023-05-15T04:54:00.882928Z"
    }
   },
   "outputs": [
    {
     "name": "stdout",
     "output_type": "stream",
     "text": [
      "真实的类别： [0 0 0 1 1 0 0 0 1 1]\n",
      "算法的预测： [0 0 0 0 0 0 0 0 1 1]\n",
      "预测概率是：\n",
      " [[0.66466915 0.33533085]\n",
      " [0.66466915 0.33533085]\n",
      " [0.66466915 0.33533085]\n",
      " [0.6126304  0.3873696 ]\n",
      " [0.6126304  0.3873696 ]\n",
      " [0.6126304  0.3873696 ]\n",
      " [0.6126304  0.3873696 ]\n",
      " [0.6126304  0.3873696 ]\n",
      " [0.46804618 0.53195382]\n",
      " [0.46804618 0.53195382]]\n"
     ]
    }
   ],
   "source": [
    "# 默认情况下，损失函数就是Log-loss == 交叉熵！\n",
    "clf = GradientBoostingClassifier(n_estimators=3,learning_rate=0.1,max_depth=1)\n",
    "clf.fit(X,y)\n",
    "y_ = clf.predict(X)\n",
    "\n",
    "\n",
    "print('真实的类别：',y)\n",
    "print('算法的预测：',y_)\n",
    "\n",
    "proba_ = clf.predict_proba(X)\n",
    "print('预测概率是：\\n',proba_)"
   ]
  },
  {
   "cell_type": "markdown",
   "id": "a0f4ec33",
   "metadata": {},
   "source": [
    "#### GBDT可视化"
   ]
  },
  {
   "cell_type": "markdown",
   "id": "16bd0fd4",
   "metadata": {},
   "source": [
    "第一棵树"
   ]
  },
  {
   "cell_type": "code",
   "execution_count": 35,
   "id": "bc02a05b",
   "metadata": {
    "ExecuteTime": {
     "end_time": "2023-05-15T06:50:18.155013Z",
     "start_time": "2023-05-15T06:50:17.921264Z"
    }
   },
   "outputs": [
    {
     "data": {
      "image/svg+xml": [
       "<?xml version=\"1.0\" encoding=\"UTF-8\" standalone=\"no\"?>\n",
       "<!DOCTYPE svg PUBLIC \"-//W3C//DTD SVG 1.1//EN\"\n",
       " \"http://www.w3.org/Graphics/SVG/1.1/DTD/svg11.dtd\">\n",
       "<!-- Generated by graphviz version 2.48.0 (20210717.1556)\n",
       " -->\n",
       "<!-- Title: Tree Pages: 1 -->\n",
       "<svg width=\"336pt\" height=\"165pt\"\n",
       " viewBox=\"0.00 0.00 336.00 165.00\" xmlns=\"http://www.w3.org/2000/svg\" xmlns:xlink=\"http://www.w3.org/1999/xlink\">\n",
       "<g id=\"graph0\" class=\"graph\" transform=\"scale(1 1) rotate(0) translate(4 161)\">\n",
       "<title>Tree</title>\n",
       "<polygon fill=\"white\" stroke=\"transparent\" points=\"-4,4 -4,-161 332,-161 332,4 -4,4\"/>\n",
       "<!-- 0 -->\n",
       "<g id=\"node1\" class=\"node\">\n",
       "<title>0</title>\n",
       "<polygon fill=\"#fae6d7\" stroke=\"black\" points=\"242.5,-157 90.5,-157 90.5,-89 242.5,-89 242.5,-157\"/>\n",
       "<text text-anchor=\"middle\" x=\"166.5\" y=\"-141.8\" font-family=\"Helvetica,sans-Serif\" font-size=\"14.00\">X[0] &lt;= 8.5</text>\n",
       "<text text-anchor=\"middle\" x=\"166.5\" y=\"-126.8\" font-family=\"Helvetica,sans-Serif\" font-size=\"14.00\">friedman_mse = 0.24</text>\n",
       "<text text-anchor=\"middle\" x=\"166.5\" y=\"-111.8\" font-family=\"Helvetica,sans-Serif\" font-size=\"14.00\">samples = 10</text>\n",
       "<text text-anchor=\"middle\" x=\"166.5\" y=\"-96.8\" font-family=\"Helvetica,sans-Serif\" font-size=\"14.00\">value = &#45;0.0</text>\n",
       "</g>\n",
       "<!-- 1 -->\n",
       "<g id=\"node2\" class=\"node\">\n",
       "<title>1</title>\n",
       "<polygon fill=\"#ffffff\" stroke=\"black\" points=\"161,-53 0,-53 0,0 161,0 161,-53\"/>\n",
       "<text text-anchor=\"middle\" x=\"80.5\" y=\"-37.8\" font-family=\"Helvetica,sans-Serif\" font-size=\"14.00\">friedman_mse = 0.188</text>\n",
       "<text text-anchor=\"middle\" x=\"80.5\" y=\"-22.8\" font-family=\"Helvetica,sans-Serif\" font-size=\"14.00\">samples = 8</text>\n",
       "<text text-anchor=\"middle\" x=\"80.5\" y=\"-7.8\" font-family=\"Helvetica,sans-Serif\" font-size=\"14.00\">value = &#45;0.625</text>\n",
       "</g>\n",
       "<!-- 0&#45;&gt;1 -->\n",
       "<g id=\"edge1\" class=\"edge\">\n",
       "<title>0&#45;&gt;1</title>\n",
       "<path fill=\"none\" stroke=\"black\" d=\"M136.42,-88.95C128.1,-79.8 119.06,-69.87 110.73,-60.71\"/>\n",
       "<polygon fill=\"black\" stroke=\"black\" points=\"113.24,-58.28 103.92,-53.24 108.06,-62.99 113.24,-58.28\"/>\n",
       "<text text-anchor=\"middle\" x=\"102.75\" y=\"-74.51\" font-family=\"Helvetica,sans-Serif\" font-size=\"14.00\">True</text>\n",
       "</g>\n",
       "<!-- 2 -->\n",
       "<g id=\"node3\" class=\"node\">\n",
       "<title>2</title>\n",
       "<polygon fill=\"#e58139\" stroke=\"black\" points=\"328,-53 179,-53 179,0 328,0 328,-53\"/>\n",
       "<text text-anchor=\"middle\" x=\"253.5\" y=\"-37.8\" font-family=\"Helvetica,sans-Serif\" font-size=\"14.00\">friedman_mse = &#45;0.0</text>\n",
       "<text text-anchor=\"middle\" x=\"253.5\" y=\"-22.8\" font-family=\"Helvetica,sans-Serif\" font-size=\"14.00\">samples = 2</text>\n",
       "<text text-anchor=\"middle\" x=\"253.5\" y=\"-7.8\" font-family=\"Helvetica,sans-Serif\" font-size=\"14.00\">value = 2.5</text>\n",
       "</g>\n",
       "<!-- 0&#45;&gt;2 -->\n",
       "<g id=\"edge2\" class=\"edge\">\n",
       "<title>0&#45;&gt;2</title>\n",
       "<path fill=\"none\" stroke=\"black\" d=\"M196.93,-88.95C205.35,-79.8 214.49,-69.87 222.92,-60.71\"/>\n",
       "<polygon fill=\"black\" stroke=\"black\" points=\"225.61,-62.96 229.81,-53.24 220.46,-58.22 225.61,-62.96\"/>\n",
       "<text text-anchor=\"middle\" x=\"230.84\" y=\"-74.52\" font-family=\"Helvetica,sans-Serif\" font-size=\"14.00\">False</text>\n",
       "</g>\n",
       "</g>\n",
       "</svg>\n"
      ],
      "text/plain": [
       "<graphviz.sources.Source at 0x1ea4232a940>"
      ]
     },
     "execution_count": 35,
     "metadata": {},
     "output_type": "execute_result"
    }
   ],
   "source": [
    "dot_data = tree.export_graphviz(clf[0,0],filled = True)\n",
    "graph = graphviz.Source(dot_data)\n",
    "graph"
   ]
  },
  {
   "cell_type": "markdown",
   "id": "f69e1070",
   "metadata": {},
   "source": [
    "第二棵树"
   ]
  },
  {
   "cell_type": "code",
   "execution_count": 36,
   "id": "d0b481d2",
   "metadata": {
    "ExecuteTime": {
     "end_time": "2023-05-15T06:50:20.518215Z",
     "start_time": "2023-05-15T06:50:20.430563Z"
    }
   },
   "outputs": [
    {
     "data": {
      "image/svg+xml": [
       "<?xml version=\"1.0\" encoding=\"UTF-8\" standalone=\"no\"?>\n",
       "<!DOCTYPE svg PUBLIC \"-//W3C//DTD SVG 1.1//EN\"\n",
       " \"http://www.w3.org/Graphics/SVG/1.1/DTD/svg11.dtd\">\n",
       "<!-- Generated by graphviz version 2.48.0 (20210717.1556)\n",
       " -->\n",
       "<!-- Title: Tree Pages: 1 -->\n",
       "<svg width=\"332pt\" height=\"165pt\"\n",
       " viewBox=\"0.00 0.00 331.50 165.00\" xmlns=\"http://www.w3.org/2000/svg\" xmlns:xlink=\"http://www.w3.org/1999/xlink\">\n",
       "<g id=\"graph0\" class=\"graph\" transform=\"scale(1 1) rotate(0) translate(4 161)\">\n",
       "<title>Tree</title>\n",
       "<polygon fill=\"white\" stroke=\"transparent\" points=\"-4,4 -4,-161 327.5,-161 327.5,4 -4,4\"/>\n",
       "<!-- 0 -->\n",
       "<g id=\"node1\" class=\"node\">\n",
       "<title>0</title>\n",
       "<polygon fill=\"#fae5d6\" stroke=\"black\" points=\"246,-157 85,-157 85,-89 246,-89 246,-157\"/>\n",
       "<text text-anchor=\"middle\" x=\"165.5\" y=\"-141.8\" font-family=\"Helvetica,sans-Serif\" font-size=\"14.00\">X[0] &lt;= 8.5</text>\n",
       "<text text-anchor=\"middle\" x=\"165.5\" y=\"-126.8\" font-family=\"Helvetica,sans-Serif\" font-size=\"14.00\">friedman_mse = 0.223</text>\n",
       "<text text-anchor=\"middle\" x=\"165.5\" y=\"-111.8\" font-family=\"Helvetica,sans-Serif\" font-size=\"14.00\">samples = 10</text>\n",
       "<text text-anchor=\"middle\" x=\"165.5\" y=\"-96.8\" font-family=\"Helvetica,sans-Serif\" font-size=\"14.00\">value = &#45;0.0</text>\n",
       "</g>\n",
       "<!-- 1 -->\n",
       "<g id=\"node2\" class=\"node\">\n",
       "<title>1</title>\n",
       "<polygon fill=\"#ffffff\" stroke=\"black\" points=\"161,-53 0,-53 0,0 161,0 161,-53\"/>\n",
       "<text text-anchor=\"middle\" x=\"80.5\" y=\"-37.8\" font-family=\"Helvetica,sans-Serif\" font-size=\"14.00\">friedman_mse = 0.187</text>\n",
       "<text text-anchor=\"middle\" x=\"80.5\" y=\"-22.8\" font-family=\"Helvetica,sans-Serif\" font-size=\"14.00\">samples = 8</text>\n",
       "<text text-anchor=\"middle\" x=\"80.5\" y=\"-7.8\" font-family=\"Helvetica,sans-Serif\" font-size=\"14.00\">value = &#45;0.571</text>\n",
       "</g>\n",
       "<!-- 0&#45;&gt;1 -->\n",
       "<g id=\"edge1\" class=\"edge\">\n",
       "<title>0&#45;&gt;1</title>\n",
       "<path fill=\"none\" stroke=\"black\" d=\"M135.77,-88.95C127.54,-79.8 118.61,-69.87 110.37,-60.71\"/>\n",
       "<polygon fill=\"black\" stroke=\"black\" points=\"112.94,-58.33 103.65,-53.24 107.73,-63.01 112.94,-58.33\"/>\n",
       "<text text-anchor=\"middle\" x=\"102.33\" y=\"-74.5\" font-family=\"Helvetica,sans-Serif\" font-size=\"14.00\">True</text>\n",
       "</g>\n",
       "<!-- 2 -->\n",
       "<g id=\"node3\" class=\"node\">\n",
       "<title>2</title>\n",
       "<polygon fill=\"#e58139\" stroke=\"black\" points=\"323.5,-53 179.5,-53 179.5,0 323.5,0 323.5,-53\"/>\n",
       "<text text-anchor=\"middle\" x=\"251.5\" y=\"-37.8\" font-family=\"Helvetica,sans-Serif\" font-size=\"14.00\">friedman_mse = 0.0</text>\n",
       "<text text-anchor=\"middle\" x=\"251.5\" y=\"-22.8\" font-family=\"Helvetica,sans-Serif\" font-size=\"14.00\">samples = 2</text>\n",
       "<text text-anchor=\"middle\" x=\"251.5\" y=\"-7.8\" font-family=\"Helvetica,sans-Serif\" font-size=\"14.00\">value = 2.168</text>\n",
       "</g>\n",
       "<!-- 0&#45;&gt;2 -->\n",
       "<g id=\"edge2\" class=\"edge\">\n",
       "<title>0&#45;&gt;2</title>\n",
       "<path fill=\"none\" stroke=\"black\" d=\"M195.58,-88.95C203.9,-79.8 212.94,-69.87 221.27,-60.71\"/>\n",
       "<polygon fill=\"black\" stroke=\"black\" points=\"223.94,-62.99 228.08,-53.24 218.76,-58.28 223.94,-62.99\"/>\n",
       "<text text-anchor=\"middle\" x=\"229.25\" y=\"-74.51\" font-family=\"Helvetica,sans-Serif\" font-size=\"14.00\">False</text>\n",
       "</g>\n",
       "</g>\n",
       "</svg>\n"
      ],
      "text/plain": [
       "<graphviz.sources.Source at 0x1ea4232adc0>"
      ]
     },
     "execution_count": 36,
     "metadata": {},
     "output_type": "execute_result"
    }
   ],
   "source": [
    "dot_data = tree.export_graphviz(clf[1,0],filled = True)\n",
    "graph = graphviz.Source(dot_data)\n",
    "graph"
   ]
  },
  {
   "cell_type": "markdown",
   "id": "eb71c29f",
   "metadata": {},
   "source": [
    "第三棵树"
   ]
  },
  {
   "cell_type": "code",
   "execution_count": 37,
   "id": "242d46a9",
   "metadata": {
    "ExecuteTime": {
     "end_time": "2023-05-15T06:50:23.375091Z",
     "start_time": "2023-05-15T06:50:23.286410Z"
    }
   },
   "outputs": [
    {
     "data": {
      "image/svg+xml": [
       "<?xml version=\"1.0\" encoding=\"UTF-8\" standalone=\"no\"?>\n",
       "<!DOCTYPE svg PUBLIC \"-//W3C//DTD SVG 1.1//EN\"\n",
       " \"http://www.w3.org/Graphics/SVG/1.1/DTD/svg11.dtd\">\n",
       "<!-- Generated by graphviz version 2.48.0 (20210717.1556)\n",
       " -->\n",
       "<!-- Title: Tree Pages: 1 -->\n",
       "<svg width=\"332pt\" height=\"165pt\"\n",
       " viewBox=\"0.00 0.00 331.50 165.00\" xmlns=\"http://www.w3.org/2000/svg\" xmlns:xlink=\"http://www.w3.org/1999/xlink\">\n",
       "<g id=\"graph0\" class=\"graph\" transform=\"scale(1 1) rotate(0) translate(4 161)\">\n",
       "<title>Tree</title>\n",
       "<polygon fill=\"white\" stroke=\"transparent\" points=\"-4,4 -4,-161 327.5,-161 327.5,4 -4,4\"/>\n",
       "<!-- 0 -->\n",
       "<g id=\"node1\" class=\"node\">\n",
       "<title>0</title>\n",
       "<polygon fill=\"#eda673\" stroke=\"black\" points=\"237.5,-157 76.5,-157 76.5,-89 237.5,-89 237.5,-157\"/>\n",
       "<text text-anchor=\"middle\" x=\"157\" y=\"-141.8\" font-family=\"Helvetica,sans-Serif\" font-size=\"14.00\">X[0] &lt;= 3.5</text>\n",
       "<text text-anchor=\"middle\" x=\"157\" y=\"-126.8\" font-family=\"Helvetica,sans-Serif\" font-size=\"14.00\">friedman_mse = 0.209</text>\n",
       "<text text-anchor=\"middle\" x=\"157\" y=\"-111.8\" font-family=\"Helvetica,sans-Serif\" font-size=\"14.00\">samples = 10</text>\n",
       "<text text-anchor=\"middle\" x=\"157\" y=\"-96.8\" font-family=\"Helvetica,sans-Serif\" font-size=\"14.00\">value = &#45;0.0</text>\n",
       "</g>\n",
       "<!-- 1 -->\n",
       "<g id=\"node2\" class=\"node\">\n",
       "<title>1</title>\n",
       "<polygon fill=\"#ffffff\" stroke=\"black\" points=\"144,-53 0,-53 0,0 144,0 144,-53\"/>\n",
       "<text text-anchor=\"middle\" x=\"72\" y=\"-37.8\" font-family=\"Helvetica,sans-Serif\" font-size=\"14.00\">friedman_mse = 0.0</text>\n",
       "<text text-anchor=\"middle\" x=\"72\" y=\"-22.8\" font-family=\"Helvetica,sans-Serif\" font-size=\"14.00\">samples = 3</text>\n",
       "<text text-anchor=\"middle\" x=\"72\" y=\"-7.8\" font-family=\"Helvetica,sans-Serif\" font-size=\"14.00\">value = &#45;1.592</text>\n",
       "</g>\n",
       "<!-- 0&#45;&gt;1 -->\n",
       "<g id=\"edge1\" class=\"edge\">\n",
       "<title>0&#45;&gt;1</title>\n",
       "<path fill=\"none\" stroke=\"black\" d=\"M127.27,-88.95C119.04,-79.8 110.11,-69.87 101.87,-60.71\"/>\n",
       "<polygon fill=\"black\" stroke=\"black\" points=\"104.44,-58.33 95.15,-53.24 99.23,-63.01 104.44,-58.33\"/>\n",
       "<text text-anchor=\"middle\" x=\"93.83\" y=\"-74.5\" font-family=\"Helvetica,sans-Serif\" font-size=\"14.00\">True</text>\n",
       "</g>\n",
       "<!-- 2 -->\n",
       "<g id=\"node3\" class=\"node\">\n",
       "<title>2</title>\n",
       "<polygon fill=\"#e58139\" stroke=\"black\" points=\"323.5,-53 162.5,-53 162.5,0 323.5,0 323.5,-53\"/>\n",
       "<text text-anchor=\"middle\" x=\"243\" y=\"-37.8\" font-family=\"Helvetica,sans-Serif\" font-size=\"14.00\">friedman_mse = 0.214</text>\n",
       "<text text-anchor=\"middle\" x=\"243\" y=\"-22.8\" font-family=\"Helvetica,sans-Serif\" font-size=\"14.00\">samples = 7</text>\n",
       "<text text-anchor=\"middle\" x=\"243\" y=\"-7.8\" font-family=\"Helvetica,sans-Serif\" font-size=\"14.00\">value = 0.666</text>\n",
       "</g>\n",
       "<!-- 0&#45;&gt;2 -->\n",
       "<g id=\"edge2\" class=\"edge\">\n",
       "<title>0&#45;&gt;2</title>\n",
       "<path fill=\"none\" stroke=\"black\" d=\"M187.08,-88.95C195.4,-79.8 204.44,-69.87 212.77,-60.71\"/>\n",
       "<polygon fill=\"black\" stroke=\"black\" points=\"215.44,-62.99 219.58,-53.24 210.26,-58.28 215.44,-62.99\"/>\n",
       "<text text-anchor=\"middle\" x=\"220.75\" y=\"-74.51\" font-family=\"Helvetica,sans-Serif\" font-size=\"14.00\">False</text>\n",
       "</g>\n",
       "</g>\n",
       "</svg>\n"
      ],
      "text/plain": [
       "<graphviz.sources.Source at 0x1ea4232a7c0>"
      ]
     },
     "execution_count": 37,
     "metadata": {},
     "output_type": "execute_result"
    }
   ],
   "source": [
    "dot_data = tree.export_graphviz(clf[2,0],filled = True)\n",
    "graph = graphviz.Source(dot_data)\n",
    "graph"
   ]
  },
  {
   "cell_type": "markdown",
   "id": "9071ae2e",
   "metadata": {},
   "source": [
    "#### 初始值计算"
   ]
  },
  {
   "cell_type": "markdown",
   "id": "34be3042",
   "metadata": {},
   "source": [
    "$F_0(x)= log\\frac{\\sum\\limits_{i=1}^Ny_i}{\\sum\\limits_{i=1}^N(1 -y_i)}$"
   ]
  },
  {
   "cell_type": "code",
   "execution_count": 12,
   "id": "41f9f359",
   "metadata": {
    "ExecuteTime": {
     "end_time": "2023-05-15T05:36:12.763044Z",
     "start_time": "2023-05-15T05:36:12.751024Z"
    }
   },
   "outputs": [
    {
     "data": {
      "text/plain": [
       "-0.40546510810816444"
      ]
     },
     "execution_count": 12,
     "metadata": {},
     "output_type": "execute_result"
    }
   ],
   "source": [
    "F0 = np.log(y.sum()/(1-y).sum())\n",
    "F0"
   ]
  },
  {
   "cell_type": "code",
   "execution_count": 13,
   "id": "c456bc7f",
   "metadata": {
    "ExecuteTime": {
     "end_time": "2023-05-15T05:36:34.922684Z",
     "start_time": "2023-05-15T05:36:34.906741Z"
    }
   },
   "outputs": [
    {
     "data": {
      "text/plain": [
       "array([-0.40546511, -0.40546511, -0.40546511, -0.40546511, -0.40546511,\n",
       "       -0.40546511, -0.40546511, -0.40546511, -0.40546511, -0.40546511])"
      ]
     },
     "execution_count": 13,
     "metadata": {},
     "output_type": "execute_result"
    }
   ],
   "source": [
    "# 扩展为10个样本\n",
    "F0 = np.array([F0]*10)\n",
    "F0"
   ]
  },
  {
   "cell_type": "markdown",
   "id": "38013802",
   "metadata": {},
   "source": [
    "残差计算"
   ]
  },
  {
   "cell_type": "code",
   "execution_count": 14,
   "id": "5132b098",
   "metadata": {
    "ExecuteTime": {
     "end_time": "2023-05-15T05:37:16.924124Z",
     "start_time": "2023-05-15T05:37:16.914157Z"
    }
   },
   "outputs": [
    {
     "data": {
      "text/plain": [
       "array([-0.4, -0.4, -0.4,  0.6,  0.6, -0.4, -0.4, -0.4,  0.6,  0.6])"
      ]
     },
     "execution_count": 14,
     "metadata": {},
     "output_type": "execute_result"
    }
   ],
   "source": [
    "# 残差，F0带入sigmoid计算的即是初始概率\n",
    "residual0 = y - 1/(1 + np.exp(-F0))\n",
    "residual0"
   ]
  },
  {
   "cell_type": "markdown",
   "id": "8ac5e1d3",
   "metadata": {},
   "source": [
    "#### 手写代码拟合第一棵树"
   ]
  },
  {
   "cell_type": "markdown",
   "id": "27180c3f",
   "metadata": {},
   "source": [
    "根据残差的mse，计算最佳分裂条件"
   ]
  },
  {
   "cell_type": "code",
   "execution_count": 15,
   "id": "5dd0674c",
   "metadata": {
    "ExecuteTime": {
     "end_time": "2023-05-15T05:38:50.640479Z",
     "start_time": "2023-05-15T05:38:50.629424Z"
    }
   },
   "outputs": [
    {
     "data": {
      "text/plain": [
       "0.24"
      ]
     },
     "execution_count": 15,
     "metadata": {},
     "output_type": "execute_result"
    }
   ],
   "source": [
    "# 未经分裂mse\n",
    "lower_mse = ((residual0 - residual0.mean())**2).mean()\n",
    "lower_mse"
   ]
  },
  {
   "cell_type": "markdown",
   "id": "9925c7db",
   "metadata": {},
   "source": [
    "<font size = 6>$\\rm mse = ((residual - residual.mean())^2).mean()$</font>"
   ]
  },
  {
   "cell_type": "code",
   "execution_count": 16,
   "id": "99665023",
   "metadata": {
    "ExecuteTime": {
     "end_time": "2023-05-15T05:46:05.911156Z",
     "start_time": "2023-05-15T05:46:05.906173Z"
    }
   },
   "outputs": [
    {
     "data": {
      "text/plain": [
       "array([ 1,  2,  3,  4,  5,  6,  7,  8,  9, 10])"
      ]
     },
     "execution_count": 16,
     "metadata": {},
     "output_type": "execute_result"
    }
   ],
   "source": [
    "X.ravel()"
   ]
  },
  {
   "cell_type": "code",
   "execution_count": 18,
   "id": "b9e4fd9b",
   "metadata": {
    "ExecuteTime": {
     "end_time": "2023-05-15T05:49:39.995201Z",
     "start_time": "2023-05-15T05:49:39.983185Z"
    },
    "collapsed": true
   },
   "outputs": [
    {
     "name": "stdout",
     "output_type": "stream",
     "text": [
      "从第1个进行分类 0.222\n",
      "从第2个进行分类 0.2\n",
      "从第3个进行分类 0.171\n",
      "从第4个进行分类 0.225\n",
      "从第5个进行分类 0.24\n",
      "从第6个进行分类 0.233\n",
      "从第7个进行分类 0.21\n",
      "从第8个进行分类 0.15\n",
      "从第9个进行分类 0.2\n",
      "最小的mse是： 0.15\n",
      "最佳的裂分条件是： {'X[0] <= ': 8.5}\n"
     ]
    }
   ],
   "source": [
    "best_split = {}\n",
    "for i in range(10):\n",
    "    if i == 9:# 所有的样本，都在左侧叶节点\n",
    "        mse = ((residual0 - residual0.mean())**2).mean()\n",
    "    else:\n",
    "        left = residual0[:i+1]\n",
    "        right = residual0[i+1:]\n",
    "        left_mse = ((left - left.mean())**2).mean()\n",
    "        right_mse = ((right - right.mean())**2).mean()\n",
    "        mse = left_mse * len(left)/10 + right_mse * len(right)/10\n",
    "        if lower_mse > mse:\n",
    "            lower_mse = mse\n",
    "            best_split.clear()\n",
    "            best_split['X[0] <= '] = X[i:i+2].mean()\n",
    "        print('从第%d个进行分类'%(i + 1),np.round(mse,3))\n",
    "print('最小的mse是：',lower_mse)\n",
    "print('最佳的裂分条件是：',best_split)"
   ]
  },
  {
   "cell_type": "markdown",
   "id": "0b7b27fd",
   "metadata": {},
   "source": [
    "决策树叶节点预测值（相当于负梯度）  \n",
    "<font size = 6>$\\gamma_{mj} = \\frac{\\sum\\limits_{x_i \\in R_{mj}}\\widetilde{y}_i}{\\sum_\\limits{x_i \\in R_{mj}}(y_i - \\widetilde{y}_i)(1 - y_i + \\widetilde{y}_i)}$​​​</font>"
   ]
  },
  {
   "cell_type": "code",
   "execution_count": 20,
   "id": "3ba40e5a",
   "metadata": {
    "ExecuteTime": {
     "end_time": "2023-05-15T05:54:43.267880Z",
     "start_time": "2023-05-15T05:54:43.263882Z"
    }
   },
   "outputs": [
    {
     "data": {
      "text/plain": [
       "-0.625"
      ]
     },
     "execution_count": 20,
     "metadata": {},
     "output_type": "execute_result"
    }
   ],
   "source": [
    "gamma1 = residual0[:8].sum()/((y[:8] - residual0[:8])*(1 - y[:8] + residual0[:8])).sum()\n",
    "np.round(gamma1,3)"
   ]
  },
  {
   "cell_type": "code",
   "execution_count": 21,
   "id": "51f72c89",
   "metadata": {
    "ExecuteTime": {
     "end_time": "2023-05-15T05:55:42.425416Z",
     "start_time": "2023-05-15T05:55:42.415694Z"
    }
   },
   "outputs": [
    {
     "data": {
      "text/plain": [
       "2.5"
      ]
     },
     "execution_count": 21,
     "metadata": {},
     "output_type": "execute_result"
    }
   ],
   "source": [
    "gamma2 = residual0[-2:].sum()/((y[-2:] - residual0[-2:])*(1 - y[-2:] + residual0[-2:])).sum()\n",
    "np.round(gamma2,3)"
   ]
  },
  {
   "cell_type": "markdown",
   "id": "a0d5f989",
   "metadata": {},
   "source": [
    "#### 手写代码拟合第二棵树"
   ]
  },
  {
   "cell_type": "code",
   "execution_count": 22,
   "id": "07dbaaab",
   "metadata": {
    "ExecuteTime": {
     "end_time": "2023-05-15T05:59:25.468853Z",
     "start_time": "2023-05-15T05:59:25.459876Z"
    }
   },
   "outputs": [
    {
     "data": {
      "text/plain": [
       "array([-0.625, -0.625, -0.625, -0.625, -0.625, -0.625, -0.625, -0.625,\n",
       "        2.5  ,  2.5  ])"
      ]
     },
     "execution_count": 22,
     "metadata": {},
     "output_type": "execute_result"
    }
   ],
   "source": [
    "gamma = np.array([gamma1] * 8 + [gamma2] * 2)\n",
    "gamma"
   ]
  },
  {
   "cell_type": "markdown",
   "id": "7133271c",
   "metadata": {},
   "source": [
    "梯度提升"
   ]
  },
  {
   "cell_type": "code",
   "execution_count": 23,
   "id": "a7965d44",
   "metadata": {
    "ExecuteTime": {
     "end_time": "2023-05-15T06:00:36.036577Z",
     "start_time": "2023-05-15T06:00:36.021170Z"
    }
   },
   "outputs": [
    {
     "data": {
      "text/plain": [
       "array([-0.46796511, -0.46796511, -0.46796511, -0.46796511, -0.46796511,\n",
       "       -0.46796511, -0.46796511, -0.46796511, -0.15546511, -0.15546511])"
      ]
     },
     "execution_count": 23,
     "metadata": {},
     "output_type": "execute_result"
    }
   ],
   "source": [
    "learning_rate=0.1\n",
    "F1 = F0 + gamma * learning_rate\n",
    "F1"
   ]
  },
  {
   "cell_type": "markdown",
   "id": "e6afad87",
   "metadata": {},
   "source": [
    "残差计算"
   ]
  },
  {
   "cell_type": "code",
   "execution_count": 24,
   "id": "8e0f8217",
   "metadata": {
    "ExecuteTime": {
     "end_time": "2023-05-15T06:01:53.126400Z",
     "start_time": "2023-05-15T06:01:53.106351Z"
    }
   },
   "outputs": [
    {
     "data": {
      "text/plain": [
       "array([-0.38509799, -0.38509799, -0.38509799,  0.61490201,  0.61490201,\n",
       "       -0.38509799, -0.38509799, -0.38509799,  0.53878818,  0.53878818])"
      ]
     },
     "execution_count": 24,
     "metadata": {},
     "output_type": "execute_result"
    }
   ],
   "source": [
    "residual1 = y - 1/(1 + np.exp(-F1))\n",
    "residual1"
   ]
  },
  {
   "cell_type": "markdown",
   "id": "f98652b7",
   "metadata": {},
   "source": [
    "根据当前树的残差，计算最佳裂分条件"
   ]
  },
  {
   "cell_type": "code",
   "execution_count": 25,
   "id": "e2c131b4",
   "metadata": {
    "ExecuteTime": {
     "end_time": "2023-05-15T06:04:43.343739Z",
     "start_time": "2023-05-15T06:04:43.327543Z"
    }
   },
   "outputs": [
    {
     "name": "stdout",
     "output_type": "stream",
     "text": [
      "第二棵树未经分裂的初始mse是： 0.223\n",
      "从第1个进行分类 0.206\n",
      "从第2个进行分类 0.186\n",
      "从第3个进行分类 0.159\n",
      "从第4个进行分类 0.211\n",
      "从第5个进行分类 0.222\n",
      "从第6个进行分类 0.219\n",
      "从第7个进行分类 0.2\n",
      "从第8个进行分类 0.15\n",
      "从第9个进行分类 0.19\n",
      "最小的mse是： 0.15\n",
      "最佳的裂分条件是： {'X[0] <= ': 8.5}\n"
     ]
    }
   ],
   "source": [
    "lower_mse = ((residual1 - residual1.mean())**2).mean()\n",
    "print('第二棵树未经分裂的初始mse是：',np.round(lower_mse,3))\n",
    "best_split = {}\n",
    "for i in range(10):\n",
    "    if i == 9:# 所有的样本，都在左侧叶节点\n",
    "        mse = ((residual1 - residual1.mean())**2).mean()\n",
    "    else:\n",
    "        left = residual1[:i+1]\n",
    "        right = residual1[i+1:]\n",
    "        left_mse = ((left - left.mean())**2).mean()\n",
    "        right_mse = ((right - right.mean())**2).mean()\n",
    "        mse = left_mse * len(left)/10 + right_mse * len(right)/10\n",
    "        if lower_mse > mse:\n",
    "            lower_mse = mse\n",
    "            best_split.clear()\n",
    "            best_split['X[0] <= '] = X[i:i+2].mean()\n",
    "        print('从第%d个进行分类'%(i + 1),np.round(mse,3))\n",
    "print('最小的mse是：',lower_mse)\n",
    "print('最佳的裂分条件是：',best_split)"
   ]
  },
  {
   "cell_type": "markdown",
   "id": "e2bd4301",
   "metadata": {},
   "source": [
    "第二棵树叶节点预测值计算"
   ]
  },
  {
   "cell_type": "code",
   "execution_count": 26,
   "id": "77d2320a",
   "metadata": {
    "ExecuteTime": {
     "end_time": "2023-05-15T06:07:47.768217Z",
     "start_time": "2023-05-15T06:07:47.761692Z"
    }
   },
   "outputs": [
    {
     "name": "stdout",
     "output_type": "stream",
     "text": [
      "第二棵树左侧叶节点预测值是： -0.571\n",
      "第二棵树右侧叶节点预测值是： 2.168\n"
     ]
    }
   ],
   "source": [
    "gamma1 = residual1[:8].sum()/((y[:8] - residual1[:8])*(1 - y[:8] + residual1[:8])).sum()\n",
    "print('第二棵树左侧叶节点预测值是：',np.round(gamma1,3))\n",
    "\n",
    "gamma2 = residual1[-2:].sum()/((y[-2:] - residual1[-2:])*(1 - y[-2:] + residual1[-2:])).sum()\n",
    "print('第二棵树右侧叶节点预测值是：',np.round(gamma2,3))"
   ]
  },
  {
   "cell_type": "markdown",
   "id": "0d07ff81",
   "metadata": {},
   "source": [
    "#### 手写代码拟合第三棵树"
   ]
  },
  {
   "cell_type": "markdown",
   "id": "6c942647",
   "metadata": {},
   "source": [
    "第二棵树的叶节点预测值（负梯度）"
   ]
  },
  {
   "cell_type": "code",
   "execution_count": 27,
   "id": "d4998662",
   "metadata": {
    "ExecuteTime": {
     "end_time": "2023-05-15T06:10:06.292888Z",
     "start_time": "2023-05-15T06:10:06.286848Z"
    }
   },
   "outputs": [
    {
     "data": {
      "text/plain": [
       "array([-0.57052111, -0.57052111, -0.57052111, -0.57052111, -0.57052111,\n",
       "       -0.57052111, -0.57052111, -0.57052111,  2.16820117,  2.16820117])"
      ]
     },
     "execution_count": 27,
     "metadata": {},
     "output_type": "execute_result"
    }
   ],
   "source": [
    "gamma = np.array([gamma1] * 8 + [gamma2] * 2)\n",
    "gamma"
   ]
  },
  {
   "cell_type": "markdown",
   "id": "1ad39056",
   "metadata": {},
   "source": [
    "在上一棵树的基础上，进行梯度提升"
   ]
  },
  {
   "cell_type": "code",
   "execution_count": 28,
   "id": "3731a770",
   "metadata": {
    "ExecuteTime": {
     "end_time": "2023-05-15T06:11:12.134932Z",
     "start_time": "2023-05-15T06:11:12.125859Z"
    }
   },
   "outputs": [
    {
     "data": {
      "text/plain": [
       "array([-0.52501722, -0.52501722, -0.52501722, -0.52501722, -0.52501722,\n",
       "       -0.52501722, -0.52501722, -0.52501722,  0.06135501,  0.06135501])"
      ]
     },
     "execution_count": 28,
     "metadata": {},
     "output_type": "execute_result"
    }
   ],
   "source": [
    "F2 = F1 + gamma * learning_rate\n",
    "F2"
   ]
  },
  {
   "cell_type": "markdown",
   "id": "97771b09",
   "metadata": {},
   "source": [
    "第三棵树的残差"
   ]
  },
  {
   "cell_type": "code",
   "execution_count": 29,
   "id": "3060bd6f",
   "metadata": {
    "ExecuteTime": {
     "end_time": "2023-05-15T06:11:56.797032Z",
     "start_time": "2023-05-15T06:11:56.786905Z"
    }
   },
   "outputs": [
    {
     "data": {
      "text/plain": [
       "array([-0.37167979, -0.37167979, -0.37167979,  0.62832021,  0.62832021,\n",
       "       -0.37167979, -0.37167979, -0.37167979,  0.48466606,  0.48466606])"
      ]
     },
     "execution_count": 29,
     "metadata": {},
     "output_type": "execute_result"
    }
   ],
   "source": [
    "residual2 = y - 1/(1 + np.exp(-F2))\n",
    "residual2"
   ]
  },
  {
   "cell_type": "markdown",
   "id": "04d1d274",
   "metadata": {},
   "source": [
    "根据当前这棵树的残差，重新计算最佳裂分条件"
   ]
  },
  {
   "cell_type": "code",
   "execution_count": 31,
   "id": "9705f5c0",
   "metadata": {
    "ExecuteTime": {
     "end_time": "2023-05-15T06:13:03.957894Z",
     "start_time": "2023-05-15T06:13:03.948751Z"
    },
    "collapsed": true
   },
   "outputs": [
    {
     "name": "stdout",
     "output_type": "stream",
     "text": [
      "第三棵树未经分裂的初始mse是： 0.209\n",
      "从第1个进行分类 0.194\n",
      "从第2个进行分类 0.174\n",
      "从第3个进行分类 0.15\n",
      "从第4个进行分类 0.199\n",
      "从第5个进行分类 0.208\n",
      "从第6个进行分类 0.207\n",
      "从第7个进行分类 0.192\n",
      "从第8个进行分类 0.15\n",
      "从第9个进行分类 0.183\n",
      "最小的mse是： 0.1497502190152274\n",
      "最佳的裂分条件是： {'X[0] <= ': 3.5}\n"
     ]
    }
   ],
   "source": [
    "lower_mse = ((residual2 - residual2.mean())**2).mean()\n",
    "print('第三棵树未经分裂的初始mse是：',np.round(lower_mse,3))\n",
    "best_split = {}\n",
    "for i in range(10):\n",
    "    if i == 9:# 所有的样本，都在左侧叶节点\n",
    "        mse = ((residual2 - residual2.mean())**2).mean()\n",
    "    else:\n",
    "        left = residual2[:i+1]\n",
    "        right = residual2[i+1:]\n",
    "        left_mse = ((left - left.mean())**2).mean()\n",
    "        right_mse = ((right - right.mean())**2).mean()\n",
    "        mse = left_mse * len(left)/10 + right_mse * len(right)/10\n",
    "        if lower_mse > mse:\n",
    "            lower_mse = mse\n",
    "            best_split.clear()\n",
    "            best_split['X[0] <= '] = X[i:i+2].mean()\n",
    "        print('从第%d个进行分类'%(i + 1),np.round(mse,3))\n",
    "print('最小的mse是：',lower_mse)\n",
    "print('最佳的裂分条件是：',best_split)"
   ]
  },
  {
   "cell_type": "markdown",
   "id": "f9b42866",
   "metadata": {},
   "source": [
    "第三棵树叶节点预测值计算"
   ]
  },
  {
   "cell_type": "code",
   "execution_count": 34,
   "id": "7105a3c8",
   "metadata": {
    "ExecuteTime": {
     "end_time": "2023-05-15T06:16:51.526526Z",
     "start_time": "2023-05-15T06:16:51.517456Z"
    }
   },
   "outputs": [
    {
     "name": "stdout",
     "output_type": "stream",
     "text": [
      "第三棵树左侧叶节点预测值是： -1.592\n",
      "第三棵树右侧叶节点预测值是： 0.666\n"
     ]
    }
   ],
   "source": [
    "gamma1 = residual2[:3].sum()/((y[:3] - residual2[:3])*(1 - y[:3] + residual2[:3])).sum()\n",
    "print('第三棵树左侧叶节点预测值是：',np.round(gamma1,3))\n",
    "\n",
    "gamma2 = residual2[-7:].sum()/((y[-7:] - residual2[-7:])*(1 - y[-7:] + residual2[-7:])).sum()\n",
    "print('第三棵树右侧叶节点预测值是：',np.round(gamma2,3))"
   ]
  },
  {
   "cell_type": "markdown",
   "id": "691db344",
   "metadata": {},
   "source": [
    "#### 概率计算"
   ]
  },
  {
   "cell_type": "markdown",
   "id": "001cbb1b",
   "metadata": {},
   "source": [
    "计算第三棵树F3(x)"
   ]
  },
  {
   "cell_type": "code",
   "execution_count": 38,
   "id": "6964c332",
   "metadata": {
    "ExecuteTime": {
     "end_time": "2023-05-15T06:51:07.873021Z",
     "start_time": "2023-05-15T06:51:07.865023Z"
    }
   },
   "outputs": [
    {
     "data": {
      "text/plain": [
       "array([-1.59154518, -1.59154518, -1.59154518,  0.66634692,  0.66634692,\n",
       "        0.66634692,  0.66634692,  0.66634692,  0.66634692,  0.66634692])"
      ]
     },
     "execution_count": 38,
     "metadata": {},
     "output_type": "execute_result"
    }
   ],
   "source": [
    "gamma = np.array([gamma1] * 3 + [gamma2] * 7)\n",
    "gamma"
   ]
  },
  {
   "cell_type": "code",
   "execution_count": 39,
   "id": "947b8e9a",
   "metadata": {
    "ExecuteTime": {
     "end_time": "2023-05-15T06:52:08.079909Z",
     "start_time": "2023-05-15T06:52:08.070878Z"
    }
   },
   "outputs": [
    {
     "data": {
      "text/plain": [
       "array([-0.68417174, -0.68417174, -0.68417174, -0.45838253, -0.45838253,\n",
       "       -0.45838253, -0.45838253, -0.45838253,  0.1279897 ,  0.1279897 ])"
      ]
     },
     "execution_count": 39,
     "metadata": {},
     "output_type": "execute_result"
    }
   ],
   "source": [
    "F3 = F2 + learning_rate * gamma\n",
    "F3"
   ]
  },
  {
   "cell_type": "markdown",
   "id": "fe970345",
   "metadata": {},
   "source": [
    "根据第三棵梯度提升结果F3，转变为概率"
   ]
  },
  {
   "cell_type": "code",
   "execution_count": 42,
   "id": "48911247",
   "metadata": {
    "ExecuteTime": {
     "end_time": "2023-05-15T06:55:25.336614Z",
     "start_time": "2023-05-15T06:55:25.328529Z"
    },
    "scrolled": true
   },
   "outputs": [
    {
     "data": {
      "text/plain": [
       "array([[0.66466915, 0.33533085],\n",
       "       [0.66466915, 0.33533085],\n",
       "       [0.66466915, 0.33533085],\n",
       "       [0.6126304 , 0.3873696 ],\n",
       "       [0.6126304 , 0.3873696 ],\n",
       "       [0.6126304 , 0.3873696 ],\n",
       "       [0.6126304 , 0.3873696 ],\n",
       "       [0.6126304 , 0.3873696 ],\n",
       "       [0.46804618, 0.53195382],\n",
       "       [0.46804618, 0.53195382]])"
      ]
     },
     "execution_count": 42,
     "metadata": {},
     "output_type": "execute_result"
    }
   ],
   "source": [
    "p = 1/(1 + np.exp(-F3))\n",
    "p_ = np.c_[1-p,p]\n",
    "p_"
   ]
  },
  {
   "cell_type": "code",
   "execution_count": 44,
   "id": "13098fcc",
   "metadata": {
    "ExecuteTime": {
     "end_time": "2023-05-15T06:56:23.452685Z",
     "start_time": "2023-05-15T06:56:23.447699Z"
    }
   },
   "outputs": [
    {
     "data": {
      "text/plain": [
       "array([0, 0, 0, 0, 0, 0, 0, 0, 1, 1], dtype=int64)"
      ]
     },
     "execution_count": 44,
     "metadata": {},
     "output_type": "execute_result"
    }
   ],
   "source": [
    "p_.argmax(axis = 1)"
   ]
  },
  {
   "cell_type": "code",
   "execution_count": 41,
   "id": "7223d6ba",
   "metadata": {
    "ExecuteTime": {
     "end_time": "2023-05-15T06:53:50.137850Z",
     "start_time": "2023-05-15T06:53:50.130808Z"
    }
   },
   "outputs": [
    {
     "data": {
      "text/plain": [
       "array([[0.66466915, 0.33533085],\n",
       "       [0.66466915, 0.33533085],\n",
       "       [0.66466915, 0.33533085],\n",
       "       [0.6126304 , 0.3873696 ],\n",
       "       [0.6126304 , 0.3873696 ],\n",
       "       [0.6126304 , 0.3873696 ],\n",
       "       [0.6126304 , 0.3873696 ],\n",
       "       [0.6126304 , 0.3873696 ],\n",
       "       [0.46804618, 0.53195382],\n",
       "       [0.46804618, 0.53195382]])"
      ]
     },
     "execution_count": 41,
     "metadata": {},
     "output_type": "execute_result"
    }
   ],
   "source": [
    "clf.predict_proba(X)"
   ]
  },
  {
   "cell_type": "code",
   "execution_count": null,
   "id": "8085873c",
   "metadata": {},
   "outputs": [],
   "source": []
  }
 ],
 "metadata": {
  "kernelspec": {
   "display_name": "Python 3 (ipykernel)",
   "language": "python",
   "name": "python3"
  },
  "language_info": {
   "codemirror_mode": {
    "name": "ipython",
    "version": 3
   },
   "file_extension": ".py",
   "mimetype": "text/x-python",
   "name": "python",
   "nbconvert_exporter": "python",
   "pygments_lexer": "ipython3",
   "version": "3.9.6"
  },
  "toc": {
   "base_numbering": 1,
   "nav_menu": {},
   "number_sections": true,
   "sideBar": true,
   "skip_h1_title": false,
   "title_cell": "Table of Contents",
   "title_sidebar": "Contents",
   "toc_cell": false,
   "toc_position": {
    "height": "calc(100% - 180px)",
    "left": "10px",
    "top": "150px",
    "width": "273.167px"
   },
   "toc_section_display": true,
   "toc_window_display": true
  }
 },
 "nbformat": 4,
 "nbformat_minor": 5
}
