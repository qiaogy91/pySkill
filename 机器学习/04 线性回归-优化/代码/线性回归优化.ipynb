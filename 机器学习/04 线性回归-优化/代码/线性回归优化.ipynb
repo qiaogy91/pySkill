{
 "cells": [
  {
   "cell_type": "markdown",
   "id": "e3c07fcc",
   "metadata": {},
   "source": [
    "### 归一化"
   ]
  },
  {
   "cell_type": "markdown",
   "id": "21f72b53",
   "metadata": {},
   "source": [
    "#### 最大值最小值归一化"
   ]
  },
  {
   "cell_type": "code",
   "execution_count": null,
   "id": "be1f2677",
   "metadata": {
    "ExecuteTime": {
     "end_time": "2023-04-11T02:55:02.505922Z",
     "start_time": "2023-04-11T02:55:02.421321Z"
    }
   },
   "outputs": [],
   "source": [
    "import numpy as np\n",
    "x_1 = np.random.randint(1,10,size = 10)\n",
    "x_2 = np.random.randint(100,300,size = 10)\n",
    "x = np.c_[x_1,x_2]\n",
    "\n",
    "\n",
    "print('归一化之前的数据：')\n",
    "display(x)\n",
    "\n",
    "\n",
    "x_ = (x - x.min(axis = 0)) / (x.max(axis = 0) - x.min(axis = 0))\n",
    "print('归一化之后的数据：')\n",
    "display(x_)"
   ]
  },
  {
   "cell_type": "code",
   "execution_count": null,
   "id": "5e459314",
   "metadata": {
    "ExecuteTime": {
     "end_time": "2023-04-11T02:56:03.425075Z",
     "start_time": "2023-04-11T02:56:03.409893Z"
    }
   },
   "outputs": [],
   "source": [
    "# 离群点演示\n",
    "x[-1,-1] *= 10000\n",
    "x"
   ]
  },
  {
   "cell_type": "code",
   "execution_count": null,
   "id": "ce121a33",
   "metadata": {
    "ExecuteTime": {
     "end_time": "2023-04-11T02:56:13.790004Z",
     "start_time": "2023-04-11T02:56:13.773601Z"
    }
   },
   "outputs": [],
   "source": [
    "x_ = (x - x.min(axis = 0)) / (x.max(axis = 0) - x.min(axis = 0))\n",
    "print('归一化之后的数据：')\n",
    "display(x_)"
   ]
  },
  {
   "cell_type": "code",
   "execution_count": null,
   "id": "0e80837e",
   "metadata": {
    "ExecuteTime": {
     "end_time": "2023-04-11T02:57:04.218753Z",
     "start_time": "2023-04-11T02:57:03.595820Z"
    }
   },
   "outputs": [],
   "source": [
    "import numpy as np\n",
    "from sklearn.preprocessing import MinMaxScaler\n",
    "x_1 = np.random.randint(1,10,size = 10)\n",
    "x_2 = np.random.randint(100,300,size = 10)\n",
    "x = np.c_[x_1,x_2]\n",
    "print('归一化之前的数据：')\n",
    "display(x)\n",
    "\n",
    "min_max_scaler = MinMaxScaler()\n",
    "x_ = min_max_scaler.fit_transform(x)\n",
    "print('归一化之后的数据：')\n",
    "display(x_)"
   ]
  },
  {
   "cell_type": "markdown",
   "id": "7efdd971",
   "metadata": {},
   "source": [
    "#### 0-均值标准化"
   ]
  },
  {
   "cell_type": "code",
   "execution_count": null,
   "id": "fee0de8a",
   "metadata": {
    "ExecuteTime": {
     "end_time": "2023-04-11T02:59:30.420478Z",
     "start_time": "2023-04-11T02:59:30.406821Z"
    }
   },
   "outputs": [],
   "source": [
    "import numpy as np\n",
    "x_1 = np.random.randint(1,10,size = 10)\n",
    "x_2 = np.random.randint(100,300,size = 10)\n",
    "x = np.c_[x_1,x_2]\n",
    "print('归一化之前的数据：')\n",
    "display(x)\n",
    "x_ = (x - x.mean(axis = 0)) / x.std(axis = 0)\n",
    "print('归一化之后的数据：')\n",
    "display(x_)"
   ]
  },
  {
   "cell_type": "code",
   "execution_count": null,
   "id": "e2ddcc55",
   "metadata": {
    "ExecuteTime": {
     "end_time": "2023-04-11T03:00:13.157272Z",
     "start_time": "2023-04-11T03:00:13.144111Z"
    }
   },
   "outputs": [],
   "source": [
    "x[-1,-1]*= 10000\n",
    "display(x)\n",
    "x_ = (x - x.mean(axis = 0)) / x.std(axis = 0)\n",
    "print('归一化之后的数据：')\n",
    "display(x_)"
   ]
  },
  {
   "cell_type": "code",
   "execution_count": null,
   "id": "12d5d06a",
   "metadata": {
    "ExecuteTime": {
     "end_time": "2023-04-11T03:03:00.622219Z",
     "start_time": "2023-04-11T03:03:00.613511Z"
    }
   },
   "outputs": [],
   "source": [
    "import numpy as np\n",
    "from sklearn.preprocessing import StandardScaler\n",
    "x_1 = np.random.randint(1,10,size = 10)\n",
    "x_2 = np.random.randint(100,300,size = 10)\n",
    "x = np.c_[x_1,x_2]\n",
    "print('归一化之前的数据：')\n",
    "display(x)\n",
    "\n",
    "standard_scaler = StandardScaler()\n",
    "x_ = standard_scaler.fit_transform(x)\n",
    "print('归一化之后的数据：')\n",
    "display(x_)"
   ]
  },
  {
   "cell_type": "markdown",
   "id": "7d8decad",
   "metadata": {},
   "source": [
    "#### scaler持久化"
   ]
  },
  {
   "cell_type": "code",
   "execution_count": null,
   "id": "49a74f26",
   "metadata": {
    "ExecuteTime": {
     "end_time": "2023-04-11T03:17:25.853229Z",
     "start_time": "2023-04-11T03:17:25.842235Z"
    }
   },
   "outputs": [],
   "source": [
    "# 训练数据\n",
    "import numpy as np\n",
    "from sklearn.preprocessing import StandardScaler\n",
    "x_1 = np.random.randint(1,10,size = 10)\n",
    "x_2 = np.random.randint(100,300,size = 10)\n",
    "x = np.c_[x_1,x_2]\n",
    "print('归一化之前的数据：')\n",
    "display(x)\n",
    "standard_scaler = StandardScaler() # 模型，归一化\n",
    "x_ = standard_scaler.fit_transform(x)\n",
    "print('归一化之后的数据：')\n",
    "display(x_)"
   ]
  },
  {
   "cell_type": "code",
   "execution_count": null,
   "id": "aa844aaf",
   "metadata": {
    "ExecuteTime": {
     "end_time": "2023-04-11T03:18:21.265658Z",
     "start_time": "2023-04-11T03:18:21.258658Z"
    }
   },
   "outputs": [],
   "source": [
    "# 归一化的模型，保存\n",
    "import joblib\n",
    "joblib.dump(standard_scaler,'scaler')"
   ]
  },
  {
   "cell_type": "code",
   "execution_count": null,
   "id": "8d4495ad",
   "metadata": {
    "ExecuteTime": {
     "end_time": "2023-04-11T03:19:58.526809Z",
     "start_time": "2023-04-11T03:19:58.517817Z"
    }
   },
   "outputs": [],
   "source": [
    "# 加载\n",
    "X_new = np.array([[7,256]])\n",
    "scaler = joblib.load('./scaler')\n",
    "scaler.transform(X_new)"
   ]
  },
  {
   "cell_type": "markdown",
   "id": "217fe685",
   "metadata": {},
   "source": [
    "### 正则化"
   ]
  },
  {
   "cell_type": "code",
   "execution_count": null,
   "id": "8a6d6c1c",
   "metadata": {
    "ExecuteTime": {
     "end_time": "2023-04-12T06:39:07.867200Z",
     "start_time": "2023-04-12T06:39:07.853115Z"
    }
   },
   "outputs": [],
   "source": [
    "# 测试数据发生变换\n",
    "import numpy as np\n",
    "X1 = np.array([32,128])\n",
    "X2 = np.array([30,120])\n",
    "display(X1,X2)"
   ]
  },
  {
   "cell_type": "code",
   "execution_count": null,
   "id": "fff27037",
   "metadata": {
    "ExecuteTime": {
     "end_time": "2023-04-12T06:39:54.161084Z",
     "start_time": "2023-04-12T06:39:54.143978Z"
    }
   },
   "outputs": [],
   "source": [
    "y1 = 0.3 * 32 + 0.4 * 128 + 0.5\n",
    "y2 = 0.3 * 30 + 0.4 * 120 + 0.5\n",
    "print(y1 - y2)"
   ]
  },
  {
   "cell_type": "code",
   "execution_count": null,
   "id": "526eda5b",
   "metadata": {
    "ExecuteTime": {
     "end_time": "2023-04-12T06:41:07.209991Z",
     "start_time": "2023-04-12T06:41:07.192053Z"
    }
   },
   "outputs": [],
   "source": [
    "y1 = 3 * 32 + 4 * 128 + 5\n",
    "y2 = 3 * 30 + 4 * 120 + 5\n",
    "print(y1 - y2)"
   ]
  },
  {
   "cell_type": "markdown",
   "id": "3ac3fbde",
   "metadata": {},
   "source": [
    "#### Lasso回归L1正则化"
   ]
  },
  {
   "cell_type": "markdown",
   "id": "ef2b80e6",
   "metadata": {},
   "source": [
    "不同$\\alpha$ 对 L1正则化方框大小影响"
   ]
  },
  {
   "cell_type": "code",
   "execution_count": null,
   "id": "fd5fe7a5",
   "metadata": {
    "ExecuteTime": {
     "end_time": "2023-04-12T07:09:54.954772Z",
     "start_time": "2023-04-12T07:09:54.850780Z"
    }
   },
   "outputs": [],
   "source": [
    "import matplotlib.pyplot as plt\n",
    "\n",
    "# α 的值是：1\n",
    "# 1 = x + y\n",
    "# y = 1 -x\n",
    "f = lambda x : 1- x\n",
    "x = np.linspace(0,1,100)\n",
    "plt.axis('equal')\n",
    "plt.plot(x, f(x), color = 'green',label = '$\\\\alpha = 1$')\n",
    "plt.plot(x, -f(x),color = 'green')\n",
    "plt.plot(-x,f(x),color = 'green')\n",
    "plt.plot(-x,-f(x),color = 'green')\n",
    "\n",
    "# α 的值是：3\n",
    "# 1 = 3 * x + 3 * y\n",
    "# y = 1/3 -x\n",
    "f2 = lambda x : 1/3 - x \n",
    "x2 = np.linspace(0,1/3,100)\n",
    "plt.plot(x2, f2(x2),color = 'red',label = '$\\\\alpha = 3$')\n",
    "plt.plot(x2, -f2(x2),color = 'red')\n",
    "plt.plot(-x2,f2(x2),color = 'red')\n",
    "plt.plot(-x2,-f2(x2),color = 'red')\n",
    "\n",
    "# 一些列设置\n",
    "plt.xlim(-2,2)\n",
    "plt.ylim(-2,2)\n",
    "ax = plt.gca()\n",
    "ax.spines['right'].set_color('None')  # 将图片的右框隐藏\n",
    "ax.spines['top'].set_color('None')  # 将图片的上边框隐藏\n",
    "ax.spines['bottom'].set_position(('data', 0)) # x轴出现在y轴的-1 位置\n",
    "ax.spines['left'].set_position(('data', 0))\n",
    "plt.legend()"
   ]
  },
  {
   "cell_type": "markdown",
   "id": "6151cf9b",
   "metadata": {},
   "source": [
    "#### Lasso回归实战"
   ]
  },
  {
   "cell_type": "code",
   "execution_count": null,
   "id": "d99b7986",
   "metadata": {
    "ExecuteTime": {
     "end_time": "2023-04-12T07:37:40.360525Z",
     "start_time": "2023-04-12T07:37:40.346469Z"
    }
   },
   "outputs": [],
   "source": [
    "import numpy as np\n",
    "from sklearn.linear_model import Lasso\n",
    "from sklearn.linear_model import SGDRegressor,LinearRegression\n",
    "\n",
    "# 1、创建数据集X，y\n",
    "X = 2*np.random.rand(100, 20)\n",
    "w = np.random.randn(20,1)\n",
    "b = np.random.randint(1,10,size = 1)\n",
    "y = X.dot(w) + b + np.random.randn(100, 1)\n",
    "\n",
    "print('原始方程的斜率：',w.ravel())\n",
    "print('原始方程的截距：',b)"
   ]
  },
  {
   "cell_type": "code",
   "execution_count": null,
   "id": "79c4c66f",
   "metadata": {
    "ExecuteTime": {
     "end_time": "2023-04-12T07:38:49.148139Z",
     "start_time": "2023-04-12T07:38:49.132037Z"
    }
   },
   "outputs": [],
   "source": [
    "linear = LinearRegression()\n",
    "linear.fit(X,y)\n",
    "print('普通线性回归系数：\\n',linear.coef_)\n",
    "print('线性回归截距是：',linear.intercept_)"
   ]
  },
  {
   "cell_type": "code",
   "execution_count": null,
   "id": "93d46007",
   "metadata": {
    "ExecuteTime": {
     "end_time": "2023-04-12T07:40:26.344675Z",
     "start_time": "2023-04-12T07:40:26.334657Z"
    }
   },
   "outputs": [],
   "source": [
    "lasso = Lasso(alpha=0.1)\n",
    "lasso.fit(X,y)\n",
    "print('L1正则化系数：\\n',lasso.coef_)\n",
    "print('L1正则化截距：',lasso.intercept_)"
   ]
  },
  {
   "cell_type": "code",
   "execution_count": null,
   "id": "9c11ecb7",
   "metadata": {
    "ExecuteTime": {
     "end_time": "2023-04-12T07:46:54.867571Z",
     "start_time": "2023-04-12T07:46:54.851259Z"
    }
   },
   "outputs": [],
   "source": [
    "sgd = SGDRegressor(penalty='l1',alpha=0.1)\n",
    "sgd.fit(X,y.ravel())\n",
    "print('随机梯度下降系数是：',sgd.coef_)\n",
    "print('截距是：',sgd.intercept_)"
   ]
  },
  {
   "cell_type": "markdown",
   "id": "a552b347",
   "metadata": {},
   "source": [
    "#### Ridge回归L2正则化"
   ]
  },
  {
   "cell_type": "code",
   "execution_count": null,
   "id": "13c2a36e",
   "metadata": {
    "ExecuteTime": {
     "end_time": "2023-04-12T08:14:52.994453Z",
     "start_time": "2023-04-12T08:14:52.988401Z"
    }
   },
   "outputs": [],
   "source": [
    "import numpy as np\n",
    "from sklearn.linear_model import Ridge\n",
    "from sklearn.linear_model import LinearRegression\n",
    "\n",
    "# 1、创建数据集X，y\n",
    "X = 2*np.random.rand(100, 5)\n",
    "w = np.random.randint(1,10,size = (5,1))\n",
    "b = np.random.randint(1,10,size = 1)\n",
    "y = X.dot(w) + b + np.random.randn(100, 1)\n",
    "\n",
    "print('原始方程的斜率：',w.ravel())\n",
    "print('原始方程的截距：',b)"
   ]
  },
  {
   "cell_type": "code",
   "execution_count": null,
   "id": "4e915d91",
   "metadata": {
    "ExecuteTime": {
     "end_time": "2023-04-12T08:15:34.305255Z",
     "start_time": "2023-04-12T08:15:34.290158Z"
    }
   },
   "outputs": [],
   "source": [
    "linear = LinearRegression()\n",
    "linear.fit(X,y)\n",
    "print('普通线性回归系数：',linear.coef_,linear.intercept_)"
   ]
  },
  {
   "cell_type": "code",
   "execution_count": null,
   "id": "3b9f8c92",
   "metadata": {
    "ExecuteTime": {
     "end_time": "2023-04-12T08:20:28.061987Z",
     "start_time": "2023-04-12T08:20:28.050992Z"
    }
   },
   "outputs": [],
   "source": [
    "ridge = Ridge(alpha=10)\n",
    "ridge.fit(X,y)\n",
    "print('L2正则化Ridge系数是：',ridge.coef_,ridge.intercept_)"
   ]
  },
  {
   "cell_type": "markdown",
   "id": "febd5202",
   "metadata": {},
   "source": [
    "#### 弹性网络优化算法"
   ]
  },
  {
   "cell_type": "code",
   "execution_count": null,
   "id": "3fc2c028",
   "metadata": {
    "ExecuteTime": {
     "end_time": "2023-04-12T08:41:17.443623Z",
     "start_time": "2023-04-12T08:41:17.437623Z"
    }
   },
   "outputs": [],
   "source": [
    "import numpy as np\n",
    "from sklearn.linear_model import ElasticNet\n",
    "from sklearn.linear_model import SGDRegressor,LinearRegression\n",
    "\n",
    "# 1、创建数据集X，y\n",
    "X = 2*np.random.rand(100, 20)\n",
    "w = np.random.randn(20,1)\n",
    "b = np.random.randint(1,10,size = 1)\n",
    "y = X.dot(w) + b + np.random.randn(100, 1)\n",
    "\n",
    "print('原始方程的斜率：',w.ravel())\n",
    "print('原始方程的截距：',b)"
   ]
  },
  {
   "cell_type": "code",
   "execution_count": null,
   "id": "18095e6b",
   "metadata": {
    "ExecuteTime": {
     "end_time": "2023-04-12T08:41:54.118554Z",
     "start_time": "2023-04-12T08:41:54.108758Z"
    }
   },
   "outputs": [],
   "source": [
    "linear = LinearRegression()\n",
    "linear.fit(X,y)\n",
    "print('普通线性回归系数：',linear.coef_,linear.intercept_)"
   ]
  },
  {
   "cell_type": "code",
   "execution_count": null,
   "id": "ac534582",
   "metadata": {
    "ExecuteTime": {
     "end_time": "2023-04-12T08:47:18.193146Z",
     "start_time": "2023-04-12T08:47:18.179109Z"
    }
   },
   "outputs": [],
   "source": [
    "model = ElasticNet(alpha=1,l1_ratio=0.1)\n",
    "\n",
    "model.fit(X,y)\n",
    "print('弹性网络系数：',model.coef_,model.intercept_)"
   ]
  },
  {
   "cell_type": "code",
   "execution_count": null,
   "id": "b4510431",
   "metadata": {
    "ExecuteTime": {
     "end_time": "2023-04-12T08:51:19.071501Z",
     "start_time": "2023-04-12T08:51:19.052875Z"
    }
   },
   "outputs": [],
   "source": [
    "# 随机梯度下降，变化为:Ridge、Lasso、ElasticNet\n",
    "sgd = SGDRegressor(penalty='elasticnet',alpha=1,l1_ratio=0.1)\n",
    "sgd.fit(X,y.ravel())\n",
    "print('随机梯度下降，惩罚项，正则项参数给定：',sgd.coef_,sgd.intercept_)"
   ]
  },
  {
   "cell_type": "code",
   "execution_count": null,
   "id": "a1b3298b",
   "metadata": {
    "ExecuteTime": {
     "end_time": "2023-04-12T08:51:05.318131Z",
     "start_time": "2023-04-12T08:51:05.307659Z"
    }
   },
   "outputs": [],
   "source": [
    "y"
   ]
  },
  {
   "cell_type": "markdown",
   "id": "99a1638d",
   "metadata": {},
   "source": [
    "### 多项式回归"
   ]
  },
  {
   "cell_type": "markdown",
   "id": "6930f880",
   "metadata": {},
   "source": [
    "#### 普通线性回归"
   ]
  },
  {
   "cell_type": "code",
   "execution_count": 112,
   "id": "9169aaff",
   "metadata": {
    "ExecuteTime": {
     "end_time": "2023-04-14T08:53:19.131545Z",
     "start_time": "2023-04-14T08:53:19.056176Z"
    }
   },
   "outputs": [
    {
     "data": {
      "text/plain": [
       "<matplotlib.collections.PathCollection at 0x2616c0e7a90>"
      ]
     },
     "execution_count": 112,
     "metadata": {},
     "output_type": "execute_result"
    },
    {
     "data": {
      "image/png": "[encoded data removed]",
      "text/plain": [
       "<Figure size 432x288 with 1 Axes>"
      ]
     },
     "metadata": {
      "needs_background": "light"
     },
     "output_type": "display_data"
    }
   ],
   "source": [
    "import numpy as np\n",
    "import matplotlib.pyplot as plt\n",
    "from sklearn.linear_model import LinearRegression\n",
    "\n",
    "# 1、创建数据，并进行可视化\n",
    "X = np.linspace(-1,11,num = 100)\n",
    "y = (X - 5)**2 + 3*X -12 + np.random.randn(100)\n",
    "X = X.reshape(-1,1)\n",
    "plt.scatter(X,y)\n",
    "\n",
    "# 2、创建预测数据\n",
    "X_test = np.linspace(-2,12,num = 200).reshape(-1,1)\n",
    "plt.scatter(X,y,color = 'red')"
   ]
  },
  {
   "cell_type": "code",
   "execution_count": null,
   "id": "104ab6a2",
   "metadata": {
    "ExecuteTime": {
     "end_time": "2023-04-13T03:31:26.336091Z",
     "start_time": "2023-04-13T03:31:26.238534Z"
    }
   },
   "outputs": [],
   "source": [
    "model = LinearRegression()\n",
    "model.fit(X,y) # 建模，线性回归\n",
    "y_pred = model.predict(X_test)\n",
    "plt.scatter(X,y,color = 'red')\n",
    "plt.plot(X_test,y_pred,color = 'g')\n",
    "print(model.coef_,model.intercept_)"
   ]
  },
  {
   "cell_type": "code",
   "execution_count": null,
   "id": "af359a5f",
   "metadata": {
    "ExecuteTime": {
     "end_time": "2023-04-13T03:35:29.142656Z",
     "start_time": "2023-04-13T03:35:29.058969Z"
    }
   },
   "outputs": [],
   "source": [
    "# 特征升维\n",
    "X_ = np.c_[X,X**2]\n",
    "model.fit(X_,y)\n",
    "print(model.coef_,model.intercept_)\n",
    "# 预测\n",
    "X_test_ = np.c_[X_test,X_test**2]\n",
    "y_pred = model.predict(X_test_)\n",
    "plt.scatter(X,y,color = 'red')\n",
    "plt.plot(X_test,y_pred,color = 'g')"
   ]
  },
  {
   "cell_type": "markdown",
   "id": "ebcaee02",
   "metadata": {},
   "source": [
    "#### 随机梯度下降"
   ]
  },
  {
   "cell_type": "code",
   "execution_count": 113,
   "id": "486eceb0",
   "metadata": {
    "ExecuteTime": {
     "end_time": "2023-04-14T08:53:26.037225Z",
     "start_time": "2023-04-14T08:53:26.027212Z"
    }
   },
   "outputs": [],
   "source": [
    "from sklearn.linear_model import SGDRegressor\n",
    "# 构造新特征\n",
    "from sklearn.preprocessing import PolynomialFeatures"
   ]
  },
  {
   "cell_type": "code",
   "execution_count": 114,
   "id": "a3291019",
   "metadata": {
    "ExecuteTime": {
     "end_time": "2023-04-14T08:53:29.234192Z",
     "start_time": "2023-04-14T08:53:29.216992Z"
    },
    "collapsed": true
   },
   "outputs": [
    {
     "data": {
      "text/plain": [
       "array([[ 1.00000000e+00, -1.00000000e+00,  1.00000000e+00],\n",
       "       [ 1.00000000e+00, -8.78787879e-01,  7.72268136e-01],\n",
       "       [ 1.00000000e+00, -7.57575758e-01,  5.73921028e-01],\n",
       "       [ 1.00000000e+00, -6.36363636e-01,  4.04958678e-01],\n",
       "       [ 1.00000000e+00, -5.15151515e-01,  2.65381084e-01],\n",
       "       [ 1.00000000e+00, -3.93939394e-01,  1.55188246e-01],\n",
       "       [ 1.00000000e+00, -2.72727273e-01,  7.43801653e-02],\n",
       "       [ 1.00000000e+00, -1.51515152e-01,  2.29568411e-02],\n",
       "       [ 1.00000000e+00, -3.03030303e-02,  9.18273646e-04],\n",
       "       [ 1.00000000e+00,  9.09090909e-02,  8.26446281e-03],\n",
       "       [ 1.00000000e+00,  2.12121212e-01,  4.49954086e-02],\n",
       "       [ 1.00000000e+00,  3.33333333e-01,  1.11111111e-01],\n",
       "       [ 1.00000000e+00,  4.54545455e-01,  2.06611570e-01],\n",
       "       [ 1.00000000e+00,  5.75757576e-01,  3.31496786e-01],\n",
       "       [ 1.00000000e+00,  6.96969697e-01,  4.85766758e-01],\n",
       "       [ 1.00000000e+00,  8.18181818e-01,  6.69421488e-01],\n",
       "       [ 1.00000000e+00,  9.39393939e-01,  8.82460973e-01],\n",
       "       [ 1.00000000e+00,  1.06060606e+00,  1.12488522e+00],\n",
       "       [ 1.00000000e+00,  1.18181818e+00,  1.39669421e+00],\n",
       "       [ 1.00000000e+00,  1.30303030e+00,  1.69788797e+00],\n",
       "       [ 1.00000000e+00,  1.42424242e+00,  2.02846648e+00],\n",
       "       [ 1.00000000e+00,  1.54545455e+00,  2.38842975e+00],\n",
       "       [ 1.00000000e+00,  1.66666667e+00,  2.77777778e+00],\n",
       "       [ 1.00000000e+00,  1.78787879e+00,  3.19651056e+00],\n",
       "       [ 1.00000000e+00,  1.90909091e+00,  3.64462810e+00],\n",
       "       [ 1.00000000e+00,  2.03030303e+00,  4.12213039e+00],\n",
       "       [ 1.00000000e+00,  2.15151515e+00,  4.62901745e+00],\n",
       "       [ 1.00000000e+00,  2.27272727e+00,  5.16528926e+00],\n",
       "       [ 1.00000000e+00,  2.39393939e+00,  5.73094582e+00],\n",
       "       [ 1.00000000e+00,  2.51515152e+00,  6.32598714e+00],\n",
       "       [ 1.00000000e+00,  2.63636364e+00,  6.95041322e+00],\n",
       "       [ 1.00000000e+00,  2.75757576e+00,  7.60422406e+00],\n",
       "       [ 1.00000000e+00,  2.87878788e+00,  8.28741965e+00],\n",
       "       [ 1.00000000e+00,  3.00000000e+00,  9.00000000e+00],\n",
       "       [ 1.00000000e+00,  3.12121212e+00,  9.74196511e+00],\n",
       "       [ 1.00000000e+00,  3.24242424e+00,  1.05133150e+01],\n",
       "       [ 1.00000000e+00,  3.36363636e+00,  1.13140496e+01],\n",
       "       [ 1.00000000e+00,  3.48484848e+00,  1.21441690e+01],\n",
       "       [ 1.00000000e+00,  3.60606061e+00,  1.30036731e+01],\n",
       "       [ 1.00000000e+00,  3.72727273e+00,  1.38925620e+01],\n",
       "       [ 1.00000000e+00,  3.84848485e+00,  1.48108356e+01],\n",
       "       [ 1.00000000e+00,  3.96969697e+00,  1.57584940e+01],\n",
       "       [ 1.00000000e+00,  4.09090909e+00,  1.67355372e+01],\n",
       "       [ 1.00000000e+00,  4.21212121e+00,  1.77419651e+01],\n",
       "       [ 1.00000000e+00,  4.33333333e+00,  1.87777778e+01],\n",
       "       [ 1.00000000e+00,  4.45454545e+00,  1.98429752e+01],\n",
       "       [ 1.00000000e+00,  4.57575758e+00,  2.09375574e+01],\n",
       "       [ 1.00000000e+00,  4.69696970e+00,  2.20615243e+01],\n",
       "       [ 1.00000000e+00,  4.81818182e+00,  2.32148760e+01],\n",
       "       [ 1.00000000e+00,  4.93939394e+00,  2.43976125e+01],\n",
       "       [ 1.00000000e+00,  5.06060606e+00,  2.56097337e+01],\n",
       "       [ 1.00000000e+00,  5.18181818e+00,  2.68512397e+01],\n",
       "       [ 1.00000000e+00,  5.30303030e+00,  2.81221304e+01],\n",
       "       [ 1.00000000e+00,  5.42424242e+00,  2.94224059e+01],\n",
       "       [ 1.00000000e+00,  5.54545455e+00,  3.07520661e+01],\n",
       "       [ 1.00000000e+00,  5.66666667e+00,  3.21111111e+01],\n",
       "       [ 1.00000000e+00,  5.78787879e+00,  3.34995409e+01],\n",
       "       [ 1.00000000e+00,  5.90909091e+00,  3.49173554e+01],\n",
       "       [ 1.00000000e+00,  6.03030303e+00,  3.63645546e+01],\n",
       "       [ 1.00000000e+00,  6.15151515e+00,  3.78411387e+01],\n",
       "       [ 1.00000000e+00,  6.27272727e+00,  3.93471074e+01],\n",
       "       [ 1.00000000e+00,  6.39393939e+00,  4.08824610e+01],\n",
       "       [ 1.00000000e+00,  6.51515152e+00,  4.24471993e+01],\n",
       "       [ 1.00000000e+00,  6.63636364e+00,  4.40413223e+01],\n",
       "       [ 1.00000000e+00,  6.75757576e+00,  4.56648301e+01],\n",
       "       [ 1.00000000e+00,  6.87878788e+00,  4.73177227e+01],\n",
       "       [ 1.00000000e+00,  7.00000000e+00,  4.90000000e+01],\n",
       "       [ 1.00000000e+00,  7.12121212e+00,  5.07116621e+01],\n",
       "       [ 1.00000000e+00,  7.24242424e+00,  5.24527089e+01],\n",
       "       [ 1.00000000e+00,  7.36363636e+00,  5.42231405e+01],\n",
       "       [ 1.00000000e+00,  7.48484848e+00,  5.60229568e+01],\n",
       "       [ 1.00000000e+00,  7.60606061e+00,  5.78521579e+01],\n",
       "       [ 1.00000000e+00,  7.72727273e+00,  5.97107438e+01],\n",
       "       [ 1.00000000e+00,  7.84848485e+00,  6.15987144e+01],\n",
       "       [ 1.00000000e+00,  7.96969697e+00,  6.35160698e+01],\n",
       "       [ 1.00000000e+00,  8.09090909e+00,  6.54628099e+01],\n",
       "       [ 1.00000000e+00,  8.21212121e+00,  6.74389348e+01],\n",
       "       [ 1.00000000e+00,  8.33333333e+00,  6.94444444e+01],\n",
       "       [ 1.00000000e+00,  8.45454545e+00,  7.14793388e+01],\n",
       "       [ 1.00000000e+00,  8.57575758e+00,  7.35436180e+01],\n",
       "       [ 1.00000000e+00,  8.69696970e+00,  7.56372819e+01],\n",
       "       [ 1.00000000e+00,  8.81818182e+00,  7.77603306e+01],\n",
       "       [ 1.00000000e+00,  8.93939394e+00,  7.99127640e+01],\n",
       "       [ 1.00000000e+00,  9.06060606e+00,  8.20945822e+01],\n",
       "       [ 1.00000000e+00,  9.18181818e+00,  8.43057851e+01],\n",
       "       [ 1.00000000e+00,  9.30303030e+00,  8.65463728e+01],\n",
       "       [ 1.00000000e+00,  9.42424242e+00,  8.88163453e+01],\n",
       "       [ 1.00000000e+00,  9.54545455e+00,  9.11157025e+01],\n",
       "       [ 1.00000000e+00,  9.66666667e+00,  9.34444444e+01],\n",
       "       [ 1.00000000e+00,  9.78787879e+00,  9.58025712e+01],\n",
       "       [ 1.00000000e+00,  9.90909091e+00,  9.81900826e+01],\n",
       "       [ 1.00000000e+00,  1.00303030e+01,  1.00606979e+02],\n",
       "       [ 1.00000000e+00,  1.01515152e+01,  1.03053260e+02],\n",
       "       [ 1.00000000e+00,  1.02727273e+01,  1.05528926e+02],\n",
       "       [ 1.00000000e+00,  1.03939394e+01,  1.08033976e+02],\n",
       "       [ 1.00000000e+00,  1.05151515e+01,  1.10568411e+02],\n",
       "       [ 1.00000000e+00,  1.06363636e+01,  1.13132231e+02],\n",
       "       [ 1.00000000e+00,  1.07575758e+01,  1.15725436e+02],\n",
       "       [ 1.00000000e+00,  1.08787879e+01,  1.18348026e+02],\n",
       "       [ 1.00000000e+00,  1.10000000e+01,  1.21000000e+02]])"
      ]
     },
     "execution_count": 114,
     "metadata": {},
     "output_type": "execute_result"
    }
   ],
   "source": [
    "ploy = PolynomialFeatures(interaction_only=False)\n",
    "X_poly = ploy.fit_transform(X) # degree 2 :0次幂、1幂次、2次幂\n",
    "X_poly"
   ]
  },
  {
   "cell_type": "code",
   "execution_count": 115,
   "id": "c09ae621",
   "metadata": {
    "ExecuteTime": {
     "end_time": "2023-04-14T08:53:35.276297Z",
     "start_time": "2023-04-14T08:53:35.266301Z"
    }
   },
   "outputs": [],
   "source": [
    "from sklearn.preprocessing import StandardScaler"
   ]
  },
  {
   "cell_type": "code",
   "execution_count": 121,
   "id": "4387dcdc",
   "metadata": {
    "ExecuteTime": {
     "end_time": "2023-04-14T08:55:44.701547Z",
     "start_time": "2023-04-14T08:55:44.639094Z"
    }
   },
   "outputs": [
    {
     "name": "stdout",
     "output_type": "stream",
     "text": [
      "[  0.         -24.37014729  36.17833614] [15.29923409]\n"
     ]
    },
    {
     "data": {
      "image/png": "[encoded data removed]",
      "text/plain": [
       "<Figure size 432x288 with 1 Axes>"
      ]
     },
     "metadata": {
      "needs_background": "light"
     },
     "output_type": "display_data"
    }
   ],
   "source": [
    "sgd  = SGDRegressor(eta0=0.1,fit_intercept=True)\n",
    "scaler = StandardScaler()\n",
    "X_poly_scale = scaler.fit_transform(X_poly)\n",
    "sgd.fit(X_poly_scale,y)\n",
    "\n",
    "X_test_poly = ploy.transform(X_test)\n",
    "X_test_poly_scale = scaler.transform(X_test_poly)\n",
    "\n",
    "y_pred = sgd.predict(X_test_poly_scale)\n",
    "plt.scatter(X,y,color = 'red')\n",
    "plt.plot(X_test,y_pred,color = 'g')\n",
    "print(sgd.coef_,sgd.intercept_)"
   ]
  },
  {
   "cell_type": "code",
   "execution_count": null,
   "id": "ccf3bc8a",
   "metadata": {
    "ExecuteTime": {
     "end_time": "2023-04-13T03:48:58.082827Z",
     "start_time": "2023-04-13T03:48:58.075759Z"
    }
   },
   "outputs": [],
   "source": [
    "np.set_printoptions(suppress = True)"
   ]
  },
  {
   "cell_type": "code",
   "execution_count": null,
   "id": "f3e3534b",
   "metadata": {
    "ExecuteTime": {
     "end_time": "2023-04-13T03:48:58.548531Z",
     "start_time": "2023-04-13T03:48:58.530175Z"
    }
   },
   "outputs": [],
   "source": [
    "X_poly"
   ]
  },
  {
   "cell_type": "code",
   "execution_count": null,
   "id": "a5229b08",
   "metadata": {
    "ExecuteTime": {
     "end_time": "2023-04-13T03:58:26.469722Z",
     "start_time": "2023-04-13T03:58:26.450851Z"
    }
   },
   "outputs": [],
   "source": [
    "X_train = np.random.randint(0,10,size = (10,2))\n",
    "X_train"
   ]
  },
  {
   "cell_type": "code",
   "execution_count": null,
   "id": "fb5a5c26",
   "metadata": {
    "ExecuteTime": {
     "end_time": "2023-04-13T03:58:52.947783Z",
     "start_time": "2023-04-13T03:58:52.940730Z"
    }
   },
   "outputs": [],
   "source": [
    "poly = PolynomialFeatures(degree=2,interaction_only=True)\n",
    "poly.fit_transform(X_train)"
   ]
  },
  {
   "cell_type": "code",
   "execution_count": null,
   "id": "6e2310f4",
   "metadata": {
    "ExecuteTime": {
     "end_time": "2023-04-13T03:59:41.963182Z",
     "start_time": "2023-04-13T03:59:41.953164Z"
    }
   },
   "outputs": [],
   "source": [
    "poly = PolynomialFeatures(degree=2,interaction_only=False)\n",
    "poly.fit_transform(X_train)"
   ]
  },
  {
   "cell_type": "markdown",
   "id": "df0920e9",
   "metadata": {},
   "source": [
    "### 天猫双十一销量预测"
   ]
  },
  {
   "cell_type": "code",
   "execution_count": 7,
   "id": "bcd419d9",
   "metadata": {
    "ExecuteTime": {
     "end_time": "2023-04-13T06:32:41.011821Z",
     "start_time": "2023-04-13T06:32:40.916145Z"
    }
   },
   "outputs": [
    {
     "data": {
      "image/png": "[encoded data removed]",
      "text/plain": [
       "<Figure size 648x432 with 1 Axes>"
      ]
     },
     "metadata": {
      "needs_background": "light"
     },
     "output_type": "display_data"
    }
   ],
   "source": [
    "import numpy as np\n",
    "from sklearn.linear_model import SGDRegressor\n",
    "from sklearn.preprocessing import PolynomialFeatures,StandardScaler\n",
    "import matplotlib.pyplot as plt\n",
    "plt.rcParams['font.size'] = 18\n",
    "plt.figure(figsize=(9,6))\n",
    "\n",
    "# 创建数据，年份数据2009 ~ 2019\n",
    "X = np.arange(2009,2020)\n",
    "y = np.array([0.5,9.36,52,191,350,571,912,1207,1682,2135,2684])\n",
    "plt.bar(X,y,width = 0.5,color = 'green')\n",
    "plt.plot(X,y,color = 'red')\n",
    "_ = plt.xticks(ticks = X,rotation = 60)"
   ]
  },
  {
   "cell_type": "code",
   "execution_count": 18,
   "id": "74d02f9b",
   "metadata": {
    "ExecuteTime": {
     "end_time": "2023-04-13T06:44:13.497977Z",
     "start_time": "2023-04-13T06:44:13.395796Z"
    },
    "collapsed": true
   },
   "outputs": [
    {
     "data": {
      "image/png": "[encoded data removed]",
      "text/plain": [
       "<Figure size 864x648 with 1 Axes>"
      ]
     },
     "metadata": {
      "needs_background": "light"
     },
     "output_type": "display_data"
    }
   ],
   "source": [
    "# 均值移除\n",
    "X_ = X - X.mean() # -5,-4,…… 3,4,5\n",
    "X_ = X_.reshape(-1,1)\n",
    "# 特征升维\n",
    "poly = PolynomialFeatures(degree=3,interaction_only=False)\n",
    "X_poly = poly.fit_transform(X_)\n",
    "# 归一化\n",
    "scaler = StandardScaler()\n",
    "X_norm = scaler.fit_transform(X_poly)\n",
    "\n",
    "# 建模\n",
    "model = SGDRegressor(penalty='l2',eta0=0.5,max_iter=5000)\n",
    "model.fit(X_norm,y)\n",
    "\n",
    "# 数据预测\n",
    "# 6 代表2020年\n",
    "X_test = np.linspace(-5,6,100).reshape(-1,1)\n",
    "X_test_poly = poly.transform(X_test)\n",
    "X_test_norm = scaler.transform(X_test_poly)\n",
    "y_pred = model.predict(X_test_norm)\n",
    "\n",
    "# 可视化\n",
    "plt.figure(figsize=(12,9))\n",
    "plt.plot(X_test_poly[:,1],y_pred,color = 'green')\n",
    "plt.bar(X_poly[:,1],y) # 2009-2019历史数据\n",
    "# 算法预测 2020年销量\n",
    "plt.bar(6,y_pred[-1],color = 'red') # 5表示2019年，6表示2020年\n",
    "plt.text(6,y_pred[-1] + 100,round(y_pred[-1],1),ha = 'center')\n",
    "plt.ylim(0,4096)\n",
    "_ = plt.xticks(np.arange(-5,7),np.arange(2009,2021))"
   ]
  },
  {
   "cell_type": "code",
   "execution_count": 19,
   "id": "55d7002b",
   "metadata": {
    "ExecuteTime": {
     "end_time": "2023-04-13T06:47:04.510765Z",
     "start_time": "2023-04-13T06:47:04.497226Z"
    }
   },
   "outputs": [
    {
     "data": {
      "text/plain": [
       "array([  0.        , 838.52548798, 266.29421719,   8.39223811])"
      ]
     },
     "execution_count": 19,
     "metadata": {},
     "output_type": "execute_result"
    }
   ],
   "source": [
    "model.coef_"
   ]
  },
  {
   "cell_type": "code",
   "execution_count": 20,
   "id": "00fc4f86",
   "metadata": {
    "ExecuteTime": {
     "end_time": "2023-04-13T06:47:09.717953Z",
     "start_time": "2023-04-13T06:47:09.708802Z"
    }
   },
   "outputs": [
    {
     "data": {
      "text/plain": [
       "array([890.11486705])"
      ]
     },
     "execution_count": 20,
     "metadata": {},
     "output_type": "execute_result"
    }
   ],
   "source": [
    "model.intercept_"
   ]
  },
  {
   "cell_type": "markdown",
   "id": "d395b63f",
   "metadata": {},
   "source": [
    "### 中国人寿保费预测【实战】"
   ]
  },
  {
   "cell_type": "markdown",
   "id": "ee748c85",
   "metadata": {},
   "source": [
    "#### 数据加载介绍"
   ]
  },
  {
   "cell_type": "code",
   "execution_count": 45,
   "id": "cb8f90a4",
   "metadata": {
    "ExecuteTime": {
     "end_time": "2023-04-13T08:57:07.852258Z",
     "start_time": "2023-04-13T08:57:07.768160Z"
    },
    "collapsed": true
   },
   "outputs": [
    {
     "name": "stdout",
     "output_type": "stream",
     "text": [
      "(1338, 7)\n"
     ]
    },
    {
     "data": {
      "text/html": [
       "<div>\n",
       "<style scoped>\n",
       "    .dataframe tbody tr th:only-of-type {\n",
       "        vertical-align: middle;\n",
       "    }\n",
       "\n",
       "    .dataframe tbody tr th {\n",
       "        vertical-align: top;\n",
       "    }\n",
       "\n",
       "    .dataframe thead th {\n",
       "        text-align: right;\n",
       "    }\n",
       "</style>\n",
       "<table border=\"1\" class=\"dataframe\">\n",
       "  <thead>\n",
       "    <tr style=\"text-align: right;\">\n",
       "      <th></th>\n",
       "      <th>age</th>\n",
       "      <th>sex</th>\n",
       "      <th>bmi</th>\n",
       "      <th>children</th>\n",
       "      <th>smoker</th>\n",
       "      <th>region</th>\n",
       "      <th>charges</th>\n",
       "    </tr>\n",
       "  </thead>\n",
       "  <tbody>\n",
       "    <tr>\n",
       "      <th>0</th>\n",
       "      <td>19</td>\n",
       "      <td>female</td>\n",
       "      <td>27.900</td>\n",
       "      <td>0</td>\n",
       "      <td>yes</td>\n",
       "      <td>southwest</td>\n",
       "      <td>16884.92400</td>\n",
       "    </tr>\n",
       "    <tr>\n",
       "      <th>1</th>\n",
       "      <td>18</td>\n",
       "      <td>male</td>\n",
       "      <td>33.770</td>\n",
       "      <td>1</td>\n",
       "      <td>no</td>\n",
       "      <td>southeast</td>\n",
       "      <td>1725.55230</td>\n",
       "    </tr>\n",
       "    <tr>\n",
       "      <th>2</th>\n",
       "      <td>28</td>\n",
       "      <td>male</td>\n",
       "      <td>33.000</td>\n",
       "      <td>3</td>\n",
       "      <td>no</td>\n",
       "      <td>southeast</td>\n",
       "      <td>4449.46200</td>\n",
       "    </tr>\n",
       "    <tr>\n",
       "      <th>3</th>\n",
       "      <td>33</td>\n",
       "      <td>male</td>\n",
       "      <td>22.705</td>\n",
       "      <td>0</td>\n",
       "      <td>no</td>\n",
       "      <td>northwest</td>\n",
       "      <td>21984.47061</td>\n",
       "    </tr>\n",
       "    <tr>\n",
       "      <th>4</th>\n",
       "      <td>32</td>\n",
       "      <td>male</td>\n",
       "      <td>28.880</td>\n",
       "      <td>0</td>\n",
       "      <td>no</td>\n",
       "      <td>northwest</td>\n",
       "      <td>3866.85520</td>\n",
       "    </tr>\n",
       "  </tbody>\n",
       "</table>\n",
       "</div>"
      ],
      "text/plain": [
       "   age     sex     bmi  children smoker     region      charges\n",
       "0   19  female  27.900         0    yes  southwest  16884.92400\n",
       "1   18    male  33.770         1     no  southeast   1725.55230\n",
       "2   28    male  33.000         3     no  southeast   4449.46200\n",
       "3   33    male  22.705         0     no  northwest  21984.47061\n",
       "4   32    male  28.880         0     no  northwest   3866.85520"
      ]
     },
     "execution_count": 45,
     "metadata": {},
     "output_type": "execute_result"
    }
   ],
   "source": [
    "import numpy as np\n",
    "import pandas as pd\n",
    "data = pd.read_excel('./中国人寿.xlsx')\n",
    "print(data.shape)\n",
    "data.head()"
   ]
  },
  {
   "cell_type": "markdown",
   "id": "3309c644",
   "metadata": {},
   "source": [
    "#### EDA数据探索"
   ]
  },
  {
   "cell_type": "code",
   "execution_count": 46,
   "id": "c32ddbe4",
   "metadata": {
    "ExecuteTime": {
     "end_time": "2023-04-13T08:57:07.867276Z",
     "start_time": "2023-04-13T08:57:07.853272Z"
    },
    "collapsed": true
   },
   "outputs": [
    {
     "data": {
      "text/html": [
       "<div>\n",
       "<style scoped>\n",
       "    .dataframe tbody tr th:only-of-type {\n",
       "        vertical-align: middle;\n",
       "    }\n",
       "\n",
       "    .dataframe tbody tr th {\n",
       "        vertical-align: top;\n",
       "    }\n",
       "\n",
       "    .dataframe thead th {\n",
       "        text-align: right;\n",
       "    }\n",
       "</style>\n",
       "<table border=\"1\" class=\"dataframe\">\n",
       "  <thead>\n",
       "    <tr style=\"text-align: right;\">\n",
       "      <th></th>\n",
       "      <th>age</th>\n",
       "      <th>bmi</th>\n",
       "      <th>children</th>\n",
       "      <th>charges</th>\n",
       "    </tr>\n",
       "  </thead>\n",
       "  <tbody>\n",
       "    <tr>\n",
       "      <th>count</th>\n",
       "      <td>1338.000000</td>\n",
       "      <td>1338.000000</td>\n",
       "      <td>1338.000000</td>\n",
       "      <td>1338.000000</td>\n",
       "    </tr>\n",
       "    <tr>\n",
       "      <th>mean</th>\n",
       "      <td>39.207025</td>\n",
       "      <td>30.663397</td>\n",
       "      <td>1.094918</td>\n",
       "      <td>13270.422265</td>\n",
       "    </tr>\n",
       "    <tr>\n",
       "      <th>std</th>\n",
       "      <td>14.049960</td>\n",
       "      <td>6.098187</td>\n",
       "      <td>1.205493</td>\n",
       "      <td>12110.011237</td>\n",
       "    </tr>\n",
       "    <tr>\n",
       "      <th>min</th>\n",
       "      <td>18.000000</td>\n",
       "      <td>15.960000</td>\n",
       "      <td>0.000000</td>\n",
       "      <td>1121.873900</td>\n",
       "    </tr>\n",
       "    <tr>\n",
       "      <th>25%</th>\n",
       "      <td>27.000000</td>\n",
       "      <td>26.296250</td>\n",
       "      <td>0.000000</td>\n",
       "      <td>4740.287150</td>\n",
       "    </tr>\n",
       "    <tr>\n",
       "      <th>50%</th>\n",
       "      <td>39.000000</td>\n",
       "      <td>30.400000</td>\n",
       "      <td>1.000000</td>\n",
       "      <td>9382.033000</td>\n",
       "    </tr>\n",
       "    <tr>\n",
       "      <th>75%</th>\n",
       "      <td>51.000000</td>\n",
       "      <td>34.693750</td>\n",
       "      <td>2.000000</td>\n",
       "      <td>16639.912515</td>\n",
       "    </tr>\n",
       "    <tr>\n",
       "      <th>max</th>\n",
       "      <td>64.000000</td>\n",
       "      <td>53.130000</td>\n",
       "      <td>5.000000</td>\n",
       "      <td>63770.428010</td>\n",
       "    </tr>\n",
       "  </tbody>\n",
       "</table>\n",
       "</div>"
      ],
      "text/plain": [
       "               age          bmi     children       charges\n",
       "count  1338.000000  1338.000000  1338.000000   1338.000000\n",
       "mean     39.207025    30.663397     1.094918  13270.422265\n",
       "std      14.049960     6.098187     1.205493  12110.011237\n",
       "min      18.000000    15.960000     0.000000   1121.873900\n",
       "25%      27.000000    26.296250     0.000000   4740.287150\n",
       "50%      39.000000    30.400000     1.000000   9382.033000\n",
       "75%      51.000000    34.693750     2.000000  16639.912515\n",
       "max      64.000000    53.130000     5.000000  63770.428010"
      ]
     },
     "execution_count": 46,
     "metadata": {},
     "output_type": "execute_result"
    }
   ],
   "source": [
    "data.describe()"
   ]
  },
  {
   "cell_type": "code",
   "execution_count": 47,
   "id": "2097a82b",
   "metadata": {
    "ExecuteTime": {
     "end_time": "2023-04-13T08:57:07.883331Z",
     "start_time": "2023-04-13T08:57:07.868272Z"
    },
    "collapsed": true
   },
   "outputs": [
    {
     "name": "stdout",
     "output_type": "stream",
     "text": [
      "<class 'pandas.core.frame.DataFrame'>\n",
      "RangeIndex: 1338 entries, 0 to 1337\n",
      "Data columns (total 7 columns):\n",
      " #   Column    Non-Null Count  Dtype  \n",
      "---  ------    --------------  -----  \n",
      " 0   age       1338 non-null   int64  \n",
      " 1   sex       1338 non-null   object \n",
      " 2   bmi       1338 non-null   float64\n",
      " 3   children  1338 non-null   int64  \n",
      " 4   smoker    1338 non-null   object \n",
      " 5   region    1338 non-null   object \n",
      " 6   charges   1338 non-null   float64\n",
      "dtypes: float64(2), int64(2), object(3)\n",
      "memory usage: 73.3+ KB\n"
     ]
    }
   ],
   "source": [
    "data.info()"
   ]
  },
  {
   "cell_type": "code",
   "execution_count": 48,
   "id": "884acb82",
   "metadata": {
    "ExecuteTime": {
     "end_time": "2023-04-13T08:57:07.976440Z",
     "start_time": "2023-04-13T08:57:07.884357Z"
    }
   },
   "outputs": [
    {
     "data": {
      "text/plain": [
       "<AxesSubplot:xlabel='charges', ylabel='Density'>"
      ]
     },
     "execution_count": 48,
     "metadata": {},
     "output_type": "execute_result"
    },
    {
     "data": {
      "image/png": "[encoded data removed]",
      "text/plain": [
       "<Figure size 432x288 with 1 Axes>"
      ]
     },
     "metadata": {
      "needs_background": "light"
     },
     "output_type": "display_data"
    }
   ],
   "source": [
    "# 数据分布概率密度可视化\n",
    "import seaborn as sns\n",
    "# 性别对保费影响\n",
    "sns.kdeplot(data['charges'],shade = True,hue = data['sex'])\n"
   ]
  },
  {
   "cell_type": "code",
   "execution_count": 49,
   "id": "36fc83f9",
   "metadata": {
    "ExecuteTime": {
     "end_time": "2023-04-13T08:57:08.084778Z",
     "start_time": "2023-04-13T08:57:07.977436Z"
    }
   },
   "outputs": [
    {
     "data": {
      "text/plain": [
       "<AxesSubplot:xlabel='charges', ylabel='Density'>"
      ]
     },
     "execution_count": 49,
     "metadata": {},
     "output_type": "execute_result"
    },
    {
     "data": {
      "image/png": "[encoded data removed]",
      "text/plain": [
       "<Figure size 432x288 with 1 Axes>"
      ]
     },
     "metadata": {
      "needs_background": "light"
     },
     "output_type": "display_data"
    }
   ],
   "source": [
    "# 地区对保费影响\n",
    "sns.kdeplot(data['charges'],shade = True,hue = data['region'])"
   ]
  },
  {
   "cell_type": "code",
   "execution_count": 50,
   "id": "91e410cb",
   "metadata": {
    "ExecuteTime": {
     "end_time": "2023-04-13T08:57:08.163227Z",
     "start_time": "2023-04-13T08:57:08.085836Z"
    },
    "scrolled": true
   },
   "outputs": [
    {
     "data": {
      "text/plain": [
       "<AxesSubplot:xlabel='charges', ylabel='Density'>"
      ]
     },
     "execution_count": 50,
     "metadata": {},
     "output_type": "execute_result"
    },
    {
     "data": {
      "image/png": "[encoded data removed]",
      "text/plain": [
       "<Figure size 432x288 with 1 Axes>"
      ]
     },
     "metadata": {
      "needs_background": "light"
     },
     "output_type": "display_data"
    }
   ],
   "source": [
    "# 吸烟对保费影响\n",
    "sns.kdeplot(data['charges'],shade = True,hue = data['smoker'])"
   ]
  },
  {
   "cell_type": "code",
   "execution_count": 51,
   "id": "0559624b",
   "metadata": {
    "ExecuteTime": {
     "end_time": "2023-04-13T08:57:08.272180Z",
     "start_time": "2023-04-13T08:57:08.164282Z"
    }
   },
   "outputs": [
    {
     "data": {
      "text/plain": [
       "<AxesSubplot:xlabel='charges', ylabel='Density'>"
      ]
     },
     "execution_count": 51,
     "metadata": {},
     "output_type": "execute_result"
    },
    {
     "data": {
      "image/png": "[encoded data removed]",
      "text/plain": [
       "<Figure size 432x288 with 1 Axes>"
      ]
     },
     "metadata": {
      "needs_background": "light"
     },
     "output_type": "display_data"
    }
   ],
   "source": [
    "# 孩子数量对保费影响\n",
    "sns.kdeplot(data['charges'],shade = True,hue = data['children'],palette='Set1')"
   ]
  },
  {
   "cell_type": "markdown",
   "id": "002e2c4d",
   "metadata": {},
   "source": [
    "#### 特征工程"
   ]
  },
  {
   "cell_type": "code",
   "execution_count": 52,
   "id": "d0264f77",
   "metadata": {
    "ExecuteTime": {
     "end_time": "2023-04-13T08:57:08.287228Z",
     "start_time": "2023-04-13T08:57:08.274177Z"
    }
   },
   "outputs": [
    {
     "data": {
      "text/html": [
       "<div>\n",
       "<style scoped>\n",
       "    .dataframe tbody tr th:only-of-type {\n",
       "        vertical-align: middle;\n",
       "    }\n",
       "\n",
       "    .dataframe tbody tr th {\n",
       "        vertical-align: top;\n",
       "    }\n",
       "\n",
       "    .dataframe thead th {\n",
       "        text-align: right;\n",
       "    }\n",
       "</style>\n",
       "<table border=\"1\" class=\"dataframe\">\n",
       "  <thead>\n",
       "    <tr style=\"text-align: right;\">\n",
       "      <th></th>\n",
       "      <th>age</th>\n",
       "      <th>sex</th>\n",
       "      <th>bmi</th>\n",
       "      <th>children</th>\n",
       "      <th>smoker</th>\n",
       "      <th>region</th>\n",
       "      <th>charges</th>\n",
       "    </tr>\n",
       "  </thead>\n",
       "  <tbody>\n",
       "    <tr>\n",
       "      <th>0</th>\n",
       "      <td>19</td>\n",
       "      <td>female</td>\n",
       "      <td>27.900</td>\n",
       "      <td>0</td>\n",
       "      <td>yes</td>\n",
       "      <td>southwest</td>\n",
       "      <td>16884.92400</td>\n",
       "    </tr>\n",
       "    <tr>\n",
       "      <th>1</th>\n",
       "      <td>18</td>\n",
       "      <td>male</td>\n",
       "      <td>33.770</td>\n",
       "      <td>1</td>\n",
       "      <td>no</td>\n",
       "      <td>southeast</td>\n",
       "      <td>1725.55230</td>\n",
       "    </tr>\n",
       "    <tr>\n",
       "      <th>2</th>\n",
       "      <td>28</td>\n",
       "      <td>male</td>\n",
       "      <td>33.000</td>\n",
       "      <td>3</td>\n",
       "      <td>no</td>\n",
       "      <td>southeast</td>\n",
       "      <td>4449.46200</td>\n",
       "    </tr>\n",
       "    <tr>\n",
       "      <th>3</th>\n",
       "      <td>33</td>\n",
       "      <td>male</td>\n",
       "      <td>22.705</td>\n",
       "      <td>0</td>\n",
       "      <td>no</td>\n",
       "      <td>northwest</td>\n",
       "      <td>21984.47061</td>\n",
       "    </tr>\n",
       "    <tr>\n",
       "      <th>4</th>\n",
       "      <td>32</td>\n",
       "      <td>male</td>\n",
       "      <td>28.880</td>\n",
       "      <td>0</td>\n",
       "      <td>no</td>\n",
       "      <td>northwest</td>\n",
       "      <td>3866.85520</td>\n",
       "    </tr>\n",
       "  </tbody>\n",
       "</table>\n",
       "</div>"
      ],
      "text/plain": [
       "   age     sex     bmi  children smoker     region      charges\n",
       "0   19  female  27.900         0    yes  southwest  16884.92400\n",
       "1   18    male  33.770         1     no  southeast   1725.55230\n",
       "2   28    male  33.000         3     no  southeast   4449.46200\n",
       "3   33    male  22.705         0     no  northwest  21984.47061\n",
       "4   32    male  28.880         0     no  northwest   3866.85520"
      ]
     },
     "execution_count": 52,
     "metadata": {},
     "output_type": "execute_result"
    }
   ],
   "source": [
    "data.head()"
   ]
  },
  {
   "cell_type": "code",
   "execution_count": 53,
   "id": "fdf9a011",
   "metadata": {
    "ExecuteTime": {
     "end_time": "2023-04-13T08:57:08.365800Z",
     "start_time": "2023-04-13T08:57:08.288722Z"
    }
   },
   "outputs": [
    {
     "data": {
      "text/html": [
       "<div>\n",
       "<style scoped>\n",
       "    .dataframe tbody tr th:only-of-type {\n",
       "        vertical-align: middle;\n",
       "    }\n",
       "\n",
       "    .dataframe tbody tr th {\n",
       "        vertical-align: top;\n",
       "    }\n",
       "\n",
       "    .dataframe thead th {\n",
       "        text-align: right;\n",
       "    }\n",
       "</style>\n",
       "<table border=\"1\" class=\"dataframe\">\n",
       "  <thead>\n",
       "    <tr style=\"text-align: right;\">\n",
       "      <th></th>\n",
       "      <th>age</th>\n",
       "      <th>bmi</th>\n",
       "      <th>children</th>\n",
       "      <th>smoker</th>\n",
       "      <th>charges</th>\n",
       "    </tr>\n",
       "  </thead>\n",
       "  <tbody>\n",
       "    <tr>\n",
       "      <th>0</th>\n",
       "      <td>19</td>\n",
       "      <td>standard</td>\n",
       "      <td>0</td>\n",
       "      <td>yes</td>\n",
       "      <td>16884.92400</td>\n",
       "    </tr>\n",
       "    <tr>\n",
       "      <th>1</th>\n",
       "      <td>18</td>\n",
       "      <td>fat</td>\n",
       "      <td>1</td>\n",
       "      <td>no</td>\n",
       "      <td>1725.55230</td>\n",
       "    </tr>\n",
       "    <tr>\n",
       "      <th>2</th>\n",
       "      <td>28</td>\n",
       "      <td>fat</td>\n",
       "      <td>3</td>\n",
       "      <td>no</td>\n",
       "      <td>4449.46200</td>\n",
       "    </tr>\n",
       "    <tr>\n",
       "      <th>3</th>\n",
       "      <td>33</td>\n",
       "      <td>standard</td>\n",
       "      <td>0</td>\n",
       "      <td>no</td>\n",
       "      <td>21984.47061</td>\n",
       "    </tr>\n",
       "    <tr>\n",
       "      <th>4</th>\n",
       "      <td>32</td>\n",
       "      <td>standard</td>\n",
       "      <td>0</td>\n",
       "      <td>no</td>\n",
       "      <td>3866.85520</td>\n",
       "    </tr>\n",
       "  </tbody>\n",
       "</table>\n",
       "</div>"
      ],
      "text/plain": [
       "   age       bmi  children smoker      charges\n",
       "0   19  standard         0    yes  16884.92400\n",
       "1   18       fat         1     no   1725.55230\n",
       "2   28       fat         3     no   4449.46200\n",
       "3   33  standard         0     no  21984.47061\n",
       "4   32  standard         0     no   3866.85520"
      ]
     },
     "metadata": {},
     "output_type": "display_data"
    },
    {
     "data": {
      "text/html": [
       "<div>\n",
       "<style scoped>\n",
       "    .dataframe tbody tr th:only-of-type {\n",
       "        vertical-align: middle;\n",
       "    }\n",
       "\n",
       "    .dataframe tbody tr th {\n",
       "        vertical-align: top;\n",
       "    }\n",
       "\n",
       "    .dataframe thead th {\n",
       "        text-align: right;\n",
       "    }\n",
       "</style>\n",
       "<table border=\"1\" class=\"dataframe\">\n",
       "  <thead>\n",
       "    <tr style=\"text-align: right;\">\n",
       "      <th></th>\n",
       "      <th>age</th>\n",
       "      <th>children</th>\n",
       "      <th>charges</th>\n",
       "      <th>bmi_fat</th>\n",
       "      <th>bmi_standard</th>\n",
       "      <th>smoker_no</th>\n",
       "      <th>smoker_yes</th>\n",
       "    </tr>\n",
       "  </thead>\n",
       "  <tbody>\n",
       "    <tr>\n",
       "      <th>0</th>\n",
       "      <td>19</td>\n",
       "      <td>0</td>\n",
       "      <td>16884.92400</td>\n",
       "      <td>0</td>\n",
       "      <td>1</td>\n",
       "      <td>0</td>\n",
       "      <td>1</td>\n",
       "    </tr>\n",
       "    <tr>\n",
       "      <th>1</th>\n",
       "      <td>18</td>\n",
       "      <td>1</td>\n",
       "      <td>1725.55230</td>\n",
       "      <td>1</td>\n",
       "      <td>0</td>\n",
       "      <td>1</td>\n",
       "      <td>0</td>\n",
       "    </tr>\n",
       "    <tr>\n",
       "      <th>2</th>\n",
       "      <td>28</td>\n",
       "      <td>3</td>\n",
       "      <td>4449.46200</td>\n",
       "      <td>1</td>\n",
       "      <td>0</td>\n",
       "      <td>1</td>\n",
       "      <td>0</td>\n",
       "    </tr>\n",
       "    <tr>\n",
       "      <th>3</th>\n",
       "      <td>33</td>\n",
       "      <td>0</td>\n",
       "      <td>21984.47061</td>\n",
       "      <td>0</td>\n",
       "      <td>1</td>\n",
       "      <td>1</td>\n",
       "      <td>0</td>\n",
       "    </tr>\n",
       "    <tr>\n",
       "      <th>4</th>\n",
       "      <td>32</td>\n",
       "      <td>0</td>\n",
       "      <td>3866.85520</td>\n",
       "      <td>0</td>\n",
       "      <td>1</td>\n",
       "      <td>1</td>\n",
       "      <td>0</td>\n",
       "    </tr>\n",
       "  </tbody>\n",
       "</table>\n",
       "</div>"
      ],
      "text/plain": [
       "   age  children      charges  bmi_fat  bmi_standard  smoker_no  smoker_yes\n",
       "0   19         0  16884.92400        0             1          0           1\n",
       "1   18         1   1725.55230        1             0          1           0\n",
       "2   28         3   4449.46200        1             0          1           0\n",
       "3   33         0  21984.47061        0             1          1           0\n",
       "4   32         0   3866.85520        0             1          1           0"
      ]
     },
     "metadata": {},
     "output_type": "display_data"
    },
    {
     "data": {
      "text/html": [
       "<div>\n",
       "<style scoped>\n",
       "    .dataframe tbody tr th:only-of-type {\n",
       "        vertical-align: middle;\n",
       "    }\n",
       "\n",
       "    .dataframe tbody tr th {\n",
       "        vertical-align: top;\n",
       "    }\n",
       "\n",
       "    .dataframe thead th {\n",
       "        text-align: right;\n",
       "    }\n",
       "</style>\n",
       "<table border=\"1\" class=\"dataframe\">\n",
       "  <thead>\n",
       "    <tr style=\"text-align: right;\">\n",
       "      <th></th>\n",
       "      <th>age</th>\n",
       "      <th>children</th>\n",
       "      <th>bmi_fat</th>\n",
       "      <th>bmi_standard</th>\n",
       "      <th>smoker_no</th>\n",
       "      <th>smoker_yes</th>\n",
       "    </tr>\n",
       "  </thead>\n",
       "  <tbody>\n",
       "    <tr>\n",
       "      <th>0</th>\n",
       "      <td>19</td>\n",
       "      <td>0</td>\n",
       "      <td>0</td>\n",
       "      <td>1</td>\n",
       "      <td>0</td>\n",
       "      <td>1</td>\n",
       "    </tr>\n",
       "    <tr>\n",
       "      <th>1</th>\n",
       "      <td>18</td>\n",
       "      <td>1</td>\n",
       "      <td>1</td>\n",
       "      <td>0</td>\n",
       "      <td>1</td>\n",
       "      <td>0</td>\n",
       "    </tr>\n",
       "    <tr>\n",
       "      <th>2</th>\n",
       "      <td>28</td>\n",
       "      <td>3</td>\n",
       "      <td>1</td>\n",
       "      <td>0</td>\n",
       "      <td>1</td>\n",
       "      <td>0</td>\n",
       "    </tr>\n",
       "    <tr>\n",
       "      <th>3</th>\n",
       "      <td>33</td>\n",
       "      <td>0</td>\n",
       "      <td>0</td>\n",
       "      <td>1</td>\n",
       "      <td>1</td>\n",
       "      <td>0</td>\n",
       "    </tr>\n",
       "    <tr>\n",
       "      <th>4</th>\n",
       "      <td>32</td>\n",
       "      <td>0</td>\n",
       "      <td>0</td>\n",
       "      <td>1</td>\n",
       "      <td>1</td>\n",
       "      <td>0</td>\n",
       "    </tr>\n",
       "  </tbody>\n",
       "</table>\n",
       "</div>"
      ],
      "text/plain": [
       "   age  children  bmi_fat  bmi_standard  smoker_no  smoker_yes\n",
       "0   19         0        0             1          0           1\n",
       "1   18         1        1             0          1           0\n",
       "2   28         3        1             0          1           0\n",
       "3   33         0        0             1          1           0\n",
       "4   32         0        0             1          1           0"
      ]
     },
     "execution_count": 53,
     "metadata": {},
     "output_type": "execute_result"
    }
   ],
   "source": [
    "data = data.drop(['region', 'sex'], axis=1)\n",
    "data.head() # 删除不重要特征,目标值，区分度，不大！！！\n",
    "\n",
    "# 延伸，二值化\n",
    "# 不同level A、B、C、D、E、F（精细）\n",
    "# 体重指数，离散化转换，体重两种情况：标准、肥胖\n",
    "def convert(df,bmi):\n",
    "    df['bmi'] = 'fat' if df['bmi'] >= bmi else 'standard'\n",
    "    return df\n",
    "data = data.apply(convert, axis = 1, args=(30,))\n",
    "display(data.head())\n",
    "\n",
    "# 特征提取，离散型数据转换为数值型数据\n",
    "data = pd.get_dummies(data)\n",
    "display(data.head())\n",
    "\n",
    "# 特征和目标值抽取\n",
    "X = data.drop('charges', axis=1) # 训练数据\n",
    "y = data['charges'] # 目标值\n",
    "X.head()"
   ]
  },
  {
   "cell_type": "markdown",
   "id": "ef47d493",
   "metadata": {},
   "source": [
    "#### 特征升维"
   ]
  },
  {
   "cell_type": "code",
   "execution_count": 68,
   "id": "35d97c23",
   "metadata": {
    "ExecuteTime": {
     "end_time": "2023-04-14T07:46:45.025303Z",
     "start_time": "2023-04-14T07:46:45.002146Z"
    },
    "collapsed": true
   },
   "outputs": [
    {
     "data": {
      "text/plain": [
       "array([[6.000e+01, 0.000e+00, 0.000e+00, 1.000e+00, 1.000e+00, 0.000e+00,\n",
       "        3.600e+03, 0.000e+00, 0.000e+00, 6.000e+01, 6.000e+01, 0.000e+00,\n",
       "        0.000e+00, 0.000e+00, 0.000e+00, 0.000e+00, 0.000e+00, 0.000e+00,\n",
       "        0.000e+00, 0.000e+00, 0.000e+00, 1.000e+00, 1.000e+00, 0.000e+00,\n",
       "        1.000e+00, 0.000e+00, 0.000e+00],\n",
       "       [2.800e+01, 1.000e+00, 1.000e+00, 0.000e+00, 0.000e+00, 1.000e+00,\n",
       "        7.840e+02, 2.800e+01, 2.800e+01, 0.000e+00, 0.000e+00, 2.800e+01,\n",
       "        1.000e+00, 1.000e+00, 0.000e+00, 0.000e+00, 1.000e+00, 1.000e+00,\n",
       "        0.000e+00, 0.000e+00, 1.000e+00, 0.000e+00, 0.000e+00, 0.000e+00,\n",
       "        0.000e+00, 0.000e+00, 1.000e+00],\n",
       "       [5.700e+01, 0.000e+00, 0.000e+00, 1.000e+00, 1.000e+00, 0.000e+00,\n",
       "        3.249e+03, 0.000e+00, 0.000e+00, 5.700e+01, 5.700e+01, 0.000e+00,\n",
       "        0.000e+00, 0.000e+00, 0.000e+00, 0.000e+00, 0.000e+00, 0.000e+00,\n",
       "        0.000e+00, 0.000e+00, 0.000e+00, 1.000e+00, 1.000e+00, 0.000e+00,\n",
       "        1.000e+00, 0.000e+00, 0.000e+00],\n",
       "       [2.500e+01, 1.000e+00, 0.000e+00, 1.000e+00, 1.000e+00, 0.000e+00,\n",
       "        6.250e+02, 2.500e+01, 0.000e+00, 2.500e+01, 2.500e+01, 0.000e+00,\n",
       "        1.000e+00, 0.000e+00, 1.000e+00, 1.000e+00, 0.000e+00, 0.000e+00,\n",
       "        0.000e+00, 0.000e+00, 0.000e+00, 1.000e+00, 1.000e+00, 0.000e+00,\n",
       "        1.000e+00, 0.000e+00, 0.000e+00],\n",
       "       [1.900e+01, 0.000e+00, 0.000e+00, 1.000e+00, 1.000e+00, 0.000e+00,\n",
       "        3.610e+02, 0.000e+00, 0.000e+00, 1.900e+01, 1.900e+01, 0.000e+00,\n",
       "        0.000e+00, 0.000e+00, 0.000e+00, 0.000e+00, 0.000e+00, 0.000e+00,\n",
       "        0.000e+00, 0.000e+00, 0.000e+00, 1.000e+00, 1.000e+00, 0.000e+00,\n",
       "        1.000e+00, 0.000e+00, 0.000e+00]])"
      ]
     },
     "metadata": {},
     "output_type": "display_data"
    },
    {
     "name": "stdout",
     "output_type": "stream",
     "text": [
      "升维之前： (1070, 6)\n",
      "升维之后： (1070, 27)\n"
     ]
    }
   ],
   "source": [
    "from sklearn.linear_model import LinearRegression\n",
    "from sklearn.linear_model import ElasticNet\n",
    "from sklearn.metrics import mean_squared_error,mean_squared_log_error\n",
    "\n",
    "# 数据拆分\n",
    "from sklearn.model_selection import train_test_split\n",
    "from sklearn.preprocessing import PolynomialFeatures\n",
    "X_train, X_test, y_train, y_test = train_test_split(X, y, test_size=0.2,random_state=1024)\n",
    "\n",
    "# 特征升维\n",
    "poly = PolynomialFeatures(degree= 2, include_bias = False,interaction_only=False)\n",
    "X_train_poly = poly.fit_transform(X_train)\n",
    "X_test_poly = poly.fit_transform(X_test)\n",
    "display(X_train_poly[:5],)\n",
    "print('升维之前：',X_train.shape)\n",
    "print('升维之后：',X_train_poly.shape)"
   ]
  },
  {
   "cell_type": "markdown",
   "id": "f685a3ab",
   "metadata": {},
   "source": [
    "#### 模型训练与评估"
   ]
  },
  {
   "cell_type": "markdown",
   "id": "71660b4f",
   "metadata": {},
   "source": [
    "<font color = 'red' size = 6>$$\\text MSLE = \\frac{1}{n} \\sum\\limits_{i=1}^{n} (\\log(y_i + 1) - \\log(\\hat{y}_i + 1))^2$$</font>"
   ]
  },
  {
   "cell_type": "markdown",
   "id": "a6f190d2",
   "metadata": {},
   "source": [
    "<font size = 6 color = 'red'>$$\\text MSE = \\frac{1}{n} \\sum\\limits_{i=1}^{n} (y_i - \\hat{y}_i)^2$$</font>"
   ]
  },
  {
   "cell_type": "markdown",
   "id": "510a12a0",
   "metadata": {},
   "source": [
    "##### 普通线性回归"
   ]
  },
  {
   "cell_type": "code",
   "execution_count": 96,
   "id": "fcb57150",
   "metadata": {
    "ExecuteTime": {
     "end_time": "2023-04-14T08:27:24.436402Z",
     "start_time": "2023-04-14T08:27:24.418946Z"
    },
    "collapsed": true
   },
   "outputs": [
    {
     "name": "stdout",
     "output_type": "stream",
     "text": [
      "训练数据表现： 0.8628646942053988\n",
      "测试数据表现： 0.8688687556547094\n",
      "训练数据MSE： 20429654.144572377\n",
      "测试数据MSE： 17928489.228876505\n",
      "训练数据MSLE： 0.16725245624632998\n",
      "测试数据MSLE： 0.14778538307479278\n"
     ]
    }
   ],
   "source": [
    "model = LinearRegression()\n",
    "model.fit(X_train_poly,y_train)\n",
    "\n",
    "print('训练数据表现：',model.score(X_train_poly,y_train))\n",
    "print('测试数据表现：',model.score(X_test_poly,y_test))\n",
    "\n",
    "print('训练数据MSE：',mean_squared_error(y_train,model.predict(X_train_poly)))\n",
    "print('测试数据MSE：',mean_squared_error(y_test, model.predict(X_test_poly)))\n",
    "\n",
    "print('训练数据MSLE：',mean_squared_log_error(y_train,model.predict(X_train_poly)))\n",
    "print('测试数据MSLE：',mean_squared_log_error(y_test, model.predict(X_test_poly)))"
   ]
  },
  {
   "cell_type": "code",
   "execution_count": 97,
   "id": "123fe404",
   "metadata": {
    "ExecuteTime": {
     "end_time": "2023-04-14T08:31:44.898610Z",
     "start_time": "2023-04-14T08:31:44.870819Z"
    }
   },
   "outputs": [
    {
     "name": "stdout",
     "output_type": "stream",
     "text": [
      "训练数据表现： 0.7535598431225086\n",
      "测试数据表现： 0.7509918136220449\n",
      "训练数据MSE： 36713282.135252416\n",
      "测试数据MSE： 34044827.4525931\n",
      "训练数据MSLE： 0.46480454944015676\n",
      "测试数据MSLE： 0.4546333569181187\n"
     ]
    }
   ],
   "source": [
    "# 未进行特征升维建模预测表现\n",
    "model = LinearRegression()\n",
    "model.fit(X_train,y_train)\n",
    "\n",
    "print('训练数据表现：',model.score(X_train,y_train))\n",
    "print('测试数据表现：',model.score(X_test,y_test))\n",
    "\n",
    "print('训练数据MSE：',mean_squared_error(y_train,model.predict(X_train)))\n",
    "print('测试数据MSE：',mean_squared_error(y_test, model.predict(X_test)))\n",
    "\n",
    "print('训练数据MSLE：',mean_squared_log_error(y_train,model.predict(X_train)))\n",
    "print('测试数据MSLE：',mean_squared_log_error(y_test, model.predict(X_test)))"
   ]
  },
  {
   "cell_type": "markdown",
   "id": "ad72e55b",
   "metadata": {},
   "source": [
    "##### 弹性网络"
   ]
  },
  {
   "cell_type": "code",
   "execution_count": 110,
   "id": "7403cdfc",
   "metadata": {
    "ExecuteTime": {
     "end_time": "2023-04-14T08:41:10.144072Z",
     "start_time": "2023-04-14T08:41:10.088974Z"
    },
    "collapsed": true
   },
   "outputs": [
    {
     "name": "stdout",
     "output_type": "stream",
     "text": [
      "训练数据表现： 0.8381452609108763\n",
      "测试数据表现： 0.8383353402187568\n",
      "训练数据MSE： 24112217.65315067\n",
      "测试数据MSE： 22103070.294567037\n",
      "训练数据MSLE： 0.23723473691713873\n",
      "测试数据MSLE： 0.2200604259529775\n"
     ]
    }
   ],
   "source": [
    "# 升维后的数据，特征变多了\n",
    "import warnings\n",
    "warnings.filterwarnings('ignore')\n",
    "from sklearn.preprocessing import StandardScaler\n",
    "# X_train_poly_norm = scaler.fit_transform(X_train_poly)\n",
    "# X_test_poly_norm = scaler.transform(X_test_poly)\n",
    "model = ElasticNet(alpha=0.1,l1_ratio=0.3,max_iter=1000)\n",
    "model.fit(X_train_poly,y_train)\n",
    "\n",
    "print('训练数据表现：',model.score(X_train_poly,y_train))\n",
    "print('测试数据表现：',model.score(X_test_poly,y_test))\n",
    "\n",
    "print('训练数据MSE：',mean_squared_error(y_train,model.predict(X_train_poly)))\n",
    "print('测试数据MSE：',mean_squared_error(y_test, model.predict(X_test_poly)))\n",
    "\n",
    "print('训练数据MSLE：',mean_squared_log_error(y_train,model.predict(X_train_poly)))\n",
    "print('测试数据MSLE：',mean_squared_log_error(y_test, model.predict(X_test_poly)))"
   ]
  },
  {
   "cell_type": "code",
   "execution_count": 111,
   "id": "7fa2797c",
   "metadata": {
    "ExecuteTime": {
     "end_time": "2023-04-14T08:42:13.588353Z",
     "start_time": "2023-04-14T08:42:13.568275Z"
    },
    "collapsed": true
   },
   "outputs": [
    {
     "name": "stdout",
     "output_type": "stream",
     "text": [
      "训练数据表现： 0.7338230829984274\n",
      "测试数据表现： 0.7333122794815511\n",
      "训练数据MSE： 39653554.74363014\n",
      "测试数据MSE： 36462003.76318137\n",
      "训练数据MSLE： 0.27434858130977796\n",
      "测试数据MSLE： 0.26273031558352794\n"
     ]
    }
   ],
   "source": [
    "# 未进行特征升维建模预测表现\n",
    "model = ElasticNet(alpha=0.1,l1_ratio=0.3,max_iter=1000)\n",
    "model.fit(X_train,y_train)\n",
    "\n",
    "print('训练数据表现：',model.score(X_train,y_train))\n",
    "print('测试数据表现：',model.score(X_test,y_test))\n",
    "\n",
    "print('训练数据MSE：',mean_squared_error(y_train,model.predict(X_train)))\n",
    "print('测试数据MSE：',mean_squared_error(y_test, model.predict(X_test)))\n",
    "\n",
    "print('训练数据MSLE：',mean_squared_log_error(y_train,model.predict(X_train)))\n",
    "print('测试数据MSLE：',mean_squared_log_error(y_test, model.predict(X_test)))"
   ]
  },
  {
   "cell_type": "code",
   "execution_count": null,
   "id": "47f8671a",
   "metadata": {},
   "outputs": [],
   "source": []
  }
 ],
 "metadata": {
  "kernelspec": {
   "display_name": "Python 3 (ipykernel)",
   "language": "python",
   "name": "python3"
  },
  "language_info": {
   "codemirror_mode": {
    "name": "ipython",
    "version": 3
   },
   "file_extension": ".py",
   "mimetype": "text/x-python",
   "name": "python",
   "nbconvert_exporter": "python",
   "pygments_lexer": "ipython3",
   "version": "3.9.6"
  },
  "toc": {
   "base_numbering": 1,
   "nav_menu": {},
   "number_sections": true,
   "sideBar": true,
   "skip_h1_title": false,
   "title_cell": "Table of Contents",
   "title_sidebar": "Contents",
   "toc_cell": false,
   "toc_position": {},
   "toc_section_display": true,
   "toc_window_display": true
  }
 },
 "nbformat": 4,
 "nbformat_minor": 5
}
