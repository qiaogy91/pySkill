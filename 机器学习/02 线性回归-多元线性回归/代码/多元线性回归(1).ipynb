{
 "cells": [
  {
   "cell_type": "markdown",
   "id": "af6c97c9",
   "metadata": {},
   "source": [
    "### 正规方程求解多元一次方程"
   ]
  },
  {
   "cell_type": "markdown",
   "id": "15e2415e",
   "metadata": {},
   "source": [
    "#### 二元一次方程"
   ]
  },
  {
   "cell_type": "markdown",
   "id": "13dc75f7",
   "metadata": {},
   "source": [
    "<font size = 6 >\n",
    "$\\begin{cases}\n",
    "x + y=14\\\\  2x - y = 10\\\\\n",
    "\\end{cases}$</font>"
   ]
  },
  {
   "cell_type": "markdown",
   "id": "2ca5d560",
   "metadata": {},
   "source": [
    "$W = (X^TX)^{-1}X^Ty$ "
   ]
  },
  {
   "cell_type": "code",
   "execution_count": 1,
   "id": "1b925634",
   "metadata": {
    "ExecuteTime": {
     "end_time": "2023-04-06T03:18:27.741322Z",
     "start_time": "2023-04-06T03:18:27.667237Z"
    }
   },
   "outputs": [],
   "source": [
    "import numpy as np"
   ]
  },
  {
   "cell_type": "code",
   "execution_count": 2,
   "id": "bebd777c",
   "metadata": {
    "ExecuteTime": {
     "end_time": "2023-04-06T03:18:27.756875Z",
     "start_time": "2023-04-06T03:18:27.742636Z"
    }
   },
   "outputs": [
    {
     "data": {
      "text/plain": [
       "array([[ 1,  1],\n",
       "       [ 2, -1]])"
      ]
     },
     "execution_count": 2,
     "metadata": {},
     "output_type": "execute_result"
    }
   ],
   "source": [
    "X = np.array([[1,1],[2,-1]])\n",
    "X"
   ]
  },
  {
   "cell_type": "code",
   "execution_count": 3,
   "id": "dc30e8c8",
   "metadata": {
    "ExecuteTime": {
     "end_time": "2023-04-06T03:18:27.772373Z",
     "start_time": "2023-04-06T03:18:27.757876Z"
    }
   },
   "outputs": [
    {
     "data": {
      "text/plain": [
       "array([14, 10])"
      ]
     },
     "execution_count": 3,
     "metadata": {},
     "output_type": "execute_result"
    }
   ],
   "source": [
    "y = np.array([14,10])\n",
    "y"
   ]
  },
  {
   "cell_type": "code",
   "execution_count": 4,
   "id": "ef81919e",
   "metadata": {
    "ExecuteTime": {
     "end_time": "2023-04-06T03:18:27.787959Z",
     "start_time": "2023-04-06T03:18:27.773999Z"
    }
   },
   "outputs": [
    {
     "data": {
      "text/plain": [
       "array([8., 6.])"
      ]
     },
     "execution_count": 4,
     "metadata": {},
     "output_type": "execute_result"
    }
   ],
   "source": [
    "np.linalg.inv(X.T.dot(X)).dot(X.T).dot(y)"
   ]
  },
  {
   "cell_type": "markdown",
   "id": "16496a01",
   "metadata": {},
   "source": [
    "$f(x) = 8x_1 + 6x_2$"
   ]
  },
  {
   "cell_type": "code",
   "execution_count": 5,
   "id": "0121f44e",
   "metadata": {
    "ExecuteTime": {
     "end_time": "2023-04-06T03:18:27.803962Z",
     "start_time": "2023-04-06T03:18:27.788951Z"
    }
   },
   "outputs": [
    {
     "data": {
      "text/plain": [
       "10"
      ]
     },
     "execution_count": 5,
     "metadata": {},
     "output_type": "execute_result"
    }
   ],
   "source": [
    "# w1 = 8; w2 = 6\n",
    "2 * 8 - 1 * 6"
   ]
  },
  {
   "cell_type": "code",
   "execution_count": 6,
   "id": "e6c949f4",
   "metadata": {
    "ExecuteTime": {
     "end_time": "2023-04-06T03:18:27.819303Z",
     "start_time": "2023-04-06T03:18:27.804958Z"
    }
   },
   "outputs": [
    {
     "data": {
      "text/plain": [
       "14"
      ]
     },
     "execution_count": 6,
     "metadata": {},
     "output_type": "execute_result"
    }
   ],
   "source": [
    "8 * 1 + 6 * 1"
   ]
  },
  {
   "cell_type": "markdown",
   "id": "932f9fad",
   "metadata": {},
   "source": [
    "#### 三元一次方程"
   ]
  },
  {
   "cell_type": "markdown",
   "id": "7daa0186",
   "metadata": {},
   "source": [
    "<font size = 6>\n",
    "$\\begin{cases}\n",
    "x - y + z = 100\\\\ 2x + y -z = 80\\\\ 3x - 2y + 6z = 256\\\\\n",
    "\\end{cases}$</font>"
   ]
  },
  {
   "cell_type": "code",
   "execution_count": 7,
   "id": "7f2ebde6",
   "metadata": {
    "ExecuteTime": {
     "end_time": "2023-04-06T03:18:27.835312Z",
     "start_time": "2023-04-06T03:18:27.820303Z"
    }
   },
   "outputs": [
    {
     "data": {
      "text/plain": [
       "array([[ 1, -1,  1],\n",
       "       [ 2,  1, -1],\n",
       "       [ 3, -2,  6]])"
      ]
     },
     "metadata": {},
     "output_type": "display_data"
    },
    {
     "data": {
      "text/plain": [
       "array([100,  80, 256])"
      ]
     },
     "metadata": {},
     "output_type": "display_data"
    }
   ],
   "source": [
    "X = np.array([[1,-1,1],[2,1,-1],[3,-2,6]])\n",
    "y = np.array([100,80,256])\n",
    "display(X,y)"
   ]
  },
  {
   "cell_type": "code",
   "execution_count": 8,
   "id": "ba943e6e",
   "metadata": {
    "ExecuteTime": {
     "end_time": "2023-04-06T03:18:27.850501Z",
     "start_time": "2023-04-06T03:18:27.836312Z"
    }
   },
   "outputs": [
    {
     "data": {
      "text/plain": [
       "array([ 60., -41.,  -1.])"
      ]
     },
     "execution_count": 8,
     "metadata": {},
     "output_type": "execute_result"
    }
   ],
   "source": [
    "np.linalg.inv(X.T.dot(X)).dot(X.T).dot(y)"
   ]
  },
  {
   "cell_type": "markdown",
   "id": "7afa704c",
   "metadata": {},
   "source": [
    "#### 八元一次方程"
   ]
  },
  {
   "cell_type": "code",
   "execution_count": 9,
   "id": "090a891f",
   "metadata": {
    "ExecuteTime": {
     "end_time": "2023-04-06T03:18:27.866485Z",
     "start_time": "2023-04-06T03:18:27.851509Z"
    }
   },
   "outputs": [
    {
     "data": {
      "text/plain": [
       "array([[  0,  14,   8,   0,   5,  -2,   9,  -3],\n",
       "       [ -4,  10,   6,   4, -14,  -2, -14,   8],\n",
       "       [ -1,  -6,   5, -12,   3,  -3,   2,  -2],\n",
       "       [  5,  -2,   3,  10,   5,  11,   4,  -8],\n",
       "       [-15, -15,  -8, -15,   7,  -4, -12,   2],\n",
       "       [ 11, -10,  -2,   4,   3,  -9,  -6,   7],\n",
       "       [-14,   0,   4,  -3,   5,  10,  13,   7],\n",
       "       [ -3,  -7,  -2,  -8,   0,  -6,  -5,  -9]])"
      ]
     },
     "metadata": {},
     "output_type": "display_data"
    },
    {
     "data": {
      "text/plain": [
       "array([ 339, -114,   30,  126, -395,  -87,  422, -309])"
      ]
     },
     "metadata": {},
     "output_type": "display_data"
    }
   ],
   "source": [
    "# 上面八元一次方程对应的X数据\n",
    "X = np.array([\n",
    "    [  0 ,14 , 8 ,  0 ,  5,  -2,   9,  -3],\n",
    " [ -4 , 10 ,  6 ,  4 ,-14 , -2 ,-14  , 8],\n",
    " [ -1 , -6  , 5 ,-12 ,  3 , -3 ,  2 , -2],\n",
    " [  5 , -2  , 3 , 10  , 5 , 11 ,  4  ,-8],\n",
    " [-15 ,-15  ,-8 ,-15 ,  7 , -4, -12 ,  2],\n",
    " [ 11 ,-10 , -2 ,  4  , 3 , -9 , -6 ,  7],\n",
    " [-14 ,  0 ,  4 , -3  , 5 , 10 , 13 ,  7],\n",
    " [ -3 , -7 , -2 , -8  , 0 , -6 , -5 , -9]])\n",
    "# 对应的y\n",
    "y = np.array([ 339 ,-114  , 30 , 126, -395 , -87 , 422, -309])\n",
    "display(X,y)"
   ]
  },
  {
   "cell_type": "code",
   "execution_count": 10,
   "id": "9510daff",
   "metadata": {
    "ExecuteTime": {
     "end_time": "2023-04-06T03:18:27.882590Z",
     "start_time": "2023-04-06T03:18:27.868486Z"
    }
   },
   "outputs": [
    {
     "data": {
      "text/plain": [
       "array([ 1.,  5., 15.,  3.,  8.,  4., 17., 12.])"
      ]
     },
     "execution_count": 10,
     "metadata": {},
     "output_type": "execute_result"
    }
   ],
   "source": [
    "np.linalg.inv(X.T.dot(X)).dot(X.T).dot(y)"
   ]
  },
  {
   "cell_type": "markdown",
   "id": "aa0530f8",
   "metadata": {},
   "source": [
    "$f(X) = w_1x_1 + w_2x_2 + …… + w_n x _n$"
   ]
  },
  {
   "cell_type": "markdown",
   "id": "4fcc712e",
   "metadata": {},
   "source": [
    "### 正规方程求解多元线性回归"
   ]
  },
  {
   "cell_type": "markdown",
   "id": "c60bb2a1",
   "metadata": {},
   "source": [
    "#### 简单线性回归"
   ]
  },
  {
   "cell_type": "code",
   "execution_count": 11,
   "id": "d945591c",
   "metadata": {
    "ExecuteTime": {
     "end_time": "2023-04-06T03:18:28.359375Z",
     "start_time": "2023-04-06T03:18:27.883619Z"
    },
    "collapsed": true
   },
   "outputs": [
    {
     "data": {
      "text/plain": [
       "<matplotlib.collections.PathCollection at 0x1da5cad3310>"
      ]
     },
     "execution_count": 11,
     "metadata": {},
     "output_type": "execute_result"
    },
    {
     "data": {
      "image/png": "[encoded data removed]",
      "text/plain": [
       "<Figure size 432x288 with 1 Axes>"
      ]
     },
     "metadata": {
      "needs_background": "light"
     },
     "output_type": "display_data"
    }
   ],
   "source": [
    "import numpy as np\n",
    "import matplotlib.pyplot as plt\n",
    "# 转化成矩阵 X\n",
    "X = np.linspace(0,10,num = 30).reshape(-1,1)\n",
    "# 斜率和截距，随机生成\n",
    "w = np.random.randint(1,5,size = 1)\n",
    "b = np.random.randint(1,10,size = 1)\n",
    "# 根据一元一次方程计算目标值y，并加上“噪声”，数据有上下波动~\n",
    "y = X * w + b + np.random.randn(30,1)\n",
    "plt.scatter(X,y)"
   ]
  },
  {
   "cell_type": "code",
   "execution_count": 12,
   "id": "23953040",
   "metadata": {
    "ExecuteTime": {
     "end_time": "2023-04-06T03:18:28.374634Z",
     "start_time": "2023-04-06T03:18:28.360607Z"
    },
    "collapsed": true
   },
   "outputs": [
    {
     "data": {
      "text/plain": [
       "array([[ 0.        ,  1.        ],\n",
       "       [ 0.34482759,  1.        ],\n",
       "       [ 0.68965517,  1.        ],\n",
       "       [ 1.03448276,  1.        ],\n",
       "       [ 1.37931034,  1.        ],\n",
       "       [ 1.72413793,  1.        ],\n",
       "       [ 2.06896552,  1.        ],\n",
       "       [ 2.4137931 ,  1.        ],\n",
       "       [ 2.75862069,  1.        ],\n",
       "       [ 3.10344828,  1.        ],\n",
       "       [ 3.44827586,  1.        ],\n",
       "       [ 3.79310345,  1.        ],\n",
       "       [ 4.13793103,  1.        ],\n",
       "       [ 4.48275862,  1.        ],\n",
       "       [ 4.82758621,  1.        ],\n",
       "       [ 5.17241379,  1.        ],\n",
       "       [ 5.51724138,  1.        ],\n",
       "       [ 5.86206897,  1.        ],\n",
       "       [ 6.20689655,  1.        ],\n",
       "       [ 6.55172414,  1.        ],\n",
       "       [ 6.89655172,  1.        ],\n",
       "       [ 7.24137931,  1.        ],\n",
       "       [ 7.5862069 ,  1.        ],\n",
       "       [ 7.93103448,  1.        ],\n",
       "       [ 8.27586207,  1.        ],\n",
       "       [ 8.62068966,  1.        ],\n",
       "       [ 8.96551724,  1.        ],\n",
       "       [ 9.31034483,  1.        ],\n",
       "       [ 9.65517241,  1.        ],\n",
       "       [10.        ,  1.        ]])"
      ]
     },
     "execution_count": 12,
     "metadata": {},
     "output_type": "execute_result"
    }
   ],
   "source": [
    "# 计算斜率 + 截距\n",
    "# 系数\n",
    "X = np.concatenate([X,np.full(shape = [30,1],fill_value=1)],axis = 1)\n",
    "X"
   ]
  },
  {
   "cell_type": "code",
   "execution_count": 13,
   "id": "893a7a25",
   "metadata": {
    "ExecuteTime": {
     "end_time": "2023-04-06T03:18:28.390309Z",
     "start_time": "2023-04-06T03:18:28.375639Z"
    },
    "scrolled": false
   },
   "outputs": [
    {
     "name": "stdout",
     "output_type": "stream",
     "text": [
      "正规方程算法计算，系数： 3.989656022692484 3.9850478362414927\n"
     ]
    }
   ],
   "source": [
    "coef_ = np.linalg.inv(X.T.dot(X)).dot(X.T).dot(y)\n",
    "w_ = coef_[0][0]\n",
    "b_ = coef_[1][0]\n",
    "print('正规方程算法计算，系数：',w_,b_)"
   ]
  },
  {
   "cell_type": "code",
   "execution_count": 14,
   "id": "01ebb84e",
   "metadata": {
    "ExecuteTime": {
     "end_time": "2023-04-06T03:18:28.406274Z",
     "start_time": "2023-04-06T03:18:28.391310Z"
    }
   },
   "outputs": [
    {
     "name": "stdout",
     "output_type": "stream",
     "text": [
      "原始的数据斜率、截距： [4] [4]\n"
     ]
    }
   ],
   "source": [
    "print('原始的数据斜率、截距：',w,b)"
   ]
  },
  {
   "cell_type": "code",
   "execution_count": 15,
   "id": "31f53b47",
   "metadata": {
    "ExecuteTime": {
     "end_time": "2023-04-06T03:18:28.483819Z",
     "start_time": "2023-04-06T03:18:28.407307Z"
    }
   },
   "outputs": [
    {
     "data": {
      "text/plain": [
       "[<matplotlib.lines.Line2D at 0x1da5cbd9c70>]"
      ]
     },
     "execution_count": 15,
     "metadata": {},
     "output_type": "execute_result"
    },
    {
     "data": {
      "image/png": "[encoded data removed]",
      "text/plain": [
       "<Figure size 432x288 with 1 Axes>"
      ]
     },
     "metadata": {
      "needs_background": "light"
     },
     "output_type": "display_data"
    }
   ],
   "source": [
    "plt.scatter(X[:,0],y,color = 'red')\n",
    "\n",
    "plt.plot(X[:,0],X[:,0] * w_ + b_,color = 'green')"
   ]
  },
  {
   "cell_type": "markdown",
   "id": "131f94d4",
   "metadata": {},
   "source": [
    "#### 多元线性回归"
   ]
  },
  {
   "cell_type": "code",
   "execution_count": 16,
   "id": "a5e16ac3",
   "metadata": {
    "ExecuteTime": {
     "end_time": "2023-04-06T03:18:28.577178Z",
     "start_time": "2023-04-06T03:18:28.484852Z"
    },
    "collapsed": true
   },
   "outputs": [
    {
     "name": "stderr",
     "output_type": "stream",
     "text": [
      "d:\\Temp\\ipykernel_9724\\670579378.py:17: MatplotlibDeprecationWarning: Axes3D(fig) adding itself to the figure is deprecated since 3.4. Pass the keyword argument auto_add_to_figure=False and use fig.add_axes(ax) to suppress this warning. The default value of auto_add_to_figure will change to False in mpl3.5 and True values will no longer work in 3.6.  This is consistent with other Axes classes.\n",
      "  ax = Axes3D(fig)\n"
     ]
    },
    {
     "data": {
      "image/png": "[encoded data removed]",
      "text/plain": [
       "<Figure size 648x432 with 1 Axes>"
      ]
     },
     "metadata": {
      "needs_background": "light"
     },
     "output_type": "display_data"
    }
   ],
   "source": [
    "import numpy as np\n",
    "import matplotlib.pyplot as plt\n",
    "from mpl_toolkits.mplot3d.axes3d import Axes3D # 绘制三维图像\n",
    "\n",
    "# 转化成矩阵\n",
    "x1 = np.random.randint(-150,150,size = (300,1))\n",
    "x2 = np.random.randint(0,300,size = (300,1))\n",
    "\n",
    "# 斜率和截距，随机生成\n",
    "w = np.random.randint(1,5,size = 2)\n",
    "b = np.random.randint(1,10,size = 1)\n",
    "\n",
    "# 根据二元一次方程计算目标值y，并加上“噪声”，数据有上下波动~\n",
    "y = x1 * w[0] + x2 * w[1] + b + np.random.randn(300,1)\n",
    "\n",
    "fig = plt.figure(figsize=(9,6))\n",
    "ax = Axes3D(fig)\n",
    "ax.scatter(x1,x2,y) # 三维散点图\n",
    "ax.view_init(elev=10, azim=-20) # 调整视角"
   ]
  },
  {
   "cell_type": "markdown",
   "id": "415d2035",
   "metadata": {},
   "source": [
    "<font size = 8>$W = (X^TX)^{-1}X^Ty$ </font>"
   ]
  },
  {
   "cell_type": "code",
   "execution_count": 17,
   "id": "1c0a44f8",
   "metadata": {
    "ExecuteTime": {
     "end_time": "2023-04-06T03:18:28.592260Z",
     "start_time": "2023-04-06T03:18:28.578192Z"
    },
    "collapsed": true
   },
   "outputs": [
    {
     "data": {
      "text/plain": [
       "array([[  76,  285,    1],\n",
       "       [  46,  149,    1],\n",
       "       [ -65,  251,    1],\n",
       "       [-146,   81,    1],\n",
       "       [  53,  217,    1],\n",
       "       [  12,  207,    1],\n",
       "       [  25,  253,    1],\n",
       "       [ -78,   36,    1],\n",
       "       [-126,  271,    1],\n",
       "       [ -86,  131,    1],\n",
       "       [ -99,  104,    1],\n",
       "       [  94,  294,    1],\n",
       "       [ 139,   55,    1],\n",
       "       [  12,   96,    1],\n",
       "       [  13,  281,    1],\n",
       "       [ 120,  133,    1],\n",
       "       [  47,  234,    1],\n",
       "       [ 134,  261,    1],\n",
       "       [  35,  188,    1],\n",
       "       [-107,   78,    1],\n",
       "       [-138,   89,    1],\n",
       "       [ -20,   98,    1],\n",
       "       [-113,  263,    1],\n",
       "       [ -56,   98,    1],\n",
       "       [  -8,   23,    1],\n",
       "       [-121,   35,    1],\n",
       "       [ -41,   35,    1],\n",
       "       [ 102,  148,    1],\n",
       "       [ 131,  295,    1],\n",
       "       [  30,   15,    1],\n",
       "       [ -62,  250,    1],\n",
       "       [  25,  202,    1],\n",
       "       [-120,  280,    1],\n",
       "       [  13,   82,    1],\n",
       "       [-115,  243,    1],\n",
       "       [  73,  233,    1],\n",
       "       [-120,    6,    1],\n",
       "       [-124,   79,    1],\n",
       "       [ 115,  260,    1],\n",
       "       [ 100,   24,    1],\n",
       "       [  28,   97,    1],\n",
       "       [ -98,  203,    1],\n",
       "       [  59,   60,    1],\n",
       "       [  79,  209,    1],\n",
       "       [ -80,   76,    1],\n",
       "       [ -16,   93,    1],\n",
       "       [ -58,  228,    1],\n",
       "       [ -50,  101,    1],\n",
       "       [ -32,  181,    1],\n",
       "       [ 146,   42,    1],\n",
       "       [ 136,  203,    1],\n",
       "       [   0,   35,    1],\n",
       "       [ -59,  286,    1],\n",
       "       [  77,   14,    1],\n",
       "       [-106,  133,    1],\n",
       "       [  32,  223,    1],\n",
       "       [  46,   26,    1],\n",
       "       [  39,  154,    1],\n",
       "       [  13,  188,    1],\n",
       "       [ 101,  157,    1],\n",
       "       [  -8,  231,    1],\n",
       "       [  70,  192,    1],\n",
       "       [  13,   36,    1],\n",
       "       [  63,  272,    1],\n",
       "       [ 104,  194,    1],\n",
       "       [ 101,   94,    1],\n",
       "       [ -35,  182,    1],\n",
       "       [ -58,   36,    1],\n",
       "       [  45,   70,    1],\n",
       "       [  -6,  173,    1],\n",
       "       [ -65,  117,    1],\n",
       "       [  14,  233,    1],\n",
       "       [  11,   72,    1],\n",
       "       [  70,   77,    1],\n",
       "       [ -29,  138,    1],\n",
       "       [ 129,  228,    1],\n",
       "       [-132,   59,    1],\n",
       "       [  30,  246,    1],\n",
       "       [  99,  145,    1],\n",
       "       [-113,  165,    1],\n",
       "       [  48,  240,    1],\n",
       "       [-127,   27,    1],\n",
       "       [  69,  298,    1],\n",
       "       [  48,  151,    1],\n",
       "       [  -2,  186,    1],\n",
       "       [ -38,   71,    1],\n",
       "       [  75,  274,    1],\n",
       "       [   2,  252,    1],\n",
       "       [  21,  243,    1],\n",
       "       [-114,  227,    1],\n",
       "       [ -12,  141,    1],\n",
       "       [ -68,  279,    1],\n",
       "       [  44,  238,    1],\n",
       "       [   9,   64,    1],\n",
       "       [  89,   12,    1],\n",
       "       [-105,  278,    1],\n",
       "       [ 145,  171,    1],\n",
       "       [  -5,  117,    1],\n",
       "       [ -84,  165,    1],\n",
       "       [-118,  154,    1],\n",
       "       [  89,  282,    1],\n",
       "       [ 141,    8,    1],\n",
       "       [-111,  118,    1],\n",
       "       [ -36,  138,    1],\n",
       "       [-138,  274,    1],\n",
       "       [-113,  139,    1],\n",
       "       [   2,  275,    1],\n",
       "       [-122,   20,    1],\n",
       "       [  85,   72,    1],\n",
       "       [  62,  189,    1],\n",
       "       [  88,   78,    1],\n",
       "       [  24,  129,    1],\n",
       "       [ 148,   18,    1],\n",
       "       [ 120,  188,    1],\n",
       "       [ -60,  204,    1],\n",
       "       [ 137,  278,    1],\n",
       "       [ 108,  290,    1],\n",
       "       [  56,  185,    1],\n",
       "       [-142,   39,    1],\n",
       "       [ 111,   75,    1],\n",
       "       [  52,  171,    1],\n",
       "       [ -35,  279,    1],\n",
       "       [-108,   96,    1],\n",
       "       [  40,  139,    1],\n",
       "       [  24,  246,    1],\n",
       "       [-124,   88,    1],\n",
       "       [ -15,  242,    1],\n",
       "       [  86,   13,    1],\n",
       "       [ 104,  123,    1],\n",
       "       [ -63,  231,    1],\n",
       "       [-130,   71,    1],\n",
       "       [  60,  281,    1],\n",
       "       [ -18,  150,    1],\n",
       "       [ 113,  152,    1],\n",
       "       [ 136,  293,    1],\n",
       "       [  14,   56,    1],\n",
       "       [ 138,  252,    1],\n",
       "       [   1,   23,    1],\n",
       "       [  94,  142,    1],\n",
       "       [-136,   48,    1],\n",
       "       [  71,  140,    1],\n",
       "       [  53,   40,    1],\n",
       "       [ 144,  108,    1],\n",
       "       [ 117,  141,    1],\n",
       "       [   3,   90,    1],\n",
       "       [  -9,   20,    1],\n",
       "       [ 144,    3,    1],\n",
       "       [  16,  271,    1],\n",
       "       [ 136,  290,    1],\n",
       "       [ 102,    2,    1],\n",
       "       [  16,  106,    1],\n",
       "       [ -12,  106,    1],\n",
       "       [ -79,  292,    1],\n",
       "       [  38,  242,    1],\n",
       "       [-137,  276,    1],\n",
       "       [ -66,   63,    1],\n",
       "       [  95,   56,    1],\n",
       "       [-100,  273,    1],\n",
       "       [ -25,    3,    1],\n",
       "       [  25,   18,    1],\n",
       "       [  47,  214,    1],\n",
       "       [ -97,  119,    1],\n",
       "       [  13,  293,    1],\n",
       "       [-116,  109,    1],\n",
       "       [ -90,  232,    1],\n",
       "       [ -13,  149,    1],\n",
       "       [ -57,  218,    1],\n",
       "       [ -60,  244,    1],\n",
       "       [ 133,  257,    1],\n",
       "       [ 108,  102,    1],\n",
       "       [-130,  239,    1],\n",
       "       [-140,  254,    1],\n",
       "       [ -37,   18,    1],\n",
       "       [  71,  216,    1],\n",
       "       [-147,   44,    1],\n",
       "       [ -33,   81,    1],\n",
       "       [ -98,   11,    1],\n",
       "       [  32,  247,    1],\n",
       "       [-103,  296,    1],\n",
       "       [-145,   40,    1],\n",
       "       [-103,  186,    1],\n",
       "       [  80,  256,    1],\n",
       "       [  68,  258,    1],\n",
       "       [ -13,  266,    1],\n",
       "       [-144,   67,    1],\n",
       "       [  63,  173,    1],\n",
       "       [ -62,    6,    1],\n",
       "       [  28,  206,    1],\n",
       "       [  -1,   89,    1],\n",
       "       [ -83,  164,    1],\n",
       "       [ -10,  290,    1],\n",
       "       [  57,  131,    1],\n",
       "       [ -57,  276,    1],\n",
       "       [  66,   91,    1],\n",
       "       [ -77,   70,    1],\n",
       "       [ -82,  156,    1],\n",
       "       [  14,  208,    1],\n",
       "       [ -92,   71,    1],\n",
       "       [  47,  105,    1],\n",
       "       [ -53,   35,    1],\n",
       "       [ -63,  150,    1],\n",
       "       [ 134,   34,    1],\n",
       "       [ -11,  206,    1],\n",
       "       [ -95,  139,    1],\n",
       "       [ -53,   81,    1],\n",
       "       [  48,  133,    1],\n",
       "       [-129,  280,    1],\n",
       "       [ 124,  235,    1],\n",
       "       [ 127,  195,    1],\n",
       "       [  82,  242,    1],\n",
       "       [ -39,  144,    1],\n",
       "       [ -91,  113,    1],\n",
       "       [ 110,  219,    1],\n",
       "       [ 148,   49,    1],\n",
       "       [  11,   79,    1],\n",
       "       [  59,    0,    1],\n",
       "       [ 144,  282,    1],\n",
       "       [  68,  115,    1],\n",
       "       [  64,   81,    1],\n",
       "       [ 129,  111,    1],\n",
       "       [ 100,   45,    1],\n",
       "       [ -26,  198,    1],\n",
       "       [ -35,  293,    1],\n",
       "       [  93,  207,    1],\n",
       "       [ -56,   13,    1],\n",
       "       [-142,  205,    1],\n",
       "       [ -32,   96,    1],\n",
       "       [ -34,   57,    1],\n",
       "       [ 114,   89,    1],\n",
       "       [ 102,  109,    1],\n",
       "       [ -16,   95,    1],\n",
       "       [-131,    5,    1],\n",
       "       [ -61,  202,    1],\n",
       "       [ -71,  213,    1],\n",
       "       [ -29,  171,    1],\n",
       "       [ -75,    8,    1],\n",
       "       [ 148,   89,    1],\n",
       "       [  82,    4,    1],\n",
       "       [  56,  115,    1],\n",
       "       [-115,  105,    1],\n",
       "       [  89,   51,    1],\n",
       "       [  51,  130,    1],\n",
       "       [  79,  131,    1],\n",
       "       [  -7,  158,    1],\n",
       "       [  22,  276,    1],\n",
       "       [ 136,  241,    1],\n",
       "       [  87,   59,    1],\n",
       "       [ -46,  246,    1],\n",
       "       [  52,   25,    1],\n",
       "       [ 125,  220,    1],\n",
       "       [-137,  184,    1],\n",
       "       [ 128,   37,    1],\n",
       "       [ 115,  161,    1],\n",
       "       [-144,    2,    1],\n",
       "       [ -27,   56,    1],\n",
       "       [ 108,  282,    1],\n",
       "       [  68,  132,    1],\n",
       "       [  82,  299,    1],\n",
       "       [  46,  269,    1],\n",
       "       [  99,  165,    1],\n",
       "       [  50,  125,    1],\n",
       "       [-117,   97,    1],\n",
       "       [ 111,    5,    1],\n",
       "       [-120,  289,    1],\n",
       "       [ 101,  207,    1],\n",
       "       [  -7,  103,    1],\n",
       "       [-126,  134,    1],\n",
       "       [-145,  202,    1],\n",
       "       [ -70,  154,    1],\n",
       "       [   5,  163,    1],\n",
       "       [-100,  219,    1],\n",
       "       [ -36,  130,    1],\n",
       "       [ 122,  193,    1],\n",
       "       [  77,  240,    1],\n",
       "       [  38,   69,    1],\n",
       "       [-128,  225,    1],\n",
       "       [  72,  286,    1],\n",
       "       [ -34,   65,    1],\n",
       "       [  70,   42,    1],\n",
       "       [-133,  248,    1],\n",
       "       [-141,  223,    1],\n",
       "       [-120,  134,    1],\n",
       "       [-111,  276,    1],\n",
       "       [ 117,  291,    1],\n",
       "       [  38,    0,    1],\n",
       "       [-124,  138,    1],\n",
       "       [-120,  249,    1],\n",
       "       [  34,  157,    1],\n",
       "       [-124,  276,    1],\n",
       "       [  79,  120,    1],\n",
       "       [  44,  170,    1],\n",
       "       [  33,  142,    1],\n",
       "       [  91,  266,    1],\n",
       "       [ -20,  280,    1],\n",
       "       [ 112,  172,    1],\n",
       "       [-146,  232,    1],\n",
       "       [  58,  186,    1],\n",
       "       [ 117,  220,    1],\n",
       "       [-112,    0,    1],\n",
       "       [  72,    5,    1]])"
      ]
     },
     "execution_count": 17,
     "metadata": {},
     "output_type": "execute_result"
    }
   ],
   "source": [
    "X = np.concatenate([x1,x2,np.full(shape = (300,1),fill_value=1)],axis = 1)\n",
    "X"
   ]
  },
  {
   "cell_type": "code",
   "execution_count": 18,
   "id": "fe6ed014",
   "metadata": {
    "ExecuteTime": {
     "end_time": "2023-04-06T03:18:28.607338Z",
     "start_time": "2023-04-06T03:18:28.593332Z"
    }
   },
   "outputs": [
    {
     "name": "stdout",
     "output_type": "stream",
     "text": [
      "正规方程求解的方程的系数： 1.9999925286590892 2.00072600186272 4.852223538120128\n"
     ]
    }
   ],
   "source": [
    "coef_ = np.linalg.inv(X.T.dot(X)).dot(X.T).dot(y)\n",
    "w1_ = coef_[0][0]\n",
    "w2_ = coef_[1][0]\n",
    "b_ = coef_[2][0]\n",
    "print('正规方程求解的方程的系数：',w1_,w2_,b_)"
   ]
  },
  {
   "cell_type": "code",
   "execution_count": 19,
   "id": "398a51bc",
   "metadata": {
    "ExecuteTime": {
     "end_time": "2023-04-06T03:18:28.623345Z",
     "start_time": "2023-04-06T03:18:28.608340Z"
    }
   },
   "outputs": [
    {
     "name": "stdout",
     "output_type": "stream",
     "text": [
      "真实的方程的系数是： [2 2] [5]\n"
     ]
    }
   ],
   "source": [
    "print('真实的方程的系数是：',w,b)"
   ]
  },
  {
   "cell_type": "code",
   "execution_count": 20,
   "id": "648646bf",
   "metadata": {
    "ExecuteTime": {
     "end_time": "2023-04-06T03:18:28.638944Z",
     "start_time": "2023-04-06T03:18:28.624341Z"
    }
   },
   "outputs": [],
   "source": [
    "import warnings\n",
    "warnings.filterwarnings('ignore')"
   ]
  },
  {
   "cell_type": "code",
   "execution_count": 21,
   "id": "7ac4b17c",
   "metadata": {
    "ExecuteTime": {
     "end_time": "2023-04-06T03:18:28.731504Z",
     "start_time": "2023-04-06T03:18:28.639944Z"
    }
   },
   "outputs": [
    {
     "data": {
      "text/plain": [
       "[<mpl_toolkits.mplot3d.art3d.Line3D at 0x1da5cccb130>]"
      ]
     },
     "execution_count": 21,
     "metadata": {},
     "output_type": "execute_result"
    },
    {
     "data": {
      "image/png": "[encoded data removed]",
      "text/plain": [
       "<Figure size 648x432 with 1 Axes>"
      ]
     },
     "metadata": {
      "needs_background": "light"
     },
     "output_type": "display_data"
    }
   ],
   "source": [
    "fig = plt.figure(figsize=(9,6))\n",
    "ax = Axes3D(fig)\n",
    "ax.scatter(x1,x2,y,color = 'red') # 三维散点图\n",
    "ax.view_init(elev=10, azim=-20) # 调整视角\n",
    "\n",
    "# 特征1  x1\n",
    "x_axis = np.linspace(-150,150,num = 500)\n",
    "# 特征2  x2\n",
    "y_axis = np.linspace(0,300,num = 500)\n",
    "# 方程 斜率：w1_,w2_,截距：b_\n",
    "z_axis = x_axis * w1_ + y_axis * w2_ + b\n",
    "\n",
    "ax.plot(x_axis,y_axis,z_axis,color = 'green',lw = 5)"
   ]
  },
  {
   "cell_type": "markdown",
   "id": "94579329",
   "metadata": {},
   "source": [
    "### scikit-learn机器学习库调用线性回归"
   ]
  },
  {
   "cell_type": "markdown",
   "id": "728257a4",
   "metadata": {},
   "source": [
    "#### 简单线性回归"
   ]
  },
  {
   "cell_type": "code",
   "execution_count": 22,
   "id": "81f74cf5",
   "metadata": {
    "ExecuteTime": {
     "end_time": "2023-04-06T03:39:29.449135Z",
     "start_time": "2023-04-06T03:39:29.376132Z"
    }
   },
   "outputs": [
    {
     "data": {
      "text/plain": [
       "<matplotlib.collections.PathCollection at 0x1da5cd413a0>"
      ]
     },
     "execution_count": 22,
     "metadata": {},
     "output_type": "execute_result"
    },
    {
     "data": {
      "image/png": "[encoded data removed]",
      "text/plain": [
       "<Figure size 432x288 with 1 Axes>"
      ]
     },
     "metadata": {
      "needs_background": "light"
     },
     "output_type": "display_data"
    }
   ],
   "source": [
    "import numpy as np\n",
    "import matplotlib.pyplot as plt\n",
    "# 转化成矩阵 X\n",
    "X = np.linspace(0,10,num = 30).reshape(-1,1)\n",
    "# 斜率和截距，随机生成\n",
    "w = np.random.randint(1,5,size = 1)\n",
    "b = np.random.randint(1,10,size = 1) # w0\n",
    "# 根据一元一次方程计算目标值y，并加上“噪声”，数据有上下波动~\n",
    "y = X * w + b + np.random.randn(30,1)\n",
    "plt.scatter(X,y)"
   ]
  },
  {
   "cell_type": "code",
   "execution_count": 27,
   "id": "1f835946",
   "metadata": {
    "ExecuteTime": {
     "end_time": "2023-04-06T03:44:19.379215Z",
     "start_time": "2023-04-06T03:44:19.297505Z"
    },
    "collapsed": true
   },
   "outputs": [
    {
     "name": "stdout",
     "output_type": "stream",
     "text": [
      "算法求的的系数，斜率 [[3.0799825]]\n",
      "算法求的的截距，b： [4.4998701]\n",
      "真实的斜率和截距是： [3] [5]\n"
     ]
    },
    {
     "data": {
      "text/plain": [
       "[<matplotlib.lines.Line2D at 0x1da7e6053a0>]"
      ]
     },
     "execution_count": 27,
     "metadata": {},
     "output_type": "execute_result"
    },
    {
     "data": {
      "image/png": "[encoded data removed]",
      "text/plain": [
       "<Figure size 432x288 with 1 Axes>"
      ]
     },
     "metadata": {
      "needs_background": "light"
     },
     "output_type": "display_data"
    }
   ],
   "source": [
    "from sklearn.linear_model import LinearRegression\n",
    "model = LinearRegression(fit_intercept=True) # 计算截距\n",
    "model.fit(X,y)\n",
    "print('算法求的的系数，斜率',model.coef_)\n",
    "print('算法求的的截距，b：',model.intercept_)\n",
    "print('真实的斜率和截距是：',w,b)\n",
    "plt.scatter(X,y,color = 'red')\n",
    "plt.plot(X, model.coef_ * X + model.intercept_,color = 'green')"
   ]
  },
  {
   "cell_type": "code",
   "execution_count": 29,
   "id": "31abbf03",
   "metadata": {
    "ExecuteTime": {
     "end_time": "2023-04-06T03:48:47.081999Z",
     "start_time": "2023-04-06T03:48:47.000860Z"
    },
    "collapsed": true
   },
   "outputs": [
    {
     "name": "stdout",
     "output_type": "stream",
     "text": [
      "算法求的的系数，斜率 [[3.0799825 4.4998701]]\n",
      "算法求的的截距，b： 0.0\n",
      "真实的斜率和截距是： [3] [5]\n"
     ]
    },
    {
     "data": {
      "text/plain": [
       "[<matplotlib.lines.Line2D at 0x1da05710490>]"
      ]
     },
     "execution_count": 29,
     "metadata": {},
     "output_type": "execute_result"
    },
    {
     "data": {
      "image/png": "[encoded data removed]",
      "text/plain": [
       "<Figure size 432x288 with 1 Axes>"
      ]
     },
     "metadata": {
      "needs_background": "light"
     },
     "output_type": "display_data"
    }
   ],
   "source": [
    "from sklearn.linear_model import LinearRegression\n",
    "model = LinearRegression(fit_intercept=False) # 不计算截距\n",
    "\n",
    "X_ = np.concatenate([X,np.full(shape = (30,1),fill_value=1)],axis = 1)\n",
    "model.fit(X_,y)\n",
    "print('算法求的的系数，斜率',model.coef_)\n",
    "print('算法求的的截距，b：',model.intercept_)\n",
    "print('真实的斜率和截距是：',w,b)\n",
    "plt.scatter(X,y,color = 'red')\n",
    "plt.plot(X, model.coef_[0,0] * X + model.coef_[0,1],color = 'green')"
   ]
  },
  {
   "cell_type": "code",
   "execution_count": 30,
   "id": "6d3fa61b",
   "metadata": {
    "ExecuteTime": {
     "end_time": "2023-04-06T03:50:47.019984Z",
     "start_time": "2023-04-06T03:50:47.000403Z"
    }
   },
   "outputs": [
    {
     "data": {
      "text/plain": [
       "array([[3.0799825],\n",
       "       [4.4998701]])"
      ]
     },
     "execution_count": 30,
     "metadata": {},
     "output_type": "execute_result"
    }
   ],
   "source": [
    "np.linalg.inv(X_.T.dot(X_)).dot(X_.T).dot(y)"
   ]
  },
  {
   "cell_type": "markdown",
   "id": "c7ff4bce",
   "metadata": {},
   "source": [
    "#### 多元线性回归"
   ]
  },
  {
   "cell_type": "code",
   "execution_count": 31,
   "id": "f83dd5f3",
   "metadata": {
    "ExecuteTime": {
     "end_time": "2023-04-06T03:51:44.228927Z",
     "start_time": "2023-04-06T03:51:44.119431Z"
    },
    "collapsed": true
   },
   "outputs": [
    {
     "data": {
      "image/png": "[encoded data removed]",
      "text/plain": [
       "<Figure size 648x432 with 1 Axes>"
      ]
     },
     "metadata": {
      "needs_background": "light"
     },
     "output_type": "display_data"
    }
   ],
   "source": [
    "import numpy as np\n",
    "import matplotlib.pyplot as plt\n",
    "from mpl_toolkits.mplot3d.axes3d import Axes3D # 绘制三维图像\n",
    "\n",
    "# 转化成矩阵\n",
    "x1 = np.random.randint(-150,150,size = (300,1))\n",
    "x2 = np.random.randint(0,300,size = (300,1))\n",
    "\n",
    "# 斜率和截距，随机生成\n",
    "w = np.random.randint(1,5,size = 2)\n",
    "b = np.random.randint(1,10,size = 1)\n",
    "# 根据二元一次方程计算目标值y，并加上“噪声”，数据有上下波动~\n",
    "y = x1 * w[0] + x2 * w[1] + b + np.random.randn(300,1)\n",
    "fig = plt.figure(figsize=(9,6))\n",
    "ax = Axes3D(fig)\n",
    "ax.scatter(x1,x2,y) # 三维散点图\n",
    "ax.view_init(elev=10, azim=-20) # 调整视角"
   ]
  },
  {
   "cell_type": "code",
   "execution_count": 32,
   "id": "633a7d8a",
   "metadata": {
    "ExecuteTime": {
     "end_time": "2023-04-06T03:52:40.881158Z",
     "start_time": "2023-04-06T03:52:40.874722Z"
    }
   },
   "outputs": [
    {
     "name": "stdout",
     "output_type": "stream",
     "text": [
      "[[3.00009165 4.00059628]] [8.88505263]\n"
     ]
    }
   ],
   "source": [
    "model = LinearRegression(fit_intercept=True)\n",
    "X = np.concatenate([x1,x2],axis = 1)\n",
    "model.fit(X,y)\n",
    "print(model.coef_,model.intercept_)"
   ]
  },
  {
   "cell_type": "code",
   "execution_count": 33,
   "id": "2176f098",
   "metadata": {
    "ExecuteTime": {
     "end_time": "2023-04-06T03:52:57.129800Z",
     "start_time": "2023-04-06T03:52:57.121374Z"
    }
   },
   "outputs": [
    {
     "name": "stdout",
     "output_type": "stream",
     "text": [
      "[3 4] [9]\n"
     ]
    }
   ],
   "source": [
    "print(w,b)"
   ]
  },
  {
   "cell_type": "code",
   "execution_count": 34,
   "id": "e52ca553",
   "metadata": {
    "ExecuteTime": {
     "end_time": "2023-04-06T03:54:19.642250Z",
     "start_time": "2023-04-06T03:54:19.518322Z"
    }
   },
   "outputs": [
    {
     "data": {
      "text/plain": [
       "[<mpl_toolkits.mplot3d.art3d.Line3D at 0x1da05873b80>]"
      ]
     },
     "execution_count": 34,
     "metadata": {},
     "output_type": "execute_result"
    },
    {
     "data": {
      "image/png": "[encoded data removed]",
      "text/plain": [
       "<Figure size 648x432 with 1 Axes>"
      ]
     },
     "metadata": {
      "needs_background": "light"
     },
     "output_type": "display_data"
    }
   ],
   "source": [
    "fig = plt.figure(figsize=(9,6))\n",
    "ax = Axes3D(fig)\n",
    "ax.scatter(x1,x2,y,color = 'red') # 三维散点图\n",
    "ax.view_init(elev=10, azim=-20) # 调整视角\n",
    "\n",
    "# 特征1  x1\n",
    "x_axis = np.linspace(-150,150,num = 500)\n",
    "# 特征2  x2\n",
    "y_axis = np.linspace(0,300,num = 500)\n",
    "# 方程 斜率：w1_,w2_,截距：b_\n",
    "z_axis = x_axis * model.coef_[0,0] + y_axis * model.coef_[0,1] + model.intercept_\n",
    "\n",
    "ax.plot(x_axis,y_axis,z_axis,color = 'green',lw = 5)"
   ]
  },
  {
   "cell_type": "markdown",
   "id": "8cdc2430",
   "metadata": {},
   "source": [
    "### 线性回归-实战-波士顿房价"
   ]
  },
  {
   "cell_type": "markdown",
   "id": "78f99e98",
   "metadata": {},
   "source": [
    "#### 加载处理数据"
   ]
  },
  {
   "cell_type": "code",
   "id": "be9d049c",
   "metadata": {
    "ExecuteTime": {
     "end_time": "2024-12-03T02:11:00.387053Z",
     "start_time": "2024-12-03T02:11:00.381913Z"
    }
   },
   "source": [
    "import numpy as np\n",
    "from sklearn.neighbors import KNeighborsRegressor\n",
    "from sklearn.linear_model import LinearRegression\n",
    "from sklearn.model_selection import train_test_split\n",
    "from sklearn.model_selection import GridSearchCV\n",
    "import pandas as pd\n",
    "from sklearn import datasets"
   ],
   "outputs": [],
   "execution_count": 4
  },
  {
   "cell_type": "code",
   "id": "c75a9c8a",
   "metadata": {
    "ExecuteTime": {
     "end_time": "2024-12-03T02:13:59.490312Z",
     "start_time": "2024-12-03T02:13:59.482451Z"
    }
   },
   "source": [
    "data = pd.read_csv('./data/BostonHousing.csv')\n",
    "X = data.loc[:, :\"lstat\"]\n",
    "y = data.loc[:,\"medv\"]"
   ],
   "outputs": [],
   "execution_count": 12
  },
  {
   "cell_type": "code",
   "id": "80056652",
   "metadata": {
    "collapsed": true,
    "ExecuteTime": {
     "end_time": "2024-12-03T02:14:02.516127Z",
     "start_time": "2024-12-03T02:14:02.507209Z"
    }
   },
   "source": [
    "# 正态分布\n",
    "from sklearn.preprocessing import StandardScaler\n",
    "scaler = StandardScaler()\n",
    "X = scaler.fit_transform(X)\n",
    "X"
   ],
   "outputs": [
    {
     "data": {
      "text/plain": [
       "array([[-0.41978194,  0.28482986, -1.2879095 , ..., -1.45900038,\n",
       "         0.44105193, -1.0755623 ],\n",
       "       [-0.41733926, -0.48772236, -0.59338101, ..., -0.30309415,\n",
       "         0.44105193, -0.49243937],\n",
       "       [-0.41734159, -0.48772236, -0.59338101, ..., -0.30309415,\n",
       "         0.39642699, -1.2087274 ],\n",
       "       ...,\n",
       "       [-0.41344658, -0.48772236,  0.11573841, ...,  1.17646583,\n",
       "         0.44105193, -0.98304761],\n",
       "       [-0.40776407, -0.48772236,  0.11573841, ...,  1.17646583,\n",
       "         0.4032249 , -0.86530163],\n",
       "       [-0.41500016, -0.48772236,  0.11573841, ...,  1.17646583,\n",
       "         0.44105193, -0.66905833]])"
      ]
     },
     "execution_count": 13,
     "metadata": {},
     "output_type": "execute_result"
    }
   ],
   "execution_count": 13
  },
  {
   "cell_type": "code",
   "id": "330b72c7",
   "metadata": {
    "ExecuteTime": {
     "end_time": "2024-12-03T02:14:12.132287Z",
     "start_time": "2024-12-03T02:14:12.127201Z"
    }
   },
   "source": [
    "X_train,X_test,y_train,y_test = train_test_split(X,y,test_size=0.2,random_state=1024)"
   ],
   "outputs": [],
   "execution_count": 14
  },
  {
   "cell_type": "markdown",
   "id": "8b12c833",
   "metadata": {},
   "source": [
    "#### KNN算法建模"
   ]
  },
  {
   "cell_type": "code",
   "id": "8fa277c2",
   "metadata": {
    "collapsed": true,
    "ExecuteTime": {
     "end_time": "2024-12-03T02:14:16.357818Z",
     "start_time": "2024-12-03T02:14:15.483645Z"
    }
   },
   "source": [
    "%%time\n",
    "knn = KNeighborsRegressor()\n",
    "\n",
    "params = {'n_neighbors':[3,5,7,11,15,19,23,31],'weights':['uniform', 'distance'],\n",
    "          'p':[1,2]}\n",
    "\n",
    "gCV = GridSearchCV(knn,params,cv = 5,scoring='neg_mean_squared_error')\n",
    "\n",
    "gCV.fit(X_train,y_train)"
   ],
   "outputs": [
    {
     "name": "stdout",
     "output_type": "stream",
     "text": [
      "CPU times: user 723 ms, sys: 13 ms, total: 736 ms\n",
      "Wall time: 862 ms\n"
     ]
    },
    {
     "data": {
      "text/plain": [
       "GridSearchCV(cv=5, estimator=KNeighborsRegressor(),\n",
       "             param_grid={'n_neighbors': [3, 5, 7, 11, 15, 19, 23, 31],\n",
       "                         'p': [1, 2], 'weights': ['uniform', 'distance']},\n",
       "             scoring='neg_mean_squared_error')"
      ],
      "text/html": [
       "<style>#sk-container-id-2 {\n",
       "  /* Definition of color scheme common for light and dark mode */\n",
       "  --sklearn-color-text: black;\n",
       "  --sklearn-color-line: gray;\n",
       "  /* Definition of color scheme for unfitted estimators */\n",
       "  --sklearn-color-unfitted-level-0: #fff5e6;\n",
       "  --sklearn-color-unfitted-level-1: #f6e4d2;\n",
       "  --sklearn-color-unfitted-level-2: #ffe0b3;\n",
       "  --sklearn-color-unfitted-level-3: chocolate;\n",
       "  /* Definition of color scheme for fitted estimators */\n",
       "  --sklearn-color-fitted-level-0: #f0f8ff;\n",
       "  --sklearn-color-fitted-level-1: #d4ebff;\n",
       "  --sklearn-color-fitted-level-2: #b3dbfd;\n",
       "  --sklearn-color-fitted-level-3: cornflowerblue;\n",
       "\n",
       "  /* Specific color for light theme */\n",
       "  --sklearn-color-text-on-default-background: var(--sg-text-color, var(--theme-code-foreground, var(--jp-content-font-color1, black)));\n",
       "  --sklearn-color-background: var(--sg-background-color, var(--theme-background, var(--jp-layout-color0, white)));\n",
       "  --sklearn-color-border-box: var(--sg-text-color, var(--theme-code-foreground, var(--jp-content-font-color1, black)));\n",
       "  --sklearn-color-icon: #696969;\n",
       "\n",
       "  @media (prefers-color-scheme: dark) {\n",
       "    /* Redefinition of color scheme for dark theme */\n",
       "    --sklearn-color-text-on-default-background: var(--sg-text-color, var(--theme-code-foreground, var(--jp-content-font-color1, white)));\n",
       "    --sklearn-color-background: var(--sg-background-color, var(--theme-background, var(--jp-layout-color0, #111)));\n",
       "    --sklearn-color-border-box: var(--sg-text-color, var(--theme-code-foreground, var(--jp-content-font-color1, white)));\n",
       "    --sklearn-color-icon: #878787;\n",
       "  }\n",
       "}\n",
       "\n",
       "#sk-container-id-2 {\n",
       "  color: var(--sklearn-color-text);\n",
       "}\n",
       "\n",
       "#sk-container-id-2 pre {\n",
       "  padding: 0;\n",
       "}\n",
       "\n",
       "#sk-container-id-2 input.sk-hidden--visually {\n",
       "  border: 0;\n",
       "  clip: rect(1px 1px 1px 1px);\n",
       "  clip: rect(1px, 1px, 1px, 1px);\n",
       "  height: 1px;\n",
       "  margin: -1px;\n",
       "  overflow: hidden;\n",
       "  padding: 0;\n",
       "  position: absolute;\n",
       "  width: 1px;\n",
       "}\n",
       "\n",
       "#sk-container-id-2 div.sk-dashed-wrapped {\n",
       "  border: 1px dashed var(--sklearn-color-line);\n",
       "  margin: 0 0.4em 0.5em 0.4em;\n",
       "  box-sizing: border-box;\n",
       "  padding-bottom: 0.4em;\n",
       "  background-color: var(--sklearn-color-background);\n",
       "}\n",
       "\n",
       "#sk-container-id-2 div.sk-container {\n",
       "  /* jupyter's `normalize.less` sets `[hidden] { display: none; }`\n",
       "     but bootstrap.min.css set `[hidden] { display: none !important; }`\n",
       "     so we also need the `!important` here to be able to override the\n",
       "     default hidden behavior on the sphinx rendered scikit-learn.org.\n",
       "     See: https://github.com/scikit-learn/scikit-learn/issues/21755 */\n",
       "  display: inline-block !important;\n",
       "  position: relative;\n",
       "}\n",
       "\n",
       "#sk-container-id-2 div.sk-text-repr-fallback {\n",
       "  display: none;\n",
       "}\n",
       "\n",
       "div.sk-parallel-item,\n",
       "div.sk-serial,\n",
       "div.sk-item {\n",
       "  /* draw centered vertical line to link estimators */\n",
       "  background-image: linear-gradient(var(--sklearn-color-text-on-default-background), var(--sklearn-color-text-on-default-background));\n",
       "  background-size: 2px 100%;\n",
       "  background-repeat: no-repeat;\n",
       "  background-position: center center;\n",
       "}\n",
       "\n",
       "/* Parallel-specific style estimator block */\n",
       "\n",
       "#sk-container-id-2 div.sk-parallel-item::after {\n",
       "  content: \"\";\n",
       "  width: 100%;\n",
       "  border-bottom: 2px solid var(--sklearn-color-text-on-default-background);\n",
       "  flex-grow: 1;\n",
       "}\n",
       "\n",
       "#sk-container-id-2 div.sk-parallel {\n",
       "  display: flex;\n",
       "  align-items: stretch;\n",
       "  justify-content: center;\n",
       "  background-color: var(--sklearn-color-background);\n",
       "  position: relative;\n",
       "}\n",
       "\n",
       "#sk-container-id-2 div.sk-parallel-item {\n",
       "  display: flex;\n",
       "  flex-direction: column;\n",
       "}\n",
       "\n",
       "#sk-container-id-2 div.sk-parallel-item:first-child::after {\n",
       "  align-self: flex-end;\n",
       "  width: 50%;\n",
       "}\n",
       "\n",
       "#sk-container-id-2 div.sk-parallel-item:last-child::after {\n",
       "  align-self: flex-start;\n",
       "  width: 50%;\n",
       "}\n",
       "\n",
       "#sk-container-id-2 div.sk-parallel-item:only-child::after {\n",
       "  width: 0;\n",
       "}\n",
       "\n",
       "/* Serial-specific style estimator block */\n",
       "\n",
       "#sk-container-id-2 div.sk-serial {\n",
       "  display: flex;\n",
       "  flex-direction: column;\n",
       "  align-items: center;\n",
       "  background-color: var(--sklearn-color-background);\n",
       "  padding-right: 1em;\n",
       "  padding-left: 1em;\n",
       "}\n",
       "\n",
       "\n",
       "/* Toggleable style: style used for estimator/Pipeline/ColumnTransformer box that is\n",
       "clickable and can be expanded/collapsed.\n",
       "- Pipeline and ColumnTransformer use this feature and define the default style\n",
       "- Estimators will overwrite some part of the style using the `sk-estimator` class\n",
       "*/\n",
       "\n",
       "/* Pipeline and ColumnTransformer style (default) */\n",
       "\n",
       "#sk-container-id-2 div.sk-toggleable {\n",
       "  /* Default theme specific background. It is overwritten whether we have a\n",
       "  specific estimator or a Pipeline/ColumnTransformer */\n",
       "  background-color: var(--sklearn-color-background);\n",
       "}\n",
       "\n",
       "/* Toggleable label */\n",
       "#sk-container-id-2 label.sk-toggleable__label {\n",
       "  cursor: pointer;\n",
       "  display: block;\n",
       "  width: 100%;\n",
       "  margin-bottom: 0;\n",
       "  padding: 0.5em;\n",
       "  box-sizing: border-box;\n",
       "  text-align: center;\n",
       "}\n",
       "\n",
       "#sk-container-id-2 label.sk-toggleable__label-arrow:before {\n",
       "  /* Arrow on the left of the label */\n",
       "  content: \"▸\";\n",
       "  float: left;\n",
       "  margin-right: 0.25em;\n",
       "  color: var(--sklearn-color-icon);\n",
       "}\n",
       "\n",
       "#sk-container-id-2 label.sk-toggleable__label-arrow:hover:before {\n",
       "  color: var(--sklearn-color-text);\n",
       "}\n",
       "\n",
       "/* Toggleable content - dropdown */\n",
       "\n",
       "#sk-container-id-2 div.sk-toggleable__content {\n",
       "  max-height: 0;\n",
       "  max-width: 0;\n",
       "  overflow: hidden;\n",
       "  text-align: left;\n",
       "  /* unfitted */\n",
       "  background-color: var(--sklearn-color-unfitted-level-0);\n",
       "}\n",
       "\n",
       "#sk-container-id-2 div.sk-toggleable__content.fitted {\n",
       "  /* fitted */\n",
       "  background-color: var(--sklearn-color-fitted-level-0);\n",
       "}\n",
       "\n",
       "#sk-container-id-2 div.sk-toggleable__content pre {\n",
       "  margin: 0.2em;\n",
       "  border-radius: 0.25em;\n",
       "  color: var(--sklearn-color-text);\n",
       "  /* unfitted */\n",
       "  background-color: var(--sklearn-color-unfitted-level-0);\n",
       "}\n",
       "\n",
       "#sk-container-id-2 div.sk-toggleable__content.fitted pre {\n",
       "  /* unfitted */\n",
       "  background-color: var(--sklearn-color-fitted-level-0);\n",
       "}\n",
       "\n",
       "#sk-container-id-2 input.sk-toggleable__control:checked~div.sk-toggleable__content {\n",
       "  /* Expand drop-down */\n",
       "  max-height: 200px;\n",
       "  max-width: 100%;\n",
       "  overflow: auto;\n",
       "}\n",
       "\n",
       "#sk-container-id-2 input.sk-toggleable__control:checked~label.sk-toggleable__label-arrow:before {\n",
       "  content: \"▾\";\n",
       "}\n",
       "\n",
       "/* Pipeline/ColumnTransformer-specific style */\n",
       "\n",
       "#sk-container-id-2 div.sk-label input.sk-toggleable__control:checked~label.sk-toggleable__label {\n",
       "  color: var(--sklearn-color-text);\n",
       "  background-color: var(--sklearn-color-unfitted-level-2);\n",
       "}\n",
       "\n",
       "#sk-container-id-2 div.sk-label.fitted input.sk-toggleable__control:checked~label.sk-toggleable__label {\n",
       "  background-color: var(--sklearn-color-fitted-level-2);\n",
       "}\n",
       "\n",
       "/* Estimator-specific style */\n",
       "\n",
       "/* Colorize estimator box */\n",
       "#sk-container-id-2 div.sk-estimator input.sk-toggleable__control:checked~label.sk-toggleable__label {\n",
       "  /* unfitted */\n",
       "  background-color: var(--sklearn-color-unfitted-level-2);\n",
       "}\n",
       "\n",
       "#sk-container-id-2 div.sk-estimator.fitted input.sk-toggleable__control:checked~label.sk-toggleable__label {\n",
       "  /* fitted */\n",
       "  background-color: var(--sklearn-color-fitted-level-2);\n",
       "}\n",
       "\n",
       "#sk-container-id-2 div.sk-label label.sk-toggleable__label,\n",
       "#sk-container-id-2 div.sk-label label {\n",
       "  /* The background is the default theme color */\n",
       "  color: var(--sklearn-color-text-on-default-background);\n",
       "}\n",
       "\n",
       "/* On hover, darken the color of the background */\n",
       "#sk-container-id-2 div.sk-label:hover label.sk-toggleable__label {\n",
       "  color: var(--sklearn-color-text);\n",
       "  background-color: var(--sklearn-color-unfitted-level-2);\n",
       "}\n",
       "\n",
       "/* Label box, darken color on hover, fitted */\n",
       "#sk-container-id-2 div.sk-label.fitted:hover label.sk-toggleable__label.fitted {\n",
       "  color: var(--sklearn-color-text);\n",
       "  background-color: var(--sklearn-color-fitted-level-2);\n",
       "}\n",
       "\n",
       "/* Estimator label */\n",
       "\n",
       "#sk-container-id-2 div.sk-label label {\n",
       "  font-family: monospace;\n",
       "  font-weight: bold;\n",
       "  display: inline-block;\n",
       "  line-height: 1.2em;\n",
       "}\n",
       "\n",
       "#sk-container-id-2 div.sk-label-container {\n",
       "  text-align: center;\n",
       "}\n",
       "\n",
       "/* Estimator-specific */\n",
       "#sk-container-id-2 div.sk-estimator {\n",
       "  font-family: monospace;\n",
       "  border: 1px dotted var(--sklearn-color-border-box);\n",
       "  border-radius: 0.25em;\n",
       "  box-sizing: border-box;\n",
       "  margin-bottom: 0.5em;\n",
       "  /* unfitted */\n",
       "  background-color: var(--sklearn-color-unfitted-level-0);\n",
       "}\n",
       "\n",
       "#sk-container-id-2 div.sk-estimator.fitted {\n",
       "  /* fitted */\n",
       "  background-color: var(--sklearn-color-fitted-level-0);\n",
       "}\n",
       "\n",
       "/* on hover */\n",
       "#sk-container-id-2 div.sk-estimator:hover {\n",
       "  /* unfitted */\n",
       "  background-color: var(--sklearn-color-unfitted-level-2);\n",
       "}\n",
       "\n",
       "#sk-container-id-2 div.sk-estimator.fitted:hover {\n",
       "  /* fitted */\n",
       "  background-color: var(--sklearn-color-fitted-level-2);\n",
       "}\n",
       "\n",
       "/* Specification for estimator info (e.g. \"i\" and \"?\") */\n",
       "\n",
       "/* Common style for \"i\" and \"?\" */\n",
       "\n",
       ".sk-estimator-doc-link,\n",
       "a:link.sk-estimator-doc-link,\n",
       "a:visited.sk-estimator-doc-link {\n",
       "  float: right;\n",
       "  font-size: smaller;\n",
       "  line-height: 1em;\n",
       "  font-family: monospace;\n",
       "  background-color: var(--sklearn-color-background);\n",
       "  border-radius: 1em;\n",
       "  height: 1em;\n",
       "  width: 1em;\n",
       "  text-decoration: none !important;\n",
       "  margin-left: 1ex;\n",
       "  /* unfitted */\n",
       "  border: var(--sklearn-color-unfitted-level-1) 1pt solid;\n",
       "  color: var(--sklearn-color-unfitted-level-1);\n",
       "}\n",
       "\n",
       ".sk-estimator-doc-link.fitted,\n",
       "a:link.sk-estimator-doc-link.fitted,\n",
       "a:visited.sk-estimator-doc-link.fitted {\n",
       "  /* fitted */\n",
       "  border: var(--sklearn-color-fitted-level-1) 1pt solid;\n",
       "  color: var(--sklearn-color-fitted-level-1);\n",
       "}\n",
       "\n",
       "/* On hover */\n",
       "div.sk-estimator:hover .sk-estimator-doc-link:hover,\n",
       ".sk-estimator-doc-link:hover,\n",
       "div.sk-label-container:hover .sk-estimator-doc-link:hover,\n",
       ".sk-estimator-doc-link:hover {\n",
       "  /* unfitted */\n",
       "  background-color: var(--sklearn-color-unfitted-level-3);\n",
       "  color: var(--sklearn-color-background);\n",
       "  text-decoration: none;\n",
       "}\n",
       "\n",
       "div.sk-estimator.fitted:hover .sk-estimator-doc-link.fitted:hover,\n",
       ".sk-estimator-doc-link.fitted:hover,\n",
       "div.sk-label-container:hover .sk-estimator-doc-link.fitted:hover,\n",
       ".sk-estimator-doc-link.fitted:hover {\n",
       "  /* fitted */\n",
       "  background-color: var(--sklearn-color-fitted-level-3);\n",
       "  color: var(--sklearn-color-background);\n",
       "  text-decoration: none;\n",
       "}\n",
       "\n",
       "/* Span, style for the box shown on hovering the info icon */\n",
       ".sk-estimator-doc-link span {\n",
       "  display: none;\n",
       "  z-index: 9999;\n",
       "  position: relative;\n",
       "  font-weight: normal;\n",
       "  right: .2ex;\n",
       "  padding: .5ex;\n",
       "  margin: .5ex;\n",
       "  width: min-content;\n",
       "  min-width: 20ex;\n",
       "  max-width: 50ex;\n",
       "  color: var(--sklearn-color-text);\n",
       "  box-shadow: 2pt 2pt 4pt #999;\n",
       "  /* unfitted */\n",
       "  background: var(--sklearn-color-unfitted-level-0);\n",
       "  border: .5pt solid var(--sklearn-color-unfitted-level-3);\n",
       "}\n",
       "\n",
       ".sk-estimator-doc-link.fitted span {\n",
       "  /* fitted */\n",
       "  background: var(--sklearn-color-fitted-level-0);\n",
       "  border: var(--sklearn-color-fitted-level-3);\n",
       "}\n",
       "\n",
       ".sk-estimator-doc-link:hover span {\n",
       "  display: block;\n",
       "}\n",
       "\n",
       "/* \"?\"-specific style due to the `<a>` HTML tag */\n",
       "\n",
       "#sk-container-id-2 a.estimator_doc_link {\n",
       "  float: right;\n",
       "  font-size: 1rem;\n",
       "  line-height: 1em;\n",
       "  font-family: monospace;\n",
       "  background-color: var(--sklearn-color-background);\n",
       "  border-radius: 1rem;\n",
       "  height: 1rem;\n",
       "  width: 1rem;\n",
       "  text-decoration: none;\n",
       "  /* unfitted */\n",
       "  color: var(--sklearn-color-unfitted-level-1);\n",
       "  border: var(--sklearn-color-unfitted-level-1) 1pt solid;\n",
       "}\n",
       "\n",
       "#sk-container-id-2 a.estimator_doc_link.fitted {\n",
       "  /* fitted */\n",
       "  border: var(--sklearn-color-fitted-level-1) 1pt solid;\n",
       "  color: var(--sklearn-color-fitted-level-1);\n",
       "}\n",
       "\n",
       "/* On hover */\n",
       "#sk-container-id-2 a.estimator_doc_link:hover {\n",
       "  /* unfitted */\n",
       "  background-color: var(--sklearn-color-unfitted-level-3);\n",
       "  color: var(--sklearn-color-background);\n",
       "  text-decoration: none;\n",
       "}\n",
       "\n",
       "#sk-container-id-2 a.estimator_doc_link.fitted:hover {\n",
       "  /* fitted */\n",
       "  background-color: var(--sklearn-color-fitted-level-3);\n",
       "}\n",
       "</style><div id=\"sk-container-id-2\" class=\"sk-top-container\"><div class=\"sk-text-repr-fallback\"><pre>GridSearchCV(cv=5, estimator=KNeighborsRegressor(),\n",
       "             param_grid={&#x27;n_neighbors&#x27;: [3, 5, 7, 11, 15, 19, 23, 31],\n",
       "                         &#x27;p&#x27;: [1, 2], &#x27;weights&#x27;: [&#x27;uniform&#x27;, &#x27;distance&#x27;]},\n",
       "             scoring=&#x27;neg_mean_squared_error&#x27;)</pre><b>In a Jupyter environment, please rerun this cell to show the HTML representation or trust the notebook. <br />On GitHub, the HTML representation is unable to render, please try loading this page with nbviewer.org.</b></div><div class=\"sk-container\" hidden><div class=\"sk-item sk-dashed-wrapped\"><div class=\"sk-label-container\"><div class=\"sk-label fitted sk-toggleable\"><input class=\"sk-toggleable__control sk-hidden--visually\" id=\"sk-estimator-id-4\" type=\"checkbox\" ><label for=\"sk-estimator-id-4\" class=\"sk-toggleable__label fitted sk-toggleable__label-arrow fitted\">&nbsp;&nbsp;GridSearchCV<a class=\"sk-estimator-doc-link fitted\" rel=\"noreferrer\" target=\"_blank\" href=\"https://scikit-learn.org/1.5/modules/generated/sklearn.model_selection.GridSearchCV.html\">?<span>Documentation for GridSearchCV</span></a><span class=\"sk-estimator-doc-link fitted\">i<span>Fitted</span></span></label><div class=\"sk-toggleable__content fitted\"><pre>GridSearchCV(cv=5, estimator=KNeighborsRegressor(),\n",
       "             param_grid={&#x27;n_neighbors&#x27;: [3, 5, 7, 11, 15, 19, 23, 31],\n",
       "                         &#x27;p&#x27;: [1, 2], &#x27;weights&#x27;: [&#x27;uniform&#x27;, &#x27;distance&#x27;]},\n",
       "             scoring=&#x27;neg_mean_squared_error&#x27;)</pre></div> </div></div><div class=\"sk-parallel\"><div class=\"sk-parallel-item\"><div class=\"sk-item\"><div class=\"sk-label-container\"><div class=\"sk-label fitted sk-toggleable\"><input class=\"sk-toggleable__control sk-hidden--visually\" id=\"sk-estimator-id-5\" type=\"checkbox\" ><label for=\"sk-estimator-id-5\" class=\"sk-toggleable__label fitted sk-toggleable__label-arrow fitted\">best_estimator_: KNeighborsRegressor</label><div class=\"sk-toggleable__content fitted\"><pre>KNeighborsRegressor(n_neighbors=3, p=1, weights=&#x27;distance&#x27;)</pre></div> </div></div><div class=\"sk-serial\"><div class=\"sk-item\"><div class=\"sk-estimator fitted sk-toggleable\"><input class=\"sk-toggleable__control sk-hidden--visually\" id=\"sk-estimator-id-6\" type=\"checkbox\" ><label for=\"sk-estimator-id-6\" class=\"sk-toggleable__label fitted sk-toggleable__label-arrow fitted\">&nbsp;KNeighborsRegressor<a class=\"sk-estimator-doc-link fitted\" rel=\"noreferrer\" target=\"_blank\" href=\"https://scikit-learn.org/1.5/modules/generated/sklearn.neighbors.KNeighborsRegressor.html\">?<span>Documentation for KNeighborsRegressor</span></a></label><div class=\"sk-toggleable__content fitted\"><pre>KNeighborsRegressor(n_neighbors=3, p=1, weights=&#x27;distance&#x27;)</pre></div> </div></div></div></div></div></div></div></div></div>"
      ]
     },
     "execution_count": 15,
     "metadata": {},
     "output_type": "execute_result"
    }
   ],
   "execution_count": 15
  },
  {
   "cell_type": "code",
   "id": "9b2ad430",
   "metadata": {
    "ExecuteTime": {
     "end_time": "2024-12-03T02:11:23.588958Z",
     "start_time": "2024-12-03T02:11:23.583810Z"
    }
   },
   "source": [
    "gCV.best_params_"
   ],
   "outputs": [
    {
     "data": {
      "text/plain": [
       "{'n_neighbors': 3, 'p': 1, 'weights': 'distance'}"
      ]
     },
     "execution_count": 9,
     "metadata": {},
     "output_type": "execute_result"
    }
   ],
   "execution_count": 9
  },
  {
   "cell_type": "code",
   "id": "7043bc39",
   "metadata": {
    "ExecuteTime": {
     "end_time": "2024-12-03T02:14:26.493588Z",
     "start_time": "2024-12-03T02:14:26.485284Z"
    }
   },
   "source": [
    "gCV.score(X_test,y_test)"
   ],
   "outputs": [
    {
     "data": {
      "text/plain": [
       "np.float64(-13.213022379750711)"
      ]
     },
     "execution_count": 16,
     "metadata": {},
     "output_type": "execute_result"
    }
   ],
   "execution_count": 16
  },
  {
   "cell_type": "markdown",
   "id": "46319afe",
   "metadata": {},
   "source": [
    "#### 线性回归建模"
   ]
  },
  {
   "cell_type": "code",
   "id": "7e79b104",
   "metadata": {
    "scrolled": true,
    "ExecuteTime": {
     "end_time": "2024-12-03T02:11:45.743257Z",
     "start_time": "2024-12-03T02:11:45.734315Z"
    }
   },
   "source": [
    "# 正规方程\n",
    "model = LinearRegression()\n",
    "\n",
    "model.fit(X_train,y_train)\n",
    "\n",
    "# 决定系数,最大是1，最小可以负数\n",
    "model.score(X_test,y_test)"
   ],
   "outputs": [
    {
     "data": {
      "text/plain": [
       "0.7259630925033402"
      ]
     },
     "execution_count": 11,
     "metadata": {},
     "output_type": "execute_result"
    }
   ],
   "execution_count": 11
  },
  {
   "cell_type": "markdown",
   "id": "76725841",
   "metadata": {},
   "source": [
    "$(1 - \\frac{u}{v})$"
   ]
  },
  {
   "cell_type": "markdown",
   "id": "c7f65fc0",
   "metadata": {},
   "source": [
    "The coefficient of determination :math:`R^2` is defined as\n",
    ":math:`$(1 - \\frac{u}{v})$`, where :math:`u` is the residual\n",
    "sum of squares ``((y_true - y_pred)** 2).sum()`` and :math:`v`\n",
    "is the total sum of squares ``((y_true - y_true.mean()) ** 2).sum()``.\n",
    "The best possible score is 1.0 and it can be negative (because the\n",
    "model can be arbitrarily worse)."
   ]
  },
  {
   "cell_type": "code",
   "execution_count": null,
   "id": "8fe0f9bd",
   "metadata": {},
   "outputs": [],
   "source": []
  }
 ],
 "metadata": {
  "kernelspec": {
   "display_name": "Python 3 (ipykernel)",
   "language": "python",
   "name": "python3"
  },
  "language_info": {
   "codemirror_mode": {
    "name": "ipython",
    "version": 3
   },
   "file_extension": ".py",
   "mimetype": "text/x-python",
   "name": "python",
   "nbconvert_exporter": "python",
   "pygments_lexer": "ipython3",
   "version": "3.10.13"
  },
  "toc": {
   "base_numbering": 1,
   "nav_menu": {},
   "number_sections": true,
   "sideBar": true,
   "skip_h1_title": false,
   "title_cell": "Table of Contents",
   "title_sidebar": "Contents",
   "toc_cell": false,
   "toc_position": {
    "height": "calc(100% - 180px)",
    "left": "10px",
    "top": "150px",
    "width": "245.76px"
   },
   "toc_section_display": true,
   "toc_window_display": true
  }
 },
 "nbformat": 4,
 "nbformat_minor": 5
}
