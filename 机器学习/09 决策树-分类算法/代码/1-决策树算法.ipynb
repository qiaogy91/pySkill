{
 "cells": [
  {
   "cell_type": "markdown",
   "id": "2239c13e",
   "metadata": {},
   "source": [
    "### 头像真实与否案例"
   ]
  },
  {
   "cell_type": "markdown",
   "id": "6f11a2ff",
   "metadata": {},
   "source": [
    "#### 构造数据"
   ]
  },
  {
   "cell_type": "code",
   "execution_count": null,
   "id": "73f81fc2",
   "metadata": {
    "ExecuteTime": {
     "end_time": "2023-05-10T02:26:24.889366Z",
     "start_time": "2023-05-10T02:26:24.865130Z"
    }
   },
   "outputs": [],
   "source": [
    "import numpy as np\n",
    "import pandas as pd\n",
    "y = np.array(list('NYYYYYNYYN'))\n",
    "print(y)\n",
    "X = pd.DataFrame({'日志密度':list('sslmlmmlms'),\n",
    "                  '好友密度':list('slmmmlsmss'),\n",
    "                  '真实头像':list('NYYYYNYYYY'),\n",
    "                  '真实用户':y})\n",
    "X"
   ]
  },
  {
   "cell_type": "markdown",
   "id": "6e340c2f",
   "metadata": {},
   "source": [
    "#### 数据处理"
   ]
  },
  {
   "cell_type": "code",
   "execution_count": null,
   "id": "201274e9",
   "metadata": {
    "ExecuteTime": {
     "end_time": "2023-05-10T02:26:24.905313Z",
     "start_time": "2023-05-10T02:26:24.890364Z"
    }
   },
   "outputs": [],
   "source": [
    "X['日志密度'] = X['日志密度'].map({'s':0,'m':1,'l':2})\n",
    "X['好友密度'] = X['好友密度'].map({'s':0,'m':1,'l':2})\n",
    "X['真实头像'] = X['真实头像'].map({'N':0,'Y':1})\n",
    "X"
   ]
  },
  {
   "cell_type": "markdown",
   "id": "de5b723d",
   "metadata": {},
   "source": [
    "#### 拆分数据"
   ]
  },
  {
   "cell_type": "code",
   "execution_count": null,
   "id": "fe6eb2cc",
   "metadata": {
    "ExecuteTime": {
     "end_time": "2023-05-10T02:26:24.920268Z",
     "start_time": "2023-05-10T02:26:24.906314Z"
    }
   },
   "outputs": [],
   "source": [
    "y = X['真实用户']\n",
    "X = X.iloc[:,:3]\n",
    "display(X,y)"
   ]
  },
  {
   "cell_type": "markdown",
   "id": "23deb487",
   "metadata": {},
   "source": [
    "#### 可视化决策树（方法一）"
   ]
  },
  {
   "cell_type": "code",
   "execution_count": null,
   "id": "45070736",
   "metadata": {
    "ExecuteTime": {
     "end_time": "2023-05-10T02:26:25.151900Z",
     "start_time": "2023-05-10T02:26:24.922261Z"
    }
   },
   "outputs": [],
   "source": [
    "import matplotlib.pyplot as plt\n",
    "from sklearn.tree import DecisionTreeClassifier # 分类\n",
    "from sklearn import tree\n",
    "\n",
    "# 使用信息熵，作为分裂标准\n",
    "model = DecisionTreeClassifier(criterion='entropy')\n",
    "model.fit(X,y)\n",
    "\n",
    "plt.rcParams['font.family'] = 'STKaiti'\n",
    "plt.figure(figsize=(12,16))\n",
    "\n",
    "# 图形绘制\n",
    "fn = X.columns # 列名\n",
    "_ = tree.plot_tree(model,\n",
    "                   filled = True,# 着色\n",
    "                   feature_names=fn) # 属性二叉树裂分\n",
    "plt.savefig('./tree1.jpg')"
   ]
  },
  {
   "cell_type": "markdown",
   "id": "6d68f4f8",
   "metadata": {},
   "source": [
    "#### 可视化决策树（方法二）"
   ]
  },
  {
   "cell_type": "code",
   "execution_count": null,
   "id": "7aa0a0ae",
   "metadata": {
    "ExecuteTime": {
     "end_time": "2023-05-10T02:26:31.348833Z",
     "start_time": "2023-05-10T02:26:31.206103Z"
    }
   },
   "outputs": [],
   "source": [
    "from sklearn.datasets import load_iris\n",
    "from sklearn.tree import DecisionTreeClassifier\n",
    "import graphviz # pip install graphviz\n",
    "from sklearn import tree\n",
    "\n",
    "#建模\n",
    "model = DecisionTreeClassifier(criterion='entropy')\n",
    "model.fit(X,y)\n",
    "\n",
    "# 绘图\n",
    "dot_data = tree.export_graphviz(model, \n",
    "                            out_file=None, \n",
    "                            feature_names = X.columns,# 特征名\n",
    "                            class_names = np.unique(y),# 类别名\n",
    "                            filled=True, # 填充颜色\n",
    "                            rounded=True) # 圆角\n",
    "\n",
    "graph = graphviz.Source(dot_data)\n",
    "# graph.render('tree2',format='png')\n",
    "graph"
   ]
  },
  {
   "cell_type": "markdown",
   "id": "cd978c01",
   "metadata": {},
   "source": [
    "#### 中文字体乱码修正"
   ]
  },
  {
   "cell_type": "code",
   "execution_count": null,
   "id": "1635fb24",
   "metadata": {
    "ExecuteTime": {
     "end_time": "2023-05-10T01:46:00.116886Z",
     "start_time": "2023-05-10T01:46:00.016806Z"
    }
   },
   "outputs": [],
   "source": [
    "import re\n",
    "# 打开 dot_data.dot，修改 fontname=\"支持的中文字体\"\n",
    "f = open('tree2', 'r', encoding='utf-8')\n",
    "text = f.read()\n",
    "f.close()\n",
    "\n",
    "with open('./tree3', 'w', encoding=\"utf-8\") as file:\n",
    "    file.write(re.sub(r'fontname=\"helvetica\"', 'fontname=\"STKaiti\"', text))\n",
    "\n",
    "# 从文件中加载，展示\n",
    "graph = graphviz.Source.from_file('./tree3')\n",
    "graph.render('new_tree1')"
   ]
  },
  {
   "cell_type": "code",
   "execution_count": null,
   "id": "ec18abe2",
   "metadata": {
    "ExecuteTime": {
     "end_time": "2023-05-10T01:46:02.511655Z",
     "start_time": "2023-05-10T01:46:02.407055Z"
    }
   },
   "outputs": [],
   "source": [
    "import re\n",
    "# 打开 dot_data.dot，修改 fontname=\"支持的中文字体\"\n",
    "f = open('tree2', 'r', encoding='utf-8')\n",
    "text = f.read()\n",
    "f.close()\n",
    "\n",
    "with open('./tree3', 'w', encoding=\"utf-8\") as file:\n",
    "    file.write(re.sub(r'fontname=\"helvetica\"', 'fontname=\"Fangsong\"', text))\n",
    "\n",
    "# 从文件中加载，展示\n",
    "graph = graphviz.Source.from_file('./tree3')\n",
    "graph.render('new_tree2')"
   ]
  },
  {
   "cell_type": "markdown",
   "id": "5df49126",
   "metadata": {},
   "source": [
    "#### 字体查看"
   ]
  },
  {
   "cell_type": "code",
   "execution_count": null,
   "id": "763944dc",
   "metadata": {
    "ExecuteTime": {
     "end_time": "2023-05-10T01:43:43.595545Z",
     "start_time": "2023-05-10T01:43:43.240825Z"
    }
   },
   "outputs": [],
   "source": [
    "from matplotlib import font_manager\n",
    "fm = font_manager.FontManager()\n",
    "[font.name for font in fm.ttflist]"
   ]
  },
  {
   "cell_type": "markdown",
   "id": "e2e4921b",
   "metadata": {},
   "source": [
    "### 信息熵手动计算【复现决策树】"
   ]
  },
  {
   "cell_type": "markdown",
   "id": "6bcb6f3d",
   "metadata": {},
   "source": [
    "#### 账号数据"
   ]
  },
  {
   "cell_type": "code",
   "execution_count": null,
   "id": "9392caf6",
   "metadata": {
    "ExecuteTime": {
     "end_time": "2023-05-10T03:33:31.405156Z",
     "start_time": "2023-05-10T03:33:31.083400Z"
    }
   },
   "outputs": [],
   "source": [
    "import numpy as np\n",
    "import pandas as pd\n",
    "y = np.array(list('NYYYYYNYYN'))\n",
    "X = pd.DataFrame({'日志密度':list('sslmlmmlms'),\n",
    "                  '好友密度':list('slmmmlsmss'),\n",
    "                  '真实头像':list('NYYYYNYYYY'),\n",
    "                  '真实用户':y})\n",
    "X['日志密度'] = X['日志密度'].map({'s':0,'m':1,'l':2})\n",
    "X['好友密度'] = X['好友密度'].map({'s':0,'m':1,'l':2})\n",
    "X['真实头像'] = X['真实头像'].map({'N':0,'Y':1})\n",
    "X"
   ]
  },
  {
   "cell_type": "markdown",
   "id": "e40f10f9",
   "metadata": {},
   "source": [
    "#### 建模查看树结构"
   ]
  },
  {
   "cell_type": "code",
   "execution_count": null,
   "id": "ffa33fc9",
   "metadata": {
    "ExecuteTime": {
     "end_time": "2023-05-10T03:34:07.216065Z",
     "start_time": "2023-05-10T03:34:06.498783Z"
    }
   },
   "outputs": [],
   "source": [
    "from sklearn.tree import DecisionTreeClassifier\n",
    "import graphviz # pip install graphviz\n",
    "from sklearn import tree\n",
    "\n",
    "#建模\n",
    "model = DecisionTreeClassifier(criterion='entropy')\n",
    "model.fit(X.iloc[:,:3],y)\n",
    "\n",
    "# 绘图\n",
    "dot_data = tree.export_graphviz(model, \n",
    "                            out_file=None, \n",
    "                            feature_names = X.iloc[:,:3].columns,# 特征名\n",
    "                            class_names = np.unique(y),# 类别名\n",
    "                            filled=True, # 填充颜色\n",
    "                            rounded=True) # 圆角\n",
    "\n",
    "graph = graphviz.Source(dot_data)\n",
    "graph"
   ]
  },
  {
   "cell_type": "code",
   "execution_count": null,
   "id": "a5d938c6",
   "metadata": {
    "ExecuteTime": {
     "end_time": "2023-05-10T03:59:12.894323Z",
     "start_time": "2023-05-10T03:59:12.882327Z"
    }
   },
   "outputs": [],
   "source": [
    "0.4 * 0.811 + 0.6 * 0"
   ]
  },
  {
   "cell_type": "markdown",
   "id": "94f49cbd",
   "metadata": {},
   "source": [
    "#### 无条件信息熵"
   ]
  },
  {
   "cell_type": "code",
   "execution_count": null,
   "id": "b106958d",
   "metadata": {
    "ExecuteTime": {
     "end_time": "2023-05-10T04:01:33.024740Z",
     "start_time": "2023-05-10T04:01:33.015700Z"
    }
   },
   "outputs": [],
   "source": [
    "0.3 * np.log2(1/0.3) + 0.7 * np.log2(1/0.7)\n",
    "\n",
    "y = X['真实用户']\n",
    "p = y.value_counts()/y.size\n",
    "\n",
    "raw_entropy = round((p * np.log2(1/p)).sum(),3)\n",
    "print('无条件信息熵：',raw_entropy)"
   ]
  },
  {
   "cell_type": "markdown",
   "id": "811a436e",
   "metadata": {},
   "source": [
    "#### 日志密度划分条件信息熵"
   ]
  },
  {
   "cell_type": "code",
   "execution_count": null,
   "id": "c473c84c",
   "metadata": {
    "ExecuteTime": {
     "end_time": "2023-05-10T04:00:50.681767Z",
     "start_time": "2023-05-10T04:00:50.670805Z"
    }
   },
   "outputs": [],
   "source": [
    "np.set_printoptions(precision=3)"
   ]
  },
  {
   "cell_type": "code",
   "execution_count": null,
   "id": "6e628eb7",
   "metadata": {
    "ExecuteTime": {
     "end_time": "2023-05-10T04:02:12.234444Z",
     "start_time": "2023-05-10T04:02:12.209523Z"
    }
   },
   "outputs": [],
   "source": [
    "x = X['日志密度'].unique()\n",
    "x.sort()\n",
    "print(x)\n",
    "for i in range(len(x) - 1):\n",
    "    split = x[i:i+2].mean()\n",
    "    cond = X['日志密度'] <= split # 左右两边\n",
    "    # 左右两边的概率分布\n",
    "    p = cond.value_counts()/cond.size\n",
    "    # 按照条件划分，两边的概率再次进行计算\n",
    "    indexs = p.index # True 、 False\n",
    "    entropy = 0 # 条件信息熵\n",
    "    for index in indexs: # 分别获取左边和右边，分别计算左边的信息熵，右边的信息熵\n",
    "        user = X[cond == index]['真实用户'] # 获取左右的数据\n",
    "#         print('user：\\n',user)\n",
    "        p_user = user.value_counts()/user.size\n",
    "        entropy += ((p_user * np.log2(1/p_user)).round(3)).sum() * p[index]\n",
    "    print('分裂条件：',split,'信息熵：',entropy,'信息增益：',raw_entropy - entropy)"
   ]
  },
  {
   "cell_type": "markdown",
   "id": "66d3b44c",
   "metadata": {
    "ExecuteTime": {
     "end_time": "2023-05-10T02:14:31.815197Z",
     "start_time": "2023-05-10T02:14:31.810219Z"
    }
   },
   "source": [
    "#### 按照好友密度划分信息熵"
   ]
  },
  {
   "cell_type": "code",
   "execution_count": null,
   "id": "a213f307",
   "metadata": {
    "ExecuteTime": {
     "end_time": "2023-05-10T04:45:23.799031Z",
     "start_time": "2023-05-10T04:45:23.778044Z"
    }
   },
   "outputs": [],
   "source": [
    "x = X['好友密度'].unique()\n",
    "x.sort()\n",
    "print(x)\n",
    "for i in range(len(x) - 1):\n",
    "    split = x[i:i+2].mean()\n",
    "    cond = X['好友密度'] <= split # 左右两边\n",
    "    # 左右两边的概率分布\n",
    "    p = cond.value_counts()/cond.size\n",
    "    \n",
    "    # 按照条件划分，两边的概率再次进行计算\n",
    "    indexs = p.index # True 、 False\n",
    "    entropy = 0 # 条件信息熵\n",
    "    for index in indexs: # 分别获取左边和右边，分别计算左边的信息熵，右边的信息熵\n",
    "        user = X[cond == index]['真实用户'] # 获取左右的数据\n",
    "#         print('user：\\n',user)\n",
    "        p_user = user.value_counts()/user.size\n",
    "        entropy += round(((p_user * np.log2(1/p_user)).round(3)).sum() * p[index],4)\n",
    "    print('分裂条件：',split,'信息熵：',entropy,'信息增益：',raw_entropy - entropy)"
   ]
  },
  {
   "cell_type": "markdown",
   "id": "c29c9039",
   "metadata": {},
   "source": [
    "####  筛选最佳划分条件"
   ]
  },
  {
   "cell_type": "code",
   "execution_count": null,
   "id": "49be4293",
   "metadata": {
    "ExecuteTime": {
     "end_time": "2023-05-10T04:47:17.605288Z",
     "start_time": "2023-05-10T04:47:17.584263Z"
    }
   },
   "outputs": [],
   "source": [
    "columns = ['日志密度','好友密度','真实头像']\n",
    "lower_entropy = 1\n",
    "condition = {}\n",
    "for col in columns:\n",
    "    x = X[col].unique()\n",
    "    x.sort()\n",
    "    # 如何划分呢，分成两部分\n",
    "    for i in range(len(x) - 1):\n",
    "        split = x[i:i+2].mean()\n",
    "        cond = X[col] <= split\n",
    "        # 概率分布\n",
    "        p = cond.value_counts()/cond.size\n",
    "        # 按照条件划分，两边的概率分布情况\n",
    "        indexs =p.index\n",
    "        entropy = 0\n",
    "        for index in indexs:\n",
    "            user = X[cond == index]['真实用户']\n",
    "            p_user = user.value_counts()/user.size\n",
    "            entropy += (p_user * np.log2(1/p_user)).sum() * p[index]\n",
    "        print('分裂条件：',col,split,'信息熵：',entropy,'信息增益：',raw_entropy - entropy)\n",
    "        if entropy < lower_entropy:\n",
    "            condition.clear()\n",
    "            lower_entropy = entropy\n",
    "            condition[col] = split\n",
    "print('最佳列分条件是：',condition)"
   ]
  },
  {
   "cell_type": "markdown",
   "id": "f711a262",
   "metadata": {},
   "source": [
    "#### 继续裂分"
   ]
  },
  {
   "cell_type": "code",
   "execution_count": null,
   "id": "d2d6bf8d",
   "metadata": {
    "ExecuteTime": {
     "end_time": "2023-05-10T04:53:53.301399Z",
     "start_time": "2023-05-10T04:53:53.273461Z"
    }
   },
   "outputs": [],
   "source": [
    "cond = X['好友密度'] < 0.5\n",
    "X_ = X[cond]\n",
    "columns = ['日志密度','真实头像']\n",
    "lower_entropy = 1\n",
    "condition = {}\n",
    "for col in columns:\n",
    "    x = X_[col].unique()\n",
    "    x.sort()\n",
    "    # 如何划分呢，分成两部分\n",
    "    for i in range(len(x) - 1):\n",
    "        split = x[i:i+2].mean()\n",
    "        cond = X_[col] <= split\n",
    "        # 概率分布\n",
    "        p = cond.value_counts()/cond.size\n",
    "        # 按照条件划分，两边的概率分布情况\n",
    "        indexs =p.index\n",
    "        entropy = 0\n",
    "        for index in indexs:\n",
    "            user = X_[cond == index]['真实用户']\n",
    "            p_user = user.value_counts()/user.size\n",
    "            entropy += (p_user * np.log2(1/p_user)).sum() * p[index]\n",
    "        print('分裂条件：',col,split,'信息熵：',entropy*0.4,'信息增益：',0.3244 - entropy * 0.4)\n",
    "        if entropy < lower_entropy:\n",
    "            condition.clear()\n",
    "            lower_entropy = entropy\n",
    "            condition[col] = split\n",
    "print('最佳列分条件是：',condition)"
   ]
  },
  {
   "cell_type": "markdown",
   "id": "d44b9c56",
   "metadata": {},
   "source": [
    "### 决策树分裂指标"
   ]
  },
  {
   "cell_type": "code",
   "execution_count": 2,
   "id": "0123d31c",
   "metadata": {
    "ExecuteTime": {
     "end_time": "2023-05-10T05:53:08.165867Z",
     "start_time": "2023-05-10T05:53:08.073423Z"
    },
    "collapsed": true
   },
   "outputs": [
    {
     "data": {
      "image/svg+xml": [
       "<?xml version=\"1.0\" encoding=\"UTF-8\" standalone=\"no\"?>\n",
       "<!DOCTYPE svg PUBLIC \"-//W3C//DTD SVG 1.1//EN\"\n",
       " \"http://www.w3.org/Graphics/SVG/1.1/DTD/svg11.dtd\">\n",
       "<!-- Generated by graphviz version 2.48.0 (20210717.1556)\n",
       " -->\n",
       "<!-- Title: Tree Pages: 1 -->\n",
       "<svg width=\"291pt\" height=\"314pt\"\n",
       " viewBox=\"0.00 0.00 291.00 314.00\" xmlns=\"http://www.w3.org/2000/svg\" xmlns:xlink=\"http://www.w3.org/1999/xlink\">\n",
       "<g id=\"graph0\" class=\"graph\" transform=\"scale(1 1) rotate(0) translate(4 310)\">\n",
       "<title>Tree</title>\n",
       "<polygon fill=\"white\" stroke=\"transparent\" points=\"-4,4 -4,-310 287,-310 287,4 -4,4\"/>\n",
       "<!-- 0 -->\n",
       "<g id=\"node1\" class=\"node\">\n",
       "<title>0</title>\n",
       "<path fill=\"#8ec7f0\" stroke=\"black\" d=\"M219.5,-306C219.5,-306 119.5,-306 119.5,-306 113.5,-306 107.5,-300 107.5,-294 107.5,-294 107.5,-235 107.5,-235 107.5,-229 113.5,-223 119.5,-223 119.5,-223 219.5,-223 219.5,-223 225.5,-223 231.5,-229 231.5,-235 231.5,-235 231.5,-294 231.5,-294 231.5,-300 225.5,-306 219.5,-306\"/>\n",
       "<text text-anchor=\"middle\" x=\"169.5\" y=\"-290.8\" font-family=\"Helvetica,sans-Serif\" font-size=\"14.00\">好友密度 &lt;= 0.5</text>\n",
       "<text text-anchor=\"middle\" x=\"169.5\" y=\"-275.8\" font-family=\"Helvetica,sans-Serif\" font-size=\"14.00\">gini = 0.42</text>\n",
       "<text text-anchor=\"middle\" x=\"169.5\" y=\"-260.8\" font-family=\"Helvetica,sans-Serif\" font-size=\"14.00\">samples = 10</text>\n",
       "<text text-anchor=\"middle\" x=\"169.5\" y=\"-245.8\" font-family=\"Helvetica,sans-Serif\" font-size=\"14.00\">value = [3, 7]</text>\n",
       "<text text-anchor=\"middle\" x=\"169.5\" y=\"-230.8\" font-family=\"Helvetica,sans-Serif\" font-size=\"14.00\">class = Y</text>\n",
       "</g>\n",
       "<!-- 1 -->\n",
       "<g id=\"node2\" class=\"node\">\n",
       "<title>1</title>\n",
       "<path fill=\"#eeab7b\" stroke=\"black\" d=\"M155.5,-187C155.5,-187 55.5,-187 55.5,-187 49.5,-187 43.5,-181 43.5,-175 43.5,-175 43.5,-116 43.5,-116 43.5,-110 49.5,-104 55.5,-104 55.5,-104 155.5,-104 155.5,-104 161.5,-104 167.5,-110 167.5,-116 167.5,-116 167.5,-175 167.5,-175 167.5,-181 161.5,-187 155.5,-187\"/>\n",
       "<text text-anchor=\"middle\" x=\"105.5\" y=\"-171.8\" font-family=\"Helvetica,sans-Serif\" font-size=\"14.00\">日志密度 &lt;= 0.5</text>\n",
       "<text text-anchor=\"middle\" x=\"105.5\" y=\"-156.8\" font-family=\"Helvetica,sans-Serif\" font-size=\"14.00\">gini = 0.375</text>\n",
       "<text text-anchor=\"middle\" x=\"105.5\" y=\"-141.8\" font-family=\"Helvetica,sans-Serif\" font-size=\"14.00\">samples = 4</text>\n",
       "<text text-anchor=\"middle\" x=\"105.5\" y=\"-126.8\" font-family=\"Helvetica,sans-Serif\" font-size=\"14.00\">value = [3, 1]</text>\n",
       "<text text-anchor=\"middle\" x=\"105.5\" y=\"-111.8\" font-family=\"Helvetica,sans-Serif\" font-size=\"14.00\">class = N</text>\n",
       "</g>\n",
       "<!-- 0&#45;&gt;1 -->\n",
       "<g id=\"edge1\" class=\"edge\">\n",
       "<title>0&#45;&gt;1</title>\n",
       "<path fill=\"none\" stroke=\"black\" d=\"M147.3,-222.91C142.53,-214.2 137.44,-204.9 132.52,-195.89\"/>\n",
       "<polygon fill=\"black\" stroke=\"black\" points=\"135.53,-194.11 127.67,-187.02 129.39,-197.47 135.53,-194.11\"/>\n",
       "<text text-anchor=\"middle\" x=\"120.64\" y=\"-207.31\" font-family=\"Helvetica,sans-Serif\" font-size=\"14.00\">True</text>\n",
       "</g>\n",
       "<!-- 4 -->\n",
       "<g id=\"node5\" class=\"node\">\n",
       "<title>4</title>\n",
       "<path fill=\"#399de5\" stroke=\"black\" d=\"M271,-179.5C271,-179.5 198,-179.5 198,-179.5 192,-179.5 186,-173.5 186,-167.5 186,-167.5 186,-123.5 186,-123.5 186,-117.5 192,-111.5 198,-111.5 198,-111.5 271,-111.5 271,-111.5 277,-111.5 283,-117.5 283,-123.5 283,-123.5 283,-167.5 283,-167.5 283,-173.5 277,-179.5 271,-179.5\"/>\n",
       "<text text-anchor=\"middle\" x=\"234.5\" y=\"-164.3\" font-family=\"Helvetica,sans-Serif\" font-size=\"14.00\">gini = 0.0</text>\n",
       "<text text-anchor=\"middle\" x=\"234.5\" y=\"-149.3\" font-family=\"Helvetica,sans-Serif\" font-size=\"14.00\">samples = 6</text>\n",
       "<text text-anchor=\"middle\" x=\"234.5\" y=\"-134.3\" font-family=\"Helvetica,sans-Serif\" font-size=\"14.00\">value = [0, 6]</text>\n",
       "<text text-anchor=\"middle\" x=\"234.5\" y=\"-119.3\" font-family=\"Helvetica,sans-Serif\" font-size=\"14.00\">class = Y</text>\n",
       "</g>\n",
       "<!-- 0&#45;&gt;4 -->\n",
       "<g id=\"edge4\" class=\"edge\">\n",
       "<title>0&#45;&gt;4</title>\n",
       "<path fill=\"none\" stroke=\"black\" d=\"M192.05,-222.91C198.24,-211.76 204.97,-199.66 211.2,-188.44\"/>\n",
       "<polygon fill=\"black\" stroke=\"black\" points=\"214.28,-190.11 216.07,-179.67 208.16,-186.71 214.28,-190.11\"/>\n",
       "<text text-anchor=\"middle\" x=\"222.94\" y=\"-200.01\" font-family=\"Helvetica,sans-Serif\" font-size=\"14.00\">False</text>\n",
       "</g>\n",
       "<!-- 2 -->\n",
       "<g id=\"node3\" class=\"node\">\n",
       "<title>2</title>\n",
       "<path fill=\"#e58139\" stroke=\"black\" d=\"M85,-68C85,-68 12,-68 12,-68 6,-68 0,-62 0,-56 0,-56 0,-12 0,-12 0,-6 6,0 12,0 12,0 85,0 85,0 91,0 97,-6 97,-12 97,-12 97,-56 97,-56 97,-62 91,-68 85,-68\"/>\n",
       "<text text-anchor=\"middle\" x=\"48.5\" y=\"-52.8\" font-family=\"Helvetica,sans-Serif\" font-size=\"14.00\">gini = 0.0</text>\n",
       "<text text-anchor=\"middle\" x=\"48.5\" y=\"-37.8\" font-family=\"Helvetica,sans-Serif\" font-size=\"14.00\">samples = 2</text>\n",
       "<text text-anchor=\"middle\" x=\"48.5\" y=\"-22.8\" font-family=\"Helvetica,sans-Serif\" font-size=\"14.00\">value = [2, 0]</text>\n",
       "<text text-anchor=\"middle\" x=\"48.5\" y=\"-7.8\" font-family=\"Helvetica,sans-Serif\" font-size=\"14.00\">class = N</text>\n",
       "</g>\n",
       "<!-- 1&#45;&gt;2 -->\n",
       "<g id=\"edge2\" class=\"edge\">\n",
       "<title>1&#45;&gt;2</title>\n",
       "<path fill=\"none\" stroke=\"black\" d=\"M84.28,-103.73C79.76,-95.06 74.99,-85.9 70.46,-77.18\"/>\n",
       "<polygon fill=\"black\" stroke=\"black\" points=\"73.56,-75.55 65.83,-68.3 67.35,-78.79 73.56,-75.55\"/>\n",
       "</g>\n",
       "<!-- 3 -->\n",
       "<g id=\"node4\" class=\"node\">\n",
       "<title>3</title>\n",
       "<path fill=\"#ffffff\" stroke=\"black\" d=\"M200,-68C200,-68 127,-68 127,-68 121,-68 115,-62 115,-56 115,-56 115,-12 115,-12 115,-6 121,0 127,0 127,0 200,0 200,0 206,0 212,-6 212,-12 212,-12 212,-56 212,-56 212,-62 206,-68 200,-68\"/>\n",
       "<text text-anchor=\"middle\" x=\"163.5\" y=\"-52.8\" font-family=\"Helvetica,sans-Serif\" font-size=\"14.00\">gini = 0.5</text>\n",
       "<text text-anchor=\"middle\" x=\"163.5\" y=\"-37.8\" font-family=\"Helvetica,sans-Serif\" font-size=\"14.00\">samples = 2</text>\n",
       "<text text-anchor=\"middle\" x=\"163.5\" y=\"-22.8\" font-family=\"Helvetica,sans-Serif\" font-size=\"14.00\">value = [1, 1]</text>\n",
       "<text text-anchor=\"middle\" x=\"163.5\" y=\"-7.8\" font-family=\"Helvetica,sans-Serif\" font-size=\"14.00\">class = N</text>\n",
       "</g>\n",
       "<!-- 1&#45;&gt;3 -->\n",
       "<g id=\"edge3\" class=\"edge\">\n",
       "<title>1&#45;&gt;3</title>\n",
       "<path fill=\"none\" stroke=\"black\" d=\"M127.1,-103.73C131.69,-95.06 136.54,-85.9 141.16,-77.18\"/>\n",
       "<polygon fill=\"black\" stroke=\"black\" points=\"144.27,-78.77 145.86,-68.3 138.09,-75.5 144.27,-78.77\"/>\n",
       "</g>\n",
       "</g>\n",
       "</svg>\n"
      ],
      "text/plain": [
       "<graphviz.sources.Source at 0x262c4ff13a0>"
      ]
     },
     "execution_count": 2,
     "metadata": {},
     "output_type": "execute_result"
    }
   ],
   "source": [
    "from sklearn.tree import DecisionTreeClassifier\n",
    "import graphviz # pip install graphviz\n",
    "from sklearn import tree\n",
    "import numpy as np\n",
    "import pandas as pd\n",
    "y = np.array(list('NYYYYYNYYN'))\n",
    "X = pd.DataFrame({'日志密度':list('sslmlmmlms'),\n",
    "                  '好友密度':list('slmmmlsmss'),\n",
    "                  '真实头像':list('NYYYYNYYYY'),\n",
    "                  '真实用户':y})\n",
    "X['日志密度'] = X['日志密度'].map({'s':0,'m':1,'l':2})\n",
    "X['好友密度'] = X['好友密度'].map({'s':0,'m':1,'l':2})\n",
    "X['真实头像'] = X['真实头像'].map({'N':0,'Y':1})\n",
    "#建模\n",
    "model = DecisionTreeClassifier(criterion='gini')\n",
    "model.fit(X.iloc[:,:3],y)\n",
    "\n",
    "# 绘图\n",
    "dot_data = tree.export_graphviz(model, \n",
    "                            out_file=None, \n",
    "                            feature_names = X.iloc[:,:3].columns,# 特征名\n",
    "                            class_names = np.unique(y),# 类别名\n",
    "                            filled=True, # 填充颜色\n",
    "                            rounded=True) # 圆角\n",
    "\n",
    "graph = graphviz.Source(dot_data)\n",
    "graph"
   ]
  },
  {
   "cell_type": "code",
   "execution_count": 5,
   "id": "4d3847d0",
   "metadata": {
    "ExecuteTime": {
     "end_time": "2023-05-10T05:54:38.115229Z",
     "start_time": "2023-05-10T05:54:38.096104Z"
    }
   },
   "outputs": [
    {
     "data": {
      "text/plain": [
       "0.42"
      ]
     },
     "execution_count": 5,
     "metadata": {},
     "output_type": "execute_result"
    }
   ],
   "source": [
    "p = X['真实用户'].value_counts()/10\n",
    "\n",
    "round((p * (1 - p)).sum(),2)"
   ]
  },
  {
   "cell_type": "markdown",
   "id": "f9906280",
   "metadata": {},
   "source": [
    "### 决策树实战"
   ]
  },
  {
   "cell_type": "markdown",
   "id": "0dc23ffb",
   "metadata": {},
   "source": [
    "#### 加载数据"
   ]
  },
  {
   "cell_type": "code",
   "execution_count": 6,
   "id": "a133d669",
   "metadata": {
    "ExecuteTime": {
     "end_time": "2023-05-10T05:54:58.967254Z",
     "start_time": "2023-05-10T05:54:58.481717Z"
    }
   },
   "outputs": [],
   "source": [
    "import numpy as np\n",
    "from sklearn.tree import DecisionTreeClassifier\n",
    "from sklearn import datasets\n",
    "from sklearn.model_selection import train_test_split\n",
    "from sklearn import tree\n",
    "import matplotlib.pyplot as plt\n",
    "iris = datasets.load_iris()\n",
    "X,y = datasets.load_iris(return_X_y=True)\n",
    "\n",
    "# 随机拆分\n",
    "X_train,X_test,y_train,y_test = train_test_split(X,y,random_state = 256)"
   ]
  },
  {
   "cell_type": "markdown",
   "id": "100c792e",
   "metadata": {},
   "source": [
    "#### 决策树建模"
   ]
  },
  {
   "cell_type": "code",
   "execution_count": 9,
   "id": "04ff2dad",
   "metadata": {
    "ExecuteTime": {
     "end_time": "2023-05-10T05:58:35.668817Z",
     "start_time": "2023-05-10T05:58:35.655651Z"
    },
    "collapsed": true
   },
   "outputs": [
    {
     "name": "stdout",
     "output_type": "stream",
     "text": [
      "真实类别是： [0 2 1 0 2 1 0 1 1 1 2 2 2 0 0 1 2 1 0 2 1 0 1 1 2 0 0 1 0 0 2 0 2 2 1 2 0\n",
      " 0]\n",
      "预测类别是： [0 2 1 0 2 1 0 1 1 1 2 2 2 0 0 1 2 1 0 2 1 0 1 1 2 0 0 1 0 0 2 0 1 2 1 2 0\n",
      " 0]\n",
      "模型准确率是： 0.9736842105263158\n"
     ]
    },
    {
     "data": {
      "text/plain": [
       "array([[1., 0., 0.],\n",
       "       [0., 0., 1.],\n",
       "       [0., 1., 0.],\n",
       "       [1., 0., 0.],\n",
       "       [0., 0., 1.],\n",
       "       [0., 1., 0.],\n",
       "       [1., 0., 0.],\n",
       "       [0., 1., 0.],\n",
       "       [0., 1., 0.],\n",
       "       [0., 1., 0.],\n",
       "       [0., 0., 1.],\n",
       "       [0., 0., 1.],\n",
       "       [0., 0., 1.],\n",
       "       [1., 0., 0.],\n",
       "       [1., 0., 0.],\n",
       "       [0., 1., 0.],\n",
       "       [0., 0., 1.],\n",
       "       [0., 1., 0.],\n",
       "       [1., 0., 0.],\n",
       "       [0., 0., 1.],\n",
       "       [0., 1., 0.],\n",
       "       [1., 0., 0.],\n",
       "       [0., 1., 0.],\n",
       "       [0., 1., 0.],\n",
       "       [0., 0., 1.],\n",
       "       [1., 0., 0.],\n",
       "       [1., 0., 0.],\n",
       "       [0., 1., 0.],\n",
       "       [1., 0., 0.],\n",
       "       [1., 0., 0.],\n",
       "       [0., 0., 1.],\n",
       "       [1., 0., 0.],\n",
       "       [0., 1., 0.],\n",
       "       [0., 0., 1.],\n",
       "       [0., 1., 0.],\n",
       "       [0., 0., 1.],\n",
       "       [1., 0., 0.],\n",
       "       [1., 0., 0.]])"
      ]
     },
     "execution_count": 9,
     "metadata": {},
     "output_type": "execute_result"
    }
   ],
   "source": [
    "# max_depth调整树深度：剪枝操作\n",
    "# max_depth默认，深度最大，延伸到将数据完全划分开为止。\n",
    "model = DecisionTreeClassifier(max_depth=None)\n",
    "model.fit(X_train,y_train)\n",
    "y_ = model.predict(X_test)\n",
    "print('真实类别是：',y_test)\n",
    "print('预测类别是：',y_)\n",
    "print('模型准确率是：',model.score(X_test,y_test))\n",
    "\n",
    "proba_ = model.predict_proba(X_test)\n",
    "proba_"
   ]
  },
  {
   "cell_type": "markdown",
   "id": "cd35688e",
   "metadata": {},
   "source": [
    "#### 决策树可视化"
   ]
  },
  {
   "cell_type": "code",
   "execution_count": 10,
   "id": "c296d9cb",
   "metadata": {
    "ExecuteTime": {
     "end_time": "2023-05-10T05:59:13.083087Z",
     "start_time": "2023-05-10T05:59:13.003485Z"
    },
    "collapsed": true
   },
   "outputs": [
    {
     "data": {
      "image/svg+xml": [
       "<?xml version=\"1.0\" encoding=\"UTF-8\" standalone=\"no\"?>\n",
       "<!DOCTYPE svg PUBLIC \"-//W3C//DTD SVG 1.1//EN\"\n",
       " \"http://www.w3.org/Graphics/SVG/1.1/DTD/svg11.dtd\">\n",
       "<!-- Generated by graphviz version 2.48.0 (20210717.1556)\n",
       " -->\n",
       "<!-- Title: Tree Pages: 1 -->\n",
       "<svg width=\"859pt\" height=\"552pt\"\n",
       " viewBox=\"0.00 0.00 859.00 552.00\" xmlns=\"http://www.w3.org/2000/svg\" xmlns:xlink=\"http://www.w3.org/1999/xlink\">\n",
       "<g id=\"graph0\" class=\"graph\" transform=\"scale(1 1) rotate(0) translate(4 548)\">\n",
       "<title>Tree</title>\n",
       "<polygon fill=\"white\" stroke=\"transparent\" points=\"-4,4 -4,-548 855,-548 855,4 -4,4\"/>\n",
       "<!-- 0 -->\n",
       "<g id=\"node1\" class=\"node\">\n",
       "<title>0</title>\n",
       "<path fill=\"#ffffff\" stroke=\"black\" d=\"M508.5,-544C508.5,-544 358.5,-544 358.5,-544 352.5,-544 346.5,-538 346.5,-532 346.5,-532 346.5,-473 346.5,-473 346.5,-467 352.5,-461 358.5,-461 358.5,-461 508.5,-461 508.5,-461 514.5,-461 520.5,-467 520.5,-473 520.5,-473 520.5,-532 520.5,-532 520.5,-538 514.5,-544 508.5,-544\"/>\n",
       "<text text-anchor=\"middle\" x=\"433.5\" y=\"-528.8\" font-family=\"Helvetica,sans-Serif\" font-size=\"14.00\">petal length (cm) &lt;= 2.45</text>\n",
       "<text text-anchor=\"middle\" x=\"433.5\" y=\"-513.8\" font-family=\"Helvetica,sans-Serif\" font-size=\"14.00\">gini = 0.666</text>\n",
       "<text text-anchor=\"middle\" x=\"433.5\" y=\"-498.8\" font-family=\"Helvetica,sans-Serif\" font-size=\"14.00\">samples = 112</text>\n",
       "<text text-anchor=\"middle\" x=\"433.5\" y=\"-483.8\" font-family=\"Helvetica,sans-Serif\" font-size=\"14.00\">value = [36, 38, 38]</text>\n",
       "<text text-anchor=\"middle\" x=\"433.5\" y=\"-468.8\" font-family=\"Helvetica,sans-Serif\" font-size=\"14.00\">class = versicolor</text>\n",
       "</g>\n",
       "<!-- 1 -->\n",
       "<g id=\"node2\" class=\"node\">\n",
       "<title>1</title>\n",
       "<path fill=\"#e58139\" stroke=\"black\" d=\"M401,-417.5C401,-417.5 304,-417.5 304,-417.5 298,-417.5 292,-411.5 292,-405.5 292,-405.5 292,-361.5 292,-361.5 292,-355.5 298,-349.5 304,-349.5 304,-349.5 401,-349.5 401,-349.5 407,-349.5 413,-355.5 413,-361.5 413,-361.5 413,-405.5 413,-405.5 413,-411.5 407,-417.5 401,-417.5\"/>\n",
       "<text text-anchor=\"middle\" x=\"352.5\" y=\"-402.3\" font-family=\"Helvetica,sans-Serif\" font-size=\"14.00\">gini = 0.0</text>\n",
       "<text text-anchor=\"middle\" x=\"352.5\" y=\"-387.3\" font-family=\"Helvetica,sans-Serif\" font-size=\"14.00\">samples = 36</text>\n",
       "<text text-anchor=\"middle\" x=\"352.5\" y=\"-372.3\" font-family=\"Helvetica,sans-Serif\" font-size=\"14.00\">value = [36, 0, 0]</text>\n",
       "<text text-anchor=\"middle\" x=\"352.5\" y=\"-357.3\" font-family=\"Helvetica,sans-Serif\" font-size=\"14.00\">class = setosa</text>\n",
       "</g>\n",
       "<!-- 0&#45;&gt;1 -->\n",
       "<g id=\"edge1\" class=\"edge\">\n",
       "<title>0&#45;&gt;1</title>\n",
       "<path fill=\"none\" stroke=\"black\" d=\"M405.4,-460.91C397.61,-449.65 389.14,-437.42 381.3,-426.11\"/>\n",
       "<polygon fill=\"black\" stroke=\"black\" points=\"384.03,-423.9 375.46,-417.67 378.28,-427.88 384.03,-423.9\"/>\n",
       "<text text-anchor=\"middle\" x=\"370.99\" y=\"-438.56\" font-family=\"Helvetica,sans-Serif\" font-size=\"14.00\">True</text>\n",
       "</g>\n",
       "<!-- 2 -->\n",
       "<g id=\"node3\" class=\"node\">\n",
       "<title>2</title>\n",
       "<path fill=\"#ffffff\" stroke=\"black\" d=\"M587.5,-425C587.5,-425 443.5,-425 443.5,-425 437.5,-425 431.5,-419 431.5,-413 431.5,-413 431.5,-354 431.5,-354 431.5,-348 437.5,-342 443.5,-342 443.5,-342 587.5,-342 587.5,-342 593.5,-342 599.5,-348 599.5,-354 599.5,-354 599.5,-413 599.5,-413 599.5,-419 593.5,-425 587.5,-425\"/>\n",
       "<text text-anchor=\"middle\" x=\"515.5\" y=\"-409.8\" font-family=\"Helvetica,sans-Serif\" font-size=\"14.00\">petal width (cm) &lt;= 1.75</text>\n",
       "<text text-anchor=\"middle\" x=\"515.5\" y=\"-394.8\" font-family=\"Helvetica,sans-Serif\" font-size=\"14.00\">gini = 0.5</text>\n",
       "<text text-anchor=\"middle\" x=\"515.5\" y=\"-379.8\" font-family=\"Helvetica,sans-Serif\" font-size=\"14.00\">samples = 76</text>\n",
       "<text text-anchor=\"middle\" x=\"515.5\" y=\"-364.8\" font-family=\"Helvetica,sans-Serif\" font-size=\"14.00\">value = [0, 38, 38]</text>\n",
       "<text text-anchor=\"middle\" x=\"515.5\" y=\"-349.8\" font-family=\"Helvetica,sans-Serif\" font-size=\"14.00\">class = versicolor</text>\n",
       "</g>\n",
       "<!-- 0&#45;&gt;2 -->\n",
       "<g id=\"edge2\" class=\"edge\">\n",
       "<title>0&#45;&gt;2</title>\n",
       "<path fill=\"none\" stroke=\"black\" d=\"M461.95,-460.91C468.18,-452.01 474.84,-442.51 481.28,-433.33\"/>\n",
       "<polygon fill=\"black\" stroke=\"black\" points=\"484.23,-435.22 487.1,-425.02 478.5,-431.2 484.23,-435.22\"/>\n",
       "<text text-anchor=\"middle\" x=\"491.43\" y=\"-445.94\" font-family=\"Helvetica,sans-Serif\" font-size=\"14.00\">False</text>\n",
       "</g>\n",
       "<!-- 3 -->\n",
       "<g id=\"node4\" class=\"node\">\n",
       "<title>3</title>\n",
       "<path fill=\"#4ee88f\" stroke=\"black\" d=\"M484.5,-306C484.5,-306 334.5,-306 334.5,-306 328.5,-306 322.5,-300 322.5,-294 322.5,-294 322.5,-235 322.5,-235 322.5,-229 328.5,-223 334.5,-223 334.5,-223 484.5,-223 484.5,-223 490.5,-223 496.5,-229 496.5,-235 496.5,-235 496.5,-294 496.5,-294 496.5,-300 490.5,-306 484.5,-306\"/>\n",
       "<text text-anchor=\"middle\" x=\"409.5\" y=\"-290.8\" font-family=\"Helvetica,sans-Serif\" font-size=\"14.00\">petal length (cm) &lt;= 4.95</text>\n",
       "<text text-anchor=\"middle\" x=\"409.5\" y=\"-275.8\" font-family=\"Helvetica,sans-Serif\" font-size=\"14.00\">gini = 0.176</text>\n",
       "<text text-anchor=\"middle\" x=\"409.5\" y=\"-260.8\" font-family=\"Helvetica,sans-Serif\" font-size=\"14.00\">samples = 41</text>\n",
       "<text text-anchor=\"middle\" x=\"409.5\" y=\"-245.8\" font-family=\"Helvetica,sans-Serif\" font-size=\"14.00\">value = [0, 37, 4]</text>\n",
       "<text text-anchor=\"middle\" x=\"409.5\" y=\"-230.8\" font-family=\"Helvetica,sans-Serif\" font-size=\"14.00\">class = versicolor</text>\n",
       "</g>\n",
       "<!-- 2&#45;&gt;3 -->\n",
       "<g id=\"edge3\" class=\"edge\">\n",
       "<title>2&#45;&gt;3</title>\n",
       "<path fill=\"none\" stroke=\"black\" d=\"M478.72,-341.91C470.42,-332.74 461.53,-322.93 452.98,-313.49\"/>\n",
       "<polygon fill=\"black\" stroke=\"black\" points=\"455.52,-311.08 446.21,-306.02 450.33,-315.78 455.52,-311.08\"/>\n",
       "</g>\n",
       "<!-- 10 -->\n",
       "<g id=\"node11\" class=\"node\">\n",
       "<title>10</title>\n",
       "<path fill=\"#853fe6\" stroke=\"black\" d=\"M697.5,-306C697.5,-306 547.5,-306 547.5,-306 541.5,-306 535.5,-300 535.5,-294 535.5,-294 535.5,-235 535.5,-235 535.5,-229 541.5,-223 547.5,-223 547.5,-223 697.5,-223 697.5,-223 703.5,-223 709.5,-229 709.5,-235 709.5,-235 709.5,-294 709.5,-294 709.5,-300 703.5,-306 697.5,-306\"/>\n",
       "<text text-anchor=\"middle\" x=\"622.5\" y=\"-290.8\" font-family=\"Helvetica,sans-Serif\" font-size=\"14.00\">petal length (cm) &lt;= 4.85</text>\n",
       "<text text-anchor=\"middle\" x=\"622.5\" y=\"-275.8\" font-family=\"Helvetica,sans-Serif\" font-size=\"14.00\">gini = 0.056</text>\n",
       "<text text-anchor=\"middle\" x=\"622.5\" y=\"-260.8\" font-family=\"Helvetica,sans-Serif\" font-size=\"14.00\">samples = 35</text>\n",
       "<text text-anchor=\"middle\" x=\"622.5\" y=\"-245.8\" font-family=\"Helvetica,sans-Serif\" font-size=\"14.00\">value = [0, 1, 34]</text>\n",
       "<text text-anchor=\"middle\" x=\"622.5\" y=\"-230.8\" font-family=\"Helvetica,sans-Serif\" font-size=\"14.00\">class = virginica</text>\n",
       "</g>\n",
       "<!-- 2&#45;&gt;10 -->\n",
       "<g id=\"edge10\" class=\"edge\">\n",
       "<title>2&#45;&gt;10</title>\n",
       "<path fill=\"none\" stroke=\"black\" d=\"M552.62,-341.91C561.01,-332.74 569.98,-322.93 578.61,-313.49\"/>\n",
       "<polygon fill=\"black\" stroke=\"black\" points=\"581.28,-315.76 585.44,-306.02 576.11,-311.04 581.28,-315.76\"/>\n",
       "</g>\n",
       "<!-- 4 -->\n",
       "<g id=\"node5\" class=\"node\">\n",
       "<title>4</title>\n",
       "<path fill=\"#3fe685\" stroke=\"black\" d=\"M275.5,-187C275.5,-187 131.5,-187 131.5,-187 125.5,-187 119.5,-181 119.5,-175 119.5,-175 119.5,-116 119.5,-116 119.5,-110 125.5,-104 131.5,-104 131.5,-104 275.5,-104 275.5,-104 281.5,-104 287.5,-110 287.5,-116 287.5,-116 287.5,-175 287.5,-175 287.5,-181 281.5,-187 275.5,-187\"/>\n",
       "<text text-anchor=\"middle\" x=\"203.5\" y=\"-171.8\" font-family=\"Helvetica,sans-Serif\" font-size=\"14.00\">petal width (cm) &lt;= 1.65</text>\n",
       "<text text-anchor=\"middle\" x=\"203.5\" y=\"-156.8\" font-family=\"Helvetica,sans-Serif\" font-size=\"14.00\">gini = 0.054</text>\n",
       "<text text-anchor=\"middle\" x=\"203.5\" y=\"-141.8\" font-family=\"Helvetica,sans-Serif\" font-size=\"14.00\">samples = 36</text>\n",
       "<text text-anchor=\"middle\" x=\"203.5\" y=\"-126.8\" font-family=\"Helvetica,sans-Serif\" font-size=\"14.00\">value = [0, 35, 1]</text>\n",
       "<text text-anchor=\"middle\" x=\"203.5\" y=\"-111.8\" font-family=\"Helvetica,sans-Serif\" font-size=\"14.00\">class = versicolor</text>\n",
       "</g>\n",
       "<!-- 3&#45;&gt;4 -->\n",
       "<g id=\"edge4\" class=\"edge\">\n",
       "<title>3&#45;&gt;4</title>\n",
       "<path fill=\"none\" stroke=\"black\" d=\"M338.03,-222.91C320.45,-212.92 301.52,-202.17 283.57,-191.98\"/>\n",
       "<polygon fill=\"black\" stroke=\"black\" points=\"285.27,-188.92 274.84,-187.02 281.81,-195 285.27,-188.92\"/>\n",
       "</g>\n",
       "<!-- 7 -->\n",
       "<g id=\"node8\" class=\"node\">\n",
       "<title>7</title>\n",
       "<path fill=\"#d5bdf6\" stroke=\"black\" d=\"M481.5,-187C481.5,-187 337.5,-187 337.5,-187 331.5,-187 325.5,-181 325.5,-175 325.5,-175 325.5,-116 325.5,-116 325.5,-110 331.5,-104 337.5,-104 337.5,-104 481.5,-104 481.5,-104 487.5,-104 493.5,-110 493.5,-116 493.5,-116 493.5,-175 493.5,-175 493.5,-181 487.5,-187 481.5,-187\"/>\n",
       "<text text-anchor=\"middle\" x=\"409.5\" y=\"-171.8\" font-family=\"Helvetica,sans-Serif\" font-size=\"14.00\">petal width (cm) &lt;= 1.55</text>\n",
       "<text text-anchor=\"middle\" x=\"409.5\" y=\"-156.8\" font-family=\"Helvetica,sans-Serif\" font-size=\"14.00\">gini = 0.48</text>\n",
       "<text text-anchor=\"middle\" x=\"409.5\" y=\"-141.8\" font-family=\"Helvetica,sans-Serif\" font-size=\"14.00\">samples = 5</text>\n",
       "<text text-anchor=\"middle\" x=\"409.5\" y=\"-126.8\" font-family=\"Helvetica,sans-Serif\" font-size=\"14.00\">value = [0, 2, 3]</text>\n",
       "<text text-anchor=\"middle\" x=\"409.5\" y=\"-111.8\" font-family=\"Helvetica,sans-Serif\" font-size=\"14.00\">class = virginica</text>\n",
       "</g>\n",
       "<!-- 3&#45;&gt;7 -->\n",
       "<g id=\"edge7\" class=\"edge\">\n",
       "<title>3&#45;&gt;7</title>\n",
       "<path fill=\"none\" stroke=\"black\" d=\"M409.5,-222.91C409.5,-214.65 409.5,-205.86 409.5,-197.3\"/>\n",
       "<polygon fill=\"black\" stroke=\"black\" points=\"413,-197.02 409.5,-187.02 406,-197.02 413,-197.02\"/>\n",
       "</g>\n",
       "<!-- 5 -->\n",
       "<g id=\"node6\" class=\"node\">\n",
       "<title>5</title>\n",
       "<path fill=\"#39e581\" stroke=\"black\" d=\"M115,-68C115,-68 12,-68 12,-68 6,-68 0,-62 0,-56 0,-56 0,-12 0,-12 0,-6 6,0 12,0 12,0 115,0 115,0 121,0 127,-6 127,-12 127,-12 127,-56 127,-56 127,-62 121,-68 115,-68\"/>\n",
       "<text text-anchor=\"middle\" x=\"63.5\" y=\"-52.8\" font-family=\"Helvetica,sans-Serif\" font-size=\"14.00\">gini = 0.0</text>\n",
       "<text text-anchor=\"middle\" x=\"63.5\" y=\"-37.8\" font-family=\"Helvetica,sans-Serif\" font-size=\"14.00\">samples = 35</text>\n",
       "<text text-anchor=\"middle\" x=\"63.5\" y=\"-22.8\" font-family=\"Helvetica,sans-Serif\" font-size=\"14.00\">value = [0, 35, 0]</text>\n",
       "<text text-anchor=\"middle\" x=\"63.5\" y=\"-7.8\" font-family=\"Helvetica,sans-Serif\" font-size=\"14.00\">class = versicolor</text>\n",
       "</g>\n",
       "<!-- 4&#45;&gt;5 -->\n",
       "<g id=\"edge5\" class=\"edge\">\n",
       "<title>4&#45;&gt;5</title>\n",
       "<path fill=\"none\" stroke=\"black\" d=\"M151.37,-103.73C139.24,-94.24 126.35,-84.16 114.28,-74.72\"/>\n",
       "<polygon fill=\"black\" stroke=\"black\" points=\"116.11,-71.7 106.07,-68.3 111.8,-77.22 116.11,-71.7\"/>\n",
       "</g>\n",
       "<!-- 6 -->\n",
       "<g id=\"node7\" class=\"node\">\n",
       "<title>6</title>\n",
       "<path fill=\"#8139e5\" stroke=\"black\" d=\"M249.5,-68C249.5,-68 157.5,-68 157.5,-68 151.5,-68 145.5,-62 145.5,-56 145.5,-56 145.5,-12 145.5,-12 145.5,-6 151.5,0 157.5,0 157.5,0 249.5,0 249.5,0 255.5,0 261.5,-6 261.5,-12 261.5,-12 261.5,-56 261.5,-56 261.5,-62 255.5,-68 249.5,-68\"/>\n",
       "<text text-anchor=\"middle\" x=\"203.5\" y=\"-52.8\" font-family=\"Helvetica,sans-Serif\" font-size=\"14.00\">gini = 0.0</text>\n",
       "<text text-anchor=\"middle\" x=\"203.5\" y=\"-37.8\" font-family=\"Helvetica,sans-Serif\" font-size=\"14.00\">samples = 1</text>\n",
       "<text text-anchor=\"middle\" x=\"203.5\" y=\"-22.8\" font-family=\"Helvetica,sans-Serif\" font-size=\"14.00\">value = [0, 0, 1]</text>\n",
       "<text text-anchor=\"middle\" x=\"203.5\" y=\"-7.8\" font-family=\"Helvetica,sans-Serif\" font-size=\"14.00\">class = virginica</text>\n",
       "</g>\n",
       "<!-- 4&#45;&gt;6 -->\n",
       "<g id=\"edge6\" class=\"edge\">\n",
       "<title>4&#45;&gt;6</title>\n",
       "<path fill=\"none\" stroke=\"black\" d=\"M203.5,-103.73C203.5,-95.52 203.5,-86.86 203.5,-78.56\"/>\n",
       "<polygon fill=\"black\" stroke=\"black\" points=\"207,-78.3 203.5,-68.3 200,-78.3 207,-78.3\"/>\n",
       "</g>\n",
       "<!-- 8 -->\n",
       "<g id=\"node9\" class=\"node\">\n",
       "<title>8</title>\n",
       "<path fill=\"#8139e5\" stroke=\"black\" d=\"M383.5,-68C383.5,-68 291.5,-68 291.5,-68 285.5,-68 279.5,-62 279.5,-56 279.5,-56 279.5,-12 279.5,-12 279.5,-6 285.5,0 291.5,0 291.5,0 383.5,0 383.5,0 389.5,0 395.5,-6 395.5,-12 395.5,-12 395.5,-56 395.5,-56 395.5,-62 389.5,-68 383.5,-68\"/>\n",
       "<text text-anchor=\"middle\" x=\"337.5\" y=\"-52.8\" font-family=\"Helvetica,sans-Serif\" font-size=\"14.00\">gini = 0.0</text>\n",
       "<text text-anchor=\"middle\" x=\"337.5\" y=\"-37.8\" font-family=\"Helvetica,sans-Serif\" font-size=\"14.00\">samples = 3</text>\n",
       "<text text-anchor=\"middle\" x=\"337.5\" y=\"-22.8\" font-family=\"Helvetica,sans-Serif\" font-size=\"14.00\">value = [0, 0, 3]</text>\n",
       "<text text-anchor=\"middle\" x=\"337.5\" y=\"-7.8\" font-family=\"Helvetica,sans-Serif\" font-size=\"14.00\">class = virginica</text>\n",
       "</g>\n",
       "<!-- 7&#45;&gt;8 -->\n",
       "<g id=\"edge8\" class=\"edge\">\n",
       "<title>7&#45;&gt;8</title>\n",
       "<path fill=\"none\" stroke=\"black\" d=\"M382.69,-103.73C376.93,-94.97 370.84,-85.7 365.05,-76.91\"/>\n",
       "<polygon fill=\"black\" stroke=\"black\" points=\"367.81,-74.73 359.4,-68.3 361.97,-78.58 367.81,-74.73\"/>\n",
       "</g>\n",
       "<!-- 9 -->\n",
       "<g id=\"node10\" class=\"node\">\n",
       "<title>9</title>\n",
       "<path fill=\"#39e581\" stroke=\"black\" d=\"M529,-68C529,-68 426,-68 426,-68 420,-68 414,-62 414,-56 414,-56 414,-12 414,-12 414,-6 420,0 426,0 426,0 529,0 529,0 535,0 541,-6 541,-12 541,-12 541,-56 541,-56 541,-62 535,-68 529,-68\"/>\n",
       "<text text-anchor=\"middle\" x=\"477.5\" y=\"-52.8\" font-family=\"Helvetica,sans-Serif\" font-size=\"14.00\">gini = 0.0</text>\n",
       "<text text-anchor=\"middle\" x=\"477.5\" y=\"-37.8\" font-family=\"Helvetica,sans-Serif\" font-size=\"14.00\">samples = 2</text>\n",
       "<text text-anchor=\"middle\" x=\"477.5\" y=\"-22.8\" font-family=\"Helvetica,sans-Serif\" font-size=\"14.00\">value = [0, 2, 0]</text>\n",
       "<text text-anchor=\"middle\" x=\"477.5\" y=\"-7.8\" font-family=\"Helvetica,sans-Serif\" font-size=\"14.00\">class = versicolor</text>\n",
       "</g>\n",
       "<!-- 7&#45;&gt;9 -->\n",
       "<g id=\"edge9\" class=\"edge\">\n",
       "<title>7&#45;&gt;9</title>\n",
       "<path fill=\"none\" stroke=\"black\" d=\"M434.82,-103.73C440.26,-94.97 446.01,-85.7 451.48,-76.91\"/>\n",
       "<polygon fill=\"black\" stroke=\"black\" points=\"454.52,-78.64 456.82,-68.3 448.57,-74.95 454.52,-78.64\"/>\n",
       "</g>\n",
       "<!-- 11 -->\n",
       "<g id=\"node12\" class=\"node\">\n",
       "<title>11</title>\n",
       "<path fill=\"#ffffff\" stroke=\"black\" d=\"M699.5,-187C699.5,-187 545.5,-187 545.5,-187 539.5,-187 533.5,-181 533.5,-175 533.5,-175 533.5,-116 533.5,-116 533.5,-110 539.5,-104 545.5,-104 545.5,-104 699.5,-104 699.5,-104 705.5,-104 711.5,-110 711.5,-116 711.5,-116 711.5,-175 711.5,-175 711.5,-181 705.5,-187 699.5,-187\"/>\n",
       "<text text-anchor=\"middle\" x=\"622.5\" y=\"-171.8\" font-family=\"Helvetica,sans-Serif\" font-size=\"14.00\">sepal length (cm) &lt;= 5.95</text>\n",
       "<text text-anchor=\"middle\" x=\"622.5\" y=\"-156.8\" font-family=\"Helvetica,sans-Serif\" font-size=\"14.00\">gini = 0.5</text>\n",
       "<text text-anchor=\"middle\" x=\"622.5\" y=\"-141.8\" font-family=\"Helvetica,sans-Serif\" font-size=\"14.00\">samples = 2</text>\n",
       "<text text-anchor=\"middle\" x=\"622.5\" y=\"-126.8\" font-family=\"Helvetica,sans-Serif\" font-size=\"14.00\">value = [0, 1, 1]</text>\n",
       "<text text-anchor=\"middle\" x=\"622.5\" y=\"-111.8\" font-family=\"Helvetica,sans-Serif\" font-size=\"14.00\">class = versicolor</text>\n",
       "</g>\n",
       "<!-- 10&#45;&gt;11 -->\n",
       "<g id=\"edge11\" class=\"edge\">\n",
       "<title>10&#45;&gt;11</title>\n",
       "<path fill=\"none\" stroke=\"black\" d=\"M622.5,-222.91C622.5,-214.65 622.5,-205.86 622.5,-197.3\"/>\n",
       "<polygon fill=\"black\" stroke=\"black\" points=\"626,-197.02 622.5,-187.02 619,-197.02 626,-197.02\"/>\n",
       "</g>\n",
       "<!-- 14 -->\n",
       "<g id=\"node15\" class=\"node\">\n",
       "<title>14</title>\n",
       "<path fill=\"#8139e5\" stroke=\"black\" d=\"M839,-179.5C839,-179.5 742,-179.5 742,-179.5 736,-179.5 730,-173.5 730,-167.5 730,-167.5 730,-123.5 730,-123.5 730,-117.5 736,-111.5 742,-111.5 742,-111.5 839,-111.5 839,-111.5 845,-111.5 851,-117.5 851,-123.5 851,-123.5 851,-167.5 851,-167.5 851,-173.5 845,-179.5 839,-179.5\"/>\n",
       "<text text-anchor=\"middle\" x=\"790.5\" y=\"-164.3\" font-family=\"Helvetica,sans-Serif\" font-size=\"14.00\">gini = 0.0</text>\n",
       "<text text-anchor=\"middle\" x=\"790.5\" y=\"-149.3\" font-family=\"Helvetica,sans-Serif\" font-size=\"14.00\">samples = 33</text>\n",
       "<text text-anchor=\"middle\" x=\"790.5\" y=\"-134.3\" font-family=\"Helvetica,sans-Serif\" font-size=\"14.00\">value = [0, 0, 33]</text>\n",
       "<text text-anchor=\"middle\" x=\"790.5\" y=\"-119.3\" font-family=\"Helvetica,sans-Serif\" font-size=\"14.00\">class = virginica</text>\n",
       "</g>\n",
       "<!-- 10&#45;&gt;14 -->\n",
       "<g id=\"edge14\" class=\"edge\">\n",
       "<title>10&#45;&gt;14</title>\n",
       "<path fill=\"none\" stroke=\"black\" d=\"M680.79,-222.91C698.22,-210.77 717.28,-197.49 734.55,-185.46\"/>\n",
       "<polygon fill=\"black\" stroke=\"black\" points=\"736.67,-188.25 742.88,-179.67 732.67,-182.51 736.67,-188.25\"/>\n",
       "</g>\n",
       "<!-- 12 -->\n",
       "<g id=\"node13\" class=\"node\">\n",
       "<title>12</title>\n",
       "<path fill=\"#39e581\" stroke=\"black\" d=\"M674,-68C674,-68 571,-68 571,-68 565,-68 559,-62 559,-56 559,-56 559,-12 559,-12 559,-6 565,0 571,0 571,0 674,0 674,0 680,0 686,-6 686,-12 686,-12 686,-56 686,-56 686,-62 680,-68 674,-68\"/>\n",
       "<text text-anchor=\"middle\" x=\"622.5\" y=\"-52.8\" font-family=\"Helvetica,sans-Serif\" font-size=\"14.00\">gini = 0.0</text>\n",
       "<text text-anchor=\"middle\" x=\"622.5\" y=\"-37.8\" font-family=\"Helvetica,sans-Serif\" font-size=\"14.00\">samples = 1</text>\n",
       "<text text-anchor=\"middle\" x=\"622.5\" y=\"-22.8\" font-family=\"Helvetica,sans-Serif\" font-size=\"14.00\">value = [0, 1, 0]</text>\n",
       "<text text-anchor=\"middle\" x=\"622.5\" y=\"-7.8\" font-family=\"Helvetica,sans-Serif\" font-size=\"14.00\">class = versicolor</text>\n",
       "</g>\n",
       "<!-- 11&#45;&gt;12 -->\n",
       "<g id=\"edge12\" class=\"edge\">\n",
       "<title>11&#45;&gt;12</title>\n",
       "<path fill=\"none\" stroke=\"black\" d=\"M622.5,-103.73C622.5,-95.52 622.5,-86.86 622.5,-78.56\"/>\n",
       "<polygon fill=\"black\" stroke=\"black\" points=\"626,-78.3 622.5,-68.3 619,-78.3 626,-78.3\"/>\n",
       "</g>\n",
       "<!-- 13 -->\n",
       "<g id=\"node14\" class=\"node\">\n",
       "<title>13</title>\n",
       "<path fill=\"#8139e5\" stroke=\"black\" d=\"M808.5,-68C808.5,-68 716.5,-68 716.5,-68 710.5,-68 704.5,-62 704.5,-56 704.5,-56 704.5,-12 704.5,-12 704.5,-6 710.5,0 716.5,0 716.5,0 808.5,0 808.5,0 814.5,0 820.5,-6 820.5,-12 820.5,-12 820.5,-56 820.5,-56 820.5,-62 814.5,-68 808.5,-68\"/>\n",
       "<text text-anchor=\"middle\" x=\"762.5\" y=\"-52.8\" font-family=\"Helvetica,sans-Serif\" font-size=\"14.00\">gini = 0.0</text>\n",
       "<text text-anchor=\"middle\" x=\"762.5\" y=\"-37.8\" font-family=\"Helvetica,sans-Serif\" font-size=\"14.00\">samples = 1</text>\n",
       "<text text-anchor=\"middle\" x=\"762.5\" y=\"-22.8\" font-family=\"Helvetica,sans-Serif\" font-size=\"14.00\">value = [0, 0, 1]</text>\n",
       "<text text-anchor=\"middle\" x=\"762.5\" y=\"-7.8\" font-family=\"Helvetica,sans-Serif\" font-size=\"14.00\">class = virginica</text>\n",
       "</g>\n",
       "<!-- 11&#45;&gt;13 -->\n",
       "<g id=\"edge13\" class=\"edge\">\n",
       "<title>11&#45;&gt;13</title>\n",
       "<path fill=\"none\" stroke=\"black\" d=\"M674.63,-103.73C686.76,-94.24 699.65,-84.16 711.72,-74.72\"/>\n",
       "<polygon fill=\"black\" stroke=\"black\" points=\"714.2,-77.22 719.93,-68.3 709.89,-71.7 714.2,-77.22\"/>\n",
       "</g>\n",
       "</g>\n",
       "</svg>\n"
      ],
      "text/plain": [
       "<graphviz.sources.Source at 0x262caeaf8b0>"
      ]
     },
     "execution_count": 10,
     "metadata": {},
     "output_type": "execute_result"
    }
   ],
   "source": [
    "import graphviz\n",
    "from sklearn import tree\n",
    "# 导出数据\n",
    "dot_data = tree.export_graphviz(model,feature_names=iris.feature_names,\n",
    "                     class_names=iris['target_names'],# 类别名\n",
    "                     filled=True, # 填充颜色\n",
    "                     rounded=True,)\n",
    "graph = graphviz.Source(dot_data)\n",
    "graph"
   ]
  },
  {
   "cell_type": "markdown",
   "id": "e4e366a8",
   "metadata": {},
   "source": [
    "#### 决策树剪枝"
   ]
  },
  {
   "cell_type": "code",
   "execution_count": 16,
   "id": "fe96db7f",
   "metadata": {
    "ExecuteTime": {
     "end_time": "2023-05-10T06:09:49.041656Z",
     "start_time": "2023-05-10T06:09:48.948635Z"
    },
    "collapsed": true
   },
   "outputs": [
    {
     "name": "stdout",
     "output_type": "stream",
     "text": [
      "真实类别是： [0 2 1 0 2 1 0 1 1 1 2 2 2 0 0 1 2 1 0 2 1 0 1 1 2 0 0 1 0 0 2 0 2 2 1 2 0\n",
      " 0]\n",
      "算法预测是： [0 2 1 0 2 1 0 1 1 1 2 2 2 0 0 1 2 1 0 2 1 0 1 1 2 0 0 1 0 0 2 0 2 2 1 2 0\n",
      " 0]\n",
      "准确率是： 1.0\n"
     ]
    },
    {
     "data": {
      "image/svg+xml": [
       "<?xml version=\"1.0\" encoding=\"UTF-8\" standalone=\"no\"?>\n",
       "<!DOCTYPE svg PUBLIC \"-//W3C//DTD SVG 1.1//EN\"\n",
       " \"http://www.w3.org/Graphics/SVG/1.1/DTD/svg11.dtd\">\n",
       "<!-- Generated by graphviz version 2.48.0 (20210717.1556)\n",
       " -->\n",
       "<!-- Title: Tree Pages: 1 -->\n",
       "<svg width=\"375pt\" height=\"433pt\"\n",
       " viewBox=\"0.00 0.00 375.00 433.00\" xmlns=\"http://www.w3.org/2000/svg\" xmlns:xlink=\"http://www.w3.org/1999/xlink\">\n",
       "<g id=\"graph0\" class=\"graph\" transform=\"scale(1 1) rotate(0) translate(4 429)\">\n",
       "<title>Tree</title>\n",
       "<polygon fill=\"white\" stroke=\"transparent\" points=\"-4,4 -4,-429 371,-429 371,4 -4,4\"/>\n",
       "<!-- 0 -->\n",
       "<g id=\"node1\" class=\"node\">\n",
       "<title>0</title>\n",
       "<path fill=\"#ffffff\" stroke=\"black\" d=\"M216.5,-425C216.5,-425 66.5,-425 66.5,-425 60.5,-425 54.5,-419 54.5,-413 54.5,-413 54.5,-354 54.5,-354 54.5,-348 60.5,-342 66.5,-342 66.5,-342 216.5,-342 216.5,-342 222.5,-342 228.5,-348 228.5,-354 228.5,-354 228.5,-413 228.5,-413 228.5,-419 222.5,-425 216.5,-425\"/>\n",
       "<text text-anchor=\"middle\" x=\"141.5\" y=\"-409.8\" font-family=\"Helvetica,sans-Serif\" font-size=\"14.00\">petal length (cm) &lt;= 2.45</text>\n",
       "<text text-anchor=\"middle\" x=\"141.5\" y=\"-394.8\" font-family=\"Helvetica,sans-Serif\" font-size=\"14.00\">entropy = 1.584</text>\n",
       "<text text-anchor=\"middle\" x=\"141.5\" y=\"-379.8\" font-family=\"Helvetica,sans-Serif\" font-size=\"14.00\">samples = 112</text>\n",
       "<text text-anchor=\"middle\" x=\"141.5\" y=\"-364.8\" font-family=\"Helvetica,sans-Serif\" font-size=\"14.00\">value = [36, 38, 38]</text>\n",
       "<text text-anchor=\"middle\" x=\"141.5\" y=\"-349.8\" font-family=\"Helvetica,sans-Serif\" font-size=\"14.00\">class = versicolor</text>\n",
       "</g>\n",
       "<!-- 1 -->\n",
       "<g id=\"node2\" class=\"node\">\n",
       "<title>1</title>\n",
       "<path fill=\"#e58139\" stroke=\"black\" d=\"M109,-298.5C109,-298.5 12,-298.5 12,-298.5 6,-298.5 0,-292.5 0,-286.5 0,-286.5 0,-242.5 0,-242.5 0,-236.5 6,-230.5 12,-230.5 12,-230.5 109,-230.5 109,-230.5 115,-230.5 121,-236.5 121,-242.5 121,-242.5 121,-286.5 121,-286.5 121,-292.5 115,-298.5 109,-298.5\"/>\n",
       "<text text-anchor=\"middle\" x=\"60.5\" y=\"-283.3\" font-family=\"Helvetica,sans-Serif\" font-size=\"14.00\">entropy = 0.0</text>\n",
       "<text text-anchor=\"middle\" x=\"60.5\" y=\"-268.3\" font-family=\"Helvetica,sans-Serif\" font-size=\"14.00\">samples = 36</text>\n",
       "<text text-anchor=\"middle\" x=\"60.5\" y=\"-253.3\" font-family=\"Helvetica,sans-Serif\" font-size=\"14.00\">value = [36, 0, 0]</text>\n",
       "<text text-anchor=\"middle\" x=\"60.5\" y=\"-238.3\" font-family=\"Helvetica,sans-Serif\" font-size=\"14.00\">class = setosa</text>\n",
       "</g>\n",
       "<!-- 0&#45;&gt;1 -->\n",
       "<g id=\"edge1\" class=\"edge\">\n",
       "<title>0&#45;&gt;1</title>\n",
       "<path fill=\"none\" stroke=\"black\" d=\"M113.4,-341.91C105.61,-330.65 97.14,-318.42 89.3,-307.11\"/>\n",
       "<polygon fill=\"black\" stroke=\"black\" points=\"92.03,-304.9 83.46,-298.67 86.28,-308.88 92.03,-304.9\"/>\n",
       "<text text-anchor=\"middle\" x=\"78.99\" y=\"-319.56\" font-family=\"Helvetica,sans-Serif\" font-size=\"14.00\">True</text>\n",
       "</g>\n",
       "<!-- 2 -->\n",
       "<g id=\"node3\" class=\"node\">\n",
       "<title>2</title>\n",
       "<path fill=\"#ffffff\" stroke=\"black\" d=\"M295.5,-306C295.5,-306 151.5,-306 151.5,-306 145.5,-306 139.5,-300 139.5,-294 139.5,-294 139.5,-235 139.5,-235 139.5,-229 145.5,-223 151.5,-223 151.5,-223 295.5,-223 295.5,-223 301.5,-223 307.5,-229 307.5,-235 307.5,-235 307.5,-294 307.5,-294 307.5,-300 301.5,-306 295.5,-306\"/>\n",
       "<text text-anchor=\"middle\" x=\"223.5\" y=\"-290.8\" font-family=\"Helvetica,sans-Serif\" font-size=\"14.00\">petal width (cm) &lt;= 1.75</text>\n",
       "<text text-anchor=\"middle\" x=\"223.5\" y=\"-275.8\" font-family=\"Helvetica,sans-Serif\" font-size=\"14.00\">entropy = 1.0</text>\n",
       "<text text-anchor=\"middle\" x=\"223.5\" y=\"-260.8\" font-family=\"Helvetica,sans-Serif\" font-size=\"14.00\">samples = 76</text>\n",
       "<text text-anchor=\"middle\" x=\"223.5\" y=\"-245.8\" font-family=\"Helvetica,sans-Serif\" font-size=\"14.00\">value = [0, 38, 38]</text>\n",
       "<text text-anchor=\"middle\" x=\"223.5\" y=\"-230.8\" font-family=\"Helvetica,sans-Serif\" font-size=\"14.00\">class = versicolor</text>\n",
       "</g>\n",
       "<!-- 0&#45;&gt;2 -->\n",
       "<g id=\"edge2\" class=\"edge\">\n",
       "<title>0&#45;&gt;2</title>\n",
       "<path fill=\"none\" stroke=\"black\" d=\"M169.95,-341.91C176.18,-333.01 182.84,-323.51 189.28,-314.33\"/>\n",
       "<polygon fill=\"black\" stroke=\"black\" points=\"192.23,-316.22 195.1,-306.02 186.5,-312.2 192.23,-316.22\"/>\n",
       "<text text-anchor=\"middle\" x=\"199.43\" y=\"-326.94\" font-family=\"Helvetica,sans-Serif\" font-size=\"14.00\">False</text>\n",
       "</g>\n",
       "<!-- 3 -->\n",
       "<g id=\"node4\" class=\"node\">\n",
       "<title>3</title>\n",
       "<path fill=\"#4ee88f\" stroke=\"black\" d=\"M215.5,-187C215.5,-187 65.5,-187 65.5,-187 59.5,-187 53.5,-181 53.5,-175 53.5,-175 53.5,-116 53.5,-116 53.5,-110 59.5,-104 65.5,-104 65.5,-104 215.5,-104 215.5,-104 221.5,-104 227.5,-110 227.5,-116 227.5,-116 227.5,-175 227.5,-175 227.5,-181 221.5,-187 215.5,-187\"/>\n",
       "<text text-anchor=\"middle\" x=\"140.5\" y=\"-171.8\" font-family=\"Helvetica,sans-Serif\" font-size=\"14.00\">petal length (cm) &lt;= 4.95</text>\n",
       "<text text-anchor=\"middle\" x=\"140.5\" y=\"-156.8\" font-family=\"Helvetica,sans-Serif\" font-size=\"14.00\">entropy = 0.461</text>\n",
       "<text text-anchor=\"middle\" x=\"140.5\" y=\"-141.8\" font-family=\"Helvetica,sans-Serif\" font-size=\"14.00\">samples = 41</text>\n",
       "<text text-anchor=\"middle\" x=\"140.5\" y=\"-126.8\" font-family=\"Helvetica,sans-Serif\" font-size=\"14.00\">value = [0, 37, 4]</text>\n",
       "<text text-anchor=\"middle\" x=\"140.5\" y=\"-111.8\" font-family=\"Helvetica,sans-Serif\" font-size=\"14.00\">class = versicolor</text>\n",
       "</g>\n",
       "<!-- 2&#45;&gt;3 -->\n",
       "<g id=\"edge3\" class=\"edge\">\n",
       "<title>2&#45;&gt;3</title>\n",
       "<path fill=\"none\" stroke=\"black\" d=\"M194.7,-222.91C188.39,-214.01 181.65,-204.51 175.14,-195.33\"/>\n",
       "<polygon fill=\"black\" stroke=\"black\" points=\"177.89,-193.15 169.25,-187.02 172.18,-197.2 177.89,-193.15\"/>\n",
       "</g>\n",
       "<!-- 6 -->\n",
       "<g id=\"node7\" class=\"node\">\n",
       "<title>6</title>\n",
       "<path fill=\"#853fe6\" stroke=\"black\" d=\"M355,-179.5C355,-179.5 258,-179.5 258,-179.5 252,-179.5 246,-173.5 246,-167.5 246,-167.5 246,-123.5 246,-123.5 246,-117.5 252,-111.5 258,-111.5 258,-111.5 355,-111.5 355,-111.5 361,-111.5 367,-117.5 367,-123.5 367,-123.5 367,-167.5 367,-167.5 367,-173.5 361,-179.5 355,-179.5\"/>\n",
       "<text text-anchor=\"middle\" x=\"306.5\" y=\"-164.3\" font-family=\"Helvetica,sans-Serif\" font-size=\"14.00\">entropy = 0.187</text>\n",
       "<text text-anchor=\"middle\" x=\"306.5\" y=\"-149.3\" font-family=\"Helvetica,sans-Serif\" font-size=\"14.00\">samples = 35</text>\n",
       "<text text-anchor=\"middle\" x=\"306.5\" y=\"-134.3\" font-family=\"Helvetica,sans-Serif\" font-size=\"14.00\">value = [0, 1, 34]</text>\n",
       "<text text-anchor=\"middle\" x=\"306.5\" y=\"-119.3\" font-family=\"Helvetica,sans-Serif\" font-size=\"14.00\">class = virginica</text>\n",
       "</g>\n",
       "<!-- 2&#45;&gt;6 -->\n",
       "<g id=\"edge6\" class=\"edge\">\n",
       "<title>2&#45;&gt;6</title>\n",
       "<path fill=\"none\" stroke=\"black\" d=\"M252.3,-222.91C260.28,-211.65 268.96,-199.42 276.98,-188.11\"/>\n",
       "<polygon fill=\"black\" stroke=\"black\" points=\"280.04,-189.85 282.97,-179.67 274.33,-185.8 280.04,-189.85\"/>\n",
       "</g>\n",
       "<!-- 4 -->\n",
       "<g id=\"node5\" class=\"node\">\n",
       "<title>4</title>\n",
       "<path fill=\"#3fe685\" stroke=\"black\" d=\"M122,-68C122,-68 19,-68 19,-68 13,-68 7,-62 7,-56 7,-56 7,-12 7,-12 7,-6 13,0 19,0 19,0 122,0 122,0 128,0 134,-6 134,-12 134,-12 134,-56 134,-56 134,-62 128,-68 122,-68\"/>\n",
       "<text text-anchor=\"middle\" x=\"70.5\" y=\"-52.8\" font-family=\"Helvetica,sans-Serif\" font-size=\"14.00\">entropy = 0.183</text>\n",
       "<text text-anchor=\"middle\" x=\"70.5\" y=\"-37.8\" font-family=\"Helvetica,sans-Serif\" font-size=\"14.00\">samples = 36</text>\n",
       "<text text-anchor=\"middle\" x=\"70.5\" y=\"-22.8\" font-family=\"Helvetica,sans-Serif\" font-size=\"14.00\">value = [0, 35, 1]</text>\n",
       "<text text-anchor=\"middle\" x=\"70.5\" y=\"-7.8\" font-family=\"Helvetica,sans-Serif\" font-size=\"14.00\">class = versicolor</text>\n",
       "</g>\n",
       "<!-- 3&#45;&gt;4 -->\n",
       "<g id=\"edge4\" class=\"edge\">\n",
       "<title>3&#45;&gt;4</title>\n",
       "<path fill=\"none\" stroke=\"black\" d=\"M114.43,-103.73C108.84,-94.97 102.91,-85.7 97.29,-76.91\"/>\n",
       "<polygon fill=\"black\" stroke=\"black\" points=\"100.12,-74.84 91.79,-68.3 94.22,-78.61 100.12,-74.84\"/>\n",
       "</g>\n",
       "<!-- 5 -->\n",
       "<g id=\"node6\" class=\"node\">\n",
       "<title>5</title>\n",
       "<path fill=\"#d5bdf6\" stroke=\"black\" d=\"M256.5,-68C256.5,-68 164.5,-68 164.5,-68 158.5,-68 152.5,-62 152.5,-56 152.5,-56 152.5,-12 152.5,-12 152.5,-6 158.5,0 164.5,0 164.5,0 256.5,0 256.5,0 262.5,0 268.5,-6 268.5,-12 268.5,-12 268.5,-56 268.5,-56 268.5,-62 262.5,-68 256.5,-68\"/>\n",
       "<text text-anchor=\"middle\" x=\"210.5\" y=\"-52.8\" font-family=\"Helvetica,sans-Serif\" font-size=\"14.00\">entropy = 0.971</text>\n",
       "<text text-anchor=\"middle\" x=\"210.5\" y=\"-37.8\" font-family=\"Helvetica,sans-Serif\" font-size=\"14.00\">samples = 5</text>\n",
       "<text text-anchor=\"middle\" x=\"210.5\" y=\"-22.8\" font-family=\"Helvetica,sans-Serif\" font-size=\"14.00\">value = [0, 2, 3]</text>\n",
       "<text text-anchor=\"middle\" x=\"210.5\" y=\"-7.8\" font-family=\"Helvetica,sans-Serif\" font-size=\"14.00\">class = virginica</text>\n",
       "</g>\n",
       "<!-- 3&#45;&gt;5 -->\n",
       "<g id=\"edge5\" class=\"edge\">\n",
       "<title>3&#45;&gt;5</title>\n",
       "<path fill=\"none\" stroke=\"black\" d=\"M166.57,-103.73C172.16,-94.97 178.09,-85.7 183.71,-76.91\"/>\n",
       "<polygon fill=\"black\" stroke=\"black\" points=\"186.78,-78.61 189.21,-68.3 180.88,-74.84 186.78,-78.61\"/>\n",
       "</g>\n",
       "</g>\n",
       "</svg>\n"
      ],
      "text/plain": [
       "<graphviz.sources.Source at 0x262cb221580>"
      ]
     },
     "execution_count": 16,
     "metadata": {},
     "output_type": "execute_result"
    }
   ],
   "source": [
    "# max_depth默认，深度最大，延伸到将数据完全划分开为止。剪枝操作\n",
    "# min_impurity_decrease（节点划分最小不纯度）如果某节点的不纯度(基尼系数，信息增益，均方差)小于这个阈值，\n",
    "# 则该节点不再生成子节点\n",
    "# min_samples_split（内部节点再划分所需最小样本数）\n",
    "# min_samples_leaf（叶子节点最少样本数）\n",
    "# max_leaf_nodes（最大叶子节点数）\n",
    "\n",
    "model = DecisionTreeClassifier(criterion='entropy',min_samples_split=37)\n",
    "model.fit(X_train,y_train)\n",
    "y_ = model.predict(X_test)\n",
    "print('真实类别是：',y_test)\n",
    "print('算法预测是：',y_)\n",
    "print('准确率是：',model.score(X_test,y_test))\n",
    "# 导出数据\n",
    "dot_data = tree.export_graphviz(model,feature_names=iris.feature_names,\n",
    "                     class_names=iris['target_names'],# 类别名\n",
    "                     filled=True, # 填充颜色\n",
    "                     rounded=True,)\n",
    "graph = graphviz.Source(dot_data)\n",
    "graph"
   ]
  },
  {
   "cell_type": "markdown",
   "id": "abc6a152",
   "metadata": {},
   "source": [
    "#### 选择合适的超参数"
   ]
  },
  {
   "cell_type": "code",
   "execution_count": 17,
   "id": "4e7fb539",
   "metadata": {
    "ExecuteTime": {
     "end_time": "2023-05-10T06:11:32.587947Z",
     "start_time": "2023-05-10T06:11:32.474550Z"
    }
   },
   "outputs": [
    {
     "data": {
      "image/png": "[encoded data removed]",
      "text/plain": [
       "<Figure size 432x288 with 1 Axes>"
      ]
     },
     "metadata": {
      "needs_background": "light"
     },
     "output_type": "display_data"
    }
   ],
   "source": [
    "depth = np.arange(1,16)\n",
    "err = []\n",
    "for d in depth:\n",
    "    model = DecisionTreeClassifier(criterion='entropy',max_depth=d)\n",
    "    model.fit(X_train,y_train)\n",
    "    score = model.score(X_test,y_test)\n",
    "    err.append(1 - score)\n",
    "\n",
    "\n",
    "plt.rcParams['font.family'] = 'STKaiti'\n",
    "plt.plot(depth,err,'ro-')\n",
    "plt.xlabel('决策树深度',fontsize = 18)\n",
    "plt.ylabel('错误率',fontsize = 18)\n",
    "plt.title('筛选合适决策树深度')\n",
    "plt.grid()"
   ]
  },
  {
   "cell_type": "markdown",
   "id": "f2506711",
   "metadata": {},
   "source": [
    "#### 特征重要性"
   ]
  },
  {
   "cell_type": "code",
   "execution_count": 18,
   "id": "72290ff2",
   "metadata": {
    "ExecuteTime": {
     "end_time": "2023-05-10T06:15:59.376272Z",
     "start_time": "2023-05-10T06:15:59.368298Z"
    }
   },
   "outputs": [
    {
     "data": {
      "text/plain": [
       "array([0.        , 0.01126989, 0.06769757, 0.92103253])"
      ]
     },
     "execution_count": 18,
     "metadata": {},
     "output_type": "execute_result"
    }
   ],
   "source": [
    "model.feature_importances_"
   ]
  },
  {
   "cell_type": "code",
   "execution_count": 20,
   "id": "84960b5c",
   "metadata": {
    "ExecuteTime": {
     "end_time": "2023-05-10T06:17:17.570728Z",
     "start_time": "2023-05-10T06:17:17.557710Z"
    }
   },
   "outputs": [
    {
     "data": {
      "text/plain": [
       "0.9736842105263158"
      ]
     },
     "execution_count": 20,
     "metadata": {},
     "output_type": "execute_result"
    }
   ],
   "source": [
    "model.fit(X_train[:,1:],y_train)\n",
    "\n",
    "model.score(X_test[:,1:],y_test)"
   ]
  },
  {
   "cell_type": "code",
   "execution_count": null,
   "id": "83b69f76",
   "metadata": {},
   "outputs": [],
   "source": []
  }
 ],
 "metadata": {
  "kernelspec": {
   "display_name": "Python 3 (ipykernel)",
   "language": "python",
   "name": "python3"
  },
  "language_info": {
   "codemirror_mode": {
    "name": "ipython",
    "version": 3
   },
   "file_extension": ".py",
   "mimetype": "text/x-python",
   "name": "python",
   "nbconvert_exporter": "python",
   "pygments_lexer": "ipython3",
   "version": "3.9.6"
  },
  "toc": {
   "base_numbering": 1,
   "nav_menu": {},
   "number_sections": true,
   "sideBar": true,
   "skip_h1_title": false,
   "title_cell": "Table of Contents",
   "title_sidebar": "Contents",
   "toc_cell": false,
   "toc_position": {
    "height": "calc(100% - 180px)",
    "left": "10px",
    "top": "150px",
    "width": "273.167px"
   },
   "toc_section_display": true,
   "toc_window_display": true
  }
 },
 "nbformat": 4,
 "nbformat_minor": 5
}
