{
 "cells": [
  {
   "cell_type": "markdown",
   "id": "0c67ac19",
   "metadata": {},
   "source": [
    "### Sigmoid函数"
   ]
  },
  {
   "cell_type": "code",
   "execution_count": null,
   "id": "2e24a829",
   "metadata": {
    "ExecuteTime": {
     "end_time": "2023-04-17T01:59:27.700352Z",
     "start_time": "2023-04-17T01:59:27.696280Z"
    }
   },
   "outputs": [],
   "source": [
    "from sklearn.linear_model import LogisticRegression"
   ]
  },
  {
   "cell_type": "code",
   "execution_count": 1,
   "id": "968d1788",
   "metadata": {
    "ExecuteTime": {
     "end_time": "2023-04-17T02:38:55.298211Z",
     "start_time": "2023-04-17T02:38:54.721502Z"
    }
   },
   "outputs": [
    {
     "data": {
      "text/plain": [
       "[<matplotlib.lines.Line2D at 0x23d0f0de790>]"
      ]
     },
     "execution_count": 1,
     "metadata": {},
     "output_type": "execute_result"
    },
    {
     "data": {
      "image/png": "[encoded data removed]",
      "text/plain": [
       "<Figure size 432x288 with 1 Axes>"
      ]
     },
     "metadata": {
      "needs_background": "light"
     },
     "output_type": "display_data"
    }
   ],
   "source": [
    "import numpy as np\n",
    "import matplotlib.pyplot as plt\n",
    "\n",
    "def sigmoid(x):\n",
    "    return 1/(1 + np.exp(-x))\n",
    "\n",
    "\n",
    "x = np.linspace(-5,5,100)\n",
    "y = sigmoid(x)\n",
    "plt.plot(x,y,color = 'green')"
   ]
  },
  {
   "cell_type": "markdown",
   "id": "270ade01",
   "metadata": {},
   "source": [
    "### 逻辑回归公式立体化"
   ]
  },
  {
   "cell_type": "markdown",
   "id": "69bfdd9d",
   "metadata": {},
   "source": [
    "#### 建模训练"
   ]
  },
  {
   "cell_type": "code",
   "execution_count": 2,
   "id": "d6b3dae5",
   "metadata": {
    "ExecuteTime": {
     "end_time": "2023-04-17T02:40:32.436804Z",
     "start_time": "2023-04-17T02:40:31.922868Z"
    }
   },
   "outputs": [],
   "source": [
    "from sklearn import datasets\n",
    "from sklearn.linear_model import LogisticRegression\n",
    "import numpy as np\n",
    "import matplotlib.pyplot as plt\n",
    "from mpl_toolkits.mplot3d import Axes3D\n",
    "from sklearn.preprocessing import scale # 数据标准化Z-score"
   ]
  },
  {
   "cell_type": "code",
   "execution_count": 3,
   "id": "fdcd7086",
   "metadata": {
    "ExecuteTime": {
     "end_time": "2023-04-17T02:41:30.136301Z",
     "start_time": "2023-04-17T02:41:30.121209Z"
    },
    "collapsed": true
   },
   "outputs": [
    {
     "data": {
      "text/plain": [
       "{'data': array([[1.799e+01, 1.038e+01, 1.228e+02, ..., 2.654e-01, 4.601e-01,\n",
       "         1.189e-01],\n",
       "        [2.057e+01, 1.777e+01, 1.329e+02, ..., 1.860e-01, 2.750e-01,\n",
       "         8.902e-02],\n",
       "        [1.969e+01, 2.125e+01, 1.300e+02, ..., 2.430e-01, 3.613e-01,\n",
       "         8.758e-02],\n",
       "        ...,\n",
       "        [1.660e+01, 2.808e+01, 1.083e+02, ..., 1.418e-01, 2.218e-01,\n",
       "         7.820e-02],\n",
       "        [2.060e+01, 2.933e+01, 1.401e+02, ..., 2.650e-01, 4.087e-01,\n",
       "         1.240e-01],\n",
       "        [7.760e+00, 2.454e+01, 4.792e+01, ..., 0.000e+00, 2.871e-01,\n",
       "         7.039e-02]]),\n",
       " 'target': array([0, 0, 0, 0, 0, 0, 0, 0, 0, 0, 0, 0, 0, 0, 0, 0, 0, 0, 0, 1, 1, 1,\n",
       "        0, 0, 0, 0, 0, 0, 0, 0, 0, 0, 0, 0, 0, 0, 0, 1, 0, 0, 0, 0, 0, 0,\n",
       "        0, 0, 1, 0, 1, 1, 1, 1, 1, 0, 0, 1, 0, 0, 1, 1, 1, 1, 0, 1, 0, 0,\n",
       "        1, 1, 1, 1, 0, 1, 0, 0, 1, 0, 1, 0, 0, 1, 1, 1, 0, 0, 1, 0, 0, 0,\n",
       "        1, 1, 1, 0, 1, 1, 0, 0, 1, 1, 1, 0, 0, 1, 1, 1, 1, 0, 1, 1, 0, 1,\n",
       "        1, 1, 1, 1, 1, 1, 1, 0, 0, 0, 1, 0, 0, 1, 1, 1, 0, 0, 1, 0, 1, 0,\n",
       "        0, 1, 0, 0, 1, 1, 0, 1, 1, 0, 1, 1, 1, 1, 0, 1, 1, 1, 1, 1, 1, 1,\n",
       "        1, 1, 0, 1, 1, 1, 1, 0, 0, 1, 0, 1, 1, 0, 0, 1, 1, 0, 0, 1, 1, 1,\n",
       "        1, 0, 1, 1, 0, 0, 0, 1, 0, 1, 0, 1, 1, 1, 0, 1, 1, 0, 0, 1, 0, 0,\n",
       "        0, 0, 1, 0, 0, 0, 1, 0, 1, 0, 1, 1, 0, 1, 0, 0, 0, 0, 1, 1, 0, 0,\n",
       "        1, 1, 1, 0, 1, 1, 1, 1, 1, 0, 0, 1, 1, 0, 1, 1, 0, 0, 1, 0, 1, 1,\n",
       "        1, 1, 0, 1, 1, 1, 1, 1, 0, 1, 0, 0, 0, 0, 0, 0, 0, 0, 0, 0, 0, 0,\n",
       "        0, 0, 1, 1, 1, 1, 1, 1, 0, 1, 0, 1, 1, 0, 1, 1, 0, 1, 0, 0, 1, 1,\n",
       "        1, 1, 1, 1, 1, 1, 1, 1, 1, 1, 1, 0, 1, 1, 0, 1, 0, 1, 1, 1, 1, 1,\n",
       "        1, 1, 1, 1, 1, 1, 1, 1, 1, 0, 1, 1, 1, 0, 1, 0, 1, 1, 1, 1, 0, 0,\n",
       "        0, 1, 1, 1, 1, 0, 1, 0, 1, 0, 1, 1, 1, 0, 1, 1, 1, 1, 1, 1, 1, 0,\n",
       "        0, 0, 1, 1, 1, 1, 1, 1, 1, 1, 1, 1, 1, 0, 0, 1, 0, 0, 0, 1, 0, 0,\n",
       "        1, 1, 1, 1, 1, 0, 1, 1, 1, 1, 1, 0, 1, 1, 1, 0, 1, 1, 0, 0, 1, 1,\n",
       "        1, 1, 1, 1, 0, 1, 1, 1, 1, 1, 1, 1, 0, 1, 1, 1, 1, 1, 0, 1, 1, 0,\n",
       "        1, 1, 1, 1, 1, 1, 1, 1, 1, 1, 1, 1, 0, 1, 0, 0, 1, 0, 1, 1, 1, 1,\n",
       "        1, 0, 1, 1, 0, 1, 0, 1, 1, 0, 1, 0, 1, 1, 1, 1, 1, 1, 1, 1, 0, 0,\n",
       "        1, 1, 1, 1, 1, 1, 0, 1, 1, 1, 1, 1, 1, 1, 1, 1, 1, 0, 1, 1, 1, 1,\n",
       "        1, 1, 1, 0, 1, 0, 1, 1, 0, 1, 1, 1, 1, 1, 0, 0, 1, 0, 1, 0, 1, 1,\n",
       "        1, 1, 1, 0, 1, 1, 0, 1, 0, 1, 0, 0, 1, 1, 1, 0, 1, 1, 1, 1, 1, 1,\n",
       "        1, 1, 1, 1, 1, 0, 1, 0, 0, 1, 1, 1, 1, 1, 1, 1, 1, 1, 1, 1, 1, 1,\n",
       "        1, 1, 1, 1, 1, 1, 1, 1, 1, 1, 1, 1, 0, 0, 0, 0, 0, 0, 1]),\n",
       " 'frame': None,\n",
       " 'target_names': array(['malignant', 'benign'], dtype='<U9'),\n",
       " 'DESCR': '.. _breast_cancer_dataset:\\n\\nBreast cancer wisconsin (diagnostic) dataset\\n--------------------------------------------\\n\\n**Data Set Characteristics:**\\n\\n    :Number of Instances: 569\\n\\n    :Number of Attributes: 30 numeric, predictive attributes and the class\\n\\n    :Attribute Information:\\n        - radius (mean of distances from center to points on the perimeter)\\n        - texture (standard deviation of gray-scale values)\\n        - perimeter\\n        - area\\n        - smoothness (local variation in radius lengths)\\n        - compactness (perimeter^2 / area - 1.0)\\n        - concavity (severity of concave portions of the contour)\\n        - concave points (number of concave portions of the contour)\\n        - symmetry\\n        - fractal dimension (\"coastline approximation\" - 1)\\n\\n        The mean, standard error, and \"worst\" or largest (mean of the three\\n        worst/largest values) of these features were computed for each image,\\n        resulting in 30 features.  For instance, field 0 is Mean Radius, field\\n        10 is Radius SE, field 20 is Worst Radius.\\n\\n        - class:\\n                - WDBC-Malignant\\n                - WDBC-Benign\\n\\n    :Summary Statistics:\\n\\n    ===================================== ====== ======\\n                                           Min    Max\\n    ===================================== ====== ======\\n    radius (mean):                        6.981  28.11\\n    texture (mean):                       9.71   39.28\\n    perimeter (mean):                     43.79  188.5\\n    area (mean):                          143.5  2501.0\\n    smoothness (mean):                    0.053  0.163\\n    compactness (mean):                   0.019  0.345\\n    concavity (mean):                     0.0    0.427\\n    concave points (mean):                0.0    0.201\\n    symmetry (mean):                      0.106  0.304\\n    fractal dimension (mean):             0.05   0.097\\n    radius (standard error):              0.112  2.873\\n    texture (standard error):             0.36   4.885\\n    perimeter (standard error):           0.757  21.98\\n    area (standard error):                6.802  542.2\\n    smoothness (standard error):          0.002  0.031\\n    compactness (standard error):         0.002  0.135\\n    concavity (standard error):           0.0    0.396\\n    concave points (standard error):      0.0    0.053\\n    symmetry (standard error):            0.008  0.079\\n    fractal dimension (standard error):   0.001  0.03\\n    radius (worst):                       7.93   36.04\\n    texture (worst):                      12.02  49.54\\n    perimeter (worst):                    50.41  251.2\\n    area (worst):                         185.2  4254.0\\n    smoothness (worst):                   0.071  0.223\\n    compactness (worst):                  0.027  1.058\\n    concavity (worst):                    0.0    1.252\\n    concave points (worst):               0.0    0.291\\n    symmetry (worst):                     0.156  0.664\\n    fractal dimension (worst):            0.055  0.208\\n    ===================================== ====== ======\\n\\n    :Missing Attribute Values: None\\n\\n    :Class Distribution: 212 - Malignant, 357 - Benign\\n\\n    :Creator:  Dr. William H. Wolberg, W. Nick Street, Olvi L. Mangasarian\\n\\n    :Donor: Nick Street\\n\\n    :Date: November, 1995\\n\\nThis is a copy of UCI ML Breast Cancer Wisconsin (Diagnostic) datasets.\\nhttps://goo.gl/U2Uwz2\\n\\nFeatures are computed from a digitized image of a fine needle\\naspirate (FNA) of a breast mass.  They describe\\ncharacteristics of the cell nuclei present in the image.\\n\\nSeparating plane described above was obtained using\\nMultisurface Method-Tree (MSM-T) [K. P. Bennett, \"Decision Tree\\nConstruction Via Linear Programming.\" Proceedings of the 4th\\nMidwest Artificial Intelligence and Cognitive Science Society,\\npp. 97-101, 1992], a classification method which uses linear\\nprogramming to construct a decision tree.  Relevant features\\nwere selected using an exhaustive search in the space of 1-4\\nfeatures and 1-3 separating planes.\\n\\nThe actual linear program used to obtain the separating plane\\nin the 3-dimensional space is that described in:\\n[K. P. Bennett and O. L. Mangasarian: \"Robust Linear\\nProgramming Discrimination of Two Linearly Inseparable Sets\",\\nOptimization Methods and Software 1, 1992, 23-34].\\n\\nThis database is also available through the UW CS ftp server:\\n\\nftp ftp.cs.wisc.edu\\ncd math-prog/cpo-dataset/machine-learn/WDBC/\\n\\n.. topic:: References\\n\\n   - W.N. Street, W.H. Wolberg and O.L. Mangasarian. Nuclear feature extraction \\n     for breast tumor diagnosis. IS&T/SPIE 1993 International Symposium on \\n     Electronic Imaging: Science and Technology, volume 1905, pages 861-870,\\n     San Jose, CA, 1993.\\n   - O.L. Mangasarian, W.N. Street and W.H. Wolberg. Breast cancer diagnosis and \\n     prognosis via linear programming. Operations Research, 43(4), pages 570-577, \\n     July-August 1995.\\n   - W.H. Wolberg, W.N. Street, and O.L. Mangasarian. Machine learning techniques\\n     to diagnose breast cancer from fine-needle aspirates. Cancer Letters 77 (1994) \\n     163-171.',\n",
       " 'feature_names': array(['mean radius', 'mean texture', 'mean perimeter', 'mean area',\n",
       "        'mean smoothness', 'mean compactness', 'mean concavity',\n",
       "        'mean concave points', 'mean symmetry', 'mean fractal dimension',\n",
       "        'radius error', 'texture error', 'perimeter error', 'area error',\n",
       "        'smoothness error', 'compactness error', 'concavity error',\n",
       "        'concave points error', 'symmetry error',\n",
       "        'fractal dimension error', 'worst radius', 'worst texture',\n",
       "        'worst perimeter', 'worst area', 'worst smoothness',\n",
       "        'worst compactness', 'worst concavity', 'worst concave points',\n",
       "        'worst symmetry', 'worst fractal dimension'], dtype='<U23'),\n",
       " 'filename': 'breast_cancer.csv',\n",
       " 'data_module': 'sklearn.datasets.data'}"
      ]
     },
     "execution_count": 3,
     "metadata": {},
     "output_type": "execute_result"
    }
   ],
   "source": [
    "# 1、加载乳腺癌数据\n",
    "data = datasets.load_breast_cancer()\n",
    "X, y = scale(data['data'][:, :2]), data['target']\n",
    "\n",
    "# 2、求出两个维度对应的数据在逻辑回归算法下的最优解\n",
    "lr = LogisticRegression()\n",
    "lr.fit(X, y)\n",
    "data"
   ]
  },
  {
   "cell_type": "code",
   "execution_count": 5,
   "id": "e8cadde4",
   "metadata": {
    "ExecuteTime": {
     "end_time": "2023-04-17T02:42:44.036744Z",
     "start_time": "2023-04-17T02:42:44.026653Z"
    }
   },
   "outputs": [
    {
     "name": "stdout",
     "output_type": "stream",
     "text": [
      "-3.3373102846154525 -0.8771414036339871 [0.69962639]\n"
     ]
    }
   ],
   "source": [
    "# 3、分别把两个维度所对应的参数W1和W2取出来\n",
    "w1 = lr.coef_[0, 0]\n",
    "w2 = lr.coef_[0, 1]\n",
    "print(w1, w2,lr.intercept_)"
   ]
  },
  {
   "cell_type": "code",
   "execution_count": 6,
   "id": "c0704ff9",
   "metadata": {
    "ExecuteTime": {
     "end_time": "2023-04-17T02:46:04.039508Z",
     "start_time": "2023-04-17T02:46:04.022455Z"
    }
   },
   "outputs": [],
   "source": [
    "# 4、已知w1和w2的情况下，传进来数据的X，返回数据的y_predict\n",
    "def sigmoid(X, w1, w2):\n",
    "    z = w1*X[0] + w2*X[1]\n",
    "    return 1 / (1 + np.exp(-z))\n",
    "\n",
    "# 5、传入一份已知数据的X，y，如果已知w1和w2的情况下，计算对应这份数据的Loss损失\n",
    "def loss_function(X, y, w1, w2):\n",
    "    loss = 0\n",
    "    # 遍历数据集中的每一条样本，并且计算每条样本的损失，加到loss身上得到整体的数据集损失\n",
    "    for x_i, y_i in zip(X, y):\n",
    "        # 这是计算一条样本的y_predict，即概率\n",
    "        p = sigmoid(x_i, w1, w2)\n",
    "        loss += -1*y_i*np.log(p)-(1-y_i)*np.log(1-p)\n",
    "    return loss"
   ]
  },
  {
   "cell_type": "code",
   "execution_count": 7,
   "id": "b1dcae85",
   "metadata": {
    "ExecuteTime": {
     "end_time": "2023-04-17T02:48:16.673755Z",
     "start_time": "2023-04-17T02:48:15.750906Z"
    }
   },
   "outputs": [],
   "source": [
    "# 6、参数w1和w2取值空间\n",
    "w1_space = np.linspace(w1-2, w1+2, 100)\n",
    "w2_space = np.linspace(w2-2, w2+2, 100)\n",
    "\n",
    "# 固定了w2，最优解，w1变化时，损失，怎么变的\n",
    "loss1_ = np.array([loss_function(X, y, i, w2) for i in w1_space])\n",
    "\n",
    "# 固定了w1，最优解，w2变化时，损失，怎么变的\n",
    "loss2_ = np.array([loss_function(X, y, w1, i) for i in w2_space])"
   ]
  },
  {
   "cell_type": "markdown",
   "id": "111778d5",
   "metadata": {},
   "source": [
    "#### 线性可视化【单一系数】"
   ]
  },
  {
   "cell_type": "code",
   "execution_count": 11,
   "id": "7615b8fe",
   "metadata": {
    "ExecuteTime": {
     "end_time": "2023-04-17T02:50:07.209296Z",
     "start_time": "2023-04-17T02:50:07.063067Z"
    }
   },
   "outputs": [
    {
     "data": {
      "text/plain": [
       "Text(0.5, 0, '$w_2$')"
      ]
     },
     "execution_count": 11,
     "metadata": {},
     "output_type": "execute_result"
    },
    {
     "data": {
      "image/png": "[encoded data removed]",
      "text/plain": [
       "<Figure size 864x648 with 2 Axes>"
      ]
     },
     "metadata": {
      "needs_background": "light"
     },
     "output_type": "display_data"
    }
   ],
   "source": [
    "# 7、数据可视化\n",
    "fig1 = plt.figure(figsize=(12, 9))\n",
    "plt.subplot(2, 2, 1)\n",
    "plt.plot(w1_space, loss1_)\n",
    "plt.xlabel('$w_1$')\n",
    "\n",
    "plt.subplot(2, 2, 2)\n",
    "plt.plot(w2_space, loss2_)\n",
    "plt.xlabel('$w_2$')"
   ]
  },
  {
   "cell_type": "markdown",
   "id": "d6dad640",
   "metadata": {},
   "source": [
    "#### 等高线【二维系数】"
   ]
  },
  {
   "cell_type": "code",
   "execution_count": 14,
   "id": "88297c09",
   "metadata": {
    "ExecuteTime": {
     "end_time": "2023-04-17T02:52:00.517388Z",
     "start_time": "2023-04-17T02:52:00.271257Z"
    }
   },
   "outputs": [
    {
     "data": {
      "text/plain": [
       "<matplotlib.contour.QuadContourSet at 0x23d393bfe80>"
      ]
     },
     "execution_count": 14,
     "metadata": {},
     "output_type": "execute_result"
    },
    {
     "data": {
      "image/png": "[encoded data removed]",
      "text/plain": [
       "<Figure size 864x648 with 2 Axes>"
      ]
     },
     "metadata": {
      "needs_background": "light"
     },
     "output_type": "display_data"
    }
   ],
   "source": [
    "# 颜色越深，就是越是谷底，越深\n",
    "plt.figure(figsize=(12,9))\n",
    "plt.subplot(2, 2, 3)\n",
    "w1_grid, w2_grid = np.meshgrid(w1_space, w2_space) # 二维\n",
    "loss_grid = loss_function(X, y, w1_grid, w2_grid)\n",
    "\n",
    "plt.contour(w1_grid, w2_grid, loss_grid,20) # 等高线\n",
    "\n",
    "plt.subplot(2, 2, 4)\n",
    "plt.contourf(w1_grid, w2_grid, loss_grid,20) # 等高面"
   ]
  },
  {
   "cell_type": "code",
   "execution_count": 15,
   "id": "d924d409",
   "metadata": {
    "ExecuteTime": {
     "end_time": "2023-04-17T02:53:31.086751Z",
     "start_time": "2023-04-17T02:53:31.080673Z"
    }
   },
   "outputs": [
    {
     "name": "stdout",
     "output_type": "stream",
     "text": [
      "-3.3373102846154525 -0.8771414036339871\n"
     ]
    }
   ],
   "source": [
    "print(w1,w2)"
   ]
  },
  {
   "cell_type": "markdown",
   "id": "74b9f9a5",
   "metadata": {},
   "source": [
    "#### 3D立体化"
   ]
  },
  {
   "cell_type": "code",
   "execution_count": 16,
   "id": "189e8ccf",
   "metadata": {
    "ExecuteTime": {
     "end_time": "2023-04-17T02:55:48.512544Z",
     "start_time": "2023-04-17T02:55:48.185318Z"
    }
   },
   "outputs": [
    {
     "data": {
      "image/png": "[encoded data removed]",
      "text/plain": [
       "<Figure size 864x432 with 1 Axes>"
      ]
     },
     "metadata": {
      "needs_background": "light"
     },
     "output_type": "display_data"
    }
   ],
   "source": [
    "# 8、3D立体可视化\n",
    "fig2 = plt.figure(figsize=(12,6))\n",
    "ax = Axes3D(fig2,auto_add_to_figure=False)\n",
    "fig2.add_axes(ax)\n",
    "\n",
    "ax.plot_surface(w1_grid, w2_grid, loss_grid,cmap = 'viridis')\n",
    "\n",
    "plt.xlabel('w1',fontsize = 20)\n",
    "plt.ylabel('w2',fontsize = 20)\n",
    "ax.set_zlim(100,350)\n",
    "ax.view_init(elev = 10 ,azim = 20,vertical_axis = 'z')"
   ]
  },
  {
   "cell_type": "markdown",
   "id": "2d3e744b",
   "metadata": {},
   "source": [
    "### 逻辑斯蒂回归-实战"
   ]
  },
  {
   "cell_type": "markdown",
   "id": "0d72f076",
   "metadata": {},
   "source": [
    "#### 建模概率计算"
   ]
  },
  {
   "cell_type": "code",
   "execution_count": 58,
   "id": "7817836b",
   "metadata": {
    "ExecuteTime": {
     "end_time": "2023-04-17T07:44:42.611828Z",
     "start_time": "2023-04-17T07:44:42.604728Z"
    }
   },
   "outputs": [
    {
     "data": {
      "text/plain": [
       "array([0, 0, 0, 0, 0, 0, 0, 0, 0, 0, 0, 0, 0, 0, 0, 0, 0, 0, 0, 0, 0, 0,\n",
       "       0, 0, 0, 0, 0, 0, 0, 0, 0, 0, 0, 0, 0, 0, 0, 0, 0, 0, 0, 0, 0, 0,\n",
       "       0, 0, 0, 0, 0, 0, 1, 1, 1, 1, 1, 1, 1, 1, 1, 1, 1, 1, 1, 1, 1, 1,\n",
       "       1, 1, 1, 1, 1, 1, 1, 1, 1, 1, 1, 1, 1, 1, 1, 1, 1, 1, 1, 1, 1, 1,\n",
       "       1, 1, 1, 1, 1, 1, 1, 1, 1, 1, 1, 1])"
      ]
     },
     "metadata": {},
     "output_type": "display_data"
    }
   ],
   "source": [
    "import numpy as np\n",
    "from sklearn import datasets\n",
    "from sklearn.linear_model import LogisticRegression\n",
    "from sklearn.model_selection import train_test_split\n",
    "\n",
    "# 1、数据加载\n",
    "iris = datasets.load_iris()\n",
    "\n",
    "# 2、数据提取与筛选\n",
    "X = iris['data']\n",
    "y = iris['target']\n",
    "cond = y != 2 # 筛选出来 0 和 1\n",
    "X = X[cond]\n",
    "y = y[cond]\n",
    "\n",
    "# 3、数据拆分\n",
    "X_train,X_test,y_train,y_test = train_test_split(X,y)\n",
    "display(y)"
   ]
  },
  {
   "cell_type": "code",
   "execution_count": 59,
   "id": "3394b070",
   "metadata": {
    "ExecuteTime": {
     "end_time": "2023-04-17T07:44:48.158363Z",
     "start_time": "2023-04-17T07:44:48.145902Z"
    }
   },
   "outputs": [
    {
     "name": "stdout",
     "output_type": "stream",
     "text": [
      "算法预测结果是： [0 1 0 0 1 1 0 1 0 1 0 0 0 1 0 0 1 0 1 0 1 0 1 1 1]\n",
      "真实的类别是： [0 1 0 0 1 1 0 1 0 1 0 0 0 1 0 0 1 0 1 0 1 0 1 1 1]\n",
      "1.0\n"
     ]
    }
   ],
   "source": [
    "model = LogisticRegression()\n",
    "model.fit(X_train,y_train)\n",
    "y_pred = model.predict(X_test) # predict 分类结果输出？？？\n",
    "# 概率 判断\n",
    "print('算法预测结果是：',y_pred)\n",
    "print('真实的类别是：',y_test)\n",
    "print(model.score(X_test,y_test))"
   ]
  },
  {
   "cell_type": "markdown",
   "id": "190b31dc",
   "metadata": {},
   "source": [
    "逻辑斯蒂回归，根据概率大小进行类别的划分的"
   ]
  },
  {
   "cell_type": "code",
   "execution_count": 60,
   "id": "6543bc35",
   "metadata": {
    "ExecuteTime": {
     "end_time": "2023-04-17T07:44:51.086423Z",
     "start_time": "2023-04-17T07:44:51.075342Z"
    }
   },
   "outputs": [
    {
     "data": {
      "text/plain": [
       "array([[0.98068583, 0.01931417],\n",
       "       [0.00380683, 0.99619317],\n",
       "       [0.98497029, 0.01502971],\n",
       "       [0.97517515, 0.02482485],\n",
       "       [0.00152629, 0.99847371],\n",
       "       [0.01595337, 0.98404663],\n",
       "       [0.97169904, 0.02830096],\n",
       "       [0.13932315, 0.86067685],\n",
       "       [0.95475296, 0.04524704],\n",
       "       [0.0204699 , 0.9795301 ],\n",
       "       [0.95702431, 0.04297569],\n",
       "       [0.97986205, 0.02013795],\n",
       "       [0.95620072, 0.04379928],\n",
       "       [0.0109658 , 0.9890342 ],\n",
       "       [0.97888905, 0.02111095],\n",
       "       [0.98173421, 0.01826579],\n",
       "       [0.00225069, 0.99774931],\n",
       "       [0.9753805 , 0.0246195 ],\n",
       "       [0.0179583 , 0.9820417 ],\n",
       "       [0.98165287, 0.01834713],\n",
       "       [0.01842416, 0.98157584],\n",
       "       [0.97509212, 0.02490788],\n",
       "       [0.00514084, 0.99485916],\n",
       "       [0.00869738, 0.99130262],\n",
       "       [0.0040398 , 0.9959602 ]])"
      ]
     },
     "execution_count": 60,
     "metadata": {},
     "output_type": "execute_result"
    }
   ],
   "source": [
    "p_ = model.predict_proba(X_test)\n",
    "p_"
   ]
  },
  {
   "cell_type": "code",
   "execution_count": 25,
   "id": "30fab355",
   "metadata": {
    "ExecuteTime": {
     "end_time": "2023-04-17T03:33:46.909492Z",
     "start_time": "2023-04-17T03:33:46.898400Z"
    }
   },
   "outputs": [
    {
     "data": {
      "text/plain": [
       "array([0, 0, 0, 1, 1, 1, 0, 1, 0, 1, 0, 0, 0, 0, 0, 1, 0, 1, 1, 1, 1, 0,\n",
       "       1, 1, 0])"
      ]
     },
     "execution_count": 25,
     "metadata": {},
     "output_type": "execute_result"
    }
   ],
   "source": [
    "(p_[:,1] >= 0.5) * 1"
   ]
  },
  {
   "cell_type": "code",
   "execution_count": 28,
   "id": "695a5c55",
   "metadata": {
    "ExecuteTime": {
     "end_time": "2023-04-17T03:34:51.868295Z",
     "start_time": "2023-04-17T03:34:51.850548Z"
    }
   },
   "outputs": [
    {
     "data": {
      "text/plain": [
       "array([0, 0, 0, 1, 1, 1, 0, 1, 0, 1, 0, 0, 0, 0, 0, 1, 0, 1, 1, 1, 1, 0,\n",
       "       1, 1, 0])"
      ]
     },
     "execution_count": 28,
     "metadata": {},
     "output_type": "execute_result"
    }
   ],
   "source": [
    "(p_[:,0] < 0.5) * 1"
   ]
  },
  {
   "cell_type": "markdown",
   "id": "77fbbf7b",
   "metadata": {},
   "source": [
    "#### 根据公式手动计算"
   ]
  },
  {
   "cell_type": "markdown",
   "id": "21191ee3",
   "metadata": {},
   "source": [
    "<font size = 8>$z = -\\theta^Tx$</font>"
   ]
  },
  {
   "cell_type": "code",
   "execution_count": 66,
   "id": "a3d26841",
   "metadata": {
    "ExecuteTime": {
     "end_time": "2023-04-17T07:49:17.562338Z",
     "start_time": "2023-04-17T07:49:17.543816Z"
    }
   },
   "outputs": [
    {
     "name": "stdout",
     "output_type": "stream",
     "text": [
      "[-6.52697894] [[ 0.46589808 -0.83505818  2.16970169  0.90912548]]\n"
     ]
    },
    {
     "data": {
      "text/plain": [
       "array([[0.98068583, 0.01931417],\n",
       "       [0.00380683, 0.99619317],\n",
       "       [0.98497029, 0.01502971],\n",
       "       [0.97517515, 0.02482485],\n",
       "       [0.00152629, 0.99847371]])"
      ]
     },
     "execution_count": 66,
     "metadata": {},
     "output_type": "execute_result"
    }
   ],
   "source": [
    "# 线性回归方程\n",
    "b = model.intercept_\n",
    "w = model.coef_\n",
    "print(b,w)\n",
    "# 逻辑回归函数，z表示线性回归方程\n",
    "def sigmoid(z):\n",
    "    return 1/(1 + np.exp(-z))\n",
    "# 线性方程 乘法\n",
    "z = X_test.dot(w.T) + b\n",
    "proba_ = sigmoid(z) # 类别 1 的概率，neg（阴性）False = 0 pos（阳性） True = 1\n",
    "proba_\n",
    "proba_ = np.c_[1 - proba_,proba_]\n",
    "proba_[:5]"
   ]
  },
  {
   "cell_type": "code",
   "execution_count": 67,
   "id": "b8f414b8",
   "metadata": {
    "ExecuteTime": {
     "end_time": "2023-04-17T07:49:33.176508Z",
     "start_time": "2023-04-17T07:49:33.161505Z"
    }
   },
   "outputs": [
    {
     "data": {
      "text/plain": [
       "array([[0.98068583, 0.01931417],\n",
       "       [0.00380683, 0.99619317],\n",
       "       [0.98497029, 0.01502971],\n",
       "       [0.97517515, 0.02482485],\n",
       "       [0.00152629, 0.99847371]])"
      ]
     },
     "execution_count": 67,
     "metadata": {},
     "output_type": "execute_result"
    }
   ],
   "source": [
    "p_[:5]"
   ]
  },
  {
   "cell_type": "code",
   "execution_count": 34,
   "id": "c18e28cd",
   "metadata": {
    "ExecuteTime": {
     "end_time": "2023-04-17T03:44:22.511879Z",
     "start_time": "2023-04-17T03:44:22.493879Z"
    },
    "collapsed": true
   },
   "outputs": [
    {
     "data": {
      "text/plain": [
       "array([[ 0.41896488],\n",
       "       [-0.82995651],\n",
       "       [ 2.16243852],\n",
       "       [ 0.89219541]])"
      ]
     },
     "execution_count": 34,
     "metadata": {},
     "output_type": "execute_result"
    }
   ],
   "source": [
    "w.T"
   ]
  },
  {
   "cell_type": "code",
   "execution_count": 32,
   "id": "a9313b5f",
   "metadata": {
    "ExecuteTime": {
     "end_time": "2023-04-17T03:43:50.475866Z",
     "start_time": "2023-04-17T03:43:50.461863Z"
    },
    "collapsed": true
   },
   "outputs": [
    {
     "data": {
      "text/plain": [
       "array([[4.6, 3.2, 1.4, 0.2],\n",
       "       [4.6, 3.4, 1.4, 0.3],\n",
       "       [5.4, 3.9, 1.3, 0.4],\n",
       "       [6.4, 2.9, 4.3, 1.3],\n",
       "       [5.6, 2.7, 4.2, 1.3],\n",
       "       [5.6, 3. , 4.1, 1.3],\n",
       "       [4.8, 3.4, 1.9, 0.2],\n",
       "       [5.4, 3. , 4.5, 1.5],\n",
       "       [5.2, 4.1, 1.5, 0.1],\n",
       "       [5.5, 2.4, 3.8, 1.1],\n",
       "       [4.8, 3.1, 1.6, 0.2],\n",
       "       [4.8, 3. , 1.4, 0.3],\n",
       "       [4.8, 3.4, 1.6, 0.2],\n",
       "       [5. , 3.4, 1.6, 0.4],\n",
       "       [5. , 3.2, 1.2, 0.2],\n",
       "       [6.1, 3. , 4.6, 1.4],\n",
       "       [5.4, 3.7, 1.5, 0.2],\n",
       "       [4.9, 2.4, 3.3, 1. ],\n",
       "       [6.3, 3.3, 4.7, 1.6],\n",
       "       [6.1, 2.9, 4.7, 1.4],\n",
       "       [6.7, 3.1, 4.7, 1.5],\n",
       "       [4.9, 3. , 1.4, 0.2],\n",
       "       [5.7, 2.9, 4.2, 1.3],\n",
       "       [6.1, 2.8, 4. , 1.3],\n",
       "       [5.1, 3.8, 1.9, 0.4]])"
      ]
     },
     "execution_count": 32,
     "metadata": {},
     "output_type": "execute_result"
    }
   ],
   "source": [
    "X_test"
   ]
  },
  {
   "cell_type": "markdown",
   "id": "a52645d6",
   "metadata": {
    "ExecuteTime": {
     "end_time": "2023-04-17T03:57:34.639682Z",
     "start_time": "2023-04-17T03:57:34.631671Z"
    }
   },
   "source": [
    "### 逻辑斯蒂回归多分类"
   ]
  },
  {
   "cell_type": "markdown",
   "id": "13c36108",
   "metadata": {},
   "source": [
    "#### 建模概率计算"
   ]
  },
  {
   "cell_type": "code",
   "execution_count": 69,
   "id": "594fe07f",
   "metadata": {
    "ExecuteTime": {
     "end_time": "2023-04-17T07:50:29.008324Z",
     "start_time": "2023-04-17T07:50:29.002307Z"
    }
   },
   "outputs": [],
   "source": [
    "import numpy as np\n",
    "from sklearn import datasets\n",
    "from sklearn.linear_model import LogisticRegression\n",
    "from sklearn.model_selection import train_test_split\n",
    "\n",
    "# 1、数据加载\n",
    "iris = datasets.load_iris()\n",
    "\n",
    "# 2、数据提取\n",
    "X = iris['data']\n",
    "y = iris['target']\n",
    "\n",
    "# 3、数据拆分\n",
    "X_train,X_test,y_train,y_test = train_test_split(X,y)"
   ]
  },
  {
   "cell_type": "code",
   "execution_count": 70,
   "id": "e34abd70",
   "metadata": {
    "ExecuteTime": {
     "end_time": "2023-04-17T07:50:29.039374Z",
     "start_time": "2023-04-17T07:50:29.009323Z"
    }
   },
   "outputs": [
    {
     "name": "stdout",
     "output_type": "stream",
     "text": [
      "模型预测结果： [0 2 2 2 1 1 0 0 0 2 0 2 0 2 0 2 2 2 1 2 1 0 2 2 0 0 0 1 0 2 2 0 1 2 1 1 1\n",
      " 1]\n",
      "真实的结果是： [0 2 2 2 1 1 0 0 0 2 0 2 0 2 0 2 2 2 1 2 1 0 2 2 0 0 0 1 0 2 2 0 1 2 1 2 1\n",
      " 1]\n",
      "模型准确率是： 0.9736842105263158\n"
     ]
    },
    {
     "data": {
      "text/plain": [
       "array([[8.57387323e-01, 1.42607760e-01, 4.91738279e-06],\n",
       "       [8.88607105e-06, 3.99441819e-01, 6.00549295e-01],\n",
       "       [6.65568042e-04, 2.24998818e-01, 7.74335614e-01],\n",
       "       [7.10478912e-04, 3.20763870e-01, 6.78525651e-01],\n",
       "       [1.36803440e-02, 8.46818623e-01, 1.39501033e-01]])"
      ]
     },
     "execution_count": 70,
     "metadata": {},
     "output_type": "execute_result"
    }
   ],
   "source": [
    "#'auto', 'ovr', 'multinomial'\n",
    "model = LogisticRegression(multi_class= 'ovr')\n",
    "model.fit(X_train,y_train)\n",
    "y_pred = model.predict(X_test)\n",
    "\n",
    "print('模型预测结果：',y_pred)\n",
    "print('真实的结果是：',y_test)\n",
    "print('模型准确率是：',model.score(X_test,y_test))\n",
    "\n",
    "p_ = model.predict_proba(X_test)\n",
    "p_[:5]"
   ]
  },
  {
   "cell_type": "code",
   "execution_count": 71,
   "id": "6f8e4e8e",
   "metadata": {
    "ExecuteTime": {
     "end_time": "2023-04-17T07:50:29.054616Z",
     "start_time": "2023-04-17T07:50:29.040434Z"
    }
   },
   "outputs": [
    {
     "data": {
      "text/plain": [
       "array([0, 2, 2, 2, 1, 1, 0, 0, 0, 2, 0, 2, 0, 2, 0, 2, 2, 2, 1, 2, 1, 0,\n",
       "       2, 2, 0, 0, 0, 1, 0, 2, 2, 0, 1, 2, 1, 1, 1, 1], dtype=int64)"
      ]
     },
     "execution_count": 71,
     "metadata": {},
     "output_type": "execute_result"
    }
   ],
   "source": [
    "p_.argmax(axis = 1)"
   ]
  },
  {
   "cell_type": "markdown",
   "id": "20a1e053",
   "metadata": {},
   "source": [
    "#### 根据公式手动计算"
   ]
  },
  {
   "cell_type": "code",
   "execution_count": 74,
   "id": "6f1b6ebb",
   "metadata": {
    "ExecuteTime": {
     "end_time": "2023-04-17T07:51:24.223532Z",
     "start_time": "2023-04-17T07:51:24.210888Z"
    }
   },
   "outputs": [],
   "source": [
    "np.set_printoptions(suppress=True)"
   ]
  },
  {
   "cell_type": "code",
   "execution_count": 75,
   "id": "3c076746",
   "metadata": {
    "ExecuteTime": {
     "end_time": "2023-04-17T07:51:25.473947Z",
     "start_time": "2023-04-17T07:51:25.463841Z"
    },
    "collapsed": true
   },
   "outputs": [
    {
     "name": "stdout",
     "output_type": "stream",
     "text": [
      "模型斜率：\n",
      " [[-0.46617417  0.84982621 -2.18058066 -0.91113264]\n",
      " [-0.11542054 -1.93254926  0.65535015 -1.0884815 ]\n",
      " [-0.3313544  -0.44487949  2.64741631  2.09324369]]\n",
      "模型截距： [  6.5132325    4.74895864 -13.28384904]\n",
      "算法求的的概率是：\n",
      " [[0.85738732 0.14260776 0.00000492]\n",
      " [0.00000889 0.39944182 0.6005493 ]\n",
      " [0.00066557 0.22499882 0.77433561]\n",
      " [0.00071048 0.32076387 0.67852565]\n",
      " [0.01368034 0.84681862 0.13950103]]\n",
      "根据公式手动计算:\n",
      " [[0.85738732 0.14260776 0.00000492]\n",
      " [0.00000889 0.39944182 0.6005493 ]\n",
      " [0.00066557 0.22499882 0.77433561]\n",
      " [0.00071048 0.32076387 0.67852565]\n",
      " [0.01368034 0.84681862 0.13950103]]\n"
     ]
    }
   ],
   "source": [
    "# 线性回归方程，3个方程\n",
    "b = model.intercept_\n",
    "w = model.coef_\n",
    "# 逻辑回归函数\n",
    "def sigmoid(z):\n",
    "    return 1/(1 + np.exp(-z))\n",
    "\n",
    "print('模型斜率：\\n',w)\n",
    "print('模型截距：',b)\n",
    "\n",
    "# 线性方程 乘法\n",
    "z = X_test.dot(w.T) + b\n",
    "proba_ = sigmoid(z)\n",
    "proba_ = proba_/proba_.sum(axis = 1).reshape(-1,1) # 归一化，概率之和等于1\n",
    "print('算法求的的概率是：\\n',p_[:5])\n",
    "print('根据公式手动计算:\\n',proba_[:5])"
   ]
  },
  {
   "cell_type": "code",
   "execution_count": 76,
   "id": "d18d5c30",
   "metadata": {
    "ExecuteTime": {
     "end_time": "2023-04-17T07:53:04.910874Z",
     "start_time": "2023-04-17T07:53:04.894847Z"
    },
    "collapsed": true
   },
   "outputs": [
    {
     "data": {
      "text/plain": [
       "array([[1.],\n",
       "       [1.],\n",
       "       [1.],\n",
       "       [1.],\n",
       "       [1.],\n",
       "       [1.],\n",
       "       [1.],\n",
       "       [1.],\n",
       "       [1.],\n",
       "       [1.],\n",
       "       [1.],\n",
       "       [1.],\n",
       "       [1.],\n",
       "       [1.],\n",
       "       [1.],\n",
       "       [1.],\n",
       "       [1.],\n",
       "       [1.],\n",
       "       [1.],\n",
       "       [1.],\n",
       "       [1.],\n",
       "       [1.],\n",
       "       [1.],\n",
       "       [1.],\n",
       "       [1.],\n",
       "       [1.],\n",
       "       [1.],\n",
       "       [1.],\n",
       "       [1.],\n",
       "       [1.],\n",
       "       [1.],\n",
       "       [1.],\n",
       "       [1.],\n",
       "       [1.],\n",
       "       [1.],\n",
       "       [1.],\n",
       "       [1.],\n",
       "       [1.]])"
      ]
     },
     "execution_count": 76,
     "metadata": {},
     "output_type": "execute_result"
    }
   ],
   "source": [
    "proba_.sum(axis = 1).reshape(-1,1)"
   ]
  },
  {
   "cell_type": "markdown",
   "id": "aa3ba610",
   "metadata": {},
   "source": [
    "### 逻辑斯蒂回归softmax多分类"
   ]
  },
  {
   "cell_type": "markdown",
   "id": "034ac7b4",
   "metadata": {},
   "source": [
    "#### softmax概率公式"
   ]
  },
  {
   "cell_type": "code",
   "execution_count": 79,
   "id": "a3270849",
   "metadata": {
    "ExecuteTime": {
     "end_time": "2023-04-17T08:07:27.704720Z",
     "start_time": "2023-04-17T08:07:27.691661Z"
    }
   },
   "outputs": [
    {
     "data": {
      "text/plain": [
       "array([0.88, 0.12, 0.  ])"
      ]
     },
     "execution_count": 79,
     "metadata": {},
     "output_type": "execute_result"
    }
   ],
   "source": [
    "import numpy as np\n",
    "x = np.array([3,1,-3])\n",
    "\n",
    "def softmax(x):\n",
    "    return np.e**x /np.sum(np.e**x)\n",
    "\n",
    "\n",
    "softmax(x).round(2)\n",
    "\n"
   ]
  },
  {
   "cell_type": "markdown",
   "id": "688a9e44",
   "metadata": {},
   "source": [
    "#### softmax建模概率实战"
   ]
  },
  {
   "cell_type": "code",
   "execution_count": 80,
   "id": "b9db2fe4",
   "metadata": {
    "ExecuteTime": {
     "end_time": "2023-04-17T08:07:47.192454Z",
     "start_time": "2023-04-17T08:07:47.177476Z"
    }
   },
   "outputs": [],
   "source": [
    "import numpy as np\n",
    "from sklearn import datasets\n",
    "from sklearn.linear_model import LogisticRegression\n",
    "from sklearn.model_selection import train_test_split\n",
    "# 1、数据加载\n",
    "iris = datasets.load_iris()\n",
    "# 2、数据提取\n",
    "X = iris['data']\n",
    "y = iris['target']\n",
    "# 3、数据拆分\n",
    "X_train,X_test,y_train,y_test = train_test_split(X,y)"
   ]
  },
  {
   "cell_type": "code",
   "execution_count": 82,
   "id": "9e3f54eb",
   "metadata": {
    "ExecuteTime": {
     "end_time": "2023-04-17T08:10:17.207896Z",
     "start_time": "2023-04-17T08:10:17.180460Z"
    },
    "collapsed": true
   },
   "outputs": [
    {
     "name": "stdout",
     "output_type": "stream",
     "text": [
      "算法预测结果：\n",
      " [2 2 2 1 0 1 1 1 2 2 0 1 1 2 2 1 2 0 2 1 0 2 2 2 1 2 0 2 0 0 2 1 1 2 1 2 1\n",
      " 2]\n",
      "真实的分类是：\n",
      " [2 2 2 1 0 2 1 1 2 2 0 1 1 2 2 1 2 0 2 1 0 2 2 2 1 2 0 2 0 0 2 1 1 2 1 2 1\n",
      " 2]\n",
      "准确率是： 0.9736842105263158\n"
     ]
    }
   ],
   "source": [
    "# 'auto', 'ovr', 'multinomial'\n",
    "model = LogisticRegression(multi_class='multinomial',max_iter=5000) # 多项式，softmax\n",
    "model.fit(X_train,y_train)\n",
    "print('算法预测结果：\\n',model.predict(X_test))\n",
    "print('真实的分类是：\\n',y_test)\n",
    "print('准确率是：',model.score(X_test,y_test))"
   ]
  },
  {
   "cell_type": "code",
   "execution_count": 83,
   "id": "38bae88e",
   "metadata": {
    "ExecuteTime": {
     "end_time": "2023-04-17T08:10:56.161354Z",
     "start_time": "2023-04-17T08:10:56.147351Z"
    },
    "collapsed": true
   },
   "outputs": [
    {
     "data": {
      "text/plain": [
       "array([[0.00014561, 0.18783253, 0.81202186],\n",
       "       [0.00046424, 0.23971966, 0.7598161 ],\n",
       "       [0.00003046, 0.03357013, 0.96639941],\n",
       "       [0.01049329, 0.89586605, 0.09364066],\n",
       "       [0.98262021, 0.01737962, 0.00000017]])"
      ]
     },
     "execution_count": 83,
     "metadata": {},
     "output_type": "execute_result"
    }
   ],
   "source": [
    "p_ = model.predict_proba(X_test)\n",
    "p_[:5]"
   ]
  },
  {
   "cell_type": "markdown",
   "id": "862cb5d2",
   "metadata": {},
   "source": [
    "#### 根据公式手动计算验证"
   ]
  },
  {
   "cell_type": "code",
   "execution_count": 84,
   "id": "4c07ecca",
   "metadata": {
    "ExecuteTime": {
     "end_time": "2023-04-17T08:11:40.567757Z",
     "start_time": "2023-04-17T08:11:40.559691Z"
    }
   },
   "outputs": [
    {
     "name": "stdout",
     "output_type": "stream",
     "text": [
      "[[-0.40690969  0.86660589 -2.29027567 -0.9979336 ]\n",
      " [ 0.44924411 -0.36146589 -0.02818818 -0.88040248]\n",
      " [-0.04233442 -0.50514     2.31846386  1.87833608]]\n",
      "[  9.0476334    1.88460671 -10.93224011]\n"
     ]
    }
   ],
   "source": [
    "w = model.coef_\n",
    "b = model.intercept_\n",
    "print(w)\n",
    "print(b)"
   ]
  },
  {
   "cell_type": "code",
   "execution_count": 86,
   "id": "727472f0",
   "metadata": {
    "ExecuteTime": {
     "end_time": "2023-04-17T08:12:24.829255Z",
     "start_time": "2023-04-17T08:12:24.819919Z"
    },
    "collapsed": true
   },
   "outputs": [
    {
     "data": {
      "text/plain": [
       "array([[ -5.26290705,   1.89946528,   3.36344177],\n",
       "       [ -4.54908668,   1.6977402 ,   2.85134648],\n",
       "       [ -5.79002204,   1.2150408 ,   4.57498124],\n",
       "       [ -2.21192787,   2.23512701,  -0.02319915],\n",
       "       [  6.53070278,   2.49577825,  -9.02648103],\n",
       "       [ -4.26670749,   2.23837665,   2.02833084],\n",
       "       [ -2.51247289,   2.40862868,   0.10384421],\n",
       "       [ -2.10754868,   2.35593669,  -0.24838802],\n",
       "       [ -4.54908668,   1.6977402 ,   2.85134648],\n",
       "       [ -6.16259137,   2.4626312 ,   3.69996017],\n",
       "       [  7.80576764,   2.44558372, -10.25135136],\n",
       "       [ -1.67506626,   2.13413346,  -0.45906719],\n",
       "       [ -3.79281641,   2.40512099,   1.38769542],\n",
       "       [ -8.65654259,   2.17957706,   6.47696553],\n",
       "       [ -6.47651475,   1.61991883,   4.85659591],\n",
       "       [ -1.09434823,   2.41833235,  -1.32398413],\n",
       "       [ -4.19469303,   2.01604014,   2.17865289],\n",
       "       [  6.83830627,   2.76423008,  -9.60253636],\n",
       "       [ -4.02278238,   1.48934217,   2.5334402 ],\n",
       "       [ -1.48227155,   2.19450863,  -0.71223708],\n",
       "       [  5.91691735,   2.69925258,  -8.61616993],\n",
       "       [ -6.7540874 ,   1.59153982,   5.16254758],\n",
       "       [ -5.04921842,   1.69516137,   3.35405705],\n",
       "       [ -6.33672324,   1.64210187,   4.69462137],\n",
       "       [ -1.46643559,   2.35561533,  -0.88917973],\n",
       "       [ -5.40399121,   2.29476716,   3.10922405],\n",
       "       [  7.20606324,   2.83445266, -10.04051589],\n",
       "       [ -6.84989477,   1.97468673,   4.87520804],\n",
       "       [  5.43975798,   2.49479307,  -7.93455105],\n",
       "       [  5.74887483,   2.82524799,  -8.57412281],\n",
       "       [ -6.89258626,   1.15187186,   5.74071439],\n",
       "       [ -2.89723075,   2.61492182,   0.28230892],\n",
       "       [ -2.68380859,   2.08436974,   0.59943885],\n",
       "       [ -6.64691205,   2.20861989,   4.43829216],\n",
       "       [  0.45043517,   2.32603222,  -2.7764674 ],\n",
       "       [ -7.22785078,   1.44493298,   5.7829178 ],\n",
       "       [ -2.18893061,   2.44578552,  -0.2568549 ],\n",
       "       [ -4.69683513,   1.99747425,   2.69936089]])"
      ]
     },
     "execution_count": 86,
     "metadata": {},
     "output_type": "execute_result"
    }
   ],
   "source": [
    "z = X_test.dot(w.T) + b\n",
    "z"
   ]
  },
  {
   "cell_type": "code",
   "execution_count": 89,
   "id": "9a1801ad",
   "metadata": {
    "ExecuteTime": {
     "end_time": "2023-04-17T08:14:49.899779Z",
     "start_time": "2023-04-17T08:14:49.893775Z"
    },
    "collapsed": true
   },
   "outputs": [
    {
     "name": "stdout",
     "output_type": "stream",
     "text": [
      "算法求解的概率是：\n",
      " [[0.00014561 0.18783253 0.81202186]\n",
      " [0.00046424 0.23971966 0.7598161 ]\n",
      " [0.00003046 0.03357013 0.96639941]\n",
      " [0.01049329 0.89586605 0.09364066]\n",
      " [0.98262021 0.01737962 0.00000017]]\n",
      "根据公式手写代码：\n",
      " [[0.00014561 0.18783253 0.81202186]\n",
      " [0.00046424 0.23971966 0.7598161 ]\n",
      " [0.00003046 0.03357013 0.96639941]\n",
      " [0.01049329 0.89586605 0.09364066]\n",
      " [0.98262021 0.01737962 0.00000017]]\n"
     ]
    }
   ],
   "source": [
    "def softmax(z):\n",
    "    return np.exp(z)/np.exp(z).sum(axis = 1).reshape(-1,1)\n",
    "proba_ = softmax(z)\n",
    "print('算法求解的概率是：\\n',p_[:5])\n",
    "print('根据公式手写代码：\\n',proba_[:5])"
   ]
  },
  {
   "cell_type": "code",
   "execution_count": 90,
   "id": "dfe542fc",
   "metadata": {
    "ExecuteTime": {
     "end_time": "2023-04-17T08:15:21.764574Z",
     "start_time": "2023-04-17T08:15:21.746968Z"
    }
   },
   "outputs": [
    {
     "data": {
      "text/plain": [
       "array([2, 2, 2, 1, 0, 1, 1, 1, 2, 2, 0, 1, 1, 2, 2, 1, 2, 0, 2, 1, 0, 2,\n",
       "       2, 2, 1, 2, 0, 2, 0, 0, 2, 1, 1, 2, 1, 2, 1, 2], dtype=int64)"
      ]
     },
     "execution_count": 90,
     "metadata": {},
     "output_type": "execute_result"
    }
   ],
   "source": [
    "proba_.argmax(axis = 1)"
   ]
  },
  {
   "cell_type": "code",
   "execution_count": 91,
   "id": "7bcde613",
   "metadata": {
    "ExecuteTime": {
     "end_time": "2023-04-17T08:15:41.278481Z",
     "start_time": "2023-04-17T08:15:41.260863Z"
    }
   },
   "outputs": [
    {
     "data": {
      "text/plain": [
       "array([2, 2, 2, 1, 0, 1, 1, 1, 2, 2, 0, 1, 1, 2, 2, 1, 2, 0, 2, 1, 0, 2,\n",
       "       2, 2, 1, 2, 0, 2, 0, 0, 2, 1, 1, 2, 1, 2, 1, 2])"
      ]
     },
     "execution_count": 91,
     "metadata": {},
     "output_type": "execute_result"
    }
   ],
   "source": [
    "model.predict(X_test)"
   ]
  },
  {
   "cell_type": "code",
   "execution_count": null,
   "id": "8f48a38e",
   "metadata": {},
   "outputs": [],
   "source": []
  }
 ],
 "metadata": {
  "kernelspec": {
   "display_name": "Python 3 (ipykernel)",
   "language": "python",
   "name": "python3"
  },
  "language_info": {
   "codemirror_mode": {
    "name": "ipython",
    "version": 3
   },
   "file_extension": ".py",
   "mimetype": "text/x-python",
   "name": "python",
   "nbconvert_exporter": "python",
   "pygments_lexer": "ipython3",
   "version": "3.9.6"
  },
  "toc": {
   "base_numbering": 1,
   "nav_menu": {},
   "number_sections": true,
   "sideBar": true,
   "skip_h1_title": false,
   "title_cell": "Table of Contents",
   "title_sidebar": "Contents",
   "toc_cell": false,
   "toc_position": {},
   "toc_section_display": true,
   "toc_window_display": true
  }
 },
 "nbformat": 4,
 "nbformat_minor": 5
}
