{
 "cells": [
  {
   "cell_type": "markdown",
   "id": "c109834c",
   "metadata": {},
   "source": [
    "### XGBoost实战应用"
   ]
  },
  {
   "cell_type": "markdown",
   "id": "bf122dfb",
   "metadata": {},
   "source": [
    "#### 方式一"
   ]
  },
  {
   "cell_type": "code",
   "execution_count": 1,
   "id": "074dc1ec",
   "metadata": {
    "ExecuteTime": {
     "end_time": "2023-05-17T09:03:11.528714Z",
     "start_time": "2023-05-17T09:03:10.804147Z"
    }
   },
   "outputs": [],
   "source": [
    "import numpy as np\n",
    "import xgboost as xgb\n",
    "from xgboost import XGBClassifier\n",
    "from sklearn import datasets\n",
    "from sklearn import tree\n",
    "from sklearn.model_selection import train_test_split\n",
    "X,y = datasets.load_wine(return_X_y=True)\n",
    "X_train,X_test,y_train,y_test = train_test_split(X,y,test_size=0.2)"
   ]
  },
  {
   "cell_type": "code",
   "execution_count": 3,
   "id": "b799c820",
   "metadata": {
    "ExecuteTime": {
     "end_time": "2023-05-17T09:11:46.129786Z",
     "start_time": "2023-05-17T09:11:46.124804Z"
    },
    "collapsed": true
   },
   "outputs": [
    {
     "data": {
      "text/plain": [
       "array([0, 0, 0, 0, 0, 0, 0, 0, 0, 0, 0, 0, 0, 0, 0, 0, 0, 0, 0, 0, 0, 0,\n",
       "       0, 0, 0, 0, 0, 0, 0, 0, 0, 0, 0, 0, 0, 0, 0, 0, 0, 0, 0, 0, 0, 0,\n",
       "       0, 0, 0, 0, 0, 0, 0, 0, 0, 0, 0, 0, 0, 0, 0, 1, 1, 1, 1, 1, 1, 1,\n",
       "       1, 1, 1, 1, 1, 1, 1, 1, 1, 1, 1, 1, 1, 1, 1, 1, 1, 1, 1, 1, 1, 1,\n",
       "       1, 1, 1, 1, 1, 1, 1, 1, 1, 1, 1, 1, 1, 1, 1, 1, 1, 1, 1, 1, 1, 1,\n",
       "       1, 1, 1, 1, 1, 1, 1, 1, 1, 1, 1, 1, 1, 1, 1, 1, 1, 1, 1, 1, 2, 2,\n",
       "       2, 2, 2, 2, 2, 2, 2, 2, 2, 2, 2, 2, 2, 2, 2, 2, 2, 2, 2, 2, 2, 2,\n",
       "       2, 2, 2, 2, 2, 2, 2, 2, 2, 2, 2, 2, 2, 2, 2, 2, 2, 2, 2, 2, 2, 2,\n",
       "       2, 2])"
      ]
     },
     "execution_count": 3,
     "metadata": {},
     "output_type": "execute_result"
    }
   ],
   "source": [
    "y"
   ]
  },
  {
   "cell_type": "code",
   "execution_count": 2,
   "id": "433f53f5",
   "metadata": {
    "ExecuteTime": {
     "end_time": "2023-05-17T09:10:47.680871Z",
     "start_time": "2023-05-17T09:10:47.669976Z"
    },
    "collapsed": true
   },
   "outputs": [
    {
     "data": {
      "text/html": [
       "<style>#sk-container-id-1 {color: black;background-color: white;}#sk-container-id-1 pre{padding: 0;}#sk-container-id-1 div.sk-toggleable {background-color: white;}#sk-container-id-1 label.sk-toggleable__label {cursor: pointer;display: block;width: 100%;margin-bottom: 0;padding: 0.3em;box-sizing: border-box;text-align: center;}#sk-container-id-1 label.sk-toggleable__label-arrow:before {content: \"▸\";float: left;margin-right: 0.25em;color: #696969;}#sk-container-id-1 label.sk-toggleable__label-arrow:hover:before {color: black;}#sk-container-id-1 div.sk-estimator:hover label.sk-toggleable__label-arrow:before {color: black;}#sk-container-id-1 div.sk-toggleable__content {max-height: 0;max-width: 0;overflow: hidden;text-align: left;background-color: #f0f8ff;}#sk-container-id-1 div.sk-toggleable__content pre {margin: 0.2em;color: black;border-radius: 0.25em;background-color: #f0f8ff;}#sk-container-id-1 input.sk-toggleable__control:checked~div.sk-toggleable__content {max-height: 200px;max-width: 100%;overflow: auto;}#sk-container-id-1 input.sk-toggleable__control:checked~label.sk-toggleable__label-arrow:before {content: \"▾\";}#sk-container-id-1 div.sk-estimator input.sk-toggleable__control:checked~label.sk-toggleable__label {background-color: #d4ebff;}#sk-container-id-1 div.sk-label input.sk-toggleable__control:checked~label.sk-toggleable__label {background-color: #d4ebff;}#sk-container-id-1 input.sk-hidden--visually {border: 0;clip: rect(1px 1px 1px 1px);clip: rect(1px, 1px, 1px, 1px);height: 1px;margin: -1px;overflow: hidden;padding: 0;position: absolute;width: 1px;}#sk-container-id-1 div.sk-estimator {font-family: monospace;background-color: #f0f8ff;border: 1px dotted black;border-radius: 0.25em;box-sizing: border-box;margin-bottom: 0.5em;}#sk-container-id-1 div.sk-estimator:hover {background-color: #d4ebff;}#sk-container-id-1 div.sk-parallel-item::after {content: \"\";width: 100%;border-bottom: 1px solid gray;flex-grow: 1;}#sk-container-id-1 div.sk-label:hover label.sk-toggleable__label {background-color: #d4ebff;}#sk-container-id-1 div.sk-serial::before {content: \"\";position: absolute;border-left: 1px solid gray;box-sizing: border-box;top: 0;bottom: 0;left: 50%;z-index: 0;}#sk-container-id-1 div.sk-serial {display: flex;flex-direction: column;align-items: center;background-color: white;padding-right: 0.2em;padding-left: 0.2em;position: relative;}#sk-container-id-1 div.sk-item {position: relative;z-index: 1;}#sk-container-id-1 div.sk-parallel {display: flex;align-items: stretch;justify-content: center;background-color: white;position: relative;}#sk-container-id-1 div.sk-item::before, #sk-container-id-1 div.sk-parallel-item::before {content: \"\";position: absolute;border-left: 1px solid gray;box-sizing: border-box;top: 0;bottom: 0;left: 50%;z-index: -1;}#sk-container-id-1 div.sk-parallel-item {display: flex;flex-direction: column;z-index: 1;position: relative;background-color: white;}#sk-container-id-1 div.sk-parallel-item:first-child::after {align-self: flex-end;width: 50%;}#sk-container-id-1 div.sk-parallel-item:last-child::after {align-self: flex-start;width: 50%;}#sk-container-id-1 div.sk-parallel-item:only-child::after {width: 0;}#sk-container-id-1 div.sk-dashed-wrapped {border: 1px dashed gray;margin: 0 0.4em 0.5em 0.4em;box-sizing: border-box;padding-bottom: 0.4em;background-color: white;}#sk-container-id-1 div.sk-label label {font-family: monospace;font-weight: bold;display: inline-block;line-height: 1.2em;}#sk-container-id-1 div.sk-label-container {text-align: center;}#sk-container-id-1 div.sk-container {/* jupyter's `normalize.less` sets `[hidden] { display: none; }` but bootstrap.min.css set `[hidden] { display: none !important; }` so we also need the `!important` here to be able to override the default hidden behavior on the sphinx rendered scikit-learn.org. See: https://github.com/scikit-learn/scikit-learn/issues/21755 */display: inline-block !important;position: relative;}#sk-container-id-1 div.sk-text-repr-fallback {display: none;}</style><div id=\"sk-container-id-1\" class=\"sk-top-container\"><div class=\"sk-text-repr-fallback\"><pre>XGBClassifier(base_score=None, booster=None, callbacks=None,\n",
       "              colsample_bylevel=None, colsample_bynode=None,\n",
       "              colsample_bytree=0.8, early_stopping_rounds=None,\n",
       "              enable_categorical=False, eval_metric=[&#x27;merror&#x27;], gamma=0.3,\n",
       "              gpu_id=None, grow_policy=None, importance_type=None,\n",
       "              interaction_constraints=None, learning_rate=0.1, max_bin=None,\n",
       "              max_cat_to_onehot=None, max_delta_step=None, max_depth=5,\n",
       "              max_leaves=None, min_child_weight=1, missing=nan,\n",
       "              monotone_constraints=None, n_estimators=10, n_jobs=None,\n",
       "              nthread=4, num_parallel_tree=None, predictor=None,\n",
       "              random_state=None, reg_alpha=None, ...)</pre><b>In a Jupyter environment, please rerun this cell to show the HTML representation or trust the notebook. <br />On GitHub, the HTML representation is unable to render, please try loading this page with nbviewer.org.</b></div><div class=\"sk-container\" hidden><div class=\"sk-item\"><div class=\"sk-estimator sk-toggleable\"><input class=\"sk-toggleable__control sk-hidden--visually\" id=\"sk-estimator-id-1\" type=\"checkbox\" checked><label for=\"sk-estimator-id-1\" class=\"sk-toggleable__label sk-toggleable__label-arrow\">XGBClassifier</label><div class=\"sk-toggleable__content\"><pre>XGBClassifier(base_score=None, booster=None, callbacks=None,\n",
       "              colsample_bylevel=None, colsample_bynode=None,\n",
       "              colsample_bytree=0.8, early_stopping_rounds=None,\n",
       "              enable_categorical=False, eval_metric=[&#x27;merror&#x27;], gamma=0.3,\n",
       "              gpu_id=None, grow_policy=None, importance_type=None,\n",
       "              interaction_constraints=None, learning_rate=0.1, max_bin=None,\n",
       "              max_cat_to_onehot=None, max_delta_step=None, max_depth=5,\n",
       "              max_leaves=None, min_child_weight=1, missing=nan,\n",
       "              monotone_constraints=None, n_estimators=10, n_jobs=None,\n",
       "              nthread=4, num_parallel_tree=None, predictor=None,\n",
       "              random_state=None, reg_alpha=None, ...)</pre></div></div></div></div></div>"
      ],
      "text/plain": [
       "XGBClassifier(base_score=None, booster=None, callbacks=None,\n",
       "              colsample_bylevel=None, colsample_bynode=None,\n",
       "              colsample_bytree=0.8, early_stopping_rounds=None,\n",
       "              enable_categorical=False, eval_metric=['merror'], gamma=0.3,\n",
       "              gpu_id=None, grow_policy=None, importance_type=None,\n",
       "              interaction_constraints=None, learning_rate=0.1, max_bin=None,\n",
       "              max_cat_to_onehot=None, max_delta_step=None, max_depth=5,\n",
       "              max_leaves=None, min_child_weight=1, missing=nan,\n",
       "              monotone_constraints=None, n_estimators=10, n_jobs=None,\n",
       "              nthread=4, num_parallel_tree=None, predictor=None,\n",
       "              random_state=None, reg_alpha=None, ...)"
      ]
     },
     "execution_count": 2,
     "metadata": {},
     "output_type": "execute_result"
    }
   ],
   "source": [
    "model = XGBClassifier(learning_rate =0.1,# 学习率，控制每次迭代更新权重时的步长，默认0.3。值越小，训练越慢。\n",
    "                      n_estimators=10,# 总共迭代的次数，即决策树的个数\n",
    "                      max_depth=5, # 深度\n",
    "                      min_child_weight= 1,# 默认值为1,。值越大，越容易欠拟合；值越小，越容易过拟合\n",
    "                      gamma=0.3,# 惩罚项系数，指定节点分裂所需的最小损失函数下降值。\n",
    "                      subsample=0.8,# 训练每棵树时，使用的数据占全部训练集的比例。默认值为1，典型值为0.5-1。防止overfitting。\n",
    "                      colsample_bytree=0.8,\n",
    "                      objective= 'binary:logistic',# 目标函数\n",
    "                      eval_metric = ['merror'],# 验证数据集评判标准\n",
    "                      nthread=4,)# 并行线程数\n",
    "model"
   ]
  },
  {
   "cell_type": "code",
   "execution_count": 8,
   "id": "1464f773",
   "metadata": {
    "ExecuteTime": {
     "end_time": "2023-05-17T09:15:32.822703Z",
     "start_time": "2023-05-17T09:15:32.792012Z"
    },
    "collapsed": true
   },
   "outputs": [
    {
     "name": "stdout",
     "output_type": "stream",
     "text": [
      "[0]\tvalidation_0-merror:0.00000\tvalidation_1-merror:0.00704\n",
      "[1]\tvalidation_0-merror:0.00000\tvalidation_1-merror:0.00000\n",
      "[2]\tvalidation_0-merror:0.00000\tvalidation_1-merror:0.00000\n",
      "[3]\tvalidation_0-merror:0.00000\tvalidation_1-merror:0.00000\n",
      "[4]\tvalidation_0-merror:0.00000\tvalidation_1-merror:0.00000\n",
      "[5]\tvalidation_0-merror:0.00000\tvalidation_1-merror:0.00000\n",
      "[6]\tvalidation_0-merror:0.00000\tvalidation_1-merror:0.00000\n",
      "[7]\tvalidation_0-merror:0.00000\tvalidation_1-merror:0.00000\n",
      "[8]\tvalidation_0-merror:0.00000\tvalidation_1-merror:0.00000\n",
      "[9]\tvalidation_0-merror:0.00000\tvalidation_1-merror:0.00000\n"
     ]
    },
    {
     "data": {
      "text/plain": [
       "1.0"
      ]
     },
     "execution_count": 8,
     "metadata": {},
     "output_type": "execute_result"
    }
   ],
   "source": [
    "eval_set = [(X_test, y_test),(X_train,y_train)]\n",
    "# 建模\n",
    "model.fit(X_train,y_train,\n",
    "          eval_set = eval_set,\n",
    "          verbose = True)\n",
    "\n",
    "model.score(X_test,y_test)"
   ]
  },
  {
   "cell_type": "code",
   "execution_count": 11,
   "id": "77d2441c",
   "metadata": {
    "ExecuteTime": {
     "end_time": "2023-05-17T09:18:19.538801Z",
     "start_time": "2023-05-17T09:18:19.519145Z"
    }
   },
   "outputs": [
    {
     "data": {
      "text/plain": [
       "array([1, 0, 0, 1, 1, 2, 1, 2, 2, 0, 2, 1, 1, 0, 1, 2, 1, 1, 2, 2, 0, 2,\n",
       "       2, 0, 2, 2, 2, 0, 1, 0, 0, 2, 1, 2, 1, 1], dtype=int64)"
      ]
     },
     "execution_count": 11,
     "metadata": {},
     "output_type": "execute_result"
    }
   ],
   "source": [
    "model.predict(X_test)"
   ]
  },
  {
   "cell_type": "code",
   "execution_count": 10,
   "id": "3c7134af",
   "metadata": {
    "ExecuteTime": {
     "end_time": "2023-05-17T09:16:48.943809Z",
     "start_time": "2023-05-17T09:16:48.842738Z"
    },
    "collapsed": true
   },
   "outputs": [
    {
     "data": {
      "image/svg+xml": [
       "<?xml version=\"1.0\" encoding=\"UTF-8\" standalone=\"no\"?>\n",
       "<!DOCTYPE svg PUBLIC \"-//W3C//DTD SVG 1.1//EN\"\n",
       " \"http://www.w3.org/Graphics/SVG/1.1/DTD/svg11.dtd\">\n",
       "<!-- Generated by graphviz version 2.48.0 (20210717.1556)\n",
       " -->\n",
       "<!-- Pages: 1 -->\n",
       "<svg width=\"576pt\" height=\"392pt\"\n",
       " viewBox=\"0.00 0.00 576.00 392.00\" xmlns=\"http://www.w3.org/2000/svg\" xmlns:xlink=\"http://www.w3.org/1999/xlink\">\n",
       "<g id=\"graph0\" class=\"graph\" transform=\"scale(1 1) rotate(0) translate(4 388)\">\n",
       "<polygon fill=\"white\" stroke=\"transparent\" points=\"-4,4 -4,-388 572,-388 572,4 -4,4\"/>\n",
       "<!-- 0 -->\n",
       "<g id=\"node1\" class=\"node\">\n",
       "<title>0</title>\n",
       "<path fill=\"#78bceb\" stroke=\"black\" d=\"M172,-384C172,-384 95,-384 95,-384 89,-384 83,-378 83,-372 83,-372 83,-360 83,-360 83,-354 89,-348 95,-348 95,-348 172,-348 172,-348 178,-348 184,-354 184,-360 184,-360 184,-372 184,-372 184,-378 178,-384 172,-384\"/>\n",
       "<text text-anchor=\"middle\" x=\"133.5\" y=\"-362.3\" font-family=\"Times New Roman,serif\" font-size=\"14.00\">f9&lt;3.46000004</text>\n",
       "</g>\n",
       "<!-- 1 -->\n",
       "<g id=\"node2\" class=\"node\">\n",
       "<title>1</title>\n",
       "<path fill=\"#e48038\" stroke=\"black\" d=\"M133.5,-297C133.5,-297 41.5,-297 41.5,-297 35.5,-297 29.5,-291 29.5,-285 29.5,-285 29.5,-273 29.5,-273 29.5,-267 35.5,-261 41.5,-261 41.5,-261 133.5,-261 133.5,-261 139.5,-261 145.5,-267 145.5,-273 145.5,-273 145.5,-285 145.5,-285 145.5,-291 139.5,-297 133.5,-297\"/>\n",
       "<text text-anchor=\"middle\" x=\"87.5\" y=\"-275.3\" font-family=\"Times New Roman,serif\" font-size=\"14.00\">leaf=0.140689656</text>\n",
       "</g>\n",
       "<!-- 0&#45;&gt;1 -->\n",
       "<g id=\"edge1\" class=\"edge\">\n",
       "<title>0&#45;&gt;1</title>\n",
       "<path fill=\"none\" stroke=\"#0000ff\" d=\"M117.76,-347.65C113.4,-342.25 108.92,-336.11 105.5,-330 101.49,-322.83 98.09,-314.61 95.37,-306.92\"/>\n",
       "<polygon fill=\"#0000ff\" stroke=\"#0000ff\" points=\"98.64,-305.67 92.18,-297.27 91.99,-307.86 98.64,-305.67\"/>\n",
       "<text text-anchor=\"middle\" x=\"140\" y=\"-318.8\" font-family=\"Times New Roman,serif\" font-size=\"14.00\">yes, missing</text>\n",
       "</g>\n",
       "<!-- 2 -->\n",
       "<g id=\"node3\" class=\"node\">\n",
       "<title>2</title>\n",
       "<path fill=\"#78bceb\" stroke=\"black\" d=\"M253,-297C253,-297 176,-297 176,-297 170,-297 164,-291 164,-285 164,-285 164,-273 164,-273 164,-267 170,-261 176,-261 176,-261 253,-261 253,-261 259,-261 265,-267 265,-273 265,-273 265,-285 265,-285 265,-291 259,-297 253,-297\"/>\n",
       "<text text-anchor=\"middle\" x=\"214.5\" y=\"-275.3\" font-family=\"Times New Roman,serif\" font-size=\"14.00\">f1&lt;1.29999995</text>\n",
       "</g>\n",
       "<!-- 0&#45;&gt;2 -->\n",
       "<g id=\"edge2\" class=\"edge\">\n",
       "<title>0&#45;&gt;2</title>\n",
       "<path fill=\"none\" stroke=\"#ff0000\" d=\"M155.04,-347.93C161.53,-342.44 168.51,-336.18 174.5,-330 181.85,-322.41 189.25,-313.57 195.66,-305.45\"/>\n",
       "<polygon fill=\"#ff0000\" stroke=\"#ff0000\" points=\"198.58,-307.39 201.92,-297.33 193.04,-303.11 198.58,-307.39\"/>\n",
       "<text text-anchor=\"middle\" x=\"195\" y=\"-318.8\" font-family=\"Times New Roman,serif\" font-size=\"14.00\">no</text>\n",
       "</g>\n",
       "<!-- 3 -->\n",
       "<g id=\"node4\" class=\"node\">\n",
       "<title>3</title>\n",
       "<path fill=\"#e48038\" stroke=\"black\" d=\"M206.5,-210C206.5,-210 114.5,-210 114.5,-210 108.5,-210 102.5,-204 102.5,-198 102.5,-198 102.5,-186 102.5,-186 102.5,-180 108.5,-174 114.5,-174 114.5,-174 206.5,-174 206.5,-174 212.5,-174 218.5,-180 218.5,-186 218.5,-186 218.5,-198 218.5,-198 218.5,-204 212.5,-210 206.5,-210\"/>\n",
       "<text text-anchor=\"middle\" x=\"160.5\" y=\"-188.3\" font-family=\"Times New Roman,serif\" font-size=\"14.00\">leaf=0.109090917</text>\n",
       "</g>\n",
       "<!-- 2&#45;&gt;3 -->\n",
       "<g id=\"edge3\" class=\"edge\">\n",
       "<title>2&#45;&gt;3</title>\n",
       "<path fill=\"none\" stroke=\"#0000ff\" d=\"M193.71,-260.89C188.21,-255.6 182.66,-249.45 178.5,-243 173.93,-235.91 170.33,-227.51 167.59,-219.64\"/>\n",
       "<polygon fill=\"#0000ff\" stroke=\"#0000ff\" points=\"170.92,-218.57 164.57,-210.09 164.25,-220.68 170.92,-218.57\"/>\n",
       "<text text-anchor=\"middle\" x=\"213\" y=\"-231.8\" font-family=\"Times New Roman,serif\" font-size=\"14.00\">yes, missing</text>\n",
       "</g>\n",
       "<!-- 4 -->\n",
       "<g id=\"node5\" class=\"node\">\n",
       "<title>4</title>\n",
       "<path fill=\"#78bceb\" stroke=\"black\" d=\"M326,-210C326,-210 249,-210 249,-210 243,-210 237,-204 237,-198 237,-198 237,-186 237,-186 237,-180 243,-174 249,-174 249,-174 326,-174 326,-174 332,-174 338,-180 338,-186 338,-186 338,-198 338,-198 338,-204 332,-210 326,-210\"/>\n",
       "<text text-anchor=\"middle\" x=\"287.5\" y=\"-188.3\" font-family=\"Times New Roman,serif\" font-size=\"14.00\">f0&lt;12.7450008</text>\n",
       "</g>\n",
       "<!-- 2&#45;&gt;4 -->\n",
       "<g id=\"edge4\" class=\"edge\">\n",
       "<title>2&#45;&gt;4</title>\n",
       "<path fill=\"none\" stroke=\"#ff0000\" d=\"M231.23,-260.81C236.53,-255.22 242.35,-248.93 247.5,-243 254.32,-235.15 261.49,-226.37 267.85,-218.37\"/>\n",
       "<polygon fill=\"#ff0000\" stroke=\"#ff0000\" points=\"270.69,-220.43 274.14,-210.41 265.2,-216.09 270.69,-220.43\"/>\n",
       "<text text-anchor=\"middle\" x=\"268\" y=\"-231.8\" font-family=\"Times New Roman,serif\" font-size=\"14.00\">no</text>\n",
       "</g>\n",
       "<!-- 5 -->\n",
       "<g id=\"node6\" class=\"node\">\n",
       "<title>5</title>\n",
       "<path fill=\"#78bceb\" stroke=\"black\" d=\"M245,-123C245,-123 168,-123 168,-123 162,-123 156,-117 156,-111 156,-111 156,-99 156,-99 156,-93 162,-87 168,-87 168,-87 245,-87 245,-87 251,-87 257,-93 257,-99 257,-99 257,-111 257,-111 257,-117 251,-123 245,-123\"/>\n",
       "<text text-anchor=\"middle\" x=\"206.5\" y=\"-101.3\" font-family=\"Times New Roman,serif\" font-size=\"14.00\">f6&lt;1.30500007</text>\n",
       "</g>\n",
       "<!-- 4&#45;&gt;5 -->\n",
       "<g id=\"edge5\" class=\"edge\">\n",
       "<title>4&#45;&gt;5</title>\n",
       "<path fill=\"none\" stroke=\"#0000ff\" d=\"M264.3,-173.79C257.63,-168.4 250.52,-162.23 244.5,-156 237.19,-148.44 229.99,-139.47 223.86,-131.24\"/>\n",
       "<polygon fill=\"#0000ff\" stroke=\"#0000ff\" points=\"226.6,-129.05 217.89,-123.01 220.93,-133.16 226.6,-129.05\"/>\n",
       "<text text-anchor=\"middle\" x=\"279\" y=\"-144.8\" font-family=\"Times New Roman,serif\" font-size=\"14.00\">yes, missing</text>\n",
       "</g>\n",
       "<!-- 6 -->\n",
       "<g id=\"node7\" class=\"node\">\n",
       "<title>6</title>\n",
       "<path fill=\"#78bceb\" stroke=\"black\" d=\"M393,-123C393,-123 316,-123 316,-123 310,-123 304,-117 304,-111 304,-111 304,-99 304,-99 304,-93 310,-87 316,-87 316,-87 393,-87 393,-87 399,-87 405,-93 405,-99 405,-99 405,-111 405,-111 405,-117 399,-123 393,-123\"/>\n",
       "<text text-anchor=\"middle\" x=\"354.5\" y=\"-101.3\" font-family=\"Times New Roman,serif\" font-size=\"14.00\">f9&lt;3.76999998</text>\n",
       "</g>\n",
       "<!-- 4&#45;&gt;6 -->\n",
       "<g id=\"edge6\" class=\"edge\">\n",
       "<title>4&#45;&gt;6</title>\n",
       "<path fill=\"none\" stroke=\"#ff0000\" d=\"M301.06,-173.8C310.68,-161.59 323.77,-144.99 334.58,-131.28\"/>\n",
       "<polygon fill=\"#ff0000\" stroke=\"#ff0000\" points=\"337.52,-133.2 340.96,-123.18 332.02,-128.86 337.52,-133.2\"/>\n",
       "<text text-anchor=\"middle\" x=\"333\" y=\"-144.8\" font-family=\"Times New Roman,serif\" font-size=\"14.00\">no</text>\n",
       "</g>\n",
       "<!-- 7 -->\n",
       "<g id=\"node8\" class=\"node\">\n",
       "<title>7</title>\n",
       "<path fill=\"#e48038\" stroke=\"black\" d=\"M115,-36C115,-36 12,-36 12,-36 6,-36 0,-30 0,-24 0,-24 0,-12 0,-12 0,-6 6,0 12,0 12,0 115,0 115,0 121,0 127,-6 127,-12 127,-12 127,-24 127,-24 127,-30 121,-36 115,-36\"/>\n",
       "<text text-anchor=\"middle\" x=\"63.5\" y=\"-14.3\" font-family=\"Times New Roman,serif\" font-size=\"14.00\">leaf=&#45;0.0517241433</text>\n",
       "</g>\n",
       "<!-- 5&#45;&gt;7 -->\n",
       "<g id=\"edge7\" class=\"edge\">\n",
       "<title>5&#45;&gt;7</title>\n",
       "<path fill=\"none\" stroke=\"#0000ff\" d=\"M167.58,-86.87C156.37,-81.53 144.27,-75.36 133.5,-69 119.81,-60.91 105.41,-50.91 93.25,-41.98\"/>\n",
       "<polygon fill=\"#0000ff\" stroke=\"#0000ff\" points=\"95.33,-39.17 85.22,-36 91.15,-44.78 95.33,-39.17\"/>\n",
       "<text text-anchor=\"middle\" x=\"168\" y=\"-57.8\" font-family=\"Times New Roman,serif\" font-size=\"14.00\">yes, missing</text>\n",
       "</g>\n",
       "<!-- 8 -->\n",
       "<g id=\"node9\" class=\"node\">\n",
       "<title>8</title>\n",
       "<path fill=\"#e48038\" stroke=\"black\" d=\"M255.5,-36C255.5,-36 157.5,-36 157.5,-36 151.5,-36 145.5,-30 145.5,-24 145.5,-24 145.5,-12 145.5,-12 145.5,-6 151.5,0 157.5,0 157.5,0 255.5,0 255.5,0 261.5,0 267.5,-6 267.5,-12 267.5,-12 267.5,-24 267.5,-24 267.5,-30 261.5,-36 255.5,-36\"/>\n",
       "<text text-anchor=\"middle\" x=\"206.5\" y=\"-14.3\" font-family=\"Times New Roman,serif\" font-size=\"14.00\">leaf=0.0960000008</text>\n",
       "</g>\n",
       "<!-- 5&#45;&gt;8 -->\n",
       "<g id=\"edge8\" class=\"edge\">\n",
       "<title>5&#45;&gt;8</title>\n",
       "<path fill=\"none\" stroke=\"#ff0000\" d=\"M206.5,-86.8C206.5,-75.16 206.5,-59.55 206.5,-46.24\"/>\n",
       "<polygon fill=\"#ff0000\" stroke=\"#ff0000\" points=\"210,-46.18 206.5,-36.18 203,-46.18 210,-46.18\"/>\n",
       "<text text-anchor=\"middle\" x=\"214\" y=\"-57.8\" font-family=\"Times New Roman,serif\" font-size=\"14.00\">no</text>\n",
       "</g>\n",
       "<!-- 9 -->\n",
       "<g id=\"node10\" class=\"node\">\n",
       "<title>9</title>\n",
       "<path fill=\"#e48038\" stroke=\"black\" d=\"M411,-36C411,-36 298,-36 298,-36 292,-36 286,-30 286,-24 286,-24 286,-12 286,-12 286,-6 292,0 298,0 298,0 411,0 411,0 417,0 423,-6 423,-12 423,-12 423,-24 423,-24 423,-30 417,-36 411,-36\"/>\n",
       "<text text-anchor=\"middle\" x=\"354.5\" y=\"-14.3\" font-family=\"Times New Roman,serif\" font-size=\"14.00\">leaf=&#45;2.55448485e&#45;09</text>\n",
       "</g>\n",
       "<!-- 6&#45;&gt;9 -->\n",
       "<g id=\"edge9\" class=\"edge\">\n",
       "<title>6&#45;&gt;9</title>\n",
       "<path fill=\"none\" stroke=\"#0000ff\" d=\"M354.5,-86.8C354.5,-75.16 354.5,-59.55 354.5,-46.24\"/>\n",
       "<polygon fill=\"#0000ff\" stroke=\"#0000ff\" points=\"358,-46.18 354.5,-36.18 351,-46.18 358,-46.18\"/>\n",
       "<text text-anchor=\"middle\" x=\"389\" y=\"-57.8\" font-family=\"Times New Roman,serif\" font-size=\"14.00\">yes, missing</text>\n",
       "</g>\n",
       "<!-- 10 -->\n",
       "<g id=\"node11\" class=\"node\">\n",
       "<title>10</title>\n",
       "<path fill=\"#e48038\" stroke=\"black\" d=\"M556,-36C556,-36 453,-36 453,-36 447,-36 441,-30 441,-24 441,-24 441,-12 441,-12 441,-6 447,0 453,0 453,0 556,0 556,0 562,0 568,-6 568,-12 568,-12 568,-24 568,-24 568,-30 562,-36 556,-36\"/>\n",
       "<text text-anchor=\"middle\" x=\"504.5\" y=\"-14.3\" font-family=\"Times New Roman,serif\" font-size=\"14.00\">leaf=&#45;0.0723735467</text>\n",
       "</g>\n",
       "<!-- 6&#45;&gt;10 -->\n",
       "<g id=\"edge10\" class=\"edge\">\n",
       "<title>6&#45;&gt;10</title>\n",
       "<path fill=\"none\" stroke=\"#ff0000\" d=\"M392.49,-86.93C403.9,-81.49 416.35,-75.26 427.5,-69 442.32,-60.68 458.16,-50.62 471.59,-41.7\"/>\n",
       "<polygon fill=\"#ff0000\" stroke=\"#ff0000\" points=\"473.68,-44.52 480.03,-36.04 469.78,-38.7 473.68,-44.52\"/>\n",
       "<text text-anchor=\"middle\" x=\"458\" y=\"-57.8\" font-family=\"Times New Roman,serif\" font-size=\"14.00\">no</text>\n",
       "</g>\n",
       "</g>\n",
       "</svg>\n"
      ],
      "text/plain": [
       "<graphviz.sources.Source at 0x1be41217580>"
      ]
     },
     "execution_count": 10,
     "metadata": {},
     "output_type": "execute_result"
    }
   ],
   "source": [
    "xgb.to_graphviz(model,num_trees=1,\n",
    "                condition_node_params={'shape': 'box',\n",
    "                                       'style': 'filled,rounded',\n",
    "                                       'fillcolor': '#78bceb'},\n",
    "                leaf_node_params={'shape': 'box',\n",
    "                                  'style': 'filled,rounded',\n",
    "                                  'fillcolor': '#e48038'})"
   ]
  },
  {
   "cell_type": "markdown",
   "id": "676e1084",
   "metadata": {},
   "source": [
    "#### 方式二"
   ]
  },
  {
   "cell_type": "code",
   "execution_count": 16,
   "id": "e3b16064",
   "metadata": {
    "ExecuteTime": {
     "end_time": "2023-05-17T09:22:00.070397Z",
     "start_time": "2023-05-17T09:21:59.999850Z"
    },
    "collapsed": true
   },
   "outputs": [
    {
     "name": "stdout",
     "output_type": "stream",
     "text": [
      "[0]\tvalidation_0-merror:0.11111\n",
      "[1]\tvalidation_0-merror:0.05556\n",
      "[2]\tvalidation_0-merror:0.02778\n",
      "[3]\tvalidation_0-merror:0.02778\n",
      "[4]\tvalidation_0-merror:0.00000\n",
      "[5]\tvalidation_0-merror:0.00000\n",
      "[6]\tvalidation_0-merror:0.00000\n",
      "[7]\tvalidation_0-merror:0.00000\n",
      "[8]\tvalidation_0-merror:0.00000\n",
      "[9]\tvalidation_0-merror:0.00000\n",
      "[10]\tvalidation_0-merror:0.00000\n",
      "[11]\tvalidation_0-merror:0.00000\n",
      "[12]\tvalidation_0-merror:0.00000\n",
      "[13]\tvalidation_0-merror:0.00000\n",
      "[14]\tvalidation_0-merror:0.00000\n",
      "[15]\tvalidation_0-merror:0.00000\n",
      "[16]\tvalidation_0-merror:0.00000\n",
      "[17]\tvalidation_0-merror:0.00000\n",
      "[18]\tvalidation_0-merror:0.00000\n",
      "[19]\tvalidation_0-merror:0.00000\n",
      "[20]\tvalidation_0-merror:0.00000\n",
      "[21]\tvalidation_0-merror:0.00000\n",
      "[22]\tvalidation_0-merror:0.00000\n",
      "[23]\tvalidation_0-merror:0.00000\n",
      "[24]\tvalidation_0-merror:0.00000\n"
     ]
    },
    {
     "data": {
      "text/plain": [
       "1.0"
      ]
     },
     "execution_count": 16,
     "metadata": {},
     "output_type": "execute_result"
    }
   ],
   "source": [
    "X,y = datasets.load_wine(return_X_y=True)\n",
    "X_train,X_test,y_train,y_test = train_test_split(X,y,test_size=0.2)\n",
    "\n",
    "param = {'learning_rate':0.1,\n",
    "         'n_estimators':10000,\n",
    "         'max_depth':5,\n",
    "         'min_child_weight':1,\n",
    "         'gamma':0.3,\n",
    "         'subsample':0.8,\n",
    "         'colsample_bytree':0.8, \n",
    "         'verbosity':0,\n",
    "         'objective':'multi:softprob',\n",
    "         'eval_metric':'merror',\n",
    "         'early_stopping_rounds':20}\n",
    "\n",
    "\n",
    "model = xgb.XGBClassifier(**param)\n",
    "model.fit(X_train, y_train,eval_set=[(X_test, y_test)])\n",
    "model.score(X_test,y_test)"
   ]
  },
  {
   "cell_type": "markdown",
   "id": "592a7ffc",
   "metadata": {},
   "source": [
    "#### 方式三"
   ]
  },
  {
   "cell_type": "code",
   "execution_count": 19,
   "id": "b0845d7f",
   "metadata": {
    "ExecuteTime": {
     "end_time": "2023-05-17T09:31:02.423423Z",
     "start_time": "2023-05-17T09:31:02.008375Z"
    },
    "collapsed": true
   },
   "outputs": [
    {
     "name": "stdout",
     "output_type": "stream",
     "text": [
      "[0]\ttrain-merror:0.05634\ttrain-mlogloss:1.02412\teval-merror:0.05556\teval-mlogloss:1.02368\n",
      "[1]\ttrain-merror:0.04225\ttrain-mlogloss:0.94304\teval-merror:0.02778\teval-mlogloss:0.94459\n",
      "[2]\ttrain-merror:0.02817\ttrain-mlogloss:0.88817\teval-merror:0.00000\teval-mlogloss:0.90440\n",
      "[3]\ttrain-merror:0.01408\ttrain-mlogloss:0.84085\teval-merror:0.02778\teval-mlogloss:0.86896\n",
      "[4]\ttrain-merror:0.04225\ttrain-mlogloss:0.80574\teval-merror:0.00000\teval-mlogloss:0.85011\n",
      "[5]\ttrain-merror:0.02113\ttrain-mlogloss:0.77590\teval-merror:0.00000\teval-mlogloss:0.82568\n",
      "[6]\ttrain-merror:0.03521\ttrain-mlogloss:0.74135\teval-merror:0.02778\teval-mlogloss:0.80935\n",
      "[7]\ttrain-merror:0.03521\ttrain-mlogloss:0.70679\teval-merror:0.02778\teval-mlogloss:0.78098\n",
      "[8]\ttrain-merror:0.02113\ttrain-mlogloss:0.67124\teval-merror:0.00000\teval-mlogloss:0.74606\n",
      "[9]\ttrain-merror:0.01408\ttrain-mlogloss:0.63086\teval-merror:0.00000\teval-mlogloss:0.70433\n",
      "[10]\ttrain-merror:0.01408\ttrain-mlogloss:0.60592\teval-merror:0.00000\teval-mlogloss:0.68848\n",
      "[11]\ttrain-merror:0.01408\ttrain-mlogloss:0.58247\teval-merror:0.00000\teval-mlogloss:0.67032\n",
      "[12]\ttrain-merror:0.01408\ttrain-mlogloss:0.55698\teval-merror:0.00000\teval-mlogloss:0.65042\n",
      "[13]\ttrain-merror:0.01408\ttrain-mlogloss:0.53092\teval-merror:0.00000\teval-mlogloss:0.62288\n",
      "[14]\ttrain-merror:0.01408\ttrain-mlogloss:0.51229\teval-merror:0.00000\teval-mlogloss:0.60090\n",
      "[15]\ttrain-merror:0.00704\ttrain-mlogloss:0.49292\teval-merror:0.00000\teval-mlogloss:0.58790\n",
      "[16]\ttrain-merror:0.00000\ttrain-mlogloss:0.47249\teval-merror:0.00000\teval-mlogloss:0.57040\n",
      "[17]\ttrain-merror:0.00000\ttrain-mlogloss:0.45596\teval-merror:0.00000\teval-mlogloss:0.55241\n",
      "[18]\ttrain-merror:0.00000\ttrain-mlogloss:0.43931\teval-merror:0.00000\teval-mlogloss:0.54320\n",
      "[19]\ttrain-merror:0.00000\ttrain-mlogloss:0.42658\teval-merror:0.00000\teval-mlogloss:0.53749\n",
      "[20]\ttrain-merror:0.00000\ttrain-mlogloss:0.41106\teval-merror:0.00000\teval-mlogloss:0.51921\n",
      "[21]\ttrain-merror:0.00000\ttrain-mlogloss:0.40241\teval-merror:0.00000\teval-mlogloss:0.51154\n",
      "[22]\ttrain-merror:0.00000\ttrain-mlogloss:0.38724\teval-merror:0.00000\teval-mlogloss:0.49269\n",
      "[23]\ttrain-merror:0.00000\ttrain-mlogloss:0.37867\teval-merror:0.00000\teval-mlogloss:0.48687\n",
      "[24]\ttrain-merror:0.00000\ttrain-mlogloss:0.36397\teval-merror:0.00000\teval-mlogloss:0.47440\n",
      "[25]\ttrain-merror:0.00000\ttrain-mlogloss:0.35382\teval-merror:0.00000\teval-mlogloss:0.46666\n",
      "[26]\ttrain-merror:0.00000\ttrain-mlogloss:0.34030\teval-merror:0.00000\teval-mlogloss:0.45752\n",
      "[27]\ttrain-merror:0.00000\ttrain-mlogloss:0.32460\teval-merror:0.00000\teval-mlogloss:0.44259\n",
      "[28]\ttrain-merror:0.00000\ttrain-mlogloss:0.31742\teval-merror:0.00000\teval-mlogloss:0.43819\n",
      "[29]\ttrain-merror:0.00000\ttrain-mlogloss:0.31373\teval-merror:0.00000\teval-mlogloss:0.43709\n",
      "[30]\ttrain-merror:0.00000\ttrain-mlogloss:0.30247\teval-merror:0.00000\teval-mlogloss:0.42207\n",
      "[31]\ttrain-merror:0.00000\ttrain-mlogloss:0.30062\teval-merror:0.00000\teval-mlogloss:0.42011\n",
      "[32]\ttrain-merror:0.00000\ttrain-mlogloss:0.29356\teval-merror:0.00000\teval-mlogloss:0.41293\n",
      "[33]\ttrain-merror:0.00000\ttrain-mlogloss:0.28716\teval-merror:0.00000\teval-mlogloss:0.40766\n",
      "[34]\ttrain-merror:0.00000\ttrain-mlogloss:0.27867\teval-merror:0.00000\teval-mlogloss:0.39617\n",
      "[35]\ttrain-merror:0.00000\ttrain-mlogloss:0.27364\teval-merror:0.00000\teval-mlogloss:0.38924\n",
      "[36]\ttrain-merror:0.00000\ttrain-mlogloss:0.25903\teval-merror:0.00000\teval-mlogloss:0.36907\n",
      "[37]\ttrain-merror:0.00000\ttrain-mlogloss:0.25154\teval-merror:0.00000\teval-mlogloss:0.35995\n",
      "[38]\ttrain-merror:0.00000\ttrain-mlogloss:0.24247\teval-merror:0.00000\teval-mlogloss:0.34742\n",
      "[39]\ttrain-merror:0.00000\ttrain-mlogloss:0.23809\teval-merror:0.00000\teval-mlogloss:0.34507\n",
      "[40]\ttrain-merror:0.00000\ttrain-mlogloss:0.22872\teval-merror:0.00000\teval-mlogloss:0.33302\n",
      "[41]\ttrain-merror:0.00000\ttrain-mlogloss:0.22536\teval-merror:0.00000\teval-mlogloss:0.33106\n",
      "[42]\ttrain-merror:0.00000\ttrain-mlogloss:0.22060\teval-merror:0.00000\teval-mlogloss:0.32634\n",
      "[43]\ttrain-merror:0.00000\ttrain-mlogloss:0.21728\teval-merror:0.00000\teval-mlogloss:0.32530\n",
      "[44]\ttrain-merror:0.00000\ttrain-mlogloss:0.21153\teval-merror:0.00000\teval-mlogloss:0.31857\n",
      "[45]\ttrain-merror:0.00000\ttrain-mlogloss:0.20634\teval-merror:0.00000\teval-mlogloss:0.31183\n",
      "[46]\ttrain-merror:0.00000\ttrain-mlogloss:0.19915\teval-merror:0.00000\teval-mlogloss:0.30412\n",
      "[47]\ttrain-merror:0.00000\ttrain-mlogloss:0.19493\teval-merror:0.00000\teval-mlogloss:0.29939\n",
      "[48]\ttrain-merror:0.00000\ttrain-mlogloss:0.18887\teval-merror:0.00000\teval-mlogloss:0.29350\n",
      "[49]\ttrain-merror:0.00000\ttrain-mlogloss:0.18210\teval-merror:0.00000\teval-mlogloss:0.28375\n",
      "[50]\ttrain-merror:0.00000\ttrain-mlogloss:0.17424\teval-merror:0.00000\teval-mlogloss:0.27140\n",
      "[51]\ttrain-merror:0.00000\ttrain-mlogloss:0.16896\teval-merror:0.00000\teval-mlogloss:0.26664\n",
      "[52]\ttrain-merror:0.00000\ttrain-mlogloss:0.16325\teval-merror:0.00000\teval-mlogloss:0.26010\n",
      "[53]\ttrain-merror:0.00000\ttrain-mlogloss:0.15828\teval-merror:0.00000\teval-mlogloss:0.25289\n",
      "[54]\ttrain-merror:0.00000\ttrain-mlogloss:0.15672\teval-merror:0.00000\teval-mlogloss:0.25079\n",
      "[55]\ttrain-merror:0.00000\ttrain-mlogloss:0.15002\teval-merror:0.00000\teval-mlogloss:0.24256\n",
      "[56]\ttrain-merror:0.00000\ttrain-mlogloss:0.14802\teval-merror:0.00000\teval-mlogloss:0.23994\n",
      "[57]\ttrain-merror:0.00000\ttrain-mlogloss:0.14719\teval-merror:0.00000\teval-mlogloss:0.23891\n",
      "[58]\ttrain-merror:0.00000\ttrain-mlogloss:0.14349\teval-merror:0.00000\teval-mlogloss:0.23443\n",
      "[59]\ttrain-merror:0.00000\ttrain-mlogloss:0.14139\teval-merror:0.00000\teval-mlogloss:0.23236\n",
      "[60]\ttrain-merror:0.00000\ttrain-mlogloss:0.13746\teval-merror:0.00000\teval-mlogloss:0.22470\n",
      "[61]\ttrain-merror:0.00000\ttrain-mlogloss:0.13468\teval-merror:0.00000\teval-mlogloss:0.22092\n",
      "[62]\ttrain-merror:0.00000\ttrain-mlogloss:0.13115\teval-merror:0.00000\teval-mlogloss:0.21677\n",
      "[63]\ttrain-merror:0.00000\ttrain-mlogloss:0.12784\teval-merror:0.00000\teval-mlogloss:0.21163\n",
      "[64]\ttrain-merror:0.00000\ttrain-mlogloss:0.12271\teval-merror:0.00000\teval-mlogloss:0.20446\n",
      "[65]\ttrain-merror:0.00000\ttrain-mlogloss:0.11680\teval-merror:0.00000\teval-mlogloss:0.19695\n",
      "[66]\ttrain-merror:0.00000\ttrain-mlogloss:0.11582\teval-merror:0.00000\teval-mlogloss:0.19601\n",
      "[67]\ttrain-merror:0.00000\ttrain-mlogloss:0.11360\teval-merror:0.00000\teval-mlogloss:0.19209\n",
      "[68]\ttrain-merror:0.00000\ttrain-mlogloss:0.11299\teval-merror:0.00000\teval-mlogloss:0.19072\n",
      "[69]\ttrain-merror:0.00000\ttrain-mlogloss:0.11275\teval-merror:0.00000\teval-mlogloss:0.19041\n",
      "[70]\ttrain-merror:0.00000\ttrain-mlogloss:0.11023\teval-merror:0.00000\teval-mlogloss:0.18633\n",
      "[71]\ttrain-merror:0.00000\ttrain-mlogloss:0.10918\teval-merror:0.00000\teval-mlogloss:0.18445\n",
      "[72]\ttrain-merror:0.00000\ttrain-mlogloss:0.10576\teval-merror:0.00000\teval-mlogloss:0.17900\n",
      "[73]\ttrain-merror:0.00000\ttrain-mlogloss:0.10577\teval-merror:0.00000\teval-mlogloss:0.17917\n",
      "[74]\ttrain-merror:0.00000\ttrain-mlogloss:0.10403\teval-merror:0.00000\teval-mlogloss:0.17511\n",
      "[75]\ttrain-merror:0.00000\ttrain-mlogloss:0.10176\teval-merror:0.00000\teval-mlogloss:0.17224\n",
      "[76]\ttrain-merror:0.00000\ttrain-mlogloss:0.10017\teval-merror:0.00000\teval-mlogloss:0.17144\n",
      "[77]\ttrain-merror:0.00000\ttrain-mlogloss:0.09904\teval-merror:0.00000\teval-mlogloss:0.16937\n",
      "[78]\ttrain-merror:0.00000\ttrain-mlogloss:0.09871\teval-merror:0.00000\teval-mlogloss:0.16953\n",
      "[79]\ttrain-merror:0.00000\ttrain-mlogloss:0.09641\teval-merror:0.00000\teval-mlogloss:0.16738\n",
      "[80]\ttrain-merror:0.00000\ttrain-mlogloss:0.09540\teval-merror:0.00000\teval-mlogloss:0.16528\n",
      "[81]\ttrain-merror:0.00000\ttrain-mlogloss:0.09401\teval-merror:0.00000\teval-mlogloss:0.16387\n",
      "[82]\ttrain-merror:0.00000\ttrain-mlogloss:0.09249\teval-merror:0.00000\teval-mlogloss:0.16241\n",
      "[83]\ttrain-merror:0.00000\ttrain-mlogloss:0.09217\teval-merror:0.00000\teval-mlogloss:0.16189\n",
      "[84]\ttrain-merror:0.00000\ttrain-mlogloss:0.09199\teval-merror:0.00000\teval-mlogloss:0.16212\n",
      "[85]\ttrain-merror:0.00000\ttrain-mlogloss:0.09152\teval-merror:0.00000\teval-mlogloss:0.16065\n",
      "[86]\ttrain-merror:0.00000\ttrain-mlogloss:0.08993\teval-merror:0.00000\teval-mlogloss:0.15727\n",
      "[87]\ttrain-merror:0.00000\ttrain-mlogloss:0.08887\teval-merror:0.00000\teval-mlogloss:0.15539\n",
      "[88]\ttrain-merror:0.00000\ttrain-mlogloss:0.08886\teval-merror:0.00000\teval-mlogloss:0.15535\n",
      "[89]\ttrain-merror:0.00000\ttrain-mlogloss:0.08625\teval-merror:0.00000\teval-mlogloss:0.15075\n",
      "[90]\ttrain-merror:0.00000\ttrain-mlogloss:0.08486\teval-merror:0.00000\teval-mlogloss:0.14864\n"
     ]
    },
    {
     "name": "stdout",
     "output_type": "stream",
     "text": [
      "[91]\ttrain-merror:0.00000\ttrain-mlogloss:0.08351\teval-merror:0.00000\teval-mlogloss:0.14638\n",
      "[92]\ttrain-merror:0.00000\ttrain-mlogloss:0.08253\teval-merror:0.00000\teval-mlogloss:0.14351\n",
      "[93]\ttrain-merror:0.00000\ttrain-mlogloss:0.08109\teval-merror:0.00000\teval-mlogloss:0.14097\n",
      "[94]\ttrain-merror:0.00000\ttrain-mlogloss:0.08064\teval-merror:0.00000\teval-mlogloss:0.14053\n",
      "[95]\ttrain-merror:0.00000\ttrain-mlogloss:0.08003\teval-merror:0.00000\teval-mlogloss:0.13884\n",
      "[96]\ttrain-merror:0.00000\ttrain-mlogloss:0.07853\teval-merror:0.00000\teval-mlogloss:0.13831\n",
      "[97]\ttrain-merror:0.00000\ttrain-mlogloss:0.07738\teval-merror:0.00000\teval-mlogloss:0.13711\n",
      "[98]\ttrain-merror:0.00000\ttrain-mlogloss:0.07618\teval-merror:0.00000\teval-mlogloss:0.13517\n",
      "[99]\ttrain-merror:0.00000\ttrain-mlogloss:0.07529\teval-merror:0.00000\teval-mlogloss:0.13305\n",
      "[100]\ttrain-merror:0.00000\ttrain-mlogloss:0.07433\teval-merror:0.00000\teval-mlogloss:0.13204\n",
      "[101]\ttrain-merror:0.00000\ttrain-mlogloss:0.07432\teval-merror:0.00000\teval-mlogloss:0.13193\n",
      "[102]\ttrain-merror:0.00000\ttrain-mlogloss:0.07365\teval-merror:0.00000\teval-mlogloss:0.13055\n",
      "[103]\ttrain-merror:0.00000\ttrain-mlogloss:0.07246\teval-merror:0.00000\teval-mlogloss:0.12780\n",
      "[104]\ttrain-merror:0.00000\ttrain-mlogloss:0.07192\teval-merror:0.00000\teval-mlogloss:0.12669\n",
      "[105]\ttrain-merror:0.00000\ttrain-mlogloss:0.07147\teval-merror:0.00000\teval-mlogloss:0.12588\n",
      "[106]\ttrain-merror:0.00000\ttrain-mlogloss:0.07099\teval-merror:0.00000\teval-mlogloss:0.12502\n",
      "[107]\ttrain-merror:0.00000\ttrain-mlogloss:0.06971\teval-merror:0.00000\teval-mlogloss:0.12404\n",
      "[108]\ttrain-merror:0.00000\ttrain-mlogloss:0.06792\teval-merror:0.00000\teval-mlogloss:0.12078\n",
      "[109]\ttrain-merror:0.00000\ttrain-mlogloss:0.06688\teval-merror:0.00000\teval-mlogloss:0.11994\n",
      "[110]\ttrain-merror:0.00000\ttrain-mlogloss:0.06594\teval-merror:0.00000\teval-mlogloss:0.11882\n",
      "[111]\ttrain-merror:0.00000\ttrain-mlogloss:0.06511\teval-merror:0.00000\teval-mlogloss:0.11744\n",
      "[112]\ttrain-merror:0.00000\ttrain-mlogloss:0.06454\teval-merror:0.00000\teval-mlogloss:0.11674\n",
      "[113]\ttrain-merror:0.00000\ttrain-mlogloss:0.06354\teval-merror:0.00000\teval-mlogloss:0.11612\n",
      "[114]\ttrain-merror:0.00000\ttrain-mlogloss:0.06260\teval-merror:0.00000\teval-mlogloss:0.11541\n",
      "[115]\ttrain-merror:0.00000\ttrain-mlogloss:0.06157\teval-merror:0.00000\teval-mlogloss:0.11407\n",
      "[116]\ttrain-merror:0.00000\ttrain-mlogloss:0.06030\teval-merror:0.00000\teval-mlogloss:0.11210\n",
      "[117]\ttrain-merror:0.00000\ttrain-mlogloss:0.05938\teval-merror:0.00000\teval-mlogloss:0.11072\n",
      "[118]\ttrain-merror:0.00000\ttrain-mlogloss:0.05850\teval-merror:0.00000\teval-mlogloss:0.10861\n",
      "[119]\ttrain-merror:0.00000\ttrain-mlogloss:0.05820\teval-merror:0.00000\teval-mlogloss:0.10791\n",
      "[120]\ttrain-merror:0.00000\ttrain-mlogloss:0.05756\teval-merror:0.00000\teval-mlogloss:0.10737\n",
      "[121]\ttrain-merror:0.00000\ttrain-mlogloss:0.05612\teval-merror:0.00000\teval-mlogloss:0.10484\n",
      "[122]\ttrain-merror:0.00000\ttrain-mlogloss:0.05584\teval-merror:0.00000\teval-mlogloss:0.10402\n",
      "[123]\ttrain-merror:0.00000\ttrain-mlogloss:0.05557\teval-merror:0.00000\teval-mlogloss:0.10337\n",
      "[124]\ttrain-merror:0.00000\ttrain-mlogloss:0.05491\teval-merror:0.00000\teval-mlogloss:0.10275\n",
      "[125]\ttrain-merror:0.00000\ttrain-mlogloss:0.05376\teval-merror:0.00000\teval-mlogloss:0.10040\n",
      "[126]\ttrain-merror:0.00000\ttrain-mlogloss:0.05296\teval-merror:0.00000\teval-mlogloss:0.09948\n",
      "[127]\ttrain-merror:0.00000\ttrain-mlogloss:0.05187\teval-merror:0.00000\teval-mlogloss:0.09808\n",
      "[128]\ttrain-merror:0.00000\ttrain-mlogloss:0.05108\teval-merror:0.00000\teval-mlogloss:0.09628\n",
      "[129]\ttrain-merror:0.00000\ttrain-mlogloss:0.05054\teval-merror:0.00000\teval-mlogloss:0.09495\n",
      "[130]\ttrain-merror:0.00000\ttrain-mlogloss:0.05023\teval-merror:0.00000\teval-mlogloss:0.09528\n",
      "[131]\ttrain-merror:0.00000\ttrain-mlogloss:0.05002\teval-merror:0.00000\teval-mlogloss:0.09526\n",
      "[132]\ttrain-merror:0.00000\ttrain-mlogloss:0.04975\teval-merror:0.00000\teval-mlogloss:0.09535\n",
      "[133]\ttrain-merror:0.00000\ttrain-mlogloss:0.04871\teval-merror:0.00000\teval-mlogloss:0.09443\n",
      "[134]\ttrain-merror:0.00000\ttrain-mlogloss:0.04870\teval-merror:0.00000\teval-mlogloss:0.09434\n",
      "[135]\ttrain-merror:0.00000\ttrain-mlogloss:0.04870\teval-merror:0.00000\teval-mlogloss:0.09437\n",
      "[136]\ttrain-merror:0.00000\ttrain-mlogloss:0.04812\teval-merror:0.00000\teval-mlogloss:0.09312\n",
      "[137]\ttrain-merror:0.00000\ttrain-mlogloss:0.04748\teval-merror:0.00000\teval-mlogloss:0.09158\n",
      "[138]\ttrain-merror:0.00000\ttrain-mlogloss:0.04675\teval-merror:0.00000\teval-mlogloss:0.09139\n",
      "[139]\ttrain-merror:0.00000\ttrain-mlogloss:0.04651\teval-merror:0.00000\teval-mlogloss:0.09111\n",
      "[140]\ttrain-merror:0.00000\ttrain-mlogloss:0.04576\teval-merror:0.00000\teval-mlogloss:0.08902\n",
      "[141]\ttrain-merror:0.00000\ttrain-mlogloss:0.04527\teval-merror:0.00000\teval-mlogloss:0.08829\n",
      "[142]\ttrain-merror:0.00000\ttrain-mlogloss:0.04526\teval-merror:0.00000\teval-mlogloss:0.08819\n",
      "[143]\ttrain-merror:0.00000\ttrain-mlogloss:0.04499\teval-merror:0.00000\teval-mlogloss:0.08737\n",
      "[144]\ttrain-merror:0.00000\ttrain-mlogloss:0.04413\teval-merror:0.00000\teval-mlogloss:0.08550\n",
      "[145]\ttrain-merror:0.00000\ttrain-mlogloss:0.04413\teval-merror:0.00000\teval-mlogloss:0.08553\n",
      "[146]\ttrain-merror:0.00000\ttrain-mlogloss:0.04413\teval-merror:0.00000\teval-mlogloss:0.08548\n",
      "[147]\ttrain-merror:0.00000\ttrain-mlogloss:0.04372\teval-merror:0.00000\teval-mlogloss:0.08542\n",
      "[148]\ttrain-merror:0.00000\ttrain-mlogloss:0.04317\teval-merror:0.00000\teval-mlogloss:0.08440\n",
      "[149]\ttrain-merror:0.00000\ttrain-mlogloss:0.04317\teval-merror:0.00000\teval-mlogloss:0.08439\n",
      "[150]\ttrain-merror:0.00000\ttrain-mlogloss:0.04317\teval-merror:0.00000\teval-mlogloss:0.08446\n",
      "[151]\ttrain-merror:0.00000\ttrain-mlogloss:0.04227\teval-merror:0.00000\teval-mlogloss:0.08321\n",
      "[152]\ttrain-merror:0.00000\ttrain-mlogloss:0.04204\teval-merror:0.00000\teval-mlogloss:0.08278\n",
      "[153]\ttrain-merror:0.00000\ttrain-mlogloss:0.04204\teval-merror:0.00000\teval-mlogloss:0.08266\n",
      "[154]\ttrain-merror:0.00000\ttrain-mlogloss:0.04204\teval-merror:0.00000\teval-mlogloss:0.08259\n",
      "[155]\ttrain-merror:0.00000\ttrain-mlogloss:0.04163\teval-merror:0.00000\teval-mlogloss:0.08145\n",
      "[156]\ttrain-merror:0.00000\ttrain-mlogloss:0.04163\teval-merror:0.00000\teval-mlogloss:0.08135\n",
      "[157]\ttrain-merror:0.00000\ttrain-mlogloss:0.04117\teval-merror:0.00000\teval-mlogloss:0.08021\n",
      "[158]\ttrain-merror:0.00000\ttrain-mlogloss:0.04117\teval-merror:0.00000\teval-mlogloss:0.08015\n",
      "[159]\ttrain-merror:0.00000\ttrain-mlogloss:0.04117\teval-merror:0.00000\teval-mlogloss:0.08020\n",
      "[160]\ttrain-merror:0.00000\ttrain-mlogloss:0.04092\teval-merror:0.00000\teval-mlogloss:0.08006\n",
      "[161]\ttrain-merror:0.00000\ttrain-mlogloss:0.04092\teval-merror:0.00000\teval-mlogloss:0.07992\n",
      "[162]\ttrain-merror:0.00000\ttrain-mlogloss:0.04092\teval-merror:0.00000\teval-mlogloss:0.07991\n",
      "[163]\ttrain-merror:0.00000\ttrain-mlogloss:0.04092\teval-merror:0.00000\teval-mlogloss:0.07970\n",
      "[164]\ttrain-merror:0.00000\ttrain-mlogloss:0.04042\teval-merror:0.00000\teval-mlogloss:0.07898\n",
      "[165]\ttrain-merror:0.00000\ttrain-mlogloss:0.04020\teval-merror:0.00000\teval-mlogloss:0.07855\n",
      "[166]\ttrain-merror:0.00000\ttrain-mlogloss:0.03995\teval-merror:0.00000\teval-mlogloss:0.07766\n",
      "[167]\ttrain-merror:0.00000\ttrain-mlogloss:0.03995\teval-merror:0.00000\teval-mlogloss:0.07751\n",
      "[168]\ttrain-merror:0.00000\ttrain-mlogloss:0.03995\teval-merror:0.00000\teval-mlogloss:0.07750\n",
      "[169]\ttrain-merror:0.00000\ttrain-mlogloss:0.03960\teval-merror:0.00000\teval-mlogloss:0.07751\n",
      "[170]\ttrain-merror:0.00000\ttrain-mlogloss:0.03960\teval-merror:0.00000\teval-mlogloss:0.07755\n",
      "[171]\ttrain-merror:0.00000\ttrain-mlogloss:0.03960\teval-merror:0.00000\teval-mlogloss:0.07750\n",
      "[172]\ttrain-merror:0.00000\ttrain-mlogloss:0.03960\teval-merror:0.00000\teval-mlogloss:0.07775\n",
      "[173]\ttrain-merror:0.00000\ttrain-mlogloss:0.03960\teval-merror:0.00000\teval-mlogloss:0.07763\n",
      "[174]\ttrain-merror:0.00000\ttrain-mlogloss:0.03914\teval-merror:0.00000\teval-mlogloss:0.07703\n",
      "[175]\ttrain-merror:0.00000\ttrain-mlogloss:0.03886\teval-merror:0.00000\teval-mlogloss:0.07681\n",
      "[176]\ttrain-merror:0.00000\ttrain-mlogloss:0.03886\teval-merror:0.00000\teval-mlogloss:0.07685\n",
      "[177]\ttrain-merror:0.00000\ttrain-mlogloss:0.03838\teval-merror:0.00000\teval-mlogloss:0.07560\n",
      "[178]\ttrain-merror:0.00000\ttrain-mlogloss:0.03839\teval-merror:0.00000\teval-mlogloss:0.07569\n",
      "[179]\ttrain-merror:0.00000\ttrain-mlogloss:0.03839\teval-merror:0.00000\teval-mlogloss:0.07573\n",
      "[180]\ttrain-merror:0.00000\ttrain-mlogloss:0.03799\teval-merror:0.00000\teval-mlogloss:0.07455\n"
     ]
    },
    {
     "name": "stdout",
     "output_type": "stream",
     "text": [
      "[181]\ttrain-merror:0.00000\ttrain-mlogloss:0.03799\teval-merror:0.00000\teval-mlogloss:0.07449\n",
      "[182]\ttrain-merror:0.00000\ttrain-mlogloss:0.03799\teval-merror:0.00000\teval-mlogloss:0.07461\n",
      "[183]\ttrain-merror:0.00000\ttrain-mlogloss:0.03799\teval-merror:0.00000\teval-mlogloss:0.07456\n",
      "[184]\ttrain-merror:0.00000\ttrain-mlogloss:0.03799\teval-merror:0.00000\teval-mlogloss:0.07459\n",
      "[185]\ttrain-merror:0.00000\ttrain-mlogloss:0.03751\teval-merror:0.00000\teval-mlogloss:0.07447\n",
      "[186]\ttrain-merror:0.00000\ttrain-mlogloss:0.03669\teval-merror:0.00000\teval-mlogloss:0.07434\n",
      "[187]\ttrain-merror:0.00000\ttrain-mlogloss:0.03598\teval-merror:0.00000\teval-mlogloss:0.07336\n",
      "[188]\ttrain-merror:0.00000\ttrain-mlogloss:0.03563\teval-merror:0.00000\teval-mlogloss:0.07282\n",
      "[189]\ttrain-merror:0.00000\ttrain-mlogloss:0.03523\teval-merror:0.00000\teval-mlogloss:0.07251\n",
      "[190]\ttrain-merror:0.00000\ttrain-mlogloss:0.03523\teval-merror:0.00000\teval-mlogloss:0.07247\n",
      "[191]\ttrain-merror:0.00000\ttrain-mlogloss:0.03523\teval-merror:0.00000\teval-mlogloss:0.07244\n",
      "[192]\ttrain-merror:0.00000\ttrain-mlogloss:0.03490\teval-merror:0.00000\teval-mlogloss:0.07186\n",
      "[193]\ttrain-merror:0.00000\ttrain-mlogloss:0.03455\teval-merror:0.00000\teval-mlogloss:0.07140\n",
      "[194]\ttrain-merror:0.00000\ttrain-mlogloss:0.03455\teval-merror:0.00000\teval-mlogloss:0.07120\n",
      "[195]\ttrain-merror:0.00000\ttrain-mlogloss:0.03428\teval-merror:0.00000\teval-mlogloss:0.07106\n",
      "[196]\ttrain-merror:0.00000\ttrain-mlogloss:0.03428\teval-merror:0.00000\teval-mlogloss:0.07113\n",
      "[197]\ttrain-merror:0.00000\ttrain-mlogloss:0.03357\teval-merror:0.00000\teval-mlogloss:0.06945\n",
      "[198]\ttrain-merror:0.00000\ttrain-mlogloss:0.03357\teval-merror:0.00000\teval-mlogloss:0.06949\n",
      "[199]\ttrain-merror:0.00000\ttrain-mlogloss:0.03290\teval-merror:0.00000\teval-mlogloss:0.06842\n",
      "[200]\ttrain-merror:0.00000\ttrain-mlogloss:0.03261\teval-merror:0.00000\teval-mlogloss:0.06795\n",
      "[201]\ttrain-merror:0.00000\ttrain-mlogloss:0.03261\teval-merror:0.00000\teval-mlogloss:0.06809\n",
      "[202]\ttrain-merror:0.00000\ttrain-mlogloss:0.03262\teval-merror:0.00000\teval-mlogloss:0.06807\n",
      "[203]\ttrain-merror:0.00000\ttrain-mlogloss:0.03261\teval-merror:0.00000\teval-mlogloss:0.06794\n",
      "[204]\ttrain-merror:0.00000\ttrain-mlogloss:0.03262\teval-merror:0.00000\teval-mlogloss:0.06808\n",
      "[205]\ttrain-merror:0.00000\ttrain-mlogloss:0.03199\teval-merror:0.00000\teval-mlogloss:0.06670\n",
      "[206]\ttrain-merror:0.00000\ttrain-mlogloss:0.03199\teval-merror:0.00000\teval-mlogloss:0.06662\n",
      "[207]\ttrain-merror:0.00000\ttrain-mlogloss:0.03171\teval-merror:0.00000\teval-mlogloss:0.06656\n",
      "[208]\ttrain-merror:0.00000\ttrain-mlogloss:0.03171\teval-merror:0.00000\teval-mlogloss:0.06656\n",
      "[209]\ttrain-merror:0.00000\ttrain-mlogloss:0.03171\teval-merror:0.00000\teval-mlogloss:0.06661\n",
      "[210]\ttrain-merror:0.00000\ttrain-mlogloss:0.03171\teval-merror:0.00000\teval-mlogloss:0.06655\n",
      "[211]\ttrain-merror:0.00000\ttrain-mlogloss:0.03172\teval-merror:0.00000\teval-mlogloss:0.06664\n",
      "[212]\ttrain-merror:0.00000\ttrain-mlogloss:0.03139\teval-merror:0.00000\teval-mlogloss:0.06626\n",
      "[213]\ttrain-merror:0.00000\ttrain-mlogloss:0.03139\teval-merror:0.00000\teval-mlogloss:0.06628\n",
      "[214]\ttrain-merror:0.00000\ttrain-mlogloss:0.03139\teval-merror:0.00000\teval-mlogloss:0.06626\n",
      "[215]\ttrain-merror:0.00000\ttrain-mlogloss:0.03115\teval-merror:0.00000\teval-mlogloss:0.06637\n",
      "[216]\ttrain-merror:0.00000\ttrain-mlogloss:0.03115\teval-merror:0.00000\teval-mlogloss:0.06636\n",
      "[217]\ttrain-merror:0.00000\ttrain-mlogloss:0.03115\teval-merror:0.00000\teval-mlogloss:0.06629\n",
      "[218]\ttrain-merror:0.00000\ttrain-mlogloss:0.03115\teval-merror:0.00000\teval-mlogloss:0.06635\n",
      "[219]\ttrain-merror:0.00000\ttrain-mlogloss:0.03114\teval-merror:0.00000\teval-mlogloss:0.06620\n",
      "[220]\ttrain-merror:0.00000\ttrain-mlogloss:0.03114\teval-merror:0.00000\teval-mlogloss:0.06619\n",
      "[221]\ttrain-merror:0.00000\ttrain-mlogloss:0.03088\teval-merror:0.00000\teval-mlogloss:0.06595\n",
      "[222]\ttrain-merror:0.00000\ttrain-mlogloss:0.03089\teval-merror:0.00000\teval-mlogloss:0.06605\n",
      "[223]\ttrain-merror:0.00000\ttrain-mlogloss:0.03088\teval-merror:0.00000\teval-mlogloss:0.06589\n",
      "[224]\ttrain-merror:0.00000\ttrain-mlogloss:0.03088\teval-merror:0.00000\teval-mlogloss:0.06586\n",
      "[225]\ttrain-merror:0.00000\ttrain-mlogloss:0.03088\teval-merror:0.00000\teval-mlogloss:0.06583\n",
      "[226]\ttrain-merror:0.00000\ttrain-mlogloss:0.03088\teval-merror:0.00000\teval-mlogloss:0.06584\n",
      "[227]\ttrain-merror:0.00000\ttrain-mlogloss:0.03088\teval-merror:0.00000\teval-mlogloss:0.06585\n",
      "[228]\ttrain-merror:0.00000\ttrain-mlogloss:0.03088\teval-merror:0.00000\teval-mlogloss:0.06582\n",
      "[229]\ttrain-merror:0.00000\ttrain-mlogloss:0.03088\teval-merror:0.00000\teval-mlogloss:0.06591\n",
      "[230]\ttrain-merror:0.00000\ttrain-mlogloss:0.03088\teval-merror:0.00000\teval-mlogloss:0.06578\n",
      "[231]\ttrain-merror:0.00000\ttrain-mlogloss:0.03088\teval-merror:0.00000\teval-mlogloss:0.06574\n",
      "[232]\ttrain-merror:0.00000\ttrain-mlogloss:0.03088\teval-merror:0.00000\teval-mlogloss:0.06594\n",
      "[233]\ttrain-merror:0.00000\ttrain-mlogloss:0.03088\teval-merror:0.00000\teval-mlogloss:0.06580\n",
      "[234]\ttrain-merror:0.00000\ttrain-mlogloss:0.03061\teval-merror:0.00000\teval-mlogloss:0.06535\n",
      "[235]\ttrain-merror:0.00000\ttrain-mlogloss:0.03061\teval-merror:0.00000\teval-mlogloss:0.06539\n",
      "[236]\ttrain-merror:0.00000\ttrain-mlogloss:0.03029\teval-merror:0.00000\teval-mlogloss:0.06560\n",
      "[237]\ttrain-merror:0.00000\ttrain-mlogloss:0.03029\teval-merror:0.00000\teval-mlogloss:0.06552\n",
      "[238]\ttrain-merror:0.00000\ttrain-mlogloss:0.03028\teval-merror:0.00000\teval-mlogloss:0.06550\n",
      "[239]\ttrain-merror:0.00000\ttrain-mlogloss:0.03028\teval-merror:0.00000\teval-mlogloss:0.06541\n",
      "[240]\ttrain-merror:0.00000\ttrain-mlogloss:0.03028\teval-merror:0.00000\teval-mlogloss:0.06535\n",
      "[241]\ttrain-merror:0.00000\ttrain-mlogloss:0.03028\teval-merror:0.00000\teval-mlogloss:0.06521\n",
      "[242]\ttrain-merror:0.00000\ttrain-mlogloss:0.02996\teval-merror:0.00000\teval-mlogloss:0.06429\n",
      "[243]\ttrain-merror:0.00000\ttrain-mlogloss:0.02996\teval-merror:0.00000\teval-mlogloss:0.06422\n",
      "[244]\ttrain-merror:0.00000\ttrain-mlogloss:0.02996\teval-merror:0.00000\teval-mlogloss:0.06409\n",
      "[245]\ttrain-merror:0.00000\ttrain-mlogloss:0.02996\teval-merror:0.00000\teval-mlogloss:0.06426\n",
      "[246]\ttrain-merror:0.00000\ttrain-mlogloss:0.02996\teval-merror:0.00000\teval-mlogloss:0.06416\n",
      "[247]\ttrain-merror:0.00000\ttrain-mlogloss:0.02996\teval-merror:0.00000\teval-mlogloss:0.06420\n",
      "[248]\ttrain-merror:0.00000\ttrain-mlogloss:0.02996\teval-merror:0.00000\teval-mlogloss:0.06420\n",
      "[249]\ttrain-merror:0.00000\ttrain-mlogloss:0.02967\teval-merror:0.00000\teval-mlogloss:0.06327\n",
      "[250]\ttrain-merror:0.00000\ttrain-mlogloss:0.02967\teval-merror:0.00000\teval-mlogloss:0.06330\n",
      "[251]\ttrain-merror:0.00000\ttrain-mlogloss:0.02967\teval-merror:0.00000\teval-mlogloss:0.06319\n",
      "[252]\ttrain-merror:0.00000\ttrain-mlogloss:0.02967\teval-merror:0.00000\teval-mlogloss:0.06328\n",
      "[253]\ttrain-merror:0.00000\ttrain-mlogloss:0.02967\teval-merror:0.00000\teval-mlogloss:0.06327\n",
      "[254]\ttrain-merror:0.00000\ttrain-mlogloss:0.02967\teval-merror:0.00000\teval-mlogloss:0.06332\n",
      "[255]\ttrain-merror:0.00000\ttrain-mlogloss:0.02967\teval-merror:0.00000\teval-mlogloss:0.06337\n",
      "[256]\ttrain-merror:0.00000\ttrain-mlogloss:0.02942\teval-merror:0.00000\teval-mlogloss:0.06325\n",
      "[257]\ttrain-merror:0.00000\ttrain-mlogloss:0.02942\teval-merror:0.00000\teval-mlogloss:0.06321\n",
      "[258]\ttrain-merror:0.00000\ttrain-mlogloss:0.02942\teval-merror:0.00000\teval-mlogloss:0.06321\n",
      "[259]\ttrain-merror:0.00000\ttrain-mlogloss:0.02942\teval-merror:0.00000\teval-mlogloss:0.06317\n",
      "[260]\ttrain-merror:0.00000\ttrain-mlogloss:0.02914\teval-merror:0.00000\teval-mlogloss:0.06336\n",
      "[261]\ttrain-merror:0.00000\ttrain-mlogloss:0.02884\teval-merror:0.00000\teval-mlogloss:0.06242\n",
      "[262]\ttrain-merror:0.00000\ttrain-mlogloss:0.02884\teval-merror:0.00000\teval-mlogloss:0.06239\n",
      "[263]\ttrain-merror:0.00000\ttrain-mlogloss:0.02851\teval-merror:0.00000\teval-mlogloss:0.06144\n",
      "[264]\ttrain-merror:0.00000\ttrain-mlogloss:0.02851\teval-merror:0.00000\teval-mlogloss:0.06151\n",
      "[265]\ttrain-merror:0.00000\ttrain-mlogloss:0.02851\teval-merror:0.00000\teval-mlogloss:0.06158\n",
      "[266]\ttrain-merror:0.00000\ttrain-mlogloss:0.02823\teval-merror:0.00000\teval-mlogloss:0.06063\n",
      "[267]\ttrain-merror:0.00000\ttrain-mlogloss:0.02823\teval-merror:0.00000\teval-mlogloss:0.06051\n",
      "[268]\ttrain-merror:0.00000\ttrain-mlogloss:0.02823\teval-merror:0.00000\teval-mlogloss:0.06055\n",
      "[269]\ttrain-merror:0.00000\ttrain-mlogloss:0.02823\teval-merror:0.00000\teval-mlogloss:0.06047\n",
      "[270]\ttrain-merror:0.00000\ttrain-mlogloss:0.02823\teval-merror:0.00000\teval-mlogloss:0.06048\n"
     ]
    },
    {
     "name": "stdout",
     "output_type": "stream",
     "text": [
      "[271]\ttrain-merror:0.00000\ttrain-mlogloss:0.02823\teval-merror:0.00000\teval-mlogloss:0.06042\n",
      "[272]\ttrain-merror:0.00000\ttrain-mlogloss:0.02823\teval-merror:0.00000\teval-mlogloss:0.06040\n",
      "[273]\ttrain-merror:0.00000\ttrain-mlogloss:0.02823\teval-merror:0.00000\teval-mlogloss:0.06048\n",
      "[274]\ttrain-merror:0.00000\ttrain-mlogloss:0.02823\teval-merror:0.00000\teval-mlogloss:0.06043\n",
      "[275]\ttrain-merror:0.00000\ttrain-mlogloss:0.02823\teval-merror:0.00000\teval-mlogloss:0.06058\n",
      "[276]\ttrain-merror:0.00000\ttrain-mlogloss:0.02823\teval-merror:0.00000\teval-mlogloss:0.06062\n",
      "[277]\ttrain-merror:0.00000\ttrain-mlogloss:0.02823\teval-merror:0.00000\teval-mlogloss:0.06052\n",
      "[278]\ttrain-merror:0.00000\ttrain-mlogloss:0.02823\teval-merror:0.00000\teval-mlogloss:0.06055\n",
      "[279]\ttrain-merror:0.00000\ttrain-mlogloss:0.02823\teval-merror:0.00000\teval-mlogloss:0.06067\n",
      "[280]\ttrain-merror:0.00000\ttrain-mlogloss:0.02798\teval-merror:0.00000\teval-mlogloss:0.06070\n",
      "[281]\ttrain-merror:0.00000\ttrain-mlogloss:0.02798\teval-merror:0.00000\teval-mlogloss:0.06061\n"
     ]
    },
    {
     "data": {
      "text/plain": [
       "array([1., 1., 2., 1., 0., 1., 2., 1., 1., 1., 2., 1., 2., 0., 0., 1., 0.,\n",
       "       0., 2., 1., 1., 1., 2., 1., 0., 2., 0., 0., 1., 1., 1., 1., 2., 2.,\n",
       "       0., 1.], dtype=float32)"
      ]
     },
     "metadata": {},
     "output_type": "display_data"
    },
    {
     "data": {
      "text/plain": [
       "1.0"
      ]
     },
     "metadata": {},
     "output_type": "display_data"
    }
   ],
   "source": [
    "import xgboost as xgb\n",
    "from sklearn.metrics import accuracy_score\n",
    "from sklearn import datasets\n",
    "X,y = datasets.load_wine(return_X_y=True)\n",
    "X_train,X_test,y_train,y_test = train_test_split(X,y,test_size=0.2)\n",
    "\n",
    "# 创建数据\n",
    "dtrain = xgb.DMatrix(data = X_train,label = y_train)\n",
    "dtest = xgb.DMatrix(data = X_test,label = y_test)\n",
    "\n",
    "# 指定参数\n",
    "param = {'learning_rate':0.1,\n",
    "         'max_depth':5,\n",
    "         'min_child_weight':1,\n",
    "         'gamma':0.3,\n",
    "         'subsample':0.8,\n",
    "         'eval_metric':['merror','mlogloss'],\n",
    "         'colsample_bytree':0.1, \n",
    "         'verbosity':0,\n",
    "         'objective':'multi:softmax',\n",
    "         'num_class':3}\n",
    "num_round = 1000\n",
    "evals = [(dtrain,'train'),(dtest,'eval')]\n",
    "\n",
    "model = xgb.train(param,\n",
    "                dtrain,\n",
    "                num_round,\n",
    "                evals = evals,\n",
    "                early_stopping_rounds=10)\n",
    "# 进行预测\n",
    "y_ = model.predict(dtest)\n",
    "display(y_,accuracy_score(y_test,y_))"
   ]
  },
  {
   "cell_type": "code",
   "execution_count": null,
   "id": "60d49f74",
   "metadata": {},
   "outputs": [],
   "source": []
  }
 ],
 "metadata": {
  "kernelspec": {
   "display_name": "Python 3 (ipykernel)",
   "language": "python",
   "name": "python3"
  },
  "language_info": {
   "codemirror_mode": {
    "name": "ipython",
    "version": 3
   },
   "file_extension": ".py",
   "mimetype": "text/x-python",
   "name": "python",
   "nbconvert_exporter": "python",
   "pygments_lexer": "ipython3",
   "version": "3.9.6"
  },
  "toc": {
   "base_numbering": 1,
   "nav_menu": {},
   "number_sections": true,
   "sideBar": true,
   "skip_h1_title": false,
   "title_cell": "Table of Contents",
   "title_sidebar": "Contents",
   "toc_cell": false,
   "toc_position": {},
   "toc_section_display": true,
   "toc_window_display": true
  }
 },
 "nbformat": 4,
 "nbformat_minor": 5
}
