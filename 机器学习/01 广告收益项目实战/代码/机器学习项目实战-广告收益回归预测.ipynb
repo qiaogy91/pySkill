{
 "cells": [
  {
   "cell_type": "markdown",
   "metadata": {},
   "source": [
    "### 案例背景"
   ]
  },
  {
   "cell_type": "markdown",
   "metadata": {},
   "source": [
    "投资商经常会通过多个不同渠道投放广告，以此来获得经济利益。在本案例中我们选取公司在电视、广播和报纸上的投入，来预测广告收益，这对公司策略的制定是有较重要的意义。"
   ]
  },
  {
   "cell_type": "markdown",
   "metadata": {},
   "source": [
    "### 加载数据"
   ]
  },
  {
   "cell_type": "code",
   "execution_count": 18,
   "metadata": {
    "ExecuteTime": {
     "end_time": "2023-05-25T06:19:46.741496Z",
     "start_time": "2023-05-25T06:19:46.644866Z"
    },
    "collapsed": true
   },
   "outputs": [
    {
     "data": {
      "text/html": [
       "<div>\n",
       "<style scoped>\n",
       "    .dataframe tbody tr th:only-of-type {\n",
       "        vertical-align: middle;\n",
       "    }\n",
       "\n",
       "    .dataframe tbody tr th {\n",
       "        vertical-align: top;\n",
       "    }\n",
       "\n",
       "    .dataframe thead th {\n",
       "        text-align: right;\n",
       "    }\n",
       "</style>\n",
       "<table border=\"1\" class=\"dataframe\">\n",
       "  <thead>\n",
       "    <tr style=\"text-align: right;\">\n",
       "      <th></th>\n",
       "      <th>电视</th>\n",
       "      <th>广播</th>\n",
       "      <th>报纸</th>\n",
       "      <th>收益</th>\n",
       "    </tr>\n",
       "  </thead>\n",
       "  <tbody>\n",
       "    <tr>\n",
       "      <th>0</th>\n",
       "      <td>230.1</td>\n",
       "      <td>37.8</td>\n",
       "      <td>69.2</td>\n",
       "      <td>331.5</td>\n",
       "    </tr>\n",
       "    <tr>\n",
       "      <th>1</th>\n",
       "      <td>44.5</td>\n",
       "      <td>39.3</td>\n",
       "      <td>45.1</td>\n",
       "      <td>156.0</td>\n",
       "    </tr>\n",
       "    <tr>\n",
       "      <th>2</th>\n",
       "      <td>17.2</td>\n",
       "      <td>45.9</td>\n",
       "      <td>69.3</td>\n",
       "      <td>139.5</td>\n",
       "    </tr>\n",
       "    <tr>\n",
       "      <th>3</th>\n",
       "      <td>151.5</td>\n",
       "      <td>41.3</td>\n",
       "      <td>58.5</td>\n",
       "      <td>277.5</td>\n",
       "    </tr>\n",
       "    <tr>\n",
       "      <th>4</th>\n",
       "      <td>180.8</td>\n",
       "      <td>10.8</td>\n",
       "      <td>58.4</td>\n",
       "      <td>193.5</td>\n",
       "    </tr>\n",
       "  </tbody>\n",
       "</table>\n",
       "</div>"
      ],
      "text/plain": [
       "      电视    广播    报纸     收益\n",
       "0  230.1  37.8  69.2  331.5\n",
       "1   44.5  39.3  45.1  156.0\n",
       "2   17.2  45.9  69.3  139.5\n",
       "3  151.5  41.3  58.5  277.5\n",
       "4  180.8  10.8  58.4  193.5"
      ]
     },
     "metadata": {},
     "output_type": "display_data"
    }
   ],
   "source": [
    "# 读取数据\n",
    "import numpy as np\n",
    "import pandas as pd\n",
    "from sklearn.model_selection import train_test_split\n",
    "df = pd.read_excel('广告收益数据.xlsx')\n",
    "display(df.head())\n",
    "# 1.提取特征变量和目标变量\n",
    "X = df.drop(columns='收益') \n",
    "y = df['收益'] "
   ]
  },
  {
   "cell_type": "markdown",
   "metadata": {},
   "source": [
    "### 模型搭建"
   ]
  },
  {
   "cell_type": "code",
   "execution_count": 2,
   "metadata": {
    "ExecuteTime": {
     "end_time": "2023-05-25T04:40:21.578200Z",
     "start_time": "2023-05-25T04:40:21.340994Z"
    }
   },
   "outputs": [],
   "source": [
    "from sklearn.linear_model import LinearRegression,ElasticNet,ElasticNetCV\n",
    "from sklearn.svm import SVR\n",
    "from sklearn.tree import DecisionTreeRegressor\n",
    "from sklearn.ensemble import AdaBoostRegressor,GradientBoostingRegressor,ExtraTreesRegressor\n",
    "from lightgbm import LGBMRegressor\n",
    "from xgboost import XGBRegressor\n",
    "from sklearn.model_selection import GridSearchCV,RandomizedSearchCV\n",
    "from sklearn.metrics import r2_score"
   ]
  },
  {
   "cell_type": "markdown",
   "metadata": {},
   "source": [
    "#### 线性回归"
   ]
  },
  {
   "cell_type": "code",
   "execution_count": 19,
   "metadata": {
    "ExecuteTime": {
     "end_time": "2023-05-25T06:32:37.407512Z",
     "start_time": "2023-05-25T06:32:37.373671Z"
    }
   },
   "outputs": [
    {
     "name": "stdout",
     "output_type": "stream",
     "text": [
      "测试数据算法预测结果： [221.4 265.4 212.9 135.  239.3 232.3 107.8 323.5 197.6 141.8]\n",
      "广告收益的真实数据是： [211.5 232.5 204.  129.  201.  234.  166.5 339.  192.  160.5]\n",
      "普通线性回归得分是： 0.8218538964779601\n"
     ]
    }
   ],
   "source": [
    "model = LinearRegression()\n",
    "# 2.划分训练集和测试集\n",
    "X_train, X_test, y_train, y_test = train_test_split(X, y, test_size=0.2, random_state=64)\n",
    "model.fit(X_train,y_train)\n",
    "\n",
    "y_pred = model.predict(X_test)\n",
    "print('测试数据算法预测结果：',y_pred[:10].round(1))\n",
    "print('广告收益的真实数据是：',y_test[:10].values)\n",
    "\n",
    "r2 = r2_score(y_test,y_pred)\n",
    "print('普通线性回归得分是：',r2)"
   ]
  },
  {
   "cell_type": "markdown",
   "metadata": {},
   "source": [
    "#### 弹性网络"
   ]
  },
  {
   "cell_type": "code",
   "execution_count": 20,
   "metadata": {
    "ExecuteTime": {
     "end_time": "2023-05-25T06:33:25.739277Z",
     "start_time": "2023-05-25T06:33:25.709721Z"
    }
   },
   "outputs": [
    {
     "name": "stdout",
     "output_type": "stream",
     "text": [
      "测试数据算法预测结果： [221.4 265.4 212.8 135.1 239.4 232.  108.  323.4 197.5 142. ]\n",
      "广告收益的真实数据是： [211.5 232.5 204.  129.  201.  234.  166.5 339.  192.  160.5]\n",
      "弹性网络算法得分是： 0.8219253422813386\n"
     ]
    }
   ],
   "source": [
    "model = ElasticNet()\n",
    "\n",
    "# 2.划分训练集和测试集\n",
    "X_train, X_test, y_train, y_test = train_test_split(X, y, test_size=0.2, random_state=64)\n",
    "model.fit(X_train,y_train)\n",
    "\n",
    "y_pred = model.predict(X_test)\n",
    "print('测试数据算法预测结果：',y_pred[:10].round(1))\n",
    "print('广告收益的真实数据是：',y_test[:10].values)\n",
    "r2 = r2_score(y_test,y_pred)\n",
    "print('弹性网络算法得分是：',r2)"
   ]
  },
  {
   "cell_type": "markdown",
   "metadata": {},
   "source": [
    "#### 支持向量机"
   ]
  },
  {
   "cell_type": "code",
   "execution_count": 21,
   "metadata": {
    "ExecuteTime": {
     "end_time": "2023-05-25T06:36:21.001708Z",
     "start_time": "2023-05-25T06:36:20.942871Z"
    }
   },
   "outputs": [
    {
     "name": "stdout",
     "output_type": "stream",
     "text": [
      "测试数据算法预测结果： [239.2 259.9 192.2 156.7 265.9 177.5 163.2 283.3 176.8 186. ]\n",
      "广告收益的真实数据是： [211.5 232.5 204.  129.  201.  234.  166.5 339.  192.  160.5]\n",
      "支持向量机算法得分是： 0.6289191684949812\n",
      "CPU times: total: 46.9 ms\n",
      "Wall time: 46.9 ms\n"
     ]
    }
   ],
   "source": [
    "%%time\n",
    "model = SVR()\n",
    "\n",
    "# 2.划分训练集和测试集\n",
    "X_train, X_test, y_train, y_test = train_test_split(X, y, test_size=0.2, random_state=64)\n",
    "model.fit(X_train,y_train)\n",
    "\n",
    "y_pred = model.predict(X_test)\n",
    "print('测试数据算法预测结果：',y_pred[:10].round(1))\n",
    "print('广告收益的真实数据是：',y_test[:10].values)\n",
    "r2 = r2_score(y_test,y_pred)\n",
    "print('支持向量机算法得分是：',r2)"
   ]
  },
  {
   "cell_type": "markdown",
   "metadata": {},
   "source": [
    "#### 决策树算法"
   ]
  },
  {
   "cell_type": "code",
   "execution_count": 22,
   "metadata": {
    "ExecuteTime": {
     "end_time": "2023-05-25T06:39:49.632263Z",
     "start_time": "2023-05-25T06:39:49.617285Z"
    }
   },
   "outputs": [
    {
     "name": "stdout",
     "output_type": "stream",
     "text": [
      "测试数据算法预测结果： [220.5 259.5 189.  144.  220.5 204.  136.5 354.  177.  175.5]\n",
      "广告收益的真实数据是： [211.5 232.5 204.  129.  201.  234.  166.5 339.  192.  160.5]\n",
      "决策树算法得分是： 0.9197118140784102\n"
     ]
    }
   ],
   "source": [
    "model = DecisionTreeRegressor()\n",
    "# 2.划分训练集和测试集\n",
    "X_train, X_test, y_train, y_test = train_test_split(X, y, test_size=0.2, random_state=64)\n",
    "\n",
    "model.fit(X_train,y_train)\n",
    "y_pred = model.predict(X_test)\n",
    "print('测试数据算法预测结果：',y_pred[:10].round(1))\n",
    "print('广告收益的真实数据是：',y_test[:10].values)\n",
    "r2 = r2_score(y_test,y_pred)\n",
    "print('决策树算法得分是：',r2)"
   ]
  },
  {
   "cell_type": "markdown",
   "metadata": {},
   "source": [
    "#### 极限森林算法"
   ]
  },
  {
   "cell_type": "code",
   "execution_count": 23,
   "metadata": {
    "ExecuteTime": {
     "end_time": "2023-05-25T06:41:13.808483Z",
     "start_time": "2023-05-25T06:41:13.649068Z"
    }
   },
   "outputs": [
    {
     "name": "stdout",
     "output_type": "stream",
     "text": [
      "测试数据算法预测结果： [211.1 254.4 194.6 144.  218.7 215.8 136.  347.3 179.5 154.5]\n",
      "广告收益的真实数据是： [211.5 232.5 204.  129.  201.  234.  166.5 339.  192.  160.5]\n",
      "极限森林得分是： 0.9478871129462589\n"
     ]
    }
   ],
   "source": [
    "model = ExtraTreesRegressor()\n",
    "# 2.划分训练集和测试集\n",
    "X_train, X_test, y_train, y_test = train_test_split(X, y, test_size=0.2, random_state=64)\n",
    "model.fit(X_train,y_train)\n",
    "y_pred = model.predict(X_test)\n",
    "print('测试数据算法预测结果：',y_pred[:10].round(1))\n",
    "print('广告收益的真实数据是：',y_test[:10].values)\n",
    "r2 = r2_score(y_test,y_pred)\n",
    "print('极限森林得分是：',r2)"
   ]
  },
  {
   "cell_type": "markdown",
   "metadata": {},
   "source": [
    "#### 梯度提升树算法"
   ]
  },
  {
   "cell_type": "code",
   "execution_count": 24,
   "metadata": {
    "ExecuteTime": {
     "end_time": "2023-05-25T06:41:32.592360Z",
     "start_time": "2023-05-25T06:41:32.507646Z"
    }
   },
   "outputs": [
    {
     "name": "stdout",
     "output_type": "stream",
     "text": [
      "测试数据算法预测结果： [225.  272.7 220.7 133.1 209.3 202.3 135.4 343.1 183.6 165.8]\n",
      "广告收益的真实数据是： [211.5 232.5 204.  129.  201.  234.  166.5 339.  192.  160.5]\n",
      "梯度提升树算法得分是： 0.9391766631355474\n"
     ]
    }
   ],
   "source": [
    "model = GradientBoostingRegressor()\n",
    "# 2.划分训练集和测试集\n",
    "X_train, X_test, y_train, y_test = train_test_split(X, y, test_size=0.2, random_state=64)\n",
    "model.fit(X_train,y_train)\n",
    "y_pred = model.predict(X_test)\n",
    "print('测试数据算法预测结果：',y_pred[:10].round(1))\n",
    "print('广告收益的真实数据是：',y_test[:10].values)\n",
    "r2 = r2_score(y_test,y_pred)\n",
    "print('梯度提升树算法得分是：',r2)"
   ]
  },
  {
   "cell_type": "markdown",
   "metadata": {},
   "source": [
    "#### Adaboost算法"
   ]
  },
  {
   "cell_type": "code",
   "execution_count": 25,
   "metadata": {
    "ExecuteTime": {
     "end_time": "2023-05-25T06:42:27.464397Z",
     "start_time": "2023-05-25T06:42:27.384061Z"
    }
   },
   "outputs": [
    {
     "name": "stdout",
     "output_type": "stream",
     "text": [
      "测试数据算法预测结果： [227.8 271.3 214.9 140.1 222.3 202.2 158.4 352.5 198.4 167.7]\n",
      "广告收益的真实数据是： [211.5 232.5 204.  129.  201.  234.  166.5 339.  192.  160.5]\n",
      "Adaboost算法得分是： 0.922201773419464\n"
     ]
    }
   ],
   "source": [
    "model = AdaBoostRegressor()\n",
    "# 2.划分训练集和测试集\n",
    "X_train, X_test, y_train, y_test = train_test_split(X, y, test_size=0.2, random_state=64)\n",
    "model.fit(X_train,y_train)\n",
    "y_pred = model.predict(X_test)\n",
    "print('测试数据算法预测结果：',y_pred[:10].round(1))\n",
    "print('广告收益的真实数据是：',y_test[:10].values)\n",
    "r2 = r2_score(y_test,y_pred)\n",
    "print('Adaboost算法得分是：',r2)"
   ]
  },
  {
   "cell_type": "markdown",
   "metadata": {},
   "source": [
    "#### Xgboost算法"
   ]
  },
  {
   "cell_type": "code",
   "execution_count": 26,
   "metadata": {
    "ExecuteTime": {
     "end_time": "2023-05-25T06:42:38.286378Z",
     "start_time": "2023-05-25T06:42:38.139307Z"
    }
   },
   "outputs": [
    {
     "name": "stdout",
     "output_type": "stream",
     "text": [
      "测试数据算法预测结果： [208.7 281.1 212.  139.4 210.6 207.4 135.8 339.8 178.7 174. ]\n",
      "广告收益的真实数据是： [211.5 232.5 204.  129.  201.  234.  166.5 339.  192.  160.5]\n",
      "Xgboost算法得分是： 0.9386144939626786\n"
     ]
    }
   ],
   "source": [
    "model = XGBRegressor()\n",
    "# 2.划分训练集和测试集\n",
    "X_train, X_test, y_train, y_test = train_test_split(X, y, test_size=0.2, random_state=64)\n",
    "model.fit(X_train,y_train)\n",
    "y_pred = model.predict(X_test)\n",
    "print('测试数据算法预测结果：',y_pred[:10].round(1))\n",
    "print('广告收益的真实数据是：',y_test[:10].values)\n",
    "r2 = r2_score(y_test,y_pred)\n",
    "print('Xgboost算法得分是：',r2)"
   ]
  },
  {
   "cell_type": "markdown",
   "metadata": {},
   "source": [
    "#### LightGBM"
   ]
  },
  {
   "cell_type": "code",
   "execution_count": 27,
   "metadata": {
    "ExecuteTime": {
     "end_time": "2023-05-25T06:42:47.787451Z",
     "start_time": "2023-05-25T06:42:47.702748Z"
    }
   },
   "outputs": [
    {
     "name": "stdout",
     "output_type": "stream",
     "text": [
      "测试数据算法预测结果： [222.3 263.7 203.3 129.4 209.5 201.4 133.6 341.4 180.  156.7]\n",
      "广告收益的真实数据是： [211.5 232.5 204.  129.  201.  234.  166.5 339.  192.  160.5]\n",
      "LightGBM算法得分是： 0.9398123585452471\n"
     ]
    }
   ],
   "source": [
    "# 微软公司开发的\n",
    "# 优化的梯度提升算法\n",
    "# 和Xgboost算法类似\n",
    "# 各有千秋\n",
    "# light：点亮、轻量级\n",
    "model = LGBMRegressor()\n",
    "# 2.划分训练集和测试集\n",
    "X_train, X_test, y_train, y_test = train_test_split(X, y, test_size=0.2, random_state=64)\n",
    "model.fit(X_train,y_train)\n",
    "\n",
    "y_pred = model.predict(X_test)\n",
    "print('测试数据算法预测结果：',y_pred[:10].round(1))\n",
    "print('广告收益的真实数据是：',y_test[:10].values)\n",
    "r2 = r2_score(y_test,y_pred)\n",
    "print('LightGBM算法得分是：',r2)"
   ]
  },
  {
   "cell_type": "markdown",
   "metadata": {},
   "source": [
    "###  模型参数调优"
   ]
  },
  {
   "cell_type": "markdown",
   "metadata": {},
   "source": [
    "#### 弹性网络"
   ]
  },
  {
   "cell_type": "code",
   "execution_count": 28,
   "metadata": {
    "ExecuteTime": {
     "end_time": "2023-05-25T06:54:16.969448Z",
     "start_time": "2023-05-25T06:54:16.753601Z"
    },
    "collapsed": true
   },
   "outputs": [
    {
     "name": "stdout",
     "output_type": "stream",
     "text": [
      "测试数据算法预测结果： [221.8 265.4 212.6 135.3 239.4 232.  108.4 323.1 197.5 142.3]\n",
      "广告收益的真实数据是： [211.5 232.5 204.  129.  201.  234.  166.5 339.  192.  160.5]\n",
      "弹性网络CV算法得分是： 0.8225585423221857\n",
      "Best alpha:  5.342325237656253\n",
      "Best l1_ratio:  1.0\n",
      "CPU times: total: 172 ms\n",
      "Wall time: 196 ms\n"
     ]
    }
   ],
   "source": [
    "%%time\n",
    "# 设置alpha和l1_ratio的候选值\n",
    "l1_ratios = [0.1, 0.5, 0.7,0.9, 0.95, 0.99, 1]\n",
    "\n",
    "model = ElasticNetCV(n_alphas=100,l1_ratio=l1_ratios,cv = 5)\n",
    "\n",
    "# 2.划分训练集和测试集\n",
    "X_train, X_test, y_train, y_test = train_test_split(X, y, test_size=0.2,random_state=64)\n",
    "model.fit(X_train,y_train)\n",
    "\n",
    "y_pred = model.predict(X_test)\n",
    "print('测试数据算法预测结果：',y_pred[:10].round(1))\n",
    "print('广告收益的真实数据是：',y_test[:10].values)\n",
    "r2 = r2_score(y_test,y_pred)\n",
    "print('弹性网络CV算法得分是：',r2)\n",
    "# 输出最佳的 alpha 和 l1_ratio\n",
    "print(\"Best alpha: \", model.alpha_)\n",
    "print(\"Best l1_ratio: \", model.l1_ratio_)"
   ]
  },
  {
   "cell_type": "markdown",
   "metadata": {},
   "source": [
    "#### 支持向量机"
   ]
  },
  {
   "cell_type": "markdown",
   "metadata": {},
   "source": [
    "`SVR()` 或者称为支持向量回归，是一种常见的回归算法，它有几个主要的超参数，包括 `C`、`epsilon`、`gamma`（如果使用 'rbf', 'poly' 或 'sigmoid' 核函数）和 `degree`（如果使用 'poly' 核函数）。\n",
    "\n",
    "- `C` 是错误项的惩罚参数，C 越大模型容忍错误的程度就越低，越小则容忍错误的程度越高。\n",
    "- `epsilon` 控制模型预测结果与真实结果之间允许的最大误差值。\n",
    "- `gamma` 用于 'rbf', 'poly' 和 'sigmoid' 核函数，影响了样本的影响范围，gamma 值越大样本影响范围越小，反之越大。\n",
    "- `degree` 是 'poly' 核函数的多项式次数。\n"
   ]
  },
  {
   "cell_type": "code",
   "execution_count": 30,
   "metadata": {
    "ExecuteTime": {
     "end_time": "2023-05-25T07:03:16.724353Z",
     "start_time": "2023-05-25T07:03:11.939060Z"
    }
   },
   "outputs": [
    {
     "name": "stdout",
     "output_type": "stream",
     "text": [
      "最佳的参数组合是： {'C': 0.1, 'epsilon': 0.01, 'kernel': 'linear'}\n",
      "最佳验证数据得分 0.8577940349561782\n",
      "测试数据算法预测结果： [224.  267.4 218.1 143.2 235.6 243.3 112.2 324.3 205.2 144.7]\n",
      "广告收益的真实数据是： [211.5 232.5 204.  129.  201.  234.  166.5 339.  192.  160.5]\n",
      "支持向量机算法得分是： 0.8260892149370843\n",
      "CPU times: total: 406 ms\n",
      "Wall time: 4.77 s\n"
     ]
    }
   ],
   "source": [
    "%%time\n",
    "model = SVR()\n",
    "# 划分训练集和测试集\n",
    "X_train, X_test, y_train, y_test = train_test_split(X, y, test_size=0.2, random_state=64)\n",
    "# 定义参数网格\n",
    "param_grid = {\n",
    "    'C': [0.1,0.2,0.5, 1],\n",
    "    'epsilon': [0.01, 0.5],\n",
    "    'kernel': ['rbf', 'poly', 'sigmoid','linear']}\n",
    "\n",
    "gridSearchCV = GridSearchCV(model,\n",
    "                            param_grid  = param_grid,\n",
    "                            cv = 5,\n",
    "                            n_jobs=-1)\n",
    "\n",
    "gridSearchCV.fit(X_train,y_train)\n",
    "print('最佳的参数组合是：',gridSearchCV.best_params_)\n",
    "print('最佳验证数据得分',gridSearchCV.best_score_)\n",
    "y_pred = gridSearchCV.predict(X_test)\n",
    "print('测试数据算法预测结果：',y_pred[:10].round(1))\n",
    "print('广告收益的真实数据是：',y_test[:10].values)\n",
    "r2 = r2_score(y_test,y_pred)\n",
    "print('支持向量机算法得分是：',r2)"
   ]
  },
  {
   "cell_type": "markdown",
   "metadata": {},
   "source": [
    "#### Xgboost算法"
   ]
  },
  {
   "cell_type": "markdown",
   "metadata": {},
   "source": [
    "XGBoost 是一个非常强大的梯度提升决策树模型，有很多可以调整的超参数。以下是在使用 GridSearchCV 时，可能会调整的一些常见超参数：\n",
    "\n",
    "1. `n_estimators`: 这是要构造的树的数量。增加这个值可以使模型更复杂，可能会提高模型的性能，但同时也会增加计算时间和可能导致过拟合。\n",
    "\n",
    "2. `max_depth`: 这是树的最大深度。增加这个值可以使模型更复杂，可能会提高模型的性能，但同时也可能导致过拟合。\n",
    "\n",
    "3. `learning_rate`: 也被称为步长，每次迭代时模型的改进幅度。较低的学习率可能需要更多的树(n_estimators)来获得良好的性能。\n",
    "\n",
    "4. `subsample`: 这是用于训练每个树的样本比例。这可以帮助防止过拟合。\n",
    "\n",
    "5. `colsample_bytree`: 这是用于构建每棵树的列的子样本比率。这是一种形式的特征采样，有助于模型的泛化。\n",
    "\n",
    "6. `gamma`: 在树的叶节点进一步划分所需的最小损失减少。这个参数的值越大，算法越保守。\n",
    "\n",
    "7. `reg_alpha` 和 `reg_lambda`: 这些是 L1（Lasso）和 L2（Ridge）正则化权重，可以用来防止过拟合。\n"
   ]
  },
  {
   "cell_type": "code",
   "execution_count": 34,
   "metadata": {
    "ExecuteTime": {
     "end_time": "2023-05-25T07:19:29.639195Z",
     "start_time": "2023-05-25T07:18:11.764474Z"
    }
   },
   "outputs": [
    {
     "name": "stdout",
     "output_type": "stream",
     "text": [
      "最佳的参数组合是： {'colsample_bytree': 1.0, 'gamma': 0.1, 'learning_rate': 0.05, 'max_depth': 8, 'n_estimators': 300, 'subsample': 0.7}\n",
      "最佳验证数据得分 0.959347602068411\n",
      "测试数据算法预测结果： [220.8 260.2 198.8 141.3 207.6 209.1 135.  346.7 181.5 164.7]\n",
      "广告收益的真实数据是： [211.5 232.5 204.  129.  201.  234.  166.5 339.  192.  160.5]\n",
      "Xgboost机算法得分是： 0.9467862224318433\n",
      "CPU times: total: 17.3 s\n",
      "Wall time: 1min 17s\n"
     ]
    }
   ],
   "source": [
    "%%time\n",
    "# 划分训练集和测试集\n",
    "X_train, X_test, y_train, y_test = train_test_split(X, y, test_size=0.2, random_state=64)\n",
    "# 参数调优\n",
    "parameters = {'n_estimators': [100, 200, 300],\n",
    "              'learning_rate': [0.01, 0.05, 0.1],\n",
    "              'max_depth': [4, 6, 8],\n",
    "              'subsample': [0.7, 0.8, 0.9],\n",
    "              'colsample_bytree': [0.3,0.5, 0.9,1.0],\n",
    "              'gamma':[0.1,0.5,1.0]}\n",
    "\n",
    "model = XGBRegressor()  # 构建模型\n",
    "gridSearchCV = GridSearchCV(model, \n",
    "                           parameters,\n",
    "                            scoring='r2',\n",
    "                            cv=5,n_jobs=-1) # cv=5表示交叉验证5次，scoring='r2'表示以R-squared作为模型评价准则\n",
    "\n",
    "# 输出参数最优值\n",
    "gridSearchCV.fit(X_train, y_train)  # 传入数据\n",
    "print('最佳的参数组合是：',gridSearchCV.best_params_)\n",
    "print('最佳验证数据得分',gridSearchCV.best_score_)\n",
    "\n",
    "y_pred = gridSearchCV.predict(X_test)\n",
    "print('测试数据算法预测结果：',y_pred[:10].round(1))\n",
    "print('广告收益的真实数据是：',y_test[:10].values)\n",
    "r2 = r2_score(y_test,y_pred)\n",
    "print('Xgboost机算法得分是：',r2)"
   ]
  },
  {
   "cell_type": "code",
   "execution_count": 33,
   "metadata": {
    "ExecuteTime": {
     "end_time": "2023-05-25T07:16:36.364782Z",
     "start_time": "2023-05-25T07:16:36.342931Z"
    },
    "collapsed": true
   },
   "outputs": [
    {
     "data": {
      "text/html": [
       "<style>#sk-container-id-2 {color: black;background-color: white;}#sk-container-id-2 pre{padding: 0;}#sk-container-id-2 div.sk-toggleable {background-color: white;}#sk-container-id-2 label.sk-toggleable__label {cursor: pointer;display: block;width: 100%;margin-bottom: 0;padding: 0.3em;box-sizing: border-box;text-align: center;}#sk-container-id-2 label.sk-toggleable__label-arrow:before {content: \"▸\";float: left;margin-right: 0.25em;color: #696969;}#sk-container-id-2 label.sk-toggleable__label-arrow:hover:before {color: black;}#sk-container-id-2 div.sk-estimator:hover label.sk-toggleable__label-arrow:before {color: black;}#sk-container-id-2 div.sk-toggleable__content {max-height: 0;max-width: 0;overflow: hidden;text-align: left;background-color: #f0f8ff;}#sk-container-id-2 div.sk-toggleable__content pre {margin: 0.2em;color: black;border-radius: 0.25em;background-color: #f0f8ff;}#sk-container-id-2 input.sk-toggleable__control:checked~div.sk-toggleable__content {max-height: 200px;max-width: 100%;overflow: auto;}#sk-container-id-2 input.sk-toggleable__control:checked~label.sk-toggleable__label-arrow:before {content: \"▾\";}#sk-container-id-2 div.sk-estimator input.sk-toggleable__control:checked~label.sk-toggleable__label {background-color: #d4ebff;}#sk-container-id-2 div.sk-label input.sk-toggleable__control:checked~label.sk-toggleable__label {background-color: #d4ebff;}#sk-container-id-2 input.sk-hidden--visually {border: 0;clip: rect(1px 1px 1px 1px);clip: rect(1px, 1px, 1px, 1px);height: 1px;margin: -1px;overflow: hidden;padding: 0;position: absolute;width: 1px;}#sk-container-id-2 div.sk-estimator {font-family: monospace;background-color: #f0f8ff;border: 1px dotted black;border-radius: 0.25em;box-sizing: border-box;margin-bottom: 0.5em;}#sk-container-id-2 div.sk-estimator:hover {background-color: #d4ebff;}#sk-container-id-2 div.sk-parallel-item::after {content: \"\";width: 100%;border-bottom: 1px solid gray;flex-grow: 1;}#sk-container-id-2 div.sk-label:hover label.sk-toggleable__label {background-color: #d4ebff;}#sk-container-id-2 div.sk-serial::before {content: \"\";position: absolute;border-left: 1px solid gray;box-sizing: border-box;top: 0;bottom: 0;left: 50%;z-index: 0;}#sk-container-id-2 div.sk-serial {display: flex;flex-direction: column;align-items: center;background-color: white;padding-right: 0.2em;padding-left: 0.2em;position: relative;}#sk-container-id-2 div.sk-item {position: relative;z-index: 1;}#sk-container-id-2 div.sk-parallel {display: flex;align-items: stretch;justify-content: center;background-color: white;position: relative;}#sk-container-id-2 div.sk-item::before, #sk-container-id-2 div.sk-parallel-item::before {content: \"\";position: absolute;border-left: 1px solid gray;box-sizing: border-box;top: 0;bottom: 0;left: 50%;z-index: -1;}#sk-container-id-2 div.sk-parallel-item {display: flex;flex-direction: column;z-index: 1;position: relative;background-color: white;}#sk-container-id-2 div.sk-parallel-item:first-child::after {align-self: flex-end;width: 50%;}#sk-container-id-2 div.sk-parallel-item:last-child::after {align-self: flex-start;width: 50%;}#sk-container-id-2 div.sk-parallel-item:only-child::after {width: 0;}#sk-container-id-2 div.sk-dashed-wrapped {border: 1px dashed gray;margin: 0 0.4em 0.5em 0.4em;box-sizing: border-box;padding-bottom: 0.4em;background-color: white;}#sk-container-id-2 div.sk-label label {font-family: monospace;font-weight: bold;display: inline-block;line-height: 1.2em;}#sk-container-id-2 div.sk-label-container {text-align: center;}#sk-container-id-2 div.sk-container {/* jupyter's `normalize.less` sets `[hidden] { display: none; }` but bootstrap.min.css set `[hidden] { display: none !important; }` so we also need the `!important` here to be able to override the default hidden behavior on the sphinx rendered scikit-learn.org. See: https://github.com/scikit-learn/scikit-learn/issues/21755 */display: inline-block !important;position: relative;}#sk-container-id-2 div.sk-text-repr-fallback {display: none;}</style><div id=\"sk-container-id-2\" class=\"sk-top-container\"><div class=\"sk-text-repr-fallback\"><pre>XGBRegressor(base_score=0.5, booster=&#x27;gbtree&#x27;, callbacks=None,\n",
       "             colsample_bylevel=1, colsample_bynode=1, colsample_bytree=1.0,\n",
       "             early_stopping_rounds=None, enable_categorical=False,\n",
       "             eval_metric=None, gamma=0, gpu_id=-1, grow_policy=&#x27;depthwise&#x27;,\n",
       "             importance_type=None, interaction_constraints=&#x27;&#x27;,\n",
       "             learning_rate=0.05, max_bin=256, max_cat_to_onehot=4,\n",
       "             max_delta_step=0, max_depth=8, max_leaves=0, min_child_weight=1,\n",
       "             missing=nan, monotone_constraints=&#x27;()&#x27;, n_estimators=200, n_jobs=0,\n",
       "             num_parallel_tree=1, predictor=&#x27;auto&#x27;, random_state=0, reg_alpha=0,\n",
       "             reg_lambda=1, ...)</pre><b>In a Jupyter environment, please rerun this cell to show the HTML representation or trust the notebook. <br />On GitHub, the HTML representation is unable to render, please try loading this page with nbviewer.org.</b></div><div class=\"sk-container\" hidden><div class=\"sk-item\"><div class=\"sk-estimator sk-toggleable\"><input class=\"sk-toggleable__control sk-hidden--visually\" id=\"sk-estimator-id-2\" type=\"checkbox\" checked><label for=\"sk-estimator-id-2\" class=\"sk-toggleable__label sk-toggleable__label-arrow\">XGBRegressor</label><div class=\"sk-toggleable__content\"><pre>XGBRegressor(base_score=0.5, booster=&#x27;gbtree&#x27;, callbacks=None,\n",
       "             colsample_bylevel=1, colsample_bynode=1, colsample_bytree=1.0,\n",
       "             early_stopping_rounds=None, enable_categorical=False,\n",
       "             eval_metric=None, gamma=0, gpu_id=-1, grow_policy=&#x27;depthwise&#x27;,\n",
       "             importance_type=None, interaction_constraints=&#x27;&#x27;,\n",
       "             learning_rate=0.05, max_bin=256, max_cat_to_onehot=4,\n",
       "             max_delta_step=0, max_depth=8, max_leaves=0, min_child_weight=1,\n",
       "             missing=nan, monotone_constraints=&#x27;()&#x27;, n_estimators=200, n_jobs=0,\n",
       "             num_parallel_tree=1, predictor=&#x27;auto&#x27;, random_state=0, reg_alpha=0,\n",
       "             reg_lambda=1, ...)</pre></div></div></div></div></div>"
      ],
      "text/plain": [
       "XGBRegressor(base_score=0.5, booster='gbtree', callbacks=None,\n",
       "             colsample_bylevel=1, colsample_bynode=1, colsample_bytree=1.0,\n",
       "             early_stopping_rounds=None, enable_categorical=False,\n",
       "             eval_metric=None, gamma=0, gpu_id=-1, grow_policy='depthwise',\n",
       "             importance_type=None, interaction_constraints='',\n",
       "             learning_rate=0.05, max_bin=256, max_cat_to_onehot=4,\n",
       "             max_delta_step=0, max_depth=8, max_leaves=0, min_child_weight=1,\n",
       "             missing=nan, monotone_constraints='()', n_estimators=200, n_jobs=0,\n",
       "             num_parallel_tree=1, predictor='auto', random_state=0, reg_alpha=0,\n",
       "             reg_lambda=1, ...)"
      ]
     },
     "execution_count": 33,
     "metadata": {},
     "output_type": "execute_result"
    }
   ],
   "source": [
    "best = gridSearchCV.best_estimator_\n",
    "best"
   ]
  },
  {
   "cell_type": "markdown",
   "metadata": {},
   "source": [
    "#### LightGBM"
   ]
  },
  {
   "cell_type": "markdown",
   "metadata": {},
   "source": [
    "LightGBM 是一个非常灵活且强大的梯度提升决策树模型。在使用 GridSearchCV 进行超参数调优时，以下是一些你可能会调整的超参数：\n",
    "\n",
    "1. `n_estimators`：这是要构造的树的数量。增加这个值可以使模型更复杂，可能会提高模型的性能，但同时也会增加计算时间和可能导致过拟合。\n",
    "\n",
    "2. `learning_rate`：这是学习率，即每次迭代时模型的改进幅度。较低的学习率可能需要更多的树(n_estimators)来获得良好的性能。\n",
    "\n",
    "3. `max_depth`：这是树的最大深度。增加这个值可以使模型更复杂，可能会提高模型的性能，但同时也可能导致过拟合。\n",
    "\n",
    "4. `num_leaves`：LightGBM 使用的是基于叶子的决策树算法，所以这个参数是树上最大的叶子数量。\n",
    "\n",
    "5. `min_data_in_leaf`：叶子节点上所需的最小数据数量。过小的值可能导致过拟合。\n",
    "\n",
    "6. `feature_fraction`：每次迭代中随机选择的特征的比例，有助于防止过拟合。\n",
    "\n",
    "\n",
    "请注意，这只是一些常见参数的示例，LightGBM 还有许多其他可以调整的参数。  \n",
    "在选择要调整的参数和参数值时，你可能需要根据你的问题和数据来做出决定。  \n",
    "这可能需要一些试验和经验，以及对 LightGBM 和你的数据的理解。"
   ]
  },
  {
   "cell_type": "code",
   "execution_count": 35,
   "metadata": {
    "ExecuteTime": {
     "end_time": "2023-05-25T07:37:58.202726Z",
     "start_time": "2023-05-25T07:37:22.019906Z"
    },
    "collapsed": true
   },
   "outputs": [
    {
     "name": "stdout",
     "output_type": "stream",
     "text": [
      "[LightGBM] [Warning] feature_fraction is set=0.6, colsample_bytree=1.0 will be ignored. Current value: feature_fraction=0.6\n",
      "[LightGBM] [Warning] min_data_in_leaf is set=20, min_child_samples=20 will be ignored. Current value: min_data_in_leaf=20\n",
      "最佳的参数组合是： {'feature_fraction': 0.6, 'learning_rate': 0.1, 'max_depth': 4, 'min_data_in_leaf': 20, 'n_estimators': 300, 'num_leaves': 20}\n",
      "最佳验证数据得分 0.9441639735433995\n",
      "测试数据算法预测结果： [209.5 271.6 204.8 137.9 209.6 202.9 137.2 329.5 188.  172.5]\n",
      "广告收益的真实数据是： [211.5 232.5 204.  129.  201.  234.  166.5 339.  192.  160.5]\n",
      "LightGBM机算法得分是： 0.9307404287359162\n",
      "CPU times: total: 8.84 s\n",
      "Wall time: 36.2 s\n"
     ]
    }
   ],
   "source": [
    "%%time\n",
    "# 划分训练集和测试集\n",
    "X_train, X_test, y_train, y_test = train_test_split(X, y, test_size=0.2, random_state=64)\n",
    "# 参数调优\n",
    "parameters = {\n",
    "    'n_estimators': [100, 200, 300],\n",
    "    'learning_rate': [0.01, 0.05, 0.1],\n",
    "    'max_depth': [4, 6, 8],\n",
    "    'num_leaves': [20, 30, 40],\n",
    "    'min_data_in_leaf': [15, 20, 25],\n",
    "    'feature_fraction': [0.6, 0.7, 0.8]}\n",
    "\n",
    "model = LGBMRegressor()  # 构建模型\n",
    "gridSearchCV = GridSearchCV(model, \n",
    "                           parameters,scoring='r2',\n",
    "                           cv=5,n_jobs=-1) # cv=5表示交叉验证5次，scoring='r2'表示以R-squared作为模型评价准则\n",
    "\n",
    "# 输出参数最优值\n",
    "gridSearchCV.fit(X_train, y_train)  # 传入数据\n",
    "print('最佳的参数组合是：',gridSearchCV.best_params_)\n",
    "print('最佳验证数据得分',gridSearchCV.best_score_)\n",
    "y_pred = gridSearchCV.predict(X_test)\n",
    "print('测试数据算法预测结果：',y_pred[:10].round(1))\n",
    "print('广告收益的真实数据是：',y_test[:10].values)\n",
    "r2 = r2_score(y_test,y_pred)\n",
    "print('LightGBM机算法得分是：',r2)"
   ]
  },
  {
   "cell_type": "markdown",
   "metadata": {},
   "source": [
    "### 最佳收益率组合"
   ]
  },
  {
   "cell_type": "code",
   "execution_count": 36,
   "metadata": {
    "ExecuteTime": {
     "end_time": "2023-05-25T08:06:32.062082Z",
     "start_time": "2023-05-25T08:06:32.050122Z"
    }
   },
   "outputs": [
    {
     "data": {
      "text/html": [
       "<style>#sk-container-id-3 {color: black;background-color: white;}#sk-container-id-3 pre{padding: 0;}#sk-container-id-3 div.sk-toggleable {background-color: white;}#sk-container-id-3 label.sk-toggleable__label {cursor: pointer;display: block;width: 100%;margin-bottom: 0;padding: 0.3em;box-sizing: border-box;text-align: center;}#sk-container-id-3 label.sk-toggleable__label-arrow:before {content: \"▸\";float: left;margin-right: 0.25em;color: #696969;}#sk-container-id-3 label.sk-toggleable__label-arrow:hover:before {color: black;}#sk-container-id-3 div.sk-estimator:hover label.sk-toggleable__label-arrow:before {color: black;}#sk-container-id-3 div.sk-toggleable__content {max-height: 0;max-width: 0;overflow: hidden;text-align: left;background-color: #f0f8ff;}#sk-container-id-3 div.sk-toggleable__content pre {margin: 0.2em;color: black;border-radius: 0.25em;background-color: #f0f8ff;}#sk-container-id-3 input.sk-toggleable__control:checked~div.sk-toggleable__content {max-height: 200px;max-width: 100%;overflow: auto;}#sk-container-id-3 input.sk-toggleable__control:checked~label.sk-toggleable__label-arrow:before {content: \"▾\";}#sk-container-id-3 div.sk-estimator input.sk-toggleable__control:checked~label.sk-toggleable__label {background-color: #d4ebff;}#sk-container-id-3 div.sk-label input.sk-toggleable__control:checked~label.sk-toggleable__label {background-color: #d4ebff;}#sk-container-id-3 input.sk-hidden--visually {border: 0;clip: rect(1px 1px 1px 1px);clip: rect(1px, 1px, 1px, 1px);height: 1px;margin: -1px;overflow: hidden;padding: 0;position: absolute;width: 1px;}#sk-container-id-3 div.sk-estimator {font-family: monospace;background-color: #f0f8ff;border: 1px dotted black;border-radius: 0.25em;box-sizing: border-box;margin-bottom: 0.5em;}#sk-container-id-3 div.sk-estimator:hover {background-color: #d4ebff;}#sk-container-id-3 div.sk-parallel-item::after {content: \"\";width: 100%;border-bottom: 1px solid gray;flex-grow: 1;}#sk-container-id-3 div.sk-label:hover label.sk-toggleable__label {background-color: #d4ebff;}#sk-container-id-3 div.sk-serial::before {content: \"\";position: absolute;border-left: 1px solid gray;box-sizing: border-box;top: 0;bottom: 0;left: 50%;z-index: 0;}#sk-container-id-3 div.sk-serial {display: flex;flex-direction: column;align-items: center;background-color: white;padding-right: 0.2em;padding-left: 0.2em;position: relative;}#sk-container-id-3 div.sk-item {position: relative;z-index: 1;}#sk-container-id-3 div.sk-parallel {display: flex;align-items: stretch;justify-content: center;background-color: white;position: relative;}#sk-container-id-3 div.sk-item::before, #sk-container-id-3 div.sk-parallel-item::before {content: \"\";position: absolute;border-left: 1px solid gray;box-sizing: border-box;top: 0;bottom: 0;left: 50%;z-index: -1;}#sk-container-id-3 div.sk-parallel-item {display: flex;flex-direction: column;z-index: 1;position: relative;background-color: white;}#sk-container-id-3 div.sk-parallel-item:first-child::after {align-self: flex-end;width: 50%;}#sk-container-id-3 div.sk-parallel-item:last-child::after {align-self: flex-start;width: 50%;}#sk-container-id-3 div.sk-parallel-item:only-child::after {width: 0;}#sk-container-id-3 div.sk-dashed-wrapped {border: 1px dashed gray;margin: 0 0.4em 0.5em 0.4em;box-sizing: border-box;padding-bottom: 0.4em;background-color: white;}#sk-container-id-3 div.sk-label label {font-family: monospace;font-weight: bold;display: inline-block;line-height: 1.2em;}#sk-container-id-3 div.sk-label-container {text-align: center;}#sk-container-id-3 div.sk-container {/* jupyter's `normalize.less` sets `[hidden] { display: none; }` but bootstrap.min.css set `[hidden] { display: none !important; }` so we also need the `!important` here to be able to override the default hidden behavior on the sphinx rendered scikit-learn.org. See: https://github.com/scikit-learn/scikit-learn/issues/21755 */display: inline-block !important;position: relative;}#sk-container-id-3 div.sk-text-repr-fallback {display: none;}</style><div id=\"sk-container-id-3\" class=\"sk-top-container\"><div class=\"sk-text-repr-fallback\"><pre>LGBMRegressor(feature_fraction=0.6, max_depth=4, min_data_in_leaf=20,\n",
       "              n_estimators=300, num_leaves=20)</pre><b>In a Jupyter environment, please rerun this cell to show the HTML representation or trust the notebook. <br />On GitHub, the HTML representation is unable to render, please try loading this page with nbviewer.org.</b></div><div class=\"sk-container\" hidden><div class=\"sk-item\"><div class=\"sk-estimator sk-toggleable\"><input class=\"sk-toggleable__control sk-hidden--visually\" id=\"sk-estimator-id-3\" type=\"checkbox\" checked><label for=\"sk-estimator-id-3\" class=\"sk-toggleable__label sk-toggleable__label-arrow\">LGBMRegressor</label><div class=\"sk-toggleable__content\"><pre>LGBMRegressor(feature_fraction=0.6, max_depth=4, min_data_in_leaf=20,\n",
       "              n_estimators=300, num_leaves=20)</pre></div></div></div></div></div>"
      ],
      "text/plain": [
       "LGBMRegressor(feature_fraction=0.6, max_depth=4, min_data_in_leaf=20,\n",
       "              n_estimators=300, num_leaves=20)"
      ]
     },
     "execution_count": 36,
     "metadata": {},
     "output_type": "execute_result"
    }
   ],
   "source": [
    "model_best = gridSearchCV.best_estimator_\n",
    "model_best"
   ]
  },
  {
   "cell_type": "code",
   "execution_count": 37,
   "metadata": {
    "ExecuteTime": {
     "end_time": "2023-05-25T08:10:48.979594Z",
     "start_time": "2023-05-25T08:10:45.902422Z"
    }
   },
   "outputs": [
    {
     "name": "stdout",
     "output_type": "stream",
     "text": [
      "{'电视': 124, '广播': 54, '报纸': 22, '收益': array([329.50372651])}\n"
     ]
    }
   ],
   "source": [
    "best_income = {}\n",
    "income_init = 100\n",
    "total = 200 # 广告投放总预算：200W\n",
    "\n",
    "for i in range(1,201):\n",
    "    tv = i # 电视投放 金额\n",
    "    for j in range(1,total - i + 1):\n",
    "        broadcast = j # 广播 投放的金额\n",
    "        paper = total - i -j # 报纸投放金额\n",
    "        \n",
    "        # 收益\n",
    "        income = model_best.predict(np.array([[tv,broadcast,paper]]))\n",
    "\n",
    "        if income > income_init:\n",
    "            best_income.clear()\n",
    "            best_income['电视'] = tv\n",
    "            best_income['广播'] = broadcast\n",
    "            best_income['报纸'] = paper\n",
    "            best_income['收益'] = income\n",
    "            income_init = income\n",
    "\n",
    "print(best_income)"
   ]
  },
  {
   "cell_type": "code",
   "execution_count": null,
   "metadata": {},
   "outputs": [],
   "source": []
  }
 ],
 "metadata": {
  "kernelspec": {
   "display_name": "Python 3 (ipykernel)",
   "language": "python",
   "name": "python3"
  },
  "language_info": {
   "codemirror_mode": {
    "name": "ipython",
    "version": 3
   },
   "file_extension": ".py",
   "mimetype": "text/x-python",
   "name": "python",
   "nbconvert_exporter": "python",
   "pygments_lexer": "ipython3",
   "version": "3.9.6"
  },
  "toc": {
   "base_numbering": 1,
   "nav_menu": {},
   "number_sections": true,
   "sideBar": true,
   "skip_h1_title": false,
   "title_cell": "Table of Contents",
   "title_sidebar": "Contents",
   "toc_cell": false,
   "toc_position": {
    "height": "calc(100% - 180px)",
    "left": "10px",
    "top": "150px",
    "width": "273.167px"
   },
   "toc_section_display": true,
   "toc_window_display": true
  },
  "varInspector": {
   "cols": {
    "lenName": 16,
    "lenType": 16,
    "lenVar": 40
   },
   "kernels_config": {
    "python": {
     "delete_cmd_postfix": "",
     "delete_cmd_prefix": "del ",
     "library": "var_list.py",
     "varRefreshCmd": "print(var_dic_list())"
    },
    "r": {
     "delete_cmd_postfix": ") ",
     "delete_cmd_prefix": "rm(",
     "library": "var_list.r",
     "varRefreshCmd": "cat(var_dic_list()) "
    }
   },
   "types_to_exclude": [
    "module",
    "function",
    "builtin_function_or_method",
    "instance",
    "_Feature"
   ],
   "window_display": false
  }
 },
 "nbformat": 4,
 "nbformat_minor": 4
}
