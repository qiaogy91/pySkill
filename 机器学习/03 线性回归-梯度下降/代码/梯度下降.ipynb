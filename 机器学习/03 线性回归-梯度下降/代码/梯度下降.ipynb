{
 "cells": [
  {
   "cell_type": "markdown",
   "id": "4447a66d",
   "metadata": {},
   "source": [
    "### 代码模拟梯度下降"
   ]
  },
  {
   "cell_type": "markdown",
   "id": "00d1a3da",
   "metadata": {},
   "source": [
    "$f(x) = (x - 3.5)^2 - 4.5x + 10$"
   ]
  },
  {
   "cell_type": "code",
   "execution_count": null,
   "id": "69d6a763",
   "metadata": {
    "ExecuteTime": {
     "end_time": "2023-04-07T22:47:02.127749Z",
     "start_time": "2023-04-07T22:47:01.541375Z"
    }
   },
   "outputs": [],
   "source": [
    "import numpy as np\n",
    "import matplotlib.pyplot as plt\n",
    "\n",
    "# 损失函数\n",
    "f = lambda x : (x - 3.5)**2 - 4.5*x + 10\n",
    "x = np.linspace(0,12,200)\n",
    "y = f(x)\n",
    "plt.plot(x,y,color = 'g')"
   ]
  },
  {
   "cell_type": "markdown",
   "id": "89036676",
   "metadata": {},
   "source": [
    "#### 方式一（求导）"
   ]
  },
  {
   "cell_type": "code",
   "execution_count": null,
   "id": "2c405ba5",
   "metadata": {
    "ExecuteTime": {
     "end_time": "2023-04-07T22:49:03.720709Z",
     "start_time": "2023-04-07T22:49:03.711428Z"
    }
   },
   "outputs": [],
   "source": [
    "g = lambda x : 2*(x - 3.5) - 4.5\n",
    "\n",
    "# 令 g = 0\n",
    "# 2 * （x - 3.5） - 4.5 = 0\n",
    "# 2x - 11.5 = 0 \n",
    "x_min = 11.5/2\n",
    "print(x_min)"
   ]
  },
  {
   "cell_type": "markdown",
   "id": "e57df7fe",
   "metadata": {},
   "source": [
    "#### 方式二（梯度下降）"
   ]
  },
  {
   "cell_type": "code",
   "execution_count": null,
   "id": "7aa48046",
   "metadata": {
    "ExecuteTime": {
     "end_time": "2023-04-07T23:24:21.750795Z",
     "start_time": "2023-04-07T23:24:21.663308Z"
    }
   },
   "outputs": [],
   "source": [
    "step = 0.2 # 学习率，步幅（道士下山）\n",
    "\n",
    "# 1、瞎蒙,随机的最小值\n",
    "x_ = np.random.randint(0,12,size = 1)[0]\n",
    "\n",
    "# 记录上一次梯度下降的x_值，比较\n",
    "last_x_ = x_ + 2 # 一开始 last_x_ 和 x_ 有一个比较大差别，就行\n",
    "# 需要使用x_ 和 last_x_ 差值，做为退出条件\n",
    "\n",
    "# 精确度，退出条件\n",
    "precision = 1e-8 # |x_ - last_x_| < precison\n",
    "\n",
    "# 列表，记录所有梯度下降更新的x值\n",
    "x_result = [x_]\n",
    "print('++++++++++++++++++++++++++++++',x_)\n",
    "count = 1\n",
    "while True:\n",
    "#     if np.abs(x_ - last_x_) < precision: # 判断收敛条件\n",
    "#         break\n",
    "#     if count > 100: # 判断最大的迭代次数\n",
    "#         break\n",
    "#     if np.abs(g(x_)) < precision: # 判断的梯度趋近0，到达了最小值，山谷处，导数为0\n",
    "#         break\n",
    "    \n",
    "    if np.abs(f(x_) - f(last_x_))/np.abs(f(last_x_)) < precision: # 损失函数，变化非常小\n",
    "        break\n",
    "    # 记录上一次last_x_\n",
    "    last_x_ = x_ # 将当前的x_赋值给last_x_\n",
    "    # 更新当前的x_\n",
    "    x_ = x_ - step * g(x_) # 梯度下降更新权重，目标值\n",
    "    x_result.append(x_)\n",
    "    print('-------------------------------',x_)\n",
    "    count += 1\n",
    "\n",
    "plt.figure(figsize=(9,6))\n",
    "plt.plot(x,y,color = 'red')\n",
    "\n",
    "plt.scatter(np.array(x_result),f(np.array(x_result)),color = 'green')"
   ]
  },
  {
   "cell_type": "markdown",
   "id": "cabc7e0c",
   "metadata": {},
   "source": [
    "### 批量梯度下降BGD"
   ]
  },
  {
   "cell_type": "markdown",
   "id": "d18dd6e7",
   "metadata": {},
   "source": [
    "#### 梯度下降"
   ]
  },
  {
   "cell_type": "code",
   "execution_count": 57,
   "id": "37db81dd",
   "metadata": {
    "ExecuteTime": {
     "end_time": "2023-04-10T12:22:44.219550Z",
     "start_time": "2023-04-10T12:22:44.137271Z"
    }
   },
   "outputs": [
    {
     "name": "stdout",
     "output_type": "stream",
     "text": [
      "真实的斜率和截距是： 5 3\n",
      "梯度下降计算所得是： [[5.11939784]\n",
      " [2.93167121]]\n"
     ]
    },
    {
     "data": {
      "text/plain": [
       "[<matplotlib.lines.Line2D at 0x21fc1b87d60>]"
      ]
     },
     "execution_count": 57,
     "metadata": {},
     "output_type": "execute_result"
    },
    {
     "data": {
      "image/png": "[encoded data removed]",
      "text/plain": [
       "<Figure size 432x288 with 1 Axes>"
      ]
     },
     "metadata": {
      "needs_background": "light"
     },
     "output_type": "display_data"
    }
   ],
   "source": [
    "import numpy as np\n",
    "import matplotlib.pyplot as plt\n",
    "# 创建数据\n",
    "X = np.random.rand(100,1)\n",
    "w,b = np.random.randint(1,10,size = 2)\n",
    "y = w * X + b + np.random.randn(100,1)*0.2\n",
    "\n",
    "# 初始化 系数\n",
    "# 斜率和截距\n",
    "theta = np.random.randn(2,1) # 随机，瞎蒙\n",
    "# 梯度下降，轮次\n",
    "epoches = 2000\n",
    "# 学习率\n",
    "# learning_rate = 0.01\n",
    "t0,t1 = 5,1000\n",
    "# 逆时衰减，learning 5/1000 = 0.005\n",
    "def learning_rate_schedule(t):\n",
    "    return t0/(t1 + t)\n",
    "\n",
    "# 偏置项，截距b，w0 系数 1\n",
    "# f(x) = w0 * 1 + w1 * x1 + w2 * x2 + ……\n",
    "X_ = np.c_[X,np.ones((100,1))] # np.concatenate\n",
    "\n",
    "# 实现梯度下降\n",
    "for epoche in range(epoches):\n",
    "    # 根据公式，计算梯度\n",
    "    g = X_.T.dot(X_.dot(theta) - y)\n",
    "    learning_rate = learning_rate_schedule(epoche)\n",
    "    theta = theta - learning_rate * g\n",
    "print('真实的斜率和截距是：',w,b)\n",
    "print('梯度下降计算所得是：',theta)\n",
    "\n",
    "plt.scatter(X,y,color = 'red')\n",
    "x_ = np.linspace(0,1,100)\n",
    "y_ = x_ * theta[0,0] + theta[1,0]\n",
    "plt.plot(x_,y_,color = 'green')"
   ]
  },
  {
   "cell_type": "markdown",
   "id": "d81de12c",
   "metadata": {},
   "source": [
    "#### 正规方程"
   ]
  },
  {
   "cell_type": "code",
   "execution_count": null,
   "id": "a0860246",
   "metadata": {
    "ExecuteTime": {
     "end_time": "2023-04-10T01:57:46.412583Z",
     "start_time": "2023-04-10T01:57:46.395491Z"
    }
   },
   "outputs": [],
   "source": [
    "from sklearn.linear_model import LinearRegression\n",
    "model = LinearRegression(fit_intercept=False)\n",
    "model.fit(X_,y)\n",
    "print('线性回归算法拟合的系数是：',model.coef_)"
   ]
  },
  {
   "cell_type": "markdown",
   "id": "5436df0f",
   "metadata": {},
   "source": [
    "#### 梯度下降（多元一次线性回归）"
   ]
  },
  {
   "cell_type": "code",
   "execution_count": 58,
   "id": "b2e5894f",
   "metadata": {
    "ExecuteTime": {
     "end_time": "2023-04-10T12:23:15.652935Z",
     "start_time": "2023-04-10T12:23:15.632726Z"
    }
   },
   "outputs": [
    {
     "name": "stdout",
     "output_type": "stream",
     "text": [
      "真实的斜率和截距是： [[6]\n",
      " [5]\n",
      " [9]\n",
      " [5]\n",
      " [2]\n",
      " [9]\n",
      " [3]] [9]\n",
      "梯度下降计算所得是： [[6.62069]\n",
      " [4.99151]\n",
      " [9.11982]\n",
      " [4.80173]\n",
      " [1.5917 ]\n",
      " [9.35627]\n",
      " [2.49168]\n",
      " [9.05151]]\n"
     ]
    }
   ],
   "source": [
    "import numpy as np\n",
    "import matplotlib.pyplot as plt\n",
    "# 创建数据\n",
    "X = np.random.rand(100,7) # 7个特征\n",
    "w = np.random.randint(1,10,size = (7,1))\n",
    "b = np.random.randint(1,10,size = 1) # 一个截距\n",
    "y = X.dot(w) + b + np.random.randn(100,1)\n",
    "\n",
    "# 初始化 系数\n",
    "# 斜率和截距\n",
    "theta = np.random.randn(8,1) # 随机，瞎蒙\n",
    "# 梯度下降，轮次\n",
    "epoches = 2000\n",
    "# 学习率\n",
    "# learning_rate = 0.01\n",
    "t0,t1 = 1,100\n",
    "# 逆时衰减，learning 5/1000 = 0.005\n",
    "def learning_rate_schedule(t):\n",
    "    return t0/(t1 + t)\n",
    "\n",
    "# 偏置项，截距b，w0 系数 1\n",
    "# f(x) = w0 * 1 + w1 * x1 + w2 * x2 + ……\n",
    "X_ = np.c_[X,np.ones((100,1))] # np.concatenate\n",
    "\n",
    "# 实现梯度下降\n",
    "for epoche in range(epoches):\n",
    "    # 根据公式，计算梯度\n",
    "    g = X_.T.dot(X_.dot(theta) - y)\n",
    "    learning_rate = learning_rate_schedule(epoche)\n",
    "    theta = theta - learning_rate * g\n",
    "print('真实的斜率和截距是：',w,b)\n",
    "print('梯度下降计算所得是：',theta.round(5))"
   ]
  },
  {
   "cell_type": "code",
   "execution_count": null,
   "id": "074c955e",
   "metadata": {
    "ExecuteTime": {
     "end_time": "2023-04-10T02:25:54.247714Z",
     "start_time": "2023-04-10T02:25:54.239875Z"
    }
   },
   "outputs": [],
   "source": [
    "# numpy 广播\n",
    "w = np.random.randint(1,10,size = (7,1))\n",
    "y = X.dot(w) + b + np.random.randn(100,1)\n",
    "print(y.shape)\n",
    "print((X.dot(w)).shape)"
   ]
  },
  {
   "cell_type": "code",
   "execution_count": null,
   "id": "ef31540a",
   "metadata": {
    "ExecuteTime": {
     "end_time": "2023-04-10T02:18:16.714763Z",
     "start_time": "2023-04-10T02:18:16.697466Z"
    }
   },
   "outputs": [],
   "source": [
    "# 梯度，8个，7特征+ 1截距 = 8，\n",
    "g = X_.T.dot(X_.dot(theta) - y)\n",
    "g.shape"
   ]
  },
  {
   "cell_type": "code",
   "execution_count": null,
   "id": "eed361da",
   "metadata": {
    "ExecuteTime": {
     "end_time": "2023-04-10T02:21:15.604474Z",
     "start_time": "2023-04-10T02:21:15.587205Z"
    }
   },
   "outputs": [],
   "source": [
    "# 100行 1列\n",
    "print((X_.dot(theta) - y).shape)"
   ]
  },
  {
   "cell_type": "code",
   "execution_count": null,
   "id": "8b925cf7",
   "metadata": {
    "ExecuteTime": {
     "end_time": "2023-04-10T02:22:17.820618Z",
     "start_time": "2023-04-10T02:22:17.803183Z"
    }
   },
   "outputs": [],
   "source": [
    "theta = np.random.randn(8,1) # 随机，瞎蒙\n",
    "print((X_.dot(theta)).shape)"
   ]
  },
  {
   "cell_type": "code",
   "execution_count": null,
   "id": "6e376ea2",
   "metadata": {
    "ExecuteTime": {
     "end_time": "2023-04-10T02:21:45.299172Z",
     "start_time": "2023-04-10T02:21:45.282078Z"
    }
   },
   "outputs": [],
   "source": [
    "X_.shape"
   ]
  },
  {
   "cell_type": "code",
   "execution_count": null,
   "id": "2e74615e",
   "metadata": {
    "ExecuteTime": {
     "end_time": "2023-04-10T02:21:53.755669Z",
     "start_time": "2023-04-10T02:21:53.749594Z"
    }
   },
   "outputs": [],
   "source": [
    "theta.shape"
   ]
  },
  {
   "cell_type": "markdown",
   "id": "94ffc992",
   "metadata": {},
   "source": [
    "### 随机梯度下降SGD"
   ]
  },
  {
   "cell_type": "markdown",
   "id": "a1aa2d81",
   "metadata": {},
   "source": [
    "#### 随机抽取一个样本"
   ]
  },
  {
   "cell_type": "code",
   "execution_count": 21,
   "id": "628a37ed",
   "metadata": {
    "ExecuteTime": {
     "end_time": "2023-04-10T08:05:13.442157Z",
     "start_time": "2023-04-10T08:05:07.975167Z"
    },
    "collapsed": true
   },
   "outputs": [
    {
     "name": "stdout",
     "output_type": "stream",
     "text": [
      "正确的斜率和截距是： 7 1\n",
      "SGD计算的斜率截距是： [[6.4149111 ]\n",
      " [1.61430543]]\n",
      "CPU times: total: 5.33 s\n",
      "Wall time: 5.41 s\n"
     ]
    },
    {
     "data": {
      "text/plain": [
       "Text(0.5, 1.0, 'Epoches VS Function Loss')"
      ]
     },
     "execution_count": 21,
     "metadata": {},
     "output_type": "execute_result"
    },
    {
     "data": {
      "image/png": "[encoded data removed]",
      "text/plain": [
       "<Figure size 432x288 with 1 Axes>"
      ]
     },
     "metadata": {
      "needs_background": "light"
     },
     "output_type": "display_data"
    }
   ],
   "source": [
    "%%time\n",
    "import numpy as np\n",
    "import matplotlib.pyplot as plt\n",
    "from sklearn.metrics import mean_squared_error # 均方误差\n",
    "rs = np.random.RandomState(seed = 42) # 固定随机数种子\n",
    "\n",
    "# 1、创建数据集X，y\n",
    "X = 2 * rs.rand(100, 1)\n",
    "w,b = rs.randint(1,10,size = 2)\n",
    "y = w * X + b + np.random.randn(100, 1)\n",
    "\n",
    "# 2、使用偏置项x_0 = 1，更新X\n",
    "X_ = np.c_[X, np.ones((100, 1))]\n",
    "\n",
    "# 3、创建超参数轮次、样本数量\n",
    "epoches = 50000\n",
    "\n",
    "# 4、定义一个函数来调整学习率\n",
    "t0, t1 = 1, 100\n",
    "def learning_rate_schedule(t):\n",
    "    return t0/(t+t1)\n",
    "\n",
    "# 5、初始化 W0...Wn，标准正太分布创建W\n",
    "theta = rs.randn(2, 1) # 最后一个是偏置项，截距\n",
    "\n",
    "# 6、梯度下降\n",
    "loss = []\n",
    "for i in range(epoches):\n",
    "    index = np.random.randint(0,100,size = 1) # 数组一维\n",
    "    X_i = X_[index]\n",
    "    y_i = y[index]\n",
    "#     print(X_i,y_i)\n",
    "    g = X_i.T.dot(X_i.dot(theta) - y_i)\n",
    "    learning_rate = learning_rate_schedule(i)\n",
    "    theta -= learning_rate * g\n",
    "    y_pred = X_.dot(theta) # 根据更新的系数，计算预测的目标值\n",
    "    loss.append(mean_squared_error(y,y_pred))\n",
    "print('正确的斜率和截距是：',w,b)\n",
    "print('SGD计算的斜率截距是：',theta)\n",
    "\n",
    "plt.plot(loss)\n",
    "plt.xlabel('Epoches')\n",
    "plt.ylabel('Function Loss')\n",
    "plt.title('Epoches VS Function Loss')"
   ]
  },
  {
   "cell_type": "code",
   "execution_count": 14,
   "id": "4983bac5",
   "metadata": {
    "ExecuteTime": {
     "end_time": "2023-04-10T07:52:06.691579Z",
     "start_time": "2023-04-10T07:52:06.685584Z"
    },
    "collapsed": true
   },
   "outputs": [
    {
     "data": {
      "text/plain": [
       "[1.362585282031234,\n",
       " 1.3625457691031835,\n",
       " 1.3625329186960946,\n",
       " 1.362538975184603,\n",
       " 1.3625326251070045,\n",
       " 1.3625269501250656,\n",
       " 1.3625310919019413,\n",
       " 1.362530064141895,\n",
       " 1.3625005743338305,\n",
       " 1.362471712070739,\n",
       " 1.3624595157479065,\n",
       " 1.3624566838519743,\n",
       " 1.3624364023709137,\n",
       " 1.362439929260734,\n",
       " 1.3624554746259607,\n",
       " 1.3624263647423178,\n",
       " 1.3623973085669439,\n",
       " 1.3623782985728465,\n",
       " 1.3623794055054756,\n",
       " 1.3623791384982218]"
      ]
     },
     "execution_count": 14,
     "metadata": {},
     "output_type": "execute_result"
    }
   ],
   "source": [
    "loss[-20:]"
   ]
  },
  {
   "cell_type": "markdown",
   "id": "44464e62",
   "metadata": {},
   "source": [
    "#### 随机梯度下降优化"
   ]
  },
  {
   "cell_type": "code",
   "execution_count": 23,
   "id": "ac324f13",
   "metadata": {
    "ExecuteTime": {
     "end_time": "2023-04-10T08:08:51.107527Z",
     "start_time": "2023-04-10T08:08:51.005130Z"
    },
    "collapsed": true
   },
   "outputs": [
    {
     "name": "stdout",
     "output_type": "stream",
     "text": [
      "正确的斜率和截距是： 7 1\n",
      "SGD计算的斜率截距是： [[7.06714153]\n",
      " [1.01851296]]\n",
      "CPU times: total: 46.9 ms\n",
      "Wall time: 40.5 ms\n"
     ]
    },
    {
     "data": {
      "text/plain": [
       "Text(0.5, 1.0, 'Epoches VS Function Loss')"
      ]
     },
     "execution_count": 23,
     "metadata": {},
     "output_type": "execute_result"
    },
    {
     "data": {
      "image/png": "[encoded data removed]",
      "text/plain": [
       "<Figure size 432x288 with 1 Axes>"
      ]
     },
     "metadata": {
      "needs_background": "light"
     },
     "output_type": "display_data"
    }
   ],
   "source": [
    "%%time\n",
    "import numpy as np\n",
    "import matplotlib.pyplot as plt\n",
    "from sklearn.metrics import mean_squared_error # 均方误差\n",
    "rs = np.random.RandomState(seed = 42) # 固定随机数种子\n",
    "\n",
    "# 1、创建数据集X，y\n",
    "X = 2 * rs.rand(100, 1)\n",
    "w,b = rs.randint(1,10,size = 2)\n",
    "y = w * X + b + np.random.randn(100, 1)\n",
    "\n",
    "# 2、使用偏置项x_0 = 1，更新X\n",
    "X_ = np.c_[X, np.ones((100, 1))]\n",
    "\n",
    "# 3、创建超参数轮次、样本数量\n",
    "epoches = 50\n",
    "\n",
    "# 4、定义一个函数来调整学习率\n",
    "t0, t1 = 1, 100\n",
    "def learning_rate_schedule(t):\n",
    "    return t0/(t+t1)\n",
    "\n",
    "# 5、初始化 W0...Wn，标准正太分布创建W\n",
    "theta = rs.randn(2, 1) # 最后一个是偏置项，截距\n",
    "\n",
    "# 6、梯度下降\n",
    "loss = []\n",
    "for i in range(epoches):\n",
    "    indexes = np.arange(100)\n",
    "    np.random.shuffle(indexes) # 打乱顺序\n",
    "    X_ = X_[indexes] # 重排，洗牌\n",
    "    y = y[indexes]\n",
    "    for X_i,y_i in zip(X_,y): # 这里的依次遍历，相当于，随机抽取\n",
    "        X_i = X_i.reshape(-1,2)\n",
    "        y_i = y_i.reshape(-1,1)\n",
    "        g = X_i.T.dot(X_i.dot(theta) - y_i)\n",
    "        learning_rate = learning_rate_schedule(i)\n",
    "        theta -= learning_rate * g\n",
    "    y_pred = X_.dot(theta) # 根据更新的系数，计算预测的目标值\n",
    "    loss.append(mean_squared_error(y,y_pred))\n",
    "print('正确的斜率和截距是：',w,b)\n",
    "print('SGD计算的斜率截距是：',theta)\n",
    "\n",
    "plt.plot(loss)\n",
    "plt.xlabel('Epoches')\n",
    "plt.ylabel('Function Loss')\n",
    "plt.title('Epoches VS Function Loss')"
   ]
  },
  {
   "cell_type": "markdown",
   "id": "2a360e36",
   "metadata": {},
   "source": [
    "#### SGD-多元线性回归"
   ]
  },
  {
   "cell_type": "code",
   "execution_count": 34,
   "id": "5b622c56",
   "metadata": {
    "ExecuteTime": {
     "end_time": "2023-04-10T08:42:27.778145Z",
     "start_time": "2023-04-10T08:42:27.622250Z"
    },
    "collapsed": true
   },
   "outputs": [
    {
     "name": "stdout",
     "output_type": "stream",
     "text": [
      "正确的斜率和截距是： [[3]\n",
      " [1]\n",
      " [6]\n",
      " [2]\n",
      " [8]\n",
      " [5]\n",
      " [7]] [[2]]\n",
      "SGD计算的斜率截距是： [[3.06345599]\n",
      " [1.12184584]\n",
      " [5.87743977]\n",
      " [1.92128335]\n",
      " [7.84480621]\n",
      " [5.28113695]\n",
      " [7.17442449]\n",
      " [1.83738081]]\n",
      "CPU times: total: 78.1 ms\n",
      "Wall time: 82.1 ms\n"
     ]
    },
    {
     "data": {
      "text/plain": [
       "Text(0.5, 1.0, 'Epoches VS Function Loss')"
      ]
     },
     "execution_count": 34,
     "metadata": {},
     "output_type": "execute_result"
    },
    {
     "data": {
      "image/png": "[encoded data removed]",
      "text/plain": [
       "<Figure size 432x288 with 1 Axes>"
      ]
     },
     "metadata": {
      "needs_background": "light"
     },
     "output_type": "display_data"
    }
   ],
   "source": [
    "%%time\n",
    "import numpy as np\n",
    "import matplotlib.pyplot as plt\n",
    "from sklearn.metrics import mean_squared_error # 均方误差\n",
    "rs = np.random.RandomState(seed = 42) # 固定随机数种子\n",
    "\n",
    "# 1、创建数据集X，y\n",
    "X = 2 * rs.rand(100, 7)\n",
    "w = rs.randint(1,10,size = (7,1))\n",
    "b = rs.randint(1,10,size = (1,1))\n",
    "y = X.dot(w) + b + np.random.randn(100, 1)\n",
    "\n",
    "# 2、使用偏置项x_0 = 1，更新X\n",
    "X_ = np.c_[X, np.ones((100, 1))]\n",
    "\n",
    "# 3、创建超参数轮次、样本数量\n",
    "epoches = 100\n",
    "\n",
    "# 4、定义一个函数来调整学习率\n",
    "t0, t1 = 1, 100\n",
    "def learning_rate_schedule(t):\n",
    "    return t0/(t+t1)\n",
    "\n",
    "# 5、初始化 W0...Wn，标准正太分布创建W\n",
    "theta = rs.randn(8, 1) # 最后一个是偏置项，截距\n",
    "\n",
    "# 6、梯度下降\n",
    "loss = []\n",
    "for i in range(epoches):\n",
    "    indexes = np.arange(100)\n",
    "    np.random.shuffle(indexes) # 打乱顺序\n",
    "    X_ = X_[indexes] # 重排，洗牌\n",
    "    y = y[indexes]\n",
    "    \n",
    "    for X_i,y_i in zip(X_,y): # 这里的依次遍历，相当于，随机抽取\n",
    "        X_i = X_i.reshape(1,-1)\n",
    "        y_i = y_i.reshape(1,-1)\n",
    "        g = X_i.T.dot(X_i.dot(theta) - y_i)\n",
    "        learning_rate = learning_rate_schedule(i)\n",
    "        theta -= learning_rate * g\n",
    "    y_pred = X_.dot(theta) # 根据更新的系数，计算预测的目标值\n",
    "    loss.append(mean_squared_error(y,y_pred))\n",
    "print('正确的斜率和截距是：',w,b)\n",
    "print('SGD计算的斜率截距是：',theta)\n",
    "\n",
    "plt.plot(loss)\n",
    "plt.xlabel('Epoches')\n",
    "plt.ylabel('Function Loss')\n",
    "plt.title('Epoches VS Function Loss')"
   ]
  },
  {
   "cell_type": "markdown",
   "id": "40d3051f",
   "metadata": {},
   "source": [
    "#### scikit-learn中的SGD算法"
   ]
  },
  {
   "cell_type": "code",
   "execution_count": 37,
   "id": "77c1ca3d",
   "metadata": {
    "ExecuteTime": {
     "end_time": "2023-04-10T08:45:06.041639Z",
     "start_time": "2023-04-10T08:45:06.026185Z"
    }
   },
   "outputs": [
    {
     "name": "stdout",
     "output_type": "stream",
     "text": [
      "scikit-learn模型，SGD返回的系数是： [3.05212    0.63649154 5.82682083 1.97723042 7.81939367 4.80170547\n",
      " 7.02612817 3.04736896]\n",
      "正确的斜率和截距是： [3 1 6 2 8 5 7] [[2]]\n"
     ]
    }
   ],
   "source": [
    "from sklearn.linear_model import SGDRegressor\n",
    "import numpy as np\n",
    "import matplotlib.pyplot as plt\n",
    "from sklearn.metrics import mean_squared_error # 均方误差\n",
    "rs = np.random.RandomState(seed = 42) # 固定随机数种子\n",
    "\n",
    "# 1、创建数据集X，y\n",
    "X = 2 * rs.rand(100, 7)\n",
    "w = rs.randint(1,10,size = (7,1))\n",
    "b = rs.randint(1,10,size = (1,1))\n",
    "y = X.dot(w) + b + np.random.randn(100, 1)\n",
    "\n",
    "# 2、使用偏置项x_0 = 1，更新X\n",
    "X_ = np.c_[X, np.ones((100, 1))]\n",
    "\n",
    "model = SGDRegressor(fit_intercept = False,max_iter=2000,tol = 1e-5)\n",
    "model.fit(X_,y.ravel())\n",
    "\n",
    "model.score(X_,y)\n",
    "print('scikit-learn模型，SGD返回的系数是：',model.coef_)\n",
    "print('正确的斜率和截距是：',w.ravel(),b)"
   ]
  },
  {
   "cell_type": "code",
   "execution_count": 29,
   "id": "11999f48",
   "metadata": {
    "ExecuteTime": {
     "end_time": "2023-04-10T08:39:08.956338Z",
     "start_time": "2023-04-10T08:39:08.937739Z"
    }
   },
   "outputs": [
    {
     "data": {
      "text/plain": [
       "1.4142135623730951"
      ]
     },
     "execution_count": 29,
     "metadata": {},
     "output_type": "execute_result"
    }
   ],
   "source": [
    "np.power(4,0.25)"
   ]
  },
  {
   "cell_type": "markdown",
   "id": "45d7ba4c",
   "metadata": {},
   "source": [
    "### 小批量梯度下降MBGD"
   ]
  },
  {
   "cell_type": "markdown",
   "id": "72189c26",
   "metadata": {},
   "source": [
    "#### 一元一次线性回归"
   ]
  },
  {
   "cell_type": "code",
   "execution_count": 49,
   "id": "81daac90",
   "metadata": {
    "ExecuteTime": {
     "end_time": "2023-04-10T12:04:17.997758Z",
     "start_time": "2023-04-10T12:04:17.897958Z"
    }
   },
   "outputs": [
    {
     "name": "stdout",
     "output_type": "stream",
     "text": [
      "正确的斜率和截距是： 5 1\n",
      "SGD计算的斜率截距是： [[4.9812206 ]\n",
      " [0.98877121]]\n"
     ]
    },
    {
     "data": {
      "text/plain": [
       "Text(0.5, 1.0, 'Epoches VS Function Loss')"
      ]
     },
     "execution_count": 49,
     "metadata": {},
     "output_type": "execute_result"
    },
    {
     "data": {
      "image/png": "[encoded data removed]",
      "text/plain": [
       "<Figure size 432x288 with 1 Axes>"
      ]
     },
     "metadata": {
      "needs_background": "light"
     },
     "output_type": "display_data"
    }
   ],
   "source": [
    "import numpy as np\n",
    "import matplotlib.pyplot as plt\n",
    "from sklearn.metrics import mean_squared_error # 均方误差\n",
    "\n",
    "# 1、创建数据集X，y\n",
    "X = np.random.rand(100, 1)\n",
    "w,b = np.random.randint(1,10,size = 2)\n",
    "y = w * X + b + np.random.randn(100, 1)\n",
    "\n",
    "# 2、使用偏置项x_0 = 1，更新X\n",
    "X = np.c_[X, np.ones((100, 1))]\n",
    "\n",
    "# 3、定义一个函数来调整学习率\n",
    "t0, t1 = 1, 100\n",
    "def learning_rate_schedule(t):\n",
    "    return t0/(t+t1)\n",
    "\n",
    "# 4、创建超参数轮次、样本数量、小批量数量\n",
    "epochs = 50\n",
    "n = 100\n",
    "batch_size = 16\n",
    "num_batches = int(n / batch_size) # 6次\n",
    "\n",
    "# 5、初始化 W0...Wn，标准正太分布创建W\n",
    "theta = np.random.randn(2, 1)\n",
    "loss = []\n",
    "\n",
    "# 6、梯度下降\n",
    "for epoch in range(epoches):\n",
    "    indexes = np.arange(100)\n",
    "    np.random.shuffle(indexes)\n",
    "    X = X[indexes]\n",
    "    y = y[indexes]\n",
    "    learning_rate = learning_rate_schedule(epoch)\n",
    "    for i in range(num_batches):\n",
    "        X_batch = X[batch_size * i : batch_size * (1 + i)] # 16个样本\n",
    "        y_batch = y[batch_size * i : batch_size * (1 + i)]\n",
    "        g = X_batch.T.dot(X_batch.dot(theta) - y_batch)\n",
    "        theta -= g * learning_rate\n",
    "    y_pred = X.dot(theta)\n",
    "    loss.append(mean_squared_error(y,y_pred))\n",
    "\n",
    "print('正确的斜率和截距是：',w,b)\n",
    "print('SGD计算的斜率截距是：',theta)\n",
    "\n",
    "plt.plot(loss)\n",
    "plt.xlabel('Epoches')\n",
    "plt.ylabel('Function Loss')\n",
    "plt.title('Epoches VS Function Loss')"
   ]
  },
  {
   "cell_type": "markdown",
   "id": "e378c534",
   "metadata": {},
   "source": [
    "#### 多元一次线性回归"
   ]
  },
  {
   "cell_type": "code",
   "execution_count": 56,
   "id": "79a6cde7",
   "metadata": {
    "ExecuteTime": {
     "end_time": "2023-04-10T12:11:39.623406Z",
     "start_time": "2023-04-10T12:11:39.529764Z"
    },
    "collapsed": true
   },
   "outputs": [
    {
     "name": "stdout",
     "output_type": "stream",
     "text": [
      "------------ (100, 1)\n",
      "正确的斜率和截距是： [3 2 5 4 3] [[7]]\n",
      "SGD计算的斜率截距是： [3.0071 2.0071 5.0073 4.0057 3.0062 6.983 ]\n"
     ]
    },
    {
     "data": {
      "text/plain": [
       "Text(0.5, 1.0, 'Epoches VS Function Loss')"
      ]
     },
     "execution_count": 56,
     "metadata": {},
     "output_type": "execute_result"
    },
    {
     "data": {
      "image/png": "[encoded data removed]",
      "text/plain": [
       "<Figure size 432x288 with 1 Axes>"
      ]
     },
     "metadata": {
      "needs_background": "light"
     },
     "output_type": "display_data"
    }
   ],
   "source": [
    "import numpy as np\n",
    "import matplotlib.pyplot as plt\n",
    "from sklearn.metrics import mean_squared_error # 均方误差\n",
    "\n",
    "# 1、创建数据集X，y\n",
    "X = np.random.rand(100, 5)\n",
    "w = np.random.randint(1,10,size = (5,1))\n",
    "b = np.random.randint(1,10,size = (1,1))\n",
    "y = X.dot(w) + b + np.random.randn(100, 1)\n",
    "print('------------',y.shape)\n",
    "\n",
    "# 2、使用偏置项x_0 = 1，更新X\n",
    "X = np.c_[X, np.ones((100, 1))]\n",
    "\n",
    "# 3、定义一个函数来调整学习率\n",
    "t0, t1 = 1, 100\n",
    "def learning_rate_schedule(t):\n",
    "    return t0/(t+t1)\n",
    "\n",
    "# 4、创建超参数轮次、样本数量、小批量数量\n",
    "epochs = 100\n",
    "n = 100\n",
    "batch_size = 16\n",
    "num_batches = int(n / batch_size) # 12次\n",
    "\n",
    "# 5、初始化 W0...Wn，标准正太分布创建W\n",
    "theta = np.random.randn(6, 1)\n",
    "loss = []\n",
    "\n",
    "# 6、梯度下降\n",
    "for epoch in range(epoches):\n",
    "    indexes = np.arange(100)\n",
    "    np.random.shuffle(indexes)\n",
    "    X = X[indexes]\n",
    "    y = y[indexes]\n",
    "    learning_rate = learning_rate_schedule(epoch)\n",
    "    for i in range(num_batches):\n",
    "        X_batch = X[batch_size * i : batch_size * (1 + i)] # 16个样本\n",
    "        y_batch = y[batch_size * i : batch_size * (1 + i)]\n",
    "        g = X_batch.T.dot(X_batch.dot(theta) - y_batch)\n",
    "        theta -= g * learning_rate\n",
    "    y_pred = X.dot(theta)\n",
    "    loss.append(mean_squared_error(y,y_pred))\n",
    "\n",
    "print('正确的斜率和截距是：',w.ravel(),b)\n",
    "print('SGD计算的斜率截距是：',theta.ravel().round(4))\n",
    "\n",
    "plt.plot(loss)\n",
    "plt.xlabel('Epoches')\n",
    "plt.ylabel('Function Loss')\n",
    "plt.title('Epoches VS Function Loss')"
   ]
  },
  {
   "cell_type": "code",
   "execution_count": null,
   "id": "7bebdba0",
   "metadata": {},
   "outputs": [],
   "source": []
  }
 ],
 "metadata": {
  "kernelspec": {
   "display_name": "Python 3 (ipykernel)",
   "language": "python",
   "name": "python3"
  },
  "language_info": {
   "codemirror_mode": {
    "name": "ipython",
    "version": 3
   },
   "file_extension": ".py",
   "mimetype": "text/x-python",
   "name": "python",
   "nbconvert_exporter": "python",
   "pygments_lexer": "ipython3",
   "version": "3.9.6"
  },
  "toc": {
   "base_numbering": 1,
   "nav_menu": {},
   "number_sections": true,
   "sideBar": true,
   "skip_h1_title": false,
   "title_cell": "Table of Contents",
   "title_sidebar": "Contents",
   "toc_cell": false,
   "toc_position": {},
   "toc_section_display": true,
   "toc_window_display": true
  }
 },
 "nbformat": 4,
 "nbformat_minor": 5
}
